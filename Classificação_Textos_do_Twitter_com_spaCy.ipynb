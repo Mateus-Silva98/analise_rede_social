{
  "nbformat": 4,
  "nbformat_minor": 0,
  "metadata": {
    "colab": {
      "name": "Classificação - Textos do Twitter com spaCy.ipynb",
      "provenance": [],
      "collapsed_sections": [],
      "include_colab_link": true
    },
    "kernelspec": {
      "name": "python3",
      "display_name": "Python 3"
    },
    "accelerator": "TPU"
  },
  "cells": [
    {
      "cell_type": "markdown",
      "metadata": {
        "id": "view-in-github",
        "colab_type": "text"
      },
      "source": [
        "<a href=\"https://colab.research.google.com/github/Mateus-Silva98/analise_rede_social/blob/main/Classifica%C3%A7%C3%A3o_Textos_do_Twitter_com_spaCy.ipynb\" target=\"_parent\"><img src=\"https://colab.research.google.com/assets/colab-badge.svg\" alt=\"Open In Colab\"/></a>"
      ]
    },
    {
      "cell_type": "markdown",
      "metadata": {
        "id": "AGgw36kc8udU"
      },
      "source": [
        "# Classificação de textos do Twitter com spaCy"
      ]
    },
    {
      "cell_type": "markdown",
      "metadata": {
        "id": "JtJGnXGi8zt9"
      },
      "source": [
        "# Etapa 1: Importação e instalação das bibliotecas"
      ]
    },
    {
      "cell_type": "code",
      "metadata": {
        "id": "Xh86jT1k_299"
      },
      "source": [
        "#!pip install spacy --upgrade # Retornando uma mais atual\n",
        "#!pip uninstall spacy -y\n",
        "!pip install -q spacy==2.2.3 #Atualizado: 02/05/2021 Obs: utilizar esta versão. # Setado a versão do colab "
      ],
      "execution_count": 1,
      "outputs": []
    },
    {
      "cell_type": "code",
      "metadata": {
        "id": "T1ZYK4Svri9a",
        "colab": {
          "base_uri": "https://localhost:8080/",
          "height": 35
        },
        "outputId": "e5a7e06b-a536-42b6-c537-651da5db3e36"
      },
      "source": [
        "import spacy\n",
        "spacy.__version__"
      ],
      "execution_count": 2,
      "outputs": [
        {
          "output_type": "execute_result",
          "data": {
            "text/plain": [
              "'2.2.3'"
            ],
            "application/vnd.google.colaboratory.intrinsic+json": {
              "type": "string"
            }
          },
          "metadata": {},
          "execution_count": 2
        }
      ]
    },
    {
      "cell_type": "code",
      "metadata": {
        "id": "BbXiQKovAAy_",
        "colab": {
          "base_uri": "https://localhost:8080/"
        },
        "outputId": "f0494c7c-f74b-4b39-8b65-aee03406de89"
      },
      "source": [
        "#!pip uninstall -m spacy download pt #_core_news_sm\n",
        "!python3 -m spacy download pt #_core_news_sm\n",
        "\n",
        " #pt  As of spaCy v3.0, shortcuts like 'pt' are deprecated. Please use the full pipeline package name 'pt_core_news_sm' instead."
      ],
      "execution_count": 5,
      "outputs": [
        {
          "output_type": "stream",
          "name": "stdout",
          "text": [
            "Looking in indexes: https://pypi.org/simple, https://us-python.pkg.dev/colab-wheels/public/simple/\n",
            "Collecting pt_core_news_sm==2.2.5\n",
            "  Downloading https://github.com/explosion/spacy-models/releases/download/pt_core_news_sm-2.2.5/pt_core_news_sm-2.2.5.tar.gz (21.2 MB)\n",
            "\u001b[K     |████████████████████████████████| 21.2 MB 1.4 MB/s \n",
            "\u001b[?25hRequirement already satisfied: spacy>=2.2.2 in /usr/local/lib/python3.7/dist-packages (from pt_core_news_sm==2.2.5) (2.2.3)\n",
            "Requirement already satisfied: murmurhash<1.1.0,>=0.28.0 in /usr/local/lib/python3.7/dist-packages (from spacy>=2.2.2->pt_core_news_sm==2.2.5) (1.0.7)\n",
            "Requirement already satisfied: cymem<2.1.0,>=2.0.2 in /usr/local/lib/python3.7/dist-packages (from spacy>=2.2.2->pt_core_news_sm==2.2.5) (2.0.6)\n",
            "Requirement already satisfied: setuptools in /usr/local/lib/python3.7/dist-packages (from spacy>=2.2.2->pt_core_news_sm==2.2.5) (57.4.0)\n",
            "Requirement already satisfied: preshed<3.1.0,>=3.0.2 in /usr/local/lib/python3.7/dist-packages (from spacy>=2.2.2->pt_core_news_sm==2.2.5) (3.0.6)\n",
            "Requirement already satisfied: thinc<7.4.0,>=7.3.0 in /usr/local/lib/python3.7/dist-packages (from spacy>=2.2.2->pt_core_news_sm==2.2.5) (7.3.1)\n",
            "Requirement already satisfied: catalogue<1.1.0,>=0.0.7 in /usr/local/lib/python3.7/dist-packages (from spacy>=2.2.2->pt_core_news_sm==2.2.5) (1.0.0)\n",
            "Requirement already satisfied: blis<0.5.0,>=0.4.0 in /usr/local/lib/python3.7/dist-packages (from spacy>=2.2.2->pt_core_news_sm==2.2.5) (0.4.1)\n",
            "Requirement already satisfied: wasabi<1.1.0,>=0.4.0 in /usr/local/lib/python3.7/dist-packages (from spacy>=2.2.2->pt_core_news_sm==2.2.5) (0.10.1)\n",
            "Requirement already satisfied: numpy>=1.15.0 in /usr/local/lib/python3.7/dist-packages (from spacy>=2.2.2->pt_core_news_sm==2.2.5) (1.21.6)\n",
            "Requirement already satisfied: requests<3.0.0,>=2.13.0 in /usr/local/lib/python3.7/dist-packages (from spacy>=2.2.2->pt_core_news_sm==2.2.5) (2.23.0)\n",
            "Requirement already satisfied: plac<1.2.0,>=0.9.6 in /usr/local/lib/python3.7/dist-packages (from spacy>=2.2.2->pt_core_news_sm==2.2.5) (1.1.3)\n",
            "Requirement already satisfied: srsly<1.1.0,>=0.1.0 in /usr/local/lib/python3.7/dist-packages (from spacy>=2.2.2->pt_core_news_sm==2.2.5) (1.0.5)\n",
            "Requirement already satisfied: importlib-metadata>=0.20 in /usr/local/lib/python3.7/dist-packages (from catalogue<1.1.0,>=0.0.7->spacy>=2.2.2->pt_core_news_sm==2.2.5) (4.12.0)\n",
            "Requirement already satisfied: zipp>=0.5 in /usr/local/lib/python3.7/dist-packages (from importlib-metadata>=0.20->catalogue<1.1.0,>=0.0.7->spacy>=2.2.2->pt_core_news_sm==2.2.5) (3.8.1)\n",
            "Requirement already satisfied: typing-extensions>=3.6.4 in /usr/local/lib/python3.7/dist-packages (from importlib-metadata>=0.20->catalogue<1.1.0,>=0.0.7->spacy>=2.2.2->pt_core_news_sm==2.2.5) (4.1.1)\n",
            "Requirement already satisfied: urllib3!=1.25.0,!=1.25.1,<1.26,>=1.21.1 in /usr/local/lib/python3.7/dist-packages (from requests<3.0.0,>=2.13.0->spacy>=2.2.2->pt_core_news_sm==2.2.5) (1.24.3)\n",
            "Requirement already satisfied: certifi>=2017.4.17 in /usr/local/lib/python3.7/dist-packages (from requests<3.0.0,>=2.13.0->spacy>=2.2.2->pt_core_news_sm==2.2.5) (2022.6.15)\n",
            "Requirement already satisfied: chardet<4,>=3.0.2 in /usr/local/lib/python3.7/dist-packages (from requests<3.0.0,>=2.13.0->spacy>=2.2.2->pt_core_news_sm==2.2.5) (3.0.4)\n",
            "Requirement already satisfied: idna<3,>=2.5 in /usr/local/lib/python3.7/dist-packages (from requests<3.0.0,>=2.13.0->spacy>=2.2.2->pt_core_news_sm==2.2.5) (2.10)\n",
            "Requirement already satisfied: tqdm<5.0.0,>=4.10.0 in /usr/local/lib/python3.7/dist-packages (from thinc<7.4.0,>=7.3.0->spacy>=2.2.2->pt_core_news_sm==2.2.5) (4.64.0)\n",
            "Building wheels for collected packages: pt-core-news-sm\n",
            "  Building wheel for pt-core-news-sm (setup.py) ... \u001b[?25l\u001b[?25hdone\n",
            "  Created wheel for pt-core-news-sm: filename=pt_core_news_sm-2.2.5-py3-none-any.whl size=21186281 sha256=129856e92f1ab2dbcea47309ad15bcd4b29d13d8909a6db7d800647329511bd0\n",
            "  Stored in directory: /tmp/pip-ephem-wheel-cache-9gl72k9a/wheels/c3/f9/0c/5c014a36941a00f5df5fc0756cb961d7c457a978e697a6ce3b\n",
            "Successfully built pt-core-news-sm\n",
            "Installing collected packages: pt-core-news-sm\n",
            "  Attempting uninstall: pt-core-news-sm\n",
            "    Found existing installation: pt-core-news-sm 3.4.0\n",
            "    Uninstalling pt-core-news-sm-3.4.0:\n",
            "      Successfully uninstalled pt-core-news-sm-3.4.0\n",
            "Successfully installed pt-core-news-sm-2.2.5\n",
            "\u001b[38;5;2m✔ Download and installation successful\u001b[0m\n",
            "You can now load the model via spacy.load('pt_core_news_sm')\n",
            "\u001b[38;5;2m✔ Linking successful\u001b[0m\n",
            "/usr/local/lib/python3.7/dist-packages/pt_core_news_sm -->\n",
            "/usr/local/lib/python3.7/dist-packages/spacy/data/pt\n",
            "You can now load the model via spacy.load('pt')\n"
          ]
        }
      ]
    },
    {
      "cell_type": "code",
      "metadata": {
        "id": "DelYAveq8yuX"
      },
      "source": [
        "import pandas as pd\n",
        "import string\n",
        "import spacy\n",
        "import random\n",
        "import seaborn as sns #geração de gráficos\n",
        "import numpy as np\n",
        "import re #expressões regulares"
      ],
      "execution_count": 6,
      "outputs": []
    },
    {
      "cell_type": "markdown",
      "metadata": {
        "id": "iE3VMD8t86ky"
      },
      "source": [
        "# Etapa 2: Carregamento das bases de dados\n",
        "\n",
        "- Link Kaggle: https://www.kaggle.com/augustop/portuguese-tweets-for-sentiment-analysis#TweetsNeutralHash.csv"
      ]
    },
    {
      "cell_type": "markdown",
      "metadata": {
        "id": "472HCiGNxsGm"
      },
      "source": [
        "## Base de treinamento\n",
        "\n",
        "- Negative label: 0\n",
        "- Positive label: 1"
      ]
    },
    {
      "cell_type": "code",
      "metadata": {
        "id": "jqsZesTIj1D1"
      },
      "source": [
        "base_treinamento = pd.read_csv('/content/Train50.csv', delimiter=';') #lendo o arquivo"
      ],
      "execution_count": 7,
      "outputs": []
    },
    {
      "cell_type": "code",
      "source": [
        "from google.colab import drive\n",
        "drive.mount('/content/drive')"
      ],
      "metadata": {
        "colab": {
          "base_uri": "https://localhost:8080/"
        },
        "id": "wCELzEf-qNY-",
        "outputId": "3e27df56-ad47-463f-8537-3c9d2b49eae4"
      },
      "execution_count": 8,
      "outputs": [
        {
          "output_type": "stream",
          "name": "stdout",
          "text": [
            "Drive already mounted at /content/drive; to attempt to forcibly remount, call drive.mount(\"/content/drive\", force_remount=True).\n"
          ]
        }
      ]
    },
    {
      "cell_type": "code",
      "metadata": {
        "id": "kkNNr-fokG5Z",
        "colab": {
          "base_uri": "https://localhost:8080/"
        },
        "outputId": "c99643eb-e32a-405a-9a18-11ae234dc163"
      },
      "source": [
        "base_treinamento.shape"
      ],
      "execution_count": 9,
      "outputs": [
        {
          "output_type": "execute_result",
          "data": {
            "text/plain": [
              "(50000, 5)"
            ]
          },
          "metadata": {},
          "execution_count": 9
        }
      ]
    },
    {
      "cell_type": "code",
      "metadata": {
        "id": "ian62Lo5kKXp",
        "colab": {
          "base_uri": "https://localhost:8080/",
          "height": 337
        },
        "outputId": "6064b5a1-849f-451f-c45c-da9fb2de10ea"
      },
      "source": [
        "base_treinamento.head()"
      ],
      "execution_count": 10,
      "outputs": [
        {
          "output_type": "execute_result",
          "data": {
            "text/plain": [
              "                    id                                         tweet_text  \\\n",
              "0  1050785521201541121  @Laranjito76 A pessoa certa para isso seria o ...   \n",
              "1  1050785431955140608  @behin_d_curtain Para mim, é precisamente o co...   \n",
              "2  1050785401248645120  Vou fazer um video hoje... estou pensando em f...   \n",
              "3  1050785370982547461  aaaaaaaa amei tanto essas polaroids, nem sei e...   \n",
              "4  1050785368902131713  Valoriza o coração do menininho que vc tem. El...   \n",
              "\n",
              "                       tweet_date  sentiment query_used  \n",
              "0  Fri Oct 12 16:29:25 +0000 2018          1         :)  \n",
              "1  Fri Oct 12 16:29:04 +0000 2018          1         :)  \n",
              "2  Fri Oct 12 16:28:56 +0000 2018          1         :)  \n",
              "3  Fri Oct 12 16:28:49 +0000 2018          1         :)  \n",
              "4  Fri Oct 12 16:28:49 +0000 2018          1         :)  "
            ],
            "text/html": [
              "\n",
              "  <div id=\"df-633988d8-81b5-43c2-9401-9df444f6eea5\">\n",
              "    <div class=\"colab-df-container\">\n",
              "      <div>\n",
              "<style scoped>\n",
              "    .dataframe tbody tr th:only-of-type {\n",
              "        vertical-align: middle;\n",
              "    }\n",
              "\n",
              "    .dataframe tbody tr th {\n",
              "        vertical-align: top;\n",
              "    }\n",
              "\n",
              "    .dataframe thead th {\n",
              "        text-align: right;\n",
              "    }\n",
              "</style>\n",
              "<table border=\"1\" class=\"dataframe\">\n",
              "  <thead>\n",
              "    <tr style=\"text-align: right;\">\n",
              "      <th></th>\n",
              "      <th>id</th>\n",
              "      <th>tweet_text</th>\n",
              "      <th>tweet_date</th>\n",
              "      <th>sentiment</th>\n",
              "      <th>query_used</th>\n",
              "    </tr>\n",
              "  </thead>\n",
              "  <tbody>\n",
              "    <tr>\n",
              "      <th>0</th>\n",
              "      <td>1050785521201541121</td>\n",
              "      <td>@Laranjito76 A pessoa certa para isso seria o ...</td>\n",
              "      <td>Fri Oct 12 16:29:25 +0000 2018</td>\n",
              "      <td>1</td>\n",
              "      <td>:)</td>\n",
              "    </tr>\n",
              "    <tr>\n",
              "      <th>1</th>\n",
              "      <td>1050785431955140608</td>\n",
              "      <td>@behin_d_curtain Para mim, é precisamente o co...</td>\n",
              "      <td>Fri Oct 12 16:29:04 +0000 2018</td>\n",
              "      <td>1</td>\n",
              "      <td>:)</td>\n",
              "    </tr>\n",
              "    <tr>\n",
              "      <th>2</th>\n",
              "      <td>1050785401248645120</td>\n",
              "      <td>Vou fazer um video hoje... estou pensando em f...</td>\n",
              "      <td>Fri Oct 12 16:28:56 +0000 2018</td>\n",
              "      <td>1</td>\n",
              "      <td>:)</td>\n",
              "    </tr>\n",
              "    <tr>\n",
              "      <th>3</th>\n",
              "      <td>1050785370982547461</td>\n",
              "      <td>aaaaaaaa amei tanto essas polaroids, nem sei e...</td>\n",
              "      <td>Fri Oct 12 16:28:49 +0000 2018</td>\n",
              "      <td>1</td>\n",
              "      <td>:)</td>\n",
              "    </tr>\n",
              "    <tr>\n",
              "      <th>4</th>\n",
              "      <td>1050785368902131713</td>\n",
              "      <td>Valoriza o coração do menininho que vc tem. El...</td>\n",
              "      <td>Fri Oct 12 16:28:49 +0000 2018</td>\n",
              "      <td>1</td>\n",
              "      <td>:)</td>\n",
              "    </tr>\n",
              "  </tbody>\n",
              "</table>\n",
              "</div>\n",
              "      <button class=\"colab-df-convert\" onclick=\"convertToInteractive('df-633988d8-81b5-43c2-9401-9df444f6eea5')\"\n",
              "              title=\"Convert this dataframe to an interactive table.\"\n",
              "              style=\"display:none;\">\n",
              "        \n",
              "  <svg xmlns=\"http://www.w3.org/2000/svg\" height=\"24px\"viewBox=\"0 0 24 24\"\n",
              "       width=\"24px\">\n",
              "    <path d=\"M0 0h24v24H0V0z\" fill=\"none\"/>\n",
              "    <path d=\"M18.56 5.44l.94 2.06.94-2.06 2.06-.94-2.06-.94-.94-2.06-.94 2.06-2.06.94zm-11 1L8.5 8.5l.94-2.06 2.06-.94-2.06-.94L8.5 2.5l-.94 2.06-2.06.94zm10 10l.94 2.06.94-2.06 2.06-.94-2.06-.94-.94-2.06-.94 2.06-2.06.94z\"/><path d=\"M17.41 7.96l-1.37-1.37c-.4-.4-.92-.59-1.43-.59-.52 0-1.04.2-1.43.59L10.3 9.45l-7.72 7.72c-.78.78-.78 2.05 0 2.83L4 21.41c.39.39.9.59 1.41.59.51 0 1.02-.2 1.41-.59l7.78-7.78 2.81-2.81c.8-.78.8-2.07 0-2.86zM5.41 20L4 18.59l7.72-7.72 1.47 1.35L5.41 20z\"/>\n",
              "  </svg>\n",
              "      </button>\n",
              "      \n",
              "  <style>\n",
              "    .colab-df-container {\n",
              "      display:flex;\n",
              "      flex-wrap:wrap;\n",
              "      gap: 12px;\n",
              "    }\n",
              "\n",
              "    .colab-df-convert {\n",
              "      background-color: #E8F0FE;\n",
              "      border: none;\n",
              "      border-radius: 50%;\n",
              "      cursor: pointer;\n",
              "      display: none;\n",
              "      fill: #1967D2;\n",
              "      height: 32px;\n",
              "      padding: 0 0 0 0;\n",
              "      width: 32px;\n",
              "    }\n",
              "\n",
              "    .colab-df-convert:hover {\n",
              "      background-color: #E2EBFA;\n",
              "      box-shadow: 0px 1px 2px rgba(60, 64, 67, 0.3), 0px 1px 3px 1px rgba(60, 64, 67, 0.15);\n",
              "      fill: #174EA6;\n",
              "    }\n",
              "\n",
              "    [theme=dark] .colab-df-convert {\n",
              "      background-color: #3B4455;\n",
              "      fill: #D2E3FC;\n",
              "    }\n",
              "\n",
              "    [theme=dark] .colab-df-convert:hover {\n",
              "      background-color: #434B5C;\n",
              "      box-shadow: 0px 1px 3px 1px rgba(0, 0, 0, 0.15);\n",
              "      filter: drop-shadow(0px 1px 2px rgba(0, 0, 0, 0.3));\n",
              "      fill: #FFFFFF;\n",
              "    }\n",
              "  </style>\n",
              "\n",
              "      <script>\n",
              "        const buttonEl =\n",
              "          document.querySelector('#df-633988d8-81b5-43c2-9401-9df444f6eea5 button.colab-df-convert');\n",
              "        buttonEl.style.display =\n",
              "          google.colab.kernel.accessAllowed ? 'block' : 'none';\n",
              "\n",
              "        async function convertToInteractive(key) {\n",
              "          const element = document.querySelector('#df-633988d8-81b5-43c2-9401-9df444f6eea5');\n",
              "          const dataTable =\n",
              "            await google.colab.kernel.invokeFunction('convertToInteractive',\n",
              "                                                     [key], {});\n",
              "          if (!dataTable) return;\n",
              "\n",
              "          const docLinkHtml = 'Like what you see? Visit the ' +\n",
              "            '<a target=\"_blank\" href=https://colab.research.google.com/notebooks/data_table.ipynb>data table notebook</a>'\n",
              "            + ' to learn more about interactive tables.';\n",
              "          element.innerHTML = '';\n",
              "          dataTable['output_type'] = 'display_data';\n",
              "          await google.colab.output.renderOutput(dataTable, element);\n",
              "          const docLink = document.createElement('div');\n",
              "          docLink.innerHTML = docLinkHtml;\n",
              "          element.appendChild(docLink);\n",
              "        }\n",
              "      </script>\n",
              "    </div>\n",
              "  </div>\n",
              "  "
            ]
          },
          "metadata": {},
          "execution_count": 10
        }
      ]
    },
    {
      "cell_type": "code",
      "metadata": {
        "id": "xFrzQLCckhEW",
        "colab": {
          "base_uri": "https://localhost:8080/",
          "height": 337
        },
        "outputId": "dcb8372c-724a-415b-c2eb-6b95fccef18f"
      },
      "source": [
        "base_treinamento.tail() #os últimos registros"
      ],
      "execution_count": 12,
      "outputs": [
        {
          "output_type": "execute_result",
          "data": {
            "text/plain": [
              "                        id                                         tweet_text  \\\n",
              "49995  1046762827053232128     :( é tão lindo que dói https://t.co/GqnpgyWWxB   \n",
              "49996  1046762813362966529  @veraluciarj Pois é.. tenho problema c/ \"coisa...   \n",
              "49997  1046762806392082432  eu te amo tanto minja vidinha meu bem mais pre...   \n",
              "49998  1046762752071618560                      @itsLary @jessboluda Pfvor :(   \n",
              "49999  1046762735340584962  @Renk_lol Passa ano Entra ano Eu nao desisto d...   \n",
              "\n",
              "                           tweet_date  sentiment query_used  \n",
              "49995  Mon Oct 01 14:04:40 +0000 2018          0         :(  \n",
              "49996  Mon Oct 01 14:04:37 +0000 2018          0         :(  \n",
              "49997  Mon Oct 01 14:04:35 +0000 2018          0         :(  \n",
              "49998  Mon Oct 01 14:04:22 +0000 2018          0         :(  \n",
              "49999  Mon Oct 01 14:04:18 +0000 2018          0         :(  "
            ],
            "text/html": [
              "\n",
              "  <div id=\"df-e6ae5257-7096-485d-bbc4-6aec45d1844d\">\n",
              "    <div class=\"colab-df-container\">\n",
              "      <div>\n",
              "<style scoped>\n",
              "    .dataframe tbody tr th:only-of-type {\n",
              "        vertical-align: middle;\n",
              "    }\n",
              "\n",
              "    .dataframe tbody tr th {\n",
              "        vertical-align: top;\n",
              "    }\n",
              "\n",
              "    .dataframe thead th {\n",
              "        text-align: right;\n",
              "    }\n",
              "</style>\n",
              "<table border=\"1\" class=\"dataframe\">\n",
              "  <thead>\n",
              "    <tr style=\"text-align: right;\">\n",
              "      <th></th>\n",
              "      <th>id</th>\n",
              "      <th>tweet_text</th>\n",
              "      <th>tweet_date</th>\n",
              "      <th>sentiment</th>\n",
              "      <th>query_used</th>\n",
              "    </tr>\n",
              "  </thead>\n",
              "  <tbody>\n",
              "    <tr>\n",
              "      <th>49995</th>\n",
              "      <td>1046762827053232128</td>\n",
              "      <td>:( é tão lindo que dói https://t.co/GqnpgyWWxB</td>\n",
              "      <td>Mon Oct 01 14:04:40 +0000 2018</td>\n",
              "      <td>0</td>\n",
              "      <td>:(</td>\n",
              "    </tr>\n",
              "    <tr>\n",
              "      <th>49996</th>\n",
              "      <td>1046762813362966529</td>\n",
              "      <td>@veraluciarj Pois é.. tenho problema c/ \"coisa...</td>\n",
              "      <td>Mon Oct 01 14:04:37 +0000 2018</td>\n",
              "      <td>0</td>\n",
              "      <td>:(</td>\n",
              "    </tr>\n",
              "    <tr>\n",
              "      <th>49997</th>\n",
              "      <td>1046762806392082432</td>\n",
              "      <td>eu te amo tanto minja vidinha meu bem mais pre...</td>\n",
              "      <td>Mon Oct 01 14:04:35 +0000 2018</td>\n",
              "      <td>0</td>\n",
              "      <td>:(</td>\n",
              "    </tr>\n",
              "    <tr>\n",
              "      <th>49998</th>\n",
              "      <td>1046762752071618560</td>\n",
              "      <td>@itsLary @jessboluda Pfvor :(</td>\n",
              "      <td>Mon Oct 01 14:04:22 +0000 2018</td>\n",
              "      <td>0</td>\n",
              "      <td>:(</td>\n",
              "    </tr>\n",
              "    <tr>\n",
              "      <th>49999</th>\n",
              "      <td>1046762735340584962</td>\n",
              "      <td>@Renk_lol Passa ano Entra ano Eu nao desisto d...</td>\n",
              "      <td>Mon Oct 01 14:04:18 +0000 2018</td>\n",
              "      <td>0</td>\n",
              "      <td>:(</td>\n",
              "    </tr>\n",
              "  </tbody>\n",
              "</table>\n",
              "</div>\n",
              "      <button class=\"colab-df-convert\" onclick=\"convertToInteractive('df-e6ae5257-7096-485d-bbc4-6aec45d1844d')\"\n",
              "              title=\"Convert this dataframe to an interactive table.\"\n",
              "              style=\"display:none;\">\n",
              "        \n",
              "  <svg xmlns=\"http://www.w3.org/2000/svg\" height=\"24px\"viewBox=\"0 0 24 24\"\n",
              "       width=\"24px\">\n",
              "    <path d=\"M0 0h24v24H0V0z\" fill=\"none\"/>\n",
              "    <path d=\"M18.56 5.44l.94 2.06.94-2.06 2.06-.94-2.06-.94-.94-2.06-.94 2.06-2.06.94zm-11 1L8.5 8.5l.94-2.06 2.06-.94-2.06-.94L8.5 2.5l-.94 2.06-2.06.94zm10 10l.94 2.06.94-2.06 2.06-.94-2.06-.94-.94-2.06-.94 2.06-2.06.94z\"/><path d=\"M17.41 7.96l-1.37-1.37c-.4-.4-.92-.59-1.43-.59-.52 0-1.04.2-1.43.59L10.3 9.45l-7.72 7.72c-.78.78-.78 2.05 0 2.83L4 21.41c.39.39.9.59 1.41.59.51 0 1.02-.2 1.41-.59l7.78-7.78 2.81-2.81c.8-.78.8-2.07 0-2.86zM5.41 20L4 18.59l7.72-7.72 1.47 1.35L5.41 20z\"/>\n",
              "  </svg>\n",
              "      </button>\n",
              "      \n",
              "  <style>\n",
              "    .colab-df-container {\n",
              "      display:flex;\n",
              "      flex-wrap:wrap;\n",
              "      gap: 12px;\n",
              "    }\n",
              "\n",
              "    .colab-df-convert {\n",
              "      background-color: #E8F0FE;\n",
              "      border: none;\n",
              "      border-radius: 50%;\n",
              "      cursor: pointer;\n",
              "      display: none;\n",
              "      fill: #1967D2;\n",
              "      height: 32px;\n",
              "      padding: 0 0 0 0;\n",
              "      width: 32px;\n",
              "    }\n",
              "\n",
              "    .colab-df-convert:hover {\n",
              "      background-color: #E2EBFA;\n",
              "      box-shadow: 0px 1px 2px rgba(60, 64, 67, 0.3), 0px 1px 3px 1px rgba(60, 64, 67, 0.15);\n",
              "      fill: #174EA6;\n",
              "    }\n",
              "\n",
              "    [theme=dark] .colab-df-convert {\n",
              "      background-color: #3B4455;\n",
              "      fill: #D2E3FC;\n",
              "    }\n",
              "\n",
              "    [theme=dark] .colab-df-convert:hover {\n",
              "      background-color: #434B5C;\n",
              "      box-shadow: 0px 1px 3px 1px rgba(0, 0, 0, 0.15);\n",
              "      filter: drop-shadow(0px 1px 2px rgba(0, 0, 0, 0.3));\n",
              "      fill: #FFFFFF;\n",
              "    }\n",
              "  </style>\n",
              "\n",
              "      <script>\n",
              "        const buttonEl =\n",
              "          document.querySelector('#df-e6ae5257-7096-485d-bbc4-6aec45d1844d button.colab-df-convert');\n",
              "        buttonEl.style.display =\n",
              "          google.colab.kernel.accessAllowed ? 'block' : 'none';\n",
              "\n",
              "        async function convertToInteractive(key) {\n",
              "          const element = document.querySelector('#df-e6ae5257-7096-485d-bbc4-6aec45d1844d');\n",
              "          const dataTable =\n",
              "            await google.colab.kernel.invokeFunction('convertToInteractive',\n",
              "                                                     [key], {});\n",
              "          if (!dataTable) return;\n",
              "\n",
              "          const docLinkHtml = 'Like what you see? Visit the ' +\n",
              "            '<a target=\"_blank\" href=https://colab.research.google.com/notebooks/data_table.ipynb>data table notebook</a>'\n",
              "            + ' to learn more about interactive tables.';\n",
              "          element.innerHTML = '';\n",
              "          dataTable['output_type'] = 'display_data';\n",
              "          await google.colab.output.renderOutput(dataTable, element);\n",
              "          const docLink = document.createElement('div');\n",
              "          docLink.innerHTML = docLinkHtml;\n",
              "          element.appendChild(docLink);\n",
              "        }\n",
              "      </script>\n",
              "    </div>\n",
              "  </div>\n",
              "  "
            ]
          },
          "metadata": {},
          "execution_count": 12
        }
      ]
    },
    {
      "cell_type": "code",
      "metadata": {
        "id": "IVVwuPGhkm5h",
        "colab": {
          "base_uri": "https://localhost:8080/",
          "height": 334
        },
        "outputId": "5ceb17db-4d60-4514-dacb-a986e6807c25"
      },
      "source": [
        "sns.countplot(base_treinamento['sentiment'], label = 'Contagem');"
      ],
      "execution_count": 11,
      "outputs": [
        {
          "output_type": "stream",
          "name": "stderr",
          "text": [
            "/usr/local/lib/python3.7/dist-packages/seaborn/_decorators.py:43: FutureWarning: Pass the following variable as a keyword arg: x. From version 0.12, the only valid positional argument will be `data`, and passing other arguments without an explicit keyword will result in an error or misinterpretation.\n",
            "  FutureWarning\n"
          ]
        },
        {
          "output_type": "display_data",
          "data": {
            "text/plain": [
              "<Figure size 432x288 with 1 Axes>"
            ],
            "image/png": "[encoded data removed]"
          },
          "metadata": {
            "needs_background": "light"
          }
        }
      ]
    },
    {
      "cell_type": "code",
      "metadata": {
        "id": "-xTh-gqelMWn"
      },
      "source": [
        "base_treinamento.drop(['id', 'tweet_date', 'query_used'], axis = 1, inplace=True)"
      ],
      "execution_count": 12,
      "outputs": []
    },
    {
      "cell_type": "code",
      "metadata": {
        "id": "82hWS5cklVZ_",
        "colab": {
          "base_uri": "https://localhost:8080/",
          "height": 206
        },
        "outputId": "b923a859-4863-475b-e653-d5fe7147b024"
      },
      "source": [
        "base_treinamento.head()"
      ],
      "execution_count": 13,
      "outputs": [
        {
          "output_type": "execute_result",
          "data": {
            "text/plain": [
              "                                          tweet_text  sentiment\n",
              "0  @Laranjito76 A pessoa certa para isso seria o ...          1\n",
              "1  @behin_d_curtain Para mim, é precisamente o co...          1\n",
              "2  Vou fazer um video hoje... estou pensando em f...          1\n",
              "3  aaaaaaaa amei tanto essas polaroids, nem sei e...          1\n",
              "4  Valoriza o coração do menininho que vc tem. El...          1"
            ],
            "text/html": [
              "\n",
              "  <div id=\"df-8b24e708-879d-4981-9b74-9bb50db8b8ed\">\n",
              "    <div class=\"colab-df-container\">\n",
              "      <div>\n",
              "<style scoped>\n",
              "    .dataframe tbody tr th:only-of-type {\n",
              "        vertical-align: middle;\n",
              "    }\n",
              "\n",
              "    .dataframe tbody tr th {\n",
              "        vertical-align: top;\n",
              "    }\n",
              "\n",
              "    .dataframe thead th {\n",
              "        text-align: right;\n",
              "    }\n",
              "</style>\n",
              "<table border=\"1\" class=\"dataframe\">\n",
              "  <thead>\n",
              "    <tr style=\"text-align: right;\">\n",
              "      <th></th>\n",
              "      <th>tweet_text</th>\n",
              "      <th>sentiment</th>\n",
              "    </tr>\n",
              "  </thead>\n",
              "  <tbody>\n",
              "    <tr>\n",
              "      <th>0</th>\n",
              "      <td>@Laranjito76 A pessoa certa para isso seria o ...</td>\n",
              "      <td>1</td>\n",
              "    </tr>\n",
              "    <tr>\n",
              "      <th>1</th>\n",
              "      <td>@behin_d_curtain Para mim, é precisamente o co...</td>\n",
              "      <td>1</td>\n",
              "    </tr>\n",
              "    <tr>\n",
              "      <th>2</th>\n",
              "      <td>Vou fazer um video hoje... estou pensando em f...</td>\n",
              "      <td>1</td>\n",
              "    </tr>\n",
              "    <tr>\n",
              "      <th>3</th>\n",
              "      <td>aaaaaaaa amei tanto essas polaroids, nem sei e...</td>\n",
              "      <td>1</td>\n",
              "    </tr>\n",
              "    <tr>\n",
              "      <th>4</th>\n",
              "      <td>Valoriza o coração do menininho que vc tem. El...</td>\n",
              "      <td>1</td>\n",
              "    </tr>\n",
              "  </tbody>\n",
              "</table>\n",
              "</div>\n",
              "      <button class=\"colab-df-convert\" onclick=\"convertToInteractive('df-8b24e708-879d-4981-9b74-9bb50db8b8ed')\"\n",
              "              title=\"Convert this dataframe to an interactive table.\"\n",
              "              style=\"display:none;\">\n",
              "        \n",
              "  <svg xmlns=\"http://www.w3.org/2000/svg\" height=\"24px\"viewBox=\"0 0 24 24\"\n",
              "       width=\"24px\">\n",
              "    <path d=\"M0 0h24v24H0V0z\" fill=\"none\"/>\n",
              "    <path d=\"M18.56 5.44l.94 2.06.94-2.06 2.06-.94-2.06-.94-.94-2.06-.94 2.06-2.06.94zm-11 1L8.5 8.5l.94-2.06 2.06-.94-2.06-.94L8.5 2.5l-.94 2.06-2.06.94zm10 10l.94 2.06.94-2.06 2.06-.94-2.06-.94-.94-2.06-.94 2.06-2.06.94z\"/><path d=\"M17.41 7.96l-1.37-1.37c-.4-.4-.92-.59-1.43-.59-.52 0-1.04.2-1.43.59L10.3 9.45l-7.72 7.72c-.78.78-.78 2.05 0 2.83L4 21.41c.39.39.9.59 1.41.59.51 0 1.02-.2 1.41-.59l7.78-7.78 2.81-2.81c.8-.78.8-2.07 0-2.86zM5.41 20L4 18.59l7.72-7.72 1.47 1.35L5.41 20z\"/>\n",
              "  </svg>\n",
              "      </button>\n",
              "      \n",
              "  <style>\n",
              "    .colab-df-container {\n",
              "      display:flex;\n",
              "      flex-wrap:wrap;\n",
              "      gap: 12px;\n",
              "    }\n",
              "\n",
              "    .colab-df-convert {\n",
              "      background-color: #E8F0FE;\n",
              "      border: none;\n",
              "      border-radius: 50%;\n",
              "      cursor: pointer;\n",
              "      display: none;\n",
              "      fill: #1967D2;\n",
              "      height: 32px;\n",
              "      padding: 0 0 0 0;\n",
              "      width: 32px;\n",
              "    }\n",
              "\n",
              "    .colab-df-convert:hover {\n",
              "      background-color: #E2EBFA;\n",
              "      box-shadow: 0px 1px 2px rgba(60, 64, 67, 0.3), 0px 1px 3px 1px rgba(60, 64, 67, 0.15);\n",
              "      fill: #174EA6;\n",
              "    }\n",
              "\n",
              "    [theme=dark] .colab-df-convert {\n",
              "      background-color: #3B4455;\n",
              "      fill: #D2E3FC;\n",
              "    }\n",
              "\n",
              "    [theme=dark] .colab-df-convert:hover {\n",
              "      background-color: #434B5C;\n",
              "      box-shadow: 0px 1px 3px 1px rgba(0, 0, 0, 0.15);\n",
              "      filter: drop-shadow(0px 1px 2px rgba(0, 0, 0, 0.3));\n",
              "      fill: #FFFFFF;\n",
              "    }\n",
              "  </style>\n",
              "\n",
              "      <script>\n",
              "        const buttonEl =\n",
              "          document.querySelector('#df-8b24e708-879d-4981-9b74-9bb50db8b8ed button.colab-df-convert');\n",
              "        buttonEl.style.display =\n",
              "          google.colab.kernel.accessAllowed ? 'block' : 'none';\n",
              "\n",
              "        async function convertToInteractive(key) {\n",
              "          const element = document.querySelector('#df-8b24e708-879d-4981-9b74-9bb50db8b8ed');\n",
              "          const dataTable =\n",
              "            await google.colab.kernel.invokeFunction('convertToInteractive',\n",
              "                                                     [key], {});\n",
              "          if (!dataTable) return;\n",
              "\n",
              "          const docLinkHtml = 'Like what you see? Visit the ' +\n",
              "            '<a target=\"_blank\" href=https://colab.research.google.com/notebooks/data_table.ipynb>data table notebook</a>'\n",
              "            + ' to learn more about interactive tables.';\n",
              "          element.innerHTML = '';\n",
              "          dataTable['output_type'] = 'display_data';\n",
              "          await google.colab.output.renderOutput(dataTable, element);\n",
              "          const docLink = document.createElement('div');\n",
              "          docLink.innerHTML = docLinkHtml;\n",
              "          element.appendChild(docLink);\n",
              "        }\n",
              "      </script>\n",
              "    </div>\n",
              "  </div>\n",
              "  "
            ]
          },
          "metadata": {},
          "execution_count": 13
        }
      ]
    },
    {
      "cell_type": "code",
      "metadata": {
        "id": "dfMcmaval-7w",
        "colab": {
          "base_uri": "https://localhost:8080/",
          "height": 271
        },
        "outputId": "8f20ffd4-50a1-431e-9793-57c04190708d"
      },
      "source": [
        "sns.heatmap(pd.isnull(base_treinamento));"
      ],
      "execution_count": 16,
      "outputs": [
        {
          "output_type": "display_data",
          "data": {
            "text/plain": [
              "<Figure size 432x288 with 2 Axes>"
            ],
            "image/png": "[encoded data removed]"
          },
          "metadata": {
            "needs_background": "light"
          }
        }
      ]
    },
    {
      "cell_type": "markdown",
      "metadata": {
        "id": "KwANq9uCx-jV"
      },
      "source": [
        "## Base de teste"
      ]
    },
    {
      "cell_type": "code",
      "metadata": {
        "id": "PllVVG-IlYkC"
      },
      "source": [
        "base_teste = pd.read_csv('/content/Test.csv', delimiter=';')"
      ],
      "execution_count": 14,
      "outputs": []
    },
    {
      "cell_type": "code",
      "metadata": {
        "id": "yeiX7jb-lfdE",
        "colab": {
          "base_uri": "https://localhost:8080/",
          "height": 337
        },
        "outputId": "bb8ae89c-767f-4275-8a96-f5bbcb5d6ccf"
      },
      "source": [
        "base_teste.head()"
      ],
      "execution_count": 15,
      "outputs": [
        {
          "output_type": "execute_result",
          "data": {
            "text/plain": [
              "                    id                                         tweet_text  \\\n",
              "0  1029536486021099522                   @Gazo1a Nossa! Muito obrigada :)   \n",
              "1  1029536496368406528             @BerzGamer vai pa puta que te pariu :)   \n",
              "2  1029536531655131137  QUER MAIS DESCONTOS? (14/08) ⭐⭐⭐⭐⭐ 🌐 Confira n...   \n",
              "3  1029536560117678081  EU VOU PEGAR VCS, ME AJUDEM GALERA, PELO AMOR ...   \n",
              "4  1029536605852377088  Estávamos em casa do Zé e eu estava a morrer d...   \n",
              "\n",
              "                       tweet_date  sentiment query_used  \n",
              "0  Wed Aug 15 01:13:20 +0000 2018          1         :)  \n",
              "1  Wed Aug 15 01:13:23 +0000 2018          1         :)  \n",
              "2  Wed Aug 15 01:13:31 +0000 2018          1         :)  \n",
              "3  Wed Aug 15 01:13:38 +0000 2018          1         :)  \n",
              "4  Wed Aug 15 01:13:49 +0000 2018          1         :)  "
            ],
            "text/html": [
              "\n",
              "  <div id=\"df-1220391f-5c0d-4176-9d59-a568aa33b5a6\">\n",
              "    <div class=\"colab-df-container\">\n",
              "      <div>\n",
              "<style scoped>\n",
              "    .dataframe tbody tr th:only-of-type {\n",
              "        vertical-align: middle;\n",
              "    }\n",
              "\n",
              "    .dataframe tbody tr th {\n",
              "        vertical-align: top;\n",
              "    }\n",
              "\n",
              "    .dataframe thead th {\n",
              "        text-align: right;\n",
              "    }\n",
              "</style>\n",
              "<table border=\"1\" class=\"dataframe\">\n",
              "  <thead>\n",
              "    <tr style=\"text-align: right;\">\n",
              "      <th></th>\n",
              "      <th>id</th>\n",
              "      <th>tweet_text</th>\n",
              "      <th>tweet_date</th>\n",
              "      <th>sentiment</th>\n",
              "      <th>query_used</th>\n",
              "    </tr>\n",
              "  </thead>\n",
              "  <tbody>\n",
              "    <tr>\n",
              "      <th>0</th>\n",
              "      <td>1029536486021099522</td>\n",
              "      <td>@Gazo1a Nossa! Muito obrigada :)</td>\n",
              "      <td>Wed Aug 15 01:13:20 +0000 2018</td>\n",
              "      <td>1</td>\n",
              "      <td>:)</td>\n",
              "    </tr>\n",
              "    <tr>\n",
              "      <th>1</th>\n",
              "      <td>1029536496368406528</td>\n",
              "      <td>@BerzGamer vai pa puta que te pariu :)</td>\n",
              "      <td>Wed Aug 15 01:13:23 +0000 2018</td>\n",
              "      <td>1</td>\n",
              "      <td>:)</td>\n",
              "    </tr>\n",
              "    <tr>\n",
              "      <th>2</th>\n",
              "      <td>1029536531655131137</td>\n",
              "      <td>QUER MAIS DESCONTOS? (14/08) ⭐⭐⭐⭐⭐ 🌐 Confira n...</td>\n",
              "      <td>Wed Aug 15 01:13:31 +0000 2018</td>\n",
              "      <td>1</td>\n",
              "      <td>:)</td>\n",
              "    </tr>\n",
              "    <tr>\n",
              "      <th>3</th>\n",
              "      <td>1029536560117678081</td>\n",
              "      <td>EU VOU PEGAR VCS, ME AJUDEM GALERA, PELO AMOR ...</td>\n",
              "      <td>Wed Aug 15 01:13:38 +0000 2018</td>\n",
              "      <td>1</td>\n",
              "      <td>:)</td>\n",
              "    </tr>\n",
              "    <tr>\n",
              "      <th>4</th>\n",
              "      <td>1029536605852377088</td>\n",
              "      <td>Estávamos em casa do Zé e eu estava a morrer d...</td>\n",
              "      <td>Wed Aug 15 01:13:49 +0000 2018</td>\n",
              "      <td>1</td>\n",
              "      <td>:)</td>\n",
              "    </tr>\n",
              "  </tbody>\n",
              "</table>\n",
              "</div>\n",
              "      <button class=\"colab-df-convert\" onclick=\"convertToInteractive('df-1220391f-5c0d-4176-9d59-a568aa33b5a6')\"\n",
              "              title=\"Convert this dataframe to an interactive table.\"\n",
              "              style=\"display:none;\">\n",
              "        \n",
              "  <svg xmlns=\"http://www.w3.org/2000/svg\" height=\"24px\"viewBox=\"0 0 24 24\"\n",
              "       width=\"24px\">\n",
              "    <path d=\"M0 0h24v24H0V0z\" fill=\"none\"/>\n",
              "    <path d=\"M18.56 5.44l.94 2.06.94-2.06 2.06-.94-2.06-.94-.94-2.06-.94 2.06-2.06.94zm-11 1L8.5 8.5l.94-2.06 2.06-.94-2.06-.94L8.5 2.5l-.94 2.06-2.06.94zm10 10l.94 2.06.94-2.06 2.06-.94-2.06-.94-.94-2.06-.94 2.06-2.06.94z\"/><path d=\"M17.41 7.96l-1.37-1.37c-.4-.4-.92-.59-1.43-.59-.52 0-1.04.2-1.43.59L10.3 9.45l-7.72 7.72c-.78.78-.78 2.05 0 2.83L4 21.41c.39.39.9.59 1.41.59.51 0 1.02-.2 1.41-.59l7.78-7.78 2.81-2.81c.8-.78.8-2.07 0-2.86zM5.41 20L4 18.59l7.72-7.72 1.47 1.35L5.41 20z\"/>\n",
              "  </svg>\n",
              "      </button>\n",
              "      \n",
              "  <style>\n",
              "    .colab-df-container {\n",
              "      display:flex;\n",
              "      flex-wrap:wrap;\n",
              "      gap: 12px;\n",
              "    }\n",
              "\n",
              "    .colab-df-convert {\n",
              "      background-color: #E8F0FE;\n",
              "      border: none;\n",
              "      border-radius: 50%;\n",
              "      cursor: pointer;\n",
              "      display: none;\n",
              "      fill: #1967D2;\n",
              "      height: 32px;\n",
              "      padding: 0 0 0 0;\n",
              "      width: 32px;\n",
              "    }\n",
              "\n",
              "    .colab-df-convert:hover {\n",
              "      background-color: #E2EBFA;\n",
              "      box-shadow: 0px 1px 2px rgba(60, 64, 67, 0.3), 0px 1px 3px 1px rgba(60, 64, 67, 0.15);\n",
              "      fill: #174EA6;\n",
              "    }\n",
              "\n",
              "    [theme=dark] .colab-df-convert {\n",
              "      background-color: #3B4455;\n",
              "      fill: #D2E3FC;\n",
              "    }\n",
              "\n",
              "    [theme=dark] .colab-df-convert:hover {\n",
              "      background-color: #434B5C;\n",
              "      box-shadow: 0px 1px 3px 1px rgba(0, 0, 0, 0.15);\n",
              "      filter: drop-shadow(0px 1px 2px rgba(0, 0, 0, 0.3));\n",
              "      fill: #FFFFFF;\n",
              "    }\n",
              "  </style>\n",
              "\n",
              "      <script>\n",
              "        const buttonEl =\n",
              "          document.querySelector('#df-1220391f-5c0d-4176-9d59-a568aa33b5a6 button.colab-df-convert');\n",
              "        buttonEl.style.display =\n",
              "          google.colab.kernel.accessAllowed ? 'block' : 'none';\n",
              "\n",
              "        async function convertToInteractive(key) {\n",
              "          const element = document.querySelector('#df-1220391f-5c0d-4176-9d59-a568aa33b5a6');\n",
              "          const dataTable =\n",
              "            await google.colab.kernel.invokeFunction('convertToInteractive',\n",
              "                                                     [key], {});\n",
              "          if (!dataTable) return;\n",
              "\n",
              "          const docLinkHtml = 'Like what you see? Visit the ' +\n",
              "            '<a target=\"_blank\" href=https://colab.research.google.com/notebooks/data_table.ipynb>data table notebook</a>'\n",
              "            + ' to learn more about interactive tables.';\n",
              "          element.innerHTML = '';\n",
              "          dataTable['output_type'] = 'display_data';\n",
              "          await google.colab.output.renderOutput(dataTable, element);\n",
              "          const docLink = document.createElement('div');\n",
              "          docLink.innerHTML = docLinkHtml;\n",
              "          element.appendChild(docLink);\n",
              "        }\n",
              "      </script>\n",
              "    </div>\n",
              "  </div>\n",
              "  "
            ]
          },
          "metadata": {},
          "execution_count": 15
        }
      ]
    },
    {
      "cell_type": "code",
      "metadata": {
        "id": "Lr5tKcjPlkQy",
        "colab": {
          "base_uri": "https://localhost:8080/"
        },
        "outputId": "d4f4dc77-f2bd-4e69-8c1d-abfc8838a61f"
      },
      "source": [
        "base_teste.shape"
      ],
      "execution_count": 17,
      "outputs": [
        {
          "output_type": "execute_result",
          "data": {
            "text/plain": [
              "(5000, 5)"
            ]
          },
          "metadata": {},
          "execution_count": 17
        }
      ]
    },
    {
      "cell_type": "code",
      "metadata": {
        "id": "uyU25iuZlnSP",
        "colab": {
          "base_uri": "https://localhost:8080/",
          "height": 334
        },
        "outputId": "6184004b-8067-41d3-bbba-8b274b5e0d11"
      },
      "source": [
        "sns.countplot(base_teste['sentiment'], label='Contagem');"
      ],
      "execution_count": 16,
      "outputs": [
        {
          "output_type": "stream",
          "name": "stderr",
          "text": [
            "/usr/local/lib/python3.7/dist-packages/seaborn/_decorators.py:43: FutureWarning: Pass the following variable as a keyword arg: x. From version 0.12, the only valid positional argument will be `data`, and passing other arguments without an explicit keyword will result in an error or misinterpretation.\n",
            "  FutureWarning\n"
          ]
        },
        {
          "output_type": "display_data",
          "data": {
            "text/plain": [
              "<Figure size 432x288 with 1 Axes>"
            ],
            "image/png": "[encoded data removed]"
          },
          "metadata": {
            "needs_background": "light"
          }
        }
      ]
    },
    {
      "cell_type": "code",
      "metadata": {
        "id": "gPgCCOZslxXy"
      },
      "source": [
        "base_teste.drop(['id', 'tweet_date', 'query_used'], axis = 1, inplace=True)"
      ],
      "execution_count": 18,
      "outputs": []
    },
    {
      "cell_type": "code",
      "metadata": {
        "id": "5evaWMpvl1kg",
        "colab": {
          "base_uri": "https://localhost:8080/",
          "height": 206
        },
        "outputId": "3542bee7-85ac-47b7-d8a9-36d518ef286b"
      },
      "source": [
        "base_teste.head()"
      ],
      "execution_count": 22,
      "outputs": [
        {
          "output_type": "execute_result",
          "data": {
            "text/plain": [
              "                                          tweet_text  sentiment\n",
              "0                   @Gazo1a Nossa! Muito obrigada :)          1\n",
              "1             @BerzGamer vai pa puta que te pariu :)          1\n",
              "2  QUER MAIS DESCONTOS? (14/08) ⭐⭐⭐⭐⭐ 🌐 Confira n...          1\n",
              "3  EU VOU PEGAR VCS, ME AJUDEM GALERA, PELO AMOR ...          1\n",
              "4  Estávamos em casa do Zé e eu estava a morrer d...          1"
            ],
            "text/html": [
              "\n",
              "  <div id=\"df-c0c4ae0f-b181-41a7-9d4e-131531551253\">\n",
              "    <div class=\"colab-df-container\">\n",
              "      <div>\n",
              "<style scoped>\n",
              "    .dataframe tbody tr th:only-of-type {\n",
              "        vertical-align: middle;\n",
              "    }\n",
              "\n",
              "    .dataframe tbody tr th {\n",
              "        vertical-align: top;\n",
              "    }\n",
              "\n",
              "    .dataframe thead th {\n",
              "        text-align: right;\n",
              "    }\n",
              "</style>\n",
              "<table border=\"1\" class=\"dataframe\">\n",
              "  <thead>\n",
              "    <tr style=\"text-align: right;\">\n",
              "      <th></th>\n",
              "      <th>tweet_text</th>\n",
              "      <th>sentiment</th>\n",
              "    </tr>\n",
              "  </thead>\n",
              "  <tbody>\n",
              "    <tr>\n",
              "      <th>0</th>\n",
              "      <td>@Gazo1a Nossa! Muito obrigada :)</td>\n",
              "      <td>1</td>\n",
              "    </tr>\n",
              "    <tr>\n",
              "      <th>1</th>\n",
              "      <td>@BerzGamer vai pa puta que te pariu :)</td>\n",
              "      <td>1</td>\n",
              "    </tr>\n",
              "    <tr>\n",
              "      <th>2</th>\n",
              "      <td>QUER MAIS DESCONTOS? (14/08) ⭐⭐⭐⭐⭐ 🌐 Confira n...</td>\n",
              "      <td>1</td>\n",
              "    </tr>\n",
              "    <tr>\n",
              "      <th>3</th>\n",
              "      <td>EU VOU PEGAR VCS, ME AJUDEM GALERA, PELO AMOR ...</td>\n",
              "      <td>1</td>\n",
              "    </tr>\n",
              "    <tr>\n",
              "      <th>4</th>\n",
              "      <td>Estávamos em casa do Zé e eu estava a morrer d...</td>\n",
              "      <td>1</td>\n",
              "    </tr>\n",
              "  </tbody>\n",
              "</table>\n",
              "</div>\n",
              "      <button class=\"colab-df-convert\" onclick=\"convertToInteractive('df-c0c4ae0f-b181-41a7-9d4e-131531551253')\"\n",
              "              title=\"Convert this dataframe to an interactive table.\"\n",
              "              style=\"display:none;\">\n",
              "        \n",
              "  <svg xmlns=\"http://www.w3.org/2000/svg\" height=\"24px\"viewBox=\"0 0 24 24\"\n",
              "       width=\"24px\">\n",
              "    <path d=\"M0 0h24v24H0V0z\" fill=\"none\"/>\n",
              "    <path d=\"M18.56 5.44l.94 2.06.94-2.06 2.06-.94-2.06-.94-.94-2.06-.94 2.06-2.06.94zm-11 1L8.5 8.5l.94-2.06 2.06-.94-2.06-.94L8.5 2.5l-.94 2.06-2.06.94zm10 10l.94 2.06.94-2.06 2.06-.94-2.06-.94-.94-2.06-.94 2.06-2.06.94z\"/><path d=\"M17.41 7.96l-1.37-1.37c-.4-.4-.92-.59-1.43-.59-.52 0-1.04.2-1.43.59L10.3 9.45l-7.72 7.72c-.78.78-.78 2.05 0 2.83L4 21.41c.39.39.9.59 1.41.59.51 0 1.02-.2 1.41-.59l7.78-7.78 2.81-2.81c.8-.78.8-2.07 0-2.86zM5.41 20L4 18.59l7.72-7.72 1.47 1.35L5.41 20z\"/>\n",
              "  </svg>\n",
              "      </button>\n",
              "      \n",
              "  <style>\n",
              "    .colab-df-container {\n",
              "      display:flex;\n",
              "      flex-wrap:wrap;\n",
              "      gap: 12px;\n",
              "    }\n",
              "\n",
              "    .colab-df-convert {\n",
              "      background-color: #E8F0FE;\n",
              "      border: none;\n",
              "      border-radius: 50%;\n",
              "      cursor: pointer;\n",
              "      display: none;\n",
              "      fill: #1967D2;\n",
              "      height: 32px;\n",
              "      padding: 0 0 0 0;\n",
              "      width: 32px;\n",
              "    }\n",
              "\n",
              "    .colab-df-convert:hover {\n",
              "      background-color: #E2EBFA;\n",
              "      box-shadow: 0px 1px 2px rgba(60, 64, 67, 0.3), 0px 1px 3px 1px rgba(60, 64, 67, 0.15);\n",
              "      fill: #174EA6;\n",
              "    }\n",
              "\n",
              "    [theme=dark] .colab-df-convert {\n",
              "      background-color: #3B4455;\n",
              "      fill: #D2E3FC;\n",
              "    }\n",
              "\n",
              "    [theme=dark] .colab-df-convert:hover {\n",
              "      background-color: #434B5C;\n",
              "      box-shadow: 0px 1px 3px 1px rgba(0, 0, 0, 0.15);\n",
              "      filter: drop-shadow(0px 1px 2px rgba(0, 0, 0, 0.3));\n",
              "      fill: #FFFFFF;\n",
              "    }\n",
              "  </style>\n",
              "\n",
              "      <script>\n",
              "        const buttonEl =\n",
              "          document.querySelector('#df-c0c4ae0f-b181-41a7-9d4e-131531551253 button.colab-df-convert');\n",
              "        buttonEl.style.display =\n",
              "          google.colab.kernel.accessAllowed ? 'block' : 'none';\n",
              "\n",
              "        async function convertToInteractive(key) {\n",
              "          const element = document.querySelector('#df-c0c4ae0f-b181-41a7-9d4e-131531551253');\n",
              "          const dataTable =\n",
              "            await google.colab.kernel.invokeFunction('convertToInteractive',\n",
              "                                                     [key], {});\n",
              "          if (!dataTable) return;\n",
              "\n",
              "          const docLinkHtml = 'Like what you see? Visit the ' +\n",
              "            '<a target=\"_blank\" href=https://colab.research.google.com/notebooks/data_table.ipynb>data table notebook</a>'\n",
              "            + ' to learn more about interactive tables.';\n",
              "          element.innerHTML = '';\n",
              "          dataTable['output_type'] = 'display_data';\n",
              "          await google.colab.output.renderOutput(dataTable, element);\n",
              "          const docLink = document.createElement('div');\n",
              "          docLink.innerHTML = docLinkHtml;\n",
              "          element.appendChild(docLink);\n",
              "        }\n",
              "      </script>\n",
              "    </div>\n",
              "  </div>\n",
              "  "
            ]
          },
          "metadata": {},
          "execution_count": 22
        }
      ]
    },
    {
      "cell_type": "code",
      "metadata": {
        "id": "FYE-KGRkmZcd",
        "colab": {
          "base_uri": "https://localhost:8080/",
          "height": 271
        },
        "outputId": "7460052c-9250-430c-847a-28d58ebaaa89"
      },
      "source": [
        "sns.heatmap(pd.isnull(base_teste)); #Checar se tem valor nulo"
      ],
      "execution_count": 23,
      "outputs": [
        {
          "output_type": "display_data",
          "data": {
            "text/plain": [
              "<Figure size 432x288 with 2 Axes>"
            ],
            "image/png": "[encoded data removed]"
          },
          "metadata": {
            "needs_background": "light"
          }
        }
      ]
    },
    {
      "cell_type": "markdown",
      "metadata": {
        "id": "h36-8Ien-AQ1"
      },
      "source": [
        "# Etapa 3: Função para pré-processamento dos textos - Tutorial da Função\n",
        "\n",
        "- Letras minúsculas\n",
        "- Nome do usuário (@)\n",
        "- URLs\n",
        "- Espaços em branco\n",
        "- Emoticons\n",
        "- Stop words\n",
        "- Lematização\n",
        "- Pontuações"
      ]
    },
    {
      "cell_type": "code",
      "metadata": {
        "id": "gOur6ftJnKuP",
        "colab": {
          "base_uri": "https://localhost:8080/"
        },
        "outputId": "6101494f-7864-43d4-c92f-451cb62037aa"
      },
      "source": [
        "pln = spacy.load('pt') #_core_news_sm #processamento de linguagem natural #Usando lib mais atual\n",
        "pln"
      ],
      "execution_count": 19,
      "outputs": [
        {
          "output_type": "execute_result",
          "data": {
            "text/plain": [
              "<spacy.lang.pt.Portuguese at 0x7faa87383490>"
            ]
          },
          "metadata": {},
          "execution_count": 19
        }
      ]
    },
    {
      "cell_type": "code",
      "metadata": {
        "id": "m8eGCSuHnSYM",
        "colab": {
          "base_uri": "https://localhost:8080/",
          "height": 53
        },
        "outputId": "030babb1-0462-4e22-d396-231ba95b3ff1"
      },
      "source": [
        "base_treinamento['tweet_text'][2]"
      ],
      "execution_count": 20,
      "outputs": [
        {
          "output_type": "execute_result",
          "data": {
            "text/plain": [
              "'Vou fazer um video hoje... estou pensando em falar um pouco sobre o novo meta do CSGO e sobre a pagina https://t.co/5RjhKnj0oh Alguem tem uma sugestao? Queria falar sobre algo do cenario nacional :D'"
            ],
            "application/vnd.google.colaboratory.intrinsic+json": {
              "type": "string"
            }
          },
          "metadata": {},
          "execution_count": 20
        }
      ]
    },
    {
      "cell_type": "code",
      "metadata": {
        "id": "z6-JRv8Ynayt"
      },
      "source": [
        "stop_words = spacy.lang.pt.stop_words.STOP_WORDS"
      ],
      "execution_count": 21,
      "outputs": []
    },
    {
      "cell_type": "code",
      "metadata": {
        "id": "QqMa61Qwnj4c",
        "colab": {
          "base_uri": "https://localhost:8080/"
        },
        "outputId": "e8819c54-9837-4318-c1f3-af71d2f75028"
      },
      "source": [
        "print(stop_words) #Palavras que não dão sentido para a análise retirada no modelo"
      ],
      "execution_count": 22,
      "outputs": [
        {
          "output_type": "stream",
          "name": "stdout",
          "text": [
            "{'mas', 'ao', 'lugar', 'ponto', 'porquê', 'você', 'grandes', 'às', 'forma', 'sabe', 'ele', 'estar', 'da', 'quatro', 'aquela', 'estado', 'fazer', 'dá', 'nosso', 'próxima', 'mês', 'custa', 'aqui', 'nenhuma', 'pois', 'estás', 'quarta', 'poder', 'tivestes', 'tudo', 'pouca', 'sétima', 'querem', 'debaixo', 'és', 'portanto', 'à', 'falta', 'algo', 'pontos', 'veja', 'vinte', 'as', 'elas', 'dizer', 'disso', 'vem', 'ir', 'cento', 'deve', 'apenas', 'num', 'caminho', 'vossas', 'ali', 'em', 'sétimo', 'nossa', 'maiorias', 'por', 'estou', 'oito', 'parte', 'dezoito', 'sexto', 'comprido', 'do', 'toda', 'minha', 'vais', 'logo', 'pelos', 'pegar', 'mesmo', 'menor', 'seis', 'três', 'outra', 'novos', 'neste', 'estivestes', 'no', 'seu', 'des', 'tua', 'onde', 'contra', 'sete', 'todos', 'dez', 'fostes', 'numa', 'foi', 'aquelas', 'já', 'relação', 'baixo', 'nem', 'essas', 'uma', 'deste', 'teu', 'ver', 'suas', 'cima', 'tais', 'grande', 'põem', 'poderá', 'porque', 'primeiro', 'estive', 'vários', 'tu', 'faz', 'fazem', 'meus', 'estiveste', 'deverá', 'nesse', 'dois', 'primeira', 'irá', 'isso', 'segundo', 'embora', 'favor', 'treze', 'tente', 'final', 'sistema', 'pelas', 'faço', 'certeza', 'tão', 'algumas', 'fora', 'sua', 'das', 'breve', 'mal', 'nessa', 'conhecida', 'quanto', 'depois', 'até', 'maior', 'cuja', 'estas', 'outros', 'os', 'quarto', 'eles', 'nós', 'ela', 'sem', 'dentro', 'esses', 'área', 'enquanto', 'tal', 'porquanto', 'tendes', 'números', 'antes', 'podem', 'estivemos', 'pouco', 'bastante', 'corrente', 'tiveste', 'pôde', 'usa', 'apoio', 'meu', 'sob', 'naquele', 'ora', 'daquele', 'têm', 'através', 'onze', 'inclusive', 'vão', 'qual', 'próprio', 'seria', 'entre', 'momento', 'é', 'essa', 'me', 'ambas', 'põe', 'fui', 'temos', 'bom', 'foste', 'agora', 'tempo', 'daquela', 'nuns', 'quando', 'lado', 'desta', 'sou', 'dezassete', 'quero', 'eu', 'ambos', 'te', 'meses', 'apontar', 'número', 'esteve', 'fomos', 'assim', 'sempre', 'cá', 'sei', 'geral', 'nova', 'minhas', 'último', 'lhe', 'nos', 'então', 'parece', 'cedo', 'aquele', 'nossas', 'zero', 'segunda', 'de', 'dão', 'vós', 'cinco', 'vai', 'dezanove', 'todo', 'doze', 'quê', 'um', 'vêm', 'tentaram', 'umas', 'cada', 'aí', 'demais', 'povo', 'só', 'catorze', 'desse', 'nada', 'isto', 'se', 'certamente', 'puderam', 'dar', 'esse', 'estará', 'ligado', 'nível', 'tenho', 'contudo', 'sexta', 'vos', 'obrigado', 'seus', 'quinto', 'tuas', 'somente', 'for', 'na', 'diante', 'estiveram', 'foram', 'vezes', 'conselho', 'estes', 'ontem', 'devem', 'mais', 'pode', 'tipo', 'muito', 'estão', 'desde', 'ter', 'iniciar', 'aquilo', 'cujo', 'terceiro', 'são', 'qualquer', 'este', 'questão', 'novo', 'partir', 'quieto', 'nunca', 'vindo', 'conhecido', 'naquela', 'oitava', 'uns', 'apoia', 'lá', 'atrás', 'vinda', 'fará', 'obrigada', 'duas', 'fez', 'maioria', 'adeus', 'tanta', 'após', 'tentei', 'comprida', 'podia', 'quinta', 'fazes', 'dessa', 'acerca', 'nove', 'posso', 'ou', 'fazia', 'sim', 'diz', 'vez', 'boa', 'sobre', 'exemplo', 'outras', 'máximo', 'menos', 'coisa', 'dizem', 'vocês', 'usar', 'talvez', 'com', 'quais', 'nossos', 'bem', 'somos', 'esta', 'nesta', 'era', 'grupo', 'aos', 'que', 'teve', 'tarde', 'terceira', 'teus', 'oitavo', 'muitos', 'sois', 'inicio', 'alguns', 'fazeis', 'pelo', 'pela', 'vens', 'saber', 'para', 'está', 'possível', 'tivemos', 'tens', 'dezasseis', 'quinze', 'ainda', 'próximo', 'tem', 'quieta', 'tentar', 'também', 'como', 'nas', 'aqueles', 'não', 'vossos', 'longe', 'direita', 'dos', 'ser', 'vosso', 'possivelmente', 'tive', 'novas', 'valor', 'fim', 'quer', 'tanto', 'ademais', 'fazemos', 'meio', 'eventual', 'tiveram', 'posição', 'além', 'mil', 'todas', 'vossa', 'porém', 'perto', 'estava', 'quem', 'local'}\n"
          ]
        }
      ]
    },
    {
      "cell_type": "code",
      "metadata": {
        "id": "n1lFJDhJnoth",
        "colab": {
          "base_uri": "https://localhost:8080/",
          "height": 35
        },
        "outputId": "0bbe2a7a-21c3-472d-aa35-e331b2601bb6"
      },
      "source": [
        "string.punctuation"
      ],
      "execution_count": 23,
      "outputs": [
        {
          "output_type": "execute_result",
          "data": {
            "text/plain": [
              "'!\"#$%&\\'()*+,-./:;<=>?@[\\\\]^_`{|}~'"
            ],
            "application/vnd.google.colaboratory.intrinsic+json": {
              "type": "string"
            }
          },
          "metadata": {},
          "execution_count": 23
        }
      ]
    },
    {
      "cell_type": "code",
      "metadata": {
        "id": "rS9ldTSJnsMb"
      },
      "source": [
        "def preprocessamento(texto): #Criando a função\n",
        "  # Letras minúsculas\n",
        "  texto = texto.lower()\n",
        "\n",
        "  # Nome do usuário\n",
        "  texto = re.sub(r\"@[A-Za-z0-9$-_@.&+]+\", ' ', texto) #Para retirar o nome do usuário\n",
        "\n",
        "  # URLs\n",
        "  texto = re.sub(r\"https?://[A-Za-z0-9./]+\", ' ', texto) #\"?\" pode ou não aparecer a caractere anterior\n",
        "\n",
        "  # Espaços em branco\n",
        "  texto = re.sub(r\" +\", ' ', texto) #Retirando dois ou mais espaços\n",
        "\n",
        "  # Emoticons\n",
        "  lista_emocoes = {':)': 'emocaopositiva',\n",
        "                   ':d': 'emocaopositiva',\n",
        "                   ':(': 'emocaonegativa'} #Substituindo os valores\n",
        "  for emocao in lista_emocoes: #Percorrer dentro do dataframe para substituir os valores\n",
        "    texto = texto.replace(emocao, lista_emocoes[emocao])\n",
        "\n",
        "  # Lematização\n",
        "  documento = pln(texto)\n",
        "\n",
        "  lista = [] \n",
        "  for token in documento: #Criando a separação das palavras o token\n",
        "    lista.append(token.lemma_)\n",
        "  \n",
        "  # Stop words e pontuações\n",
        "  lista = [palavra for palavra in lista if palavra not in stop_words and palavra not in string.punctuation] #Retirando as pontuações e as palavras que não dão sentido na análise\n",
        "  lista = ' '.join([str(elemento) for elemento in lista if not elemento.isdigit()]) #join para juntar as palavras com ' ', e retirando digitos\n",
        "  \n",
        "  return lista"
      ],
      "execution_count": 24,
      "outputs": []
    },
    {
      "cell_type": "code",
      "metadata": {
        "id": "iIy-2X18n0G8",
        "colab": {
          "base_uri": "https://localhost:8080/",
          "height": 35
        },
        "outputId": "bfd5fdd0-2878-4983-85f5-c76ec9fbf0e4"
      },
      "source": [
        "texto_teste = '@tiavelhoca @creyto_ @broaordinaria @ClintPugstwood @bonitoporbosta @_malimallu @celsorodrigo_ @flcampagna @BrunoSuba Olar , tia :)'\n",
        "resultado = preprocessamento(texto_teste) #passando a função de tratamento\n",
        "resultado"
      ],
      "execution_count": 25,
      "outputs": [
        {
          "output_type": "execute_result",
          "data": {
            "text/plain": [
              "'  olar tio emocaopositiva'"
            ],
            "application/vnd.google.colaboratory.intrinsic+json": {
              "type": "string"
            }
          },
          "metadata": {},
          "execution_count": 25
        }
      ]
    },
    {
      "cell_type": "markdown",
      "metadata": {
        "id": "DtL8DBPVOFoL"
      },
      "source": [
        "# Etapa 4: Pré-processamento da base de dados"
      ]
    },
    {
      "cell_type": "markdown",
      "metadata": {
        "id": "n7G5PSVUOOId"
      },
      "source": [
        "### Limpeza dos textos"
      ]
    },
    {
      "cell_type": "code",
      "metadata": {
        "id": "o3zrf-ytssZb",
        "colab": {
          "base_uri": "https://localhost:8080/",
          "height": 363
        },
        "outputId": "f4936240-8cbc-4f20-c921-ccd56c9fd7df"
      },
      "source": [
        "base_treinamento.head(10)"
      ],
      "execution_count": 26,
      "outputs": [
        {
          "output_type": "execute_result",
          "data": {
            "text/plain": [
              "                                          tweet_text  sentiment\n",
              "0  @Laranjito76 A pessoa certa para isso seria o ...          1\n",
              "1  @behin_d_curtain Para mim, é precisamente o co...          1\n",
              "2  Vou fazer um video hoje... estou pensando em f...          1\n",
              "3  aaaaaaaa amei tanto essas polaroids, nem sei e...          1\n",
              "4  Valoriza o coração do menininho que vc tem. El...          1\n",
              "5       @KingJokerLeto mas amiga eu to aqui ainda :)          1\n",
              "6                   @RivasJairo Bravo, Jairo!!! :)))          1\n",
              "7  @inquilinasls @Spotify socorro ksoaksosks acho...          1\n",
              "8  @chimekarlla gosto muito de fazenda :) , mas m...          1\n",
              "9                            Amanha vou ver venom :D          1"
            ],
            "text/html": [
              "\n",
              "  <div id=\"df-168c40d1-776b-4bf4-ab00-0c86f025c68b\">\n",
              "    <div class=\"colab-df-container\">\n",
              "      <div>\n",
              "<style scoped>\n",
              "    .dataframe tbody tr th:only-of-type {\n",
              "        vertical-align: middle;\n",
              "    }\n",
              "\n",
              "    .dataframe tbody tr th {\n",
              "        vertical-align: top;\n",
              "    }\n",
              "\n",
              "    .dataframe thead th {\n",
              "        text-align: right;\n",
              "    }\n",
              "</style>\n",
              "<table border=\"1\" class=\"dataframe\">\n",
              "  <thead>\n",
              "    <tr style=\"text-align: right;\">\n",
              "      <th></th>\n",
              "      <th>tweet_text</th>\n",
              "      <th>sentiment</th>\n",
              "    </tr>\n",
              "  </thead>\n",
              "  <tbody>\n",
              "    <tr>\n",
              "      <th>0</th>\n",
              "      <td>@Laranjito76 A pessoa certa para isso seria o ...</td>\n",
              "      <td>1</td>\n",
              "    </tr>\n",
              "    <tr>\n",
              "      <th>1</th>\n",
              "      <td>@behin_d_curtain Para mim, é precisamente o co...</td>\n",
              "      <td>1</td>\n",
              "    </tr>\n",
              "    <tr>\n",
              "      <th>2</th>\n",
              "      <td>Vou fazer um video hoje... estou pensando em f...</td>\n",
              "      <td>1</td>\n",
              "    </tr>\n",
              "    <tr>\n",
              "      <th>3</th>\n",
              "      <td>aaaaaaaa amei tanto essas polaroids, nem sei e...</td>\n",
              "      <td>1</td>\n",
              "    </tr>\n",
              "    <tr>\n",
              "      <th>4</th>\n",
              "      <td>Valoriza o coração do menininho que vc tem. El...</td>\n",
              "      <td>1</td>\n",
              "    </tr>\n",
              "    <tr>\n",
              "      <th>5</th>\n",
              "      <td>@KingJokerLeto mas amiga eu to aqui ainda :)</td>\n",
              "      <td>1</td>\n",
              "    </tr>\n",
              "    <tr>\n",
              "      <th>6</th>\n",
              "      <td>@RivasJairo Bravo, Jairo!!! :)))</td>\n",
              "      <td>1</td>\n",
              "    </tr>\n",
              "    <tr>\n",
              "      <th>7</th>\n",
              "      <td>@inquilinasls @Spotify socorro ksoaksosks acho...</td>\n",
              "      <td>1</td>\n",
              "    </tr>\n",
              "    <tr>\n",
              "      <th>8</th>\n",
              "      <td>@chimekarlla gosto muito de fazenda :) , mas m...</td>\n",
              "      <td>1</td>\n",
              "    </tr>\n",
              "    <tr>\n",
              "      <th>9</th>\n",
              "      <td>Amanha vou ver venom :D</td>\n",
              "      <td>1</td>\n",
              "    </tr>\n",
              "  </tbody>\n",
              "</table>\n",
              "</div>\n",
              "      <button class=\"colab-df-convert\" onclick=\"convertToInteractive('df-168c40d1-776b-4bf4-ab00-0c86f025c68b')\"\n",
              "              title=\"Convert this dataframe to an interactive table.\"\n",
              "              style=\"display:none;\">\n",
              "        \n",
              "  <svg xmlns=\"http://www.w3.org/2000/svg\" height=\"24px\"viewBox=\"0 0 24 24\"\n",
              "       width=\"24px\">\n",
              "    <path d=\"M0 0h24v24H0V0z\" fill=\"none\"/>\n",
              "    <path d=\"M18.56 5.44l.94 2.06.94-2.06 2.06-.94-2.06-.94-.94-2.06-.94 2.06-2.06.94zm-11 1L8.5 8.5l.94-2.06 2.06-.94-2.06-.94L8.5 2.5l-.94 2.06-2.06.94zm10 10l.94 2.06.94-2.06 2.06-.94-2.06-.94-.94-2.06-.94 2.06-2.06.94z\"/><path d=\"M17.41 7.96l-1.37-1.37c-.4-.4-.92-.59-1.43-.59-.52 0-1.04.2-1.43.59L10.3 9.45l-7.72 7.72c-.78.78-.78 2.05 0 2.83L4 21.41c.39.39.9.59 1.41.59.51 0 1.02-.2 1.41-.59l7.78-7.78 2.81-2.81c.8-.78.8-2.07 0-2.86zM5.41 20L4 18.59l7.72-7.72 1.47 1.35L5.41 20z\"/>\n",
              "  </svg>\n",
              "      </button>\n",
              "      \n",
              "  <style>\n",
              "    .colab-df-container {\n",
              "      display:flex;\n",
              "      flex-wrap:wrap;\n",
              "      gap: 12px;\n",
              "    }\n",
              "\n",
              "    .colab-df-convert {\n",
              "      background-color: #E8F0FE;\n",
              "      border: none;\n",
              "      border-radius: 50%;\n",
              "      cursor: pointer;\n",
              "      display: none;\n",
              "      fill: #1967D2;\n",
              "      height: 32px;\n",
              "      padding: 0 0 0 0;\n",
              "      width: 32px;\n",
              "    }\n",
              "\n",
              "    .colab-df-convert:hover {\n",
              "      background-color: #E2EBFA;\n",
              "      box-shadow: 0px 1px 2px rgba(60, 64, 67, 0.3), 0px 1px 3px 1px rgba(60, 64, 67, 0.15);\n",
              "      fill: #174EA6;\n",
              "    }\n",
              "\n",
              "    [theme=dark] .colab-df-convert {\n",
              "      background-color: #3B4455;\n",
              "      fill: #D2E3FC;\n",
              "    }\n",
              "\n",
              "    [theme=dark] .colab-df-convert:hover {\n",
              "      background-color: #434B5C;\n",
              "      box-shadow: 0px 1px 3px 1px rgba(0, 0, 0, 0.15);\n",
              "      filter: drop-shadow(0px 1px 2px rgba(0, 0, 0, 0.3));\n",
              "      fill: #FFFFFF;\n",
              "    }\n",
              "  </style>\n",
              "\n",
              "      <script>\n",
              "        const buttonEl =\n",
              "          document.querySelector('#df-168c40d1-776b-4bf4-ab00-0c86f025c68b button.colab-df-convert');\n",
              "        buttonEl.style.display =\n",
              "          google.colab.kernel.accessAllowed ? 'block' : 'none';\n",
              "\n",
              "        async function convertToInteractive(key) {\n",
              "          const element = document.querySelector('#df-168c40d1-776b-4bf4-ab00-0c86f025c68b');\n",
              "          const dataTable =\n",
              "            await google.colab.kernel.invokeFunction('convertToInteractive',\n",
              "                                                     [key], {});\n",
              "          if (!dataTable) return;\n",
              "\n",
              "          const docLinkHtml = 'Like what you see? Visit the ' +\n",
              "            '<a target=\"_blank\" href=https://colab.research.google.com/notebooks/data_table.ipynb>data table notebook</a>'\n",
              "            + ' to learn more about interactive tables.';\n",
              "          element.innerHTML = '';\n",
              "          dataTable['output_type'] = 'display_data';\n",
              "          await google.colab.output.renderOutput(dataTable, element);\n",
              "          const docLink = document.createElement('div');\n",
              "          docLink.innerHTML = docLinkHtml;\n",
              "          element.appendChild(docLink);\n",
              "        }\n",
              "      </script>\n",
              "    </div>\n",
              "  </div>\n",
              "  "
            ]
          },
          "metadata": {},
          "execution_count": 26
        }
      ]
    },
    {
      "cell_type": "code",
      "metadata": {
        "id": "SNSsbuMis0-d"
      },
      "source": [
        "base_treinamento['tweet_text'] = base_treinamento['tweet_text'].apply(preprocessamento) #aplicando na base de dados"
      ],
      "execution_count": 27,
      "outputs": []
    },
    {
      "cell_type": "code",
      "metadata": {
        "id": "wR742NJLusfy",
        "colab": {
          "base_uri": "https://localhost:8080/",
          "height": 363
        },
        "outputId": "235cc41f-7685-48e6-f8e1-3b137ee17112"
      },
      "source": [
        "base_treinamento.head(10)"
      ],
      "execution_count": 40,
      "outputs": [
        {
          "output_type": "execute_result",
          "data": {
            "text/plain": [
              "                                          tweet_text  sentiment\n",
              "0           pessoa certo vale azevedo emocaopositivo          1\n",
              "1    precisamente contrário emocaopositivo vir ch...          1\n",
              "2  video hoje ... pensar falar meta de o csgo pag...          1\n",
              "3  aaaaaaaar ameir polaroids expressar to apaixon...          1\n",
              "4  valorizar coração de o menininho elvc diferent...          1\n",
              "5                            amiga to emocaopositivo          1\n",
              "6                         Bravo jairo emocaopositivo          1\n",
              "7    socorro ksoaksosks achar to em o caixinha so...          1\n",
              "8    gostar fazenda emocaopositivo morro medo Gal...          1\n",
              "9                        amanha venom emocaopositivo          1"
            ],
            "text/html": [
              "\n",
              "  <div id=\"df-1f19e35d-361d-47b4-a2bc-d1b9f2e5a5df\">\n",
              "    <div class=\"colab-df-container\">\n",
              "      <div>\n",
              "<style scoped>\n",
              "    .dataframe tbody tr th:only-of-type {\n",
              "        vertical-align: middle;\n",
              "    }\n",
              "\n",
              "    .dataframe tbody tr th {\n",
              "        vertical-align: top;\n",
              "    }\n",
              "\n",
              "    .dataframe thead th {\n",
              "        text-align: right;\n",
              "    }\n",
              "</style>\n",
              "<table border=\"1\" class=\"dataframe\">\n",
              "  <thead>\n",
              "    <tr style=\"text-align: right;\">\n",
              "      <th></th>\n",
              "      <th>tweet_text</th>\n",
              "      <th>sentiment</th>\n",
              "    </tr>\n",
              "  </thead>\n",
              "  <tbody>\n",
              "    <tr>\n",
              "      <th>0</th>\n",
              "      <td>pessoa certo vale azevedo emocaopositivo</td>\n",
              "      <td>1</td>\n",
              "    </tr>\n",
              "    <tr>\n",
              "      <th>1</th>\n",
              "      <td>precisamente contrário emocaopositivo vir ch...</td>\n",
              "      <td>1</td>\n",
              "    </tr>\n",
              "    <tr>\n",
              "      <th>2</th>\n",
              "      <td>video hoje ... pensar falar meta de o csgo pag...</td>\n",
              "      <td>1</td>\n",
              "    </tr>\n",
              "    <tr>\n",
              "      <th>3</th>\n",
              "      <td>aaaaaaaar ameir polaroids expressar to apaixon...</td>\n",
              "      <td>1</td>\n",
              "    </tr>\n",
              "    <tr>\n",
              "      <th>4</th>\n",
              "      <td>valorizar coração de o menininho elvc diferent...</td>\n",
              "      <td>1</td>\n",
              "    </tr>\n",
              "    <tr>\n",
              "      <th>5</th>\n",
              "      <td>amiga to emocaopositivo</td>\n",
              "      <td>1</td>\n",
              "    </tr>\n",
              "    <tr>\n",
              "      <th>6</th>\n",
              "      <td>Bravo jairo emocaopositivo</td>\n",
              "      <td>1</td>\n",
              "    </tr>\n",
              "    <tr>\n",
              "      <th>7</th>\n",
              "      <td>socorro ksoaksosks achar to em o caixinha so...</td>\n",
              "      <td>1</td>\n",
              "    </tr>\n",
              "    <tr>\n",
              "      <th>8</th>\n",
              "      <td>gostar fazenda emocaopositivo morro medo Gal...</td>\n",
              "      <td>1</td>\n",
              "    </tr>\n",
              "    <tr>\n",
              "      <th>9</th>\n",
              "      <td>amanha venom emocaopositivo</td>\n",
              "      <td>1</td>\n",
              "    </tr>\n",
              "  </tbody>\n",
              "</table>\n",
              "</div>\n",
              "      <button class=\"colab-df-convert\" onclick=\"convertToInteractive('df-1f19e35d-361d-47b4-a2bc-d1b9f2e5a5df')\"\n",
              "              title=\"Convert this dataframe to an interactive table.\"\n",
              "              style=\"display:none;\">\n",
              "        \n",
              "  <svg xmlns=\"http://www.w3.org/2000/svg\" height=\"24px\"viewBox=\"0 0 24 24\"\n",
              "       width=\"24px\">\n",
              "    <path d=\"M0 0h24v24H0V0z\" fill=\"none\"/>\n",
              "    <path d=\"M18.56 5.44l.94 2.06.94-2.06 2.06-.94-2.06-.94-.94-2.06-.94 2.06-2.06.94zm-11 1L8.5 8.5l.94-2.06 2.06-.94-2.06-.94L8.5 2.5l-.94 2.06-2.06.94zm10 10l.94 2.06.94-2.06 2.06-.94-2.06-.94-.94-2.06-.94 2.06-2.06.94z\"/><path d=\"M17.41 7.96l-1.37-1.37c-.4-.4-.92-.59-1.43-.59-.52 0-1.04.2-1.43.59L10.3 9.45l-7.72 7.72c-.78.78-.78 2.05 0 2.83L4 21.41c.39.39.9.59 1.41.59.51 0 1.02-.2 1.41-.59l7.78-7.78 2.81-2.81c.8-.78.8-2.07 0-2.86zM5.41 20L4 18.59l7.72-7.72 1.47 1.35L5.41 20z\"/>\n",
              "  </svg>\n",
              "      </button>\n",
              "      \n",
              "  <style>\n",
              "    .colab-df-container {\n",
              "      display:flex;\n",
              "      flex-wrap:wrap;\n",
              "      gap: 12px;\n",
              "    }\n",
              "\n",
              "    .colab-df-convert {\n",
              "      background-color: #E8F0FE;\n",
              "      border: none;\n",
              "      border-radius: 50%;\n",
              "      cursor: pointer;\n",
              "      display: none;\n",
              "      fill: #1967D2;\n",
              "      height: 32px;\n",
              "      padding: 0 0 0 0;\n",
              "      width: 32px;\n",
              "    }\n",
              "\n",
              "    .colab-df-convert:hover {\n",
              "      background-color: #E2EBFA;\n",
              "      box-shadow: 0px 1px 2px rgba(60, 64, 67, 0.3), 0px 1px 3px 1px rgba(60, 64, 67, 0.15);\n",
              "      fill: #174EA6;\n",
              "    }\n",
              "\n",
              "    [theme=dark] .colab-df-convert {\n",
              "      background-color: #3B4455;\n",
              "      fill: #D2E3FC;\n",
              "    }\n",
              "\n",
              "    [theme=dark] .colab-df-convert:hover {\n",
              "      background-color: #434B5C;\n",
              "      box-shadow: 0px 1px 3px 1px rgba(0, 0, 0, 0.15);\n",
              "      filter: drop-shadow(0px 1px 2px rgba(0, 0, 0, 0.3));\n",
              "      fill: #FFFFFF;\n",
              "    }\n",
              "  </style>\n",
              "\n",
              "      <script>\n",
              "        const buttonEl =\n",
              "          document.querySelector('#df-1f19e35d-361d-47b4-a2bc-d1b9f2e5a5df button.colab-df-convert');\n",
              "        buttonEl.style.display =\n",
              "          google.colab.kernel.accessAllowed ? 'block' : 'none';\n",
              "\n",
              "        async function convertToInteractive(key) {\n",
              "          const element = document.querySelector('#df-1f19e35d-361d-47b4-a2bc-d1b9f2e5a5df');\n",
              "          const dataTable =\n",
              "            await google.colab.kernel.invokeFunction('convertToInteractive',\n",
              "                                                     [key], {});\n",
              "          if (!dataTable) return;\n",
              "\n",
              "          const docLinkHtml = 'Like what you see? Visit the ' +\n",
              "            '<a target=\"_blank\" href=https://colab.research.google.com/notebooks/data_table.ipynb>data table notebook</a>'\n",
              "            + ' to learn more about interactive tables.';\n",
              "          element.innerHTML = '';\n",
              "          dataTable['output_type'] = 'display_data';\n",
              "          await google.colab.output.renderOutput(dataTable, element);\n",
              "          const docLink = document.createElement('div');\n",
              "          docLink.innerHTML = docLinkHtml;\n",
              "          element.appendChild(docLink);\n",
              "        }\n",
              "      </script>\n",
              "    </div>\n",
              "  </div>\n",
              "  "
            ]
          },
          "metadata": {},
          "execution_count": 40
        }
      ]
    },
    {
      "cell_type": "code",
      "metadata": {
        "id": "DI1GvLX1uyr4"
      },
      "source": [
        "base_teste['tweet_text'] = base_teste['tweet_text'].apply(preprocessamento) #passando a funcao"
      ],
      "execution_count": 28,
      "outputs": []
    },
    {
      "cell_type": "code",
      "metadata": {
        "id": "jTGab2hXvGSr",
        "colab": {
          "base_uri": "https://localhost:8080/",
          "height": 363
        },
        "outputId": "6a9a34df-4efe-45ff-9b3c-cf8556c6575e"
      },
      "source": [
        "base_teste.head(10)"
      ],
      "execution_count": 30,
      "outputs": [
        {
          "output_type": "execute_result",
          "data": {
            "text/plain": [
              "                                          tweet_text  sentiment\n",
              "0                             obrigar emocaopositiva          1\n",
              "1                       pa puta parir emocaopositiva          1\n",
              "2  querer desconto 14/08 ⭐ ⭐ ⭐ ⭐ ⭐ 🌐 conferir o l...          1\n",
              "3  vcs ajudar galera pelar amor butera emocaoposi...          1\n",
              "4  casar zé e o morrer sono chegar o casar e fica...          1\n",
              "5                             preciso emocaopositiva          1\n",
              "6    acaso adorar beijo e abraço hahahahaha bue f...          1\n",
              "7                          solteiro s emocaopositiva          1\n",
              "8  lindeza cortador kit mário coleção bia cravol ...          1\n",
              "9                               claro emocaopositiva          1"
            ],
            "text/html": [
              "\n",
              "  <div id=\"df-8765fda2-43af-42d6-a8e9-e61f6aae4c7f\">\n",
              "    <div class=\"colab-df-container\">\n",
              "      <div>\n",
              "<style scoped>\n",
              "    .dataframe tbody tr th:only-of-type {\n",
              "        vertical-align: middle;\n",
              "    }\n",
              "\n",
              "    .dataframe tbody tr th {\n",
              "        vertical-align: top;\n",
              "    }\n",
              "\n",
              "    .dataframe thead th {\n",
              "        text-align: right;\n",
              "    }\n",
              "</style>\n",
              "<table border=\"1\" class=\"dataframe\">\n",
              "  <thead>\n",
              "    <tr style=\"text-align: right;\">\n",
              "      <th></th>\n",
              "      <th>tweet_text</th>\n",
              "      <th>sentiment</th>\n",
              "    </tr>\n",
              "  </thead>\n",
              "  <tbody>\n",
              "    <tr>\n",
              "      <th>0</th>\n",
              "      <td>obrigar emocaopositiva</td>\n",
              "      <td>1</td>\n",
              "    </tr>\n",
              "    <tr>\n",
              "      <th>1</th>\n",
              "      <td>pa puta parir emocaopositiva</td>\n",
              "      <td>1</td>\n",
              "    </tr>\n",
              "    <tr>\n",
              "      <th>2</th>\n",
              "      <td>querer desconto 14/08 ⭐ ⭐ ⭐ ⭐ ⭐ 🌐 conferir o l...</td>\n",
              "      <td>1</td>\n",
              "    </tr>\n",
              "    <tr>\n",
              "      <th>3</th>\n",
              "      <td>vcs ajudar galera pelar amor butera emocaoposi...</td>\n",
              "      <td>1</td>\n",
              "    </tr>\n",
              "    <tr>\n",
              "      <th>4</th>\n",
              "      <td>casar zé e o morrer sono chegar o casar e fica...</td>\n",
              "      <td>1</td>\n",
              "    </tr>\n",
              "    <tr>\n",
              "      <th>5</th>\n",
              "      <td>preciso emocaopositiva</td>\n",
              "      <td>1</td>\n",
              "    </tr>\n",
              "    <tr>\n",
              "      <th>6</th>\n",
              "      <td>acaso adorar beijo e abraço hahahahaha bue f...</td>\n",
              "      <td>1</td>\n",
              "    </tr>\n",
              "    <tr>\n",
              "      <th>7</th>\n",
              "      <td>solteiro s emocaopositiva</td>\n",
              "      <td>1</td>\n",
              "    </tr>\n",
              "    <tr>\n",
              "      <th>8</th>\n",
              "      <td>lindeza cortador kit mário coleção bia cravol ...</td>\n",
              "      <td>1</td>\n",
              "    </tr>\n",
              "    <tr>\n",
              "      <th>9</th>\n",
              "      <td>claro emocaopositiva</td>\n",
              "      <td>1</td>\n",
              "    </tr>\n",
              "  </tbody>\n",
              "</table>\n",
              "</div>\n",
              "      <button class=\"colab-df-convert\" onclick=\"convertToInteractive('df-8765fda2-43af-42d6-a8e9-e61f6aae4c7f')\"\n",
              "              title=\"Convert this dataframe to an interactive table.\"\n",
              "              style=\"display:none;\">\n",
              "        \n",
              "  <svg xmlns=\"http://www.w3.org/2000/svg\" height=\"24px\"viewBox=\"0 0 24 24\"\n",
              "       width=\"24px\">\n",
              "    <path d=\"M0 0h24v24H0V0z\" fill=\"none\"/>\n",
              "    <path d=\"M18.56 5.44l.94 2.06.94-2.06 2.06-.94-2.06-.94-.94-2.06-.94 2.06-2.06.94zm-11 1L8.5 8.5l.94-2.06 2.06-.94-2.06-.94L8.5 2.5l-.94 2.06-2.06.94zm10 10l.94 2.06.94-2.06 2.06-.94-2.06-.94-.94-2.06-.94 2.06-2.06.94z\"/><path d=\"M17.41 7.96l-1.37-1.37c-.4-.4-.92-.59-1.43-.59-.52 0-1.04.2-1.43.59L10.3 9.45l-7.72 7.72c-.78.78-.78 2.05 0 2.83L4 21.41c.39.39.9.59 1.41.59.51 0 1.02-.2 1.41-.59l7.78-7.78 2.81-2.81c.8-.78.8-2.07 0-2.86zM5.41 20L4 18.59l7.72-7.72 1.47 1.35L5.41 20z\"/>\n",
              "  </svg>\n",
              "      </button>\n",
              "      \n",
              "  <style>\n",
              "    .colab-df-container {\n",
              "      display:flex;\n",
              "      flex-wrap:wrap;\n",
              "      gap: 12px;\n",
              "    }\n",
              "\n",
              "    .colab-df-convert {\n",
              "      background-color: #E8F0FE;\n",
              "      border: none;\n",
              "      border-radius: 50%;\n",
              "      cursor: pointer;\n",
              "      display: none;\n",
              "      fill: #1967D2;\n",
              "      height: 32px;\n",
              "      padding: 0 0 0 0;\n",
              "      width: 32px;\n",
              "    }\n",
              "\n",
              "    .colab-df-convert:hover {\n",
              "      background-color: #E2EBFA;\n",
              "      box-shadow: 0px 1px 2px rgba(60, 64, 67, 0.3), 0px 1px 3px 1px rgba(60, 64, 67, 0.15);\n",
              "      fill: #174EA6;\n",
              "    }\n",
              "\n",
              "    [theme=dark] .colab-df-convert {\n",
              "      background-color: #3B4455;\n",
              "      fill: #D2E3FC;\n",
              "    }\n",
              "\n",
              "    [theme=dark] .colab-df-convert:hover {\n",
              "      background-color: #434B5C;\n",
              "      box-shadow: 0px 1px 3px 1px rgba(0, 0, 0, 0.15);\n",
              "      filter: drop-shadow(0px 1px 2px rgba(0, 0, 0, 0.3));\n",
              "      fill: #FFFFFF;\n",
              "    }\n",
              "  </style>\n",
              "\n",
              "      <script>\n",
              "        const buttonEl =\n",
              "          document.querySelector('#df-8765fda2-43af-42d6-a8e9-e61f6aae4c7f button.colab-df-convert');\n",
              "        buttonEl.style.display =\n",
              "          google.colab.kernel.accessAllowed ? 'block' : 'none';\n",
              "\n",
              "        async function convertToInteractive(key) {\n",
              "          const element = document.querySelector('#df-8765fda2-43af-42d6-a8e9-e61f6aae4c7f');\n",
              "          const dataTable =\n",
              "            await google.colab.kernel.invokeFunction('convertToInteractive',\n",
              "                                                     [key], {});\n",
              "          if (!dataTable) return;\n",
              "\n",
              "          const docLinkHtml = 'Like what you see? Visit the ' +\n",
              "            '<a target=\"_blank\" href=https://colab.research.google.com/notebooks/data_table.ipynb>data table notebook</a>'\n",
              "            + ' to learn more about interactive tables.';\n",
              "          element.innerHTML = '';\n",
              "          dataTable['output_type'] = 'display_data';\n",
              "          await google.colab.output.renderOutput(dataTable, element);\n",
              "          const docLink = document.createElement('div');\n",
              "          docLink.innerHTML = docLinkHtml;\n",
              "          element.appendChild(docLink);\n",
              "        }\n",
              "      </script>\n",
              "    </div>\n",
              "  </div>\n",
              "  "
            ]
          },
          "metadata": {},
          "execution_count": 30
        }
      ]
    },
    {
      "cell_type": "markdown",
      "metadata": {
        "id": "trA39YO4PcFp"
      },
      "source": [
        "### Tratamento da classe"
      ]
    },
    {
      "cell_type": "code",
      "metadata": {
        "id": "SPPY0MlIYoTR"
      },
      "source": [
        "exemplo_base_dados = [[\"este trabalho é agradável\", {\"POSITIVO\": True, \"NEGATIVO\": False}],\n",
        "                      [\"este lugar continua assustador\", {\"POSITIVO\": False, \"NEGATIVO\": True}]]"
      ],
      "execution_count": 29,
      "outputs": []
    },
    {
      "cell_type": "code",
      "metadata": {
        "id": "TH31QeqEyrub"
      },
      "source": [
        "base_dados_treinamento_final = [] #Tratando a base sobre o sentimento\n",
        "for texto, emocao in zip(base_treinamento['tweet_text'], base_treinamento['sentiment']):\n",
        "  if emocao == 1:\n",
        "    dic = ({'POSITIVO': True, 'NEGATIVO': False})\n",
        "  elif emocao == 0:\n",
        "    dic = ({'POSITIVO': False, 'NEGATIVO': True})\n",
        "\n",
        "  base_dados_treinamento_final.append([texto, dic.copy()])"
      ],
      "execution_count": 31,
      "outputs": []
    },
    {
      "cell_type": "code",
      "metadata": {
        "id": "kwFKyNZM2TFj",
        "colab": {
          "base_uri": "https://localhost:8080/"
        },
        "outputId": "4b8c3b88-ef9b-47a9-e226-1bd171b9aa44"
      },
      "source": [
        "len(base_dados_treinamento_final)"
      ],
      "execution_count": 32,
      "outputs": [
        {
          "output_type": "execute_result",
          "data": {
            "text/plain": [
              "50000"
            ]
          },
          "metadata": {},
          "execution_count": 32
        }
      ]
    },
    {
      "cell_type": "code",
      "metadata": {
        "id": "_3D9UkMI2W60",
        "colab": {
          "base_uri": "https://localhost:8080/"
        },
        "outputId": "f6bc2b5d-22da-4b2d-95c8-04f124702c90"
      },
      "source": [
        "base_dados_treinamento_final[10:15]"
      ],
      "execution_count": 33,
      "outputs": [
        {
          "output_type": "execute_result",
          "data": {
            "text/plain": [
              "[['simplesmente o deixar chatear querer muitooo e iludir emocaopositiva',\n",
              "  {'NEGATIVO': False, 'POSITIVO': True}],\n",
              " ['o comedir umar rotina e perfeitamente parir consolidar o escola condução :p',\n",
              "  {'NEGATIVO': False, 'POSITIVO': True}],\n",
              " ['amigar parecer apaixonar vc — recíproco emocaopositiva',\n",
              "  {'NEGATIVO': False, 'POSITIVO': True}],\n",
              " ['  gajar bacano aleijar esperar e o silvar feliz emocaopositiva',\n",
              "  {'NEGATIVO': False, 'POSITIVO': True}],\n",
              " ['tou o video cabra bebé emocaopositiva',\n",
              "  {'NEGATIVO': False, 'POSITIVO': True}]]"
            ]
          },
          "metadata": {},
          "execution_count": 33
        }
      ]
    },
    {
      "cell_type": "code",
      "metadata": {
        "id": "E8C-_9AB2fEM",
        "colab": {
          "base_uri": "https://localhost:8080/"
        },
        "outputId": "d85f8ee3-1519-445e-ab40-7078f15c7705"
      },
      "source": [
        "base_dados_treinamento_final[45000:45005]"
      ],
      "execution_count": 34,
      "outputs": [
        {
          "output_type": "execute_result",
          "data": {
            "text/plain": [
              "[['o menino pijama listrar o filmar triste mundo estruturar nenhum pra assistir rever e to pensar n emocaonegativa',\n",
              "  {'NEGATIVO': True, 'POSITIVO': False}],\n",
              " ['pra o vídeo luísa raiz o poliana infelizmente o twitter tá ruim amanhã postar emocaonegativa asaventurasdepoliana099',\n",
              "  {'NEGATIVO': True, 'POSITIVO': False}],\n",
              " ['to crise abstinência strangers emocaonegativa — tbm :/ to',\n",
              "  {'NEGATIVO': True, 'POSITIVO': False}],\n",
              " ['  esquecer olhar pra pagar o mensalidade turma pro cursar querer emocaonegativa',\n",
              "  {'NEGATIVO': True, 'POSITIVO': False}],\n",
              " ['querer comer doce comer montar hoje emocaonegativa maldição',\n",
              "  {'NEGATIVO': True, 'POSITIVO': False}]]"
            ]
          },
          "metadata": {},
          "execution_count": 34
        }
      ]
    },
    {
      "cell_type": "markdown",
      "metadata": {
        "id": "5mc19ZByUNsu"
      },
      "source": [
        "# Etapa 5: Criação do classificador"
      ]
    },
    {
      "cell_type": "code",
      "metadata": {
        "id": "YnZ1orji7Iv8"
      },
      "source": [
        "modelo = spacy.blank('pt') #processamento de linguagem natural #Usando lib mais atual"
      ],
      "execution_count": 35,
      "outputs": []
    },
    {
      "cell_type": "code",
      "source": [
        "categorias = modelo.create_pipe(\"textcat\")"
      ],
      "metadata": {
        "id": "LgYfztEjBahx"
      },
      "execution_count": 40,
      "outputs": []
    },
    {
      "cell_type": "code",
      "source": [
        "categorias.add_label(\"POSITIVO\")\n",
        "categorias.add_label(\"NEGATIVO\")"
      ],
      "metadata": {
        "colab": {
          "base_uri": "https://localhost:8080/"
        },
        "id": "Y6N_BYsLBdmL",
        "outputId": "8d9c2aab-1d6c-4577-8aca-a4bee4a4284f"
      },
      "execution_count": 41,
      "outputs": [
        {
          "output_type": "execute_result",
          "data": {
            "text/plain": [
              "1"
            ]
          },
          "metadata": {},
          "execution_count": 41
        }
      ]
    },
    {
      "cell_type": "code",
      "source": [
        "#from thinc.api import Config\n",
        "#from spacy.language import pt"
      ],
      "metadata": {
        "id": "tpyud1i9BhDl"
      },
      "execution_count": 58,
      "outputs": []
    },
    {
      "cell_type": "code",
      "source": [
        "modelo.add_pipe(categorias)\n",
        "historico = []"
      ],
      "metadata": {
        "colab": {
          "base_uri": "https://localhost:8080/",
          "height": 321
        },
        "id": "mdW1K2ViCDwL",
        "outputId": "34d17e10-c5f5-444e-e90e-a75e6ea33e70"
      },
      "execution_count": 42,
      "outputs": [
        {
          "output_type": "error",
          "ename": "ValueError",
          "evalue": "ignored",
          "traceback": [
            "\u001b[0;31m---------------------------------------------------------------------------\u001b[0m",
            "\u001b[0;31mValueError\u001b[0m                                Traceback (most recent call last)",
            "\u001b[0;32m<ipython-input-42-47032dc9bd23>\u001b[0m in \u001b[0;36m<module>\u001b[0;34m()\u001b[0m\n\u001b[0;32m----> 1\u001b[0;31m \u001b[0mmodelo\u001b[0m\u001b[0;34m.\u001b[0m\u001b[0madd_pipe\u001b[0m\u001b[0;34m(\u001b[0m\u001b[0mcategorias\u001b[0m\u001b[0;34m)\u001b[0m\u001b[0;34m\u001b[0m\u001b[0;34m\u001b[0m\u001b[0m\n\u001b[0m\u001b[1;32m      2\u001b[0m \u001b[0mhistorico\u001b[0m \u001b[0;34m=\u001b[0m \u001b[0;34m[\u001b[0m\u001b[0;34m]\u001b[0m\u001b[0;34m\u001b[0m\u001b[0;34m\u001b[0m\u001b[0m\n",
            "\u001b[0;32m/usr/local/lib/python3.7/dist-packages/spacy/language.py\u001b[0m in \u001b[0;36madd_pipe\u001b[0;34m(self, component, name, before, after, first, last)\u001b[0m\n\u001b[1;32m    325\u001b[0m             \u001b[0mname\u001b[0m \u001b[0;34m=\u001b[0m \u001b[0mutil\u001b[0m\u001b[0;34m.\u001b[0m\u001b[0mget_component_name\u001b[0m\u001b[0;34m(\u001b[0m\u001b[0mcomponent\u001b[0m\u001b[0;34m)\u001b[0m\u001b[0;34m\u001b[0m\u001b[0;34m\u001b[0m\u001b[0m\n\u001b[1;32m    326\u001b[0m         \u001b[0;32mif\u001b[0m \u001b[0mname\u001b[0m \u001b[0;32min\u001b[0m \u001b[0mself\u001b[0m\u001b[0;34m.\u001b[0m\u001b[0mpipe_names\u001b[0m\u001b[0;34m:\u001b[0m\u001b[0;34m\u001b[0m\u001b[0;34m\u001b[0m\u001b[0m\n\u001b[0;32m--> 327\u001b[0;31m             \u001b[0;32mraise\u001b[0m \u001b[0mValueError\u001b[0m\u001b[0;34m(\u001b[0m\u001b[0mErrors\u001b[0m\u001b[0;34m.\u001b[0m\u001b[0mE007\u001b[0m\u001b[0;34m.\u001b[0m\u001b[0mformat\u001b[0m\u001b[0;34m(\u001b[0m\u001b[0mname\u001b[0m\u001b[0;34m=\u001b[0m\u001b[0mname\u001b[0m\u001b[0;34m,\u001b[0m \u001b[0mopts\u001b[0m\u001b[0;34m=\u001b[0m\u001b[0mself\u001b[0m\u001b[0;34m.\u001b[0m\u001b[0mpipe_names\u001b[0m\u001b[0;34m)\u001b[0m\u001b[0;34m)\u001b[0m\u001b[0;34m\u001b[0m\u001b[0;34m\u001b[0m\u001b[0m\n\u001b[0m\u001b[1;32m    328\u001b[0m         \u001b[0;32mif\u001b[0m \u001b[0msum\u001b[0m\u001b[0;34m(\u001b[0m\u001b[0;34m[\u001b[0m\u001b[0mbool\u001b[0m\u001b[0;34m(\u001b[0m\u001b[0mbefore\u001b[0m\u001b[0;34m)\u001b[0m\u001b[0;34m,\u001b[0m \u001b[0mbool\u001b[0m\u001b[0;34m(\u001b[0m\u001b[0mafter\u001b[0m\u001b[0;34m)\u001b[0m\u001b[0;34m,\u001b[0m \u001b[0mbool\u001b[0m\u001b[0;34m(\u001b[0m\u001b[0mfirst\u001b[0m\u001b[0;34m)\u001b[0m\u001b[0;34m,\u001b[0m \u001b[0mbool\u001b[0m\u001b[0;34m(\u001b[0m\u001b[0mlast\u001b[0m\u001b[0;34m)\u001b[0m\u001b[0;34m]\u001b[0m\u001b[0;34m)\u001b[0m \u001b[0;34m>=\u001b[0m \u001b[0;36m2\u001b[0m\u001b[0;34m:\u001b[0m\u001b[0;34m\u001b[0m\u001b[0;34m\u001b[0m\u001b[0m\n\u001b[1;32m    329\u001b[0m             \u001b[0;32mraise\u001b[0m \u001b[0mValueError\u001b[0m\u001b[0;34m(\u001b[0m\u001b[0mErrors\u001b[0m\u001b[0;34m.\u001b[0m\u001b[0mE006\u001b[0m\u001b[0;34m)\u001b[0m\u001b[0;34m\u001b[0m\u001b[0;34m\u001b[0m\u001b[0m\n",
            "\u001b[0;31mValueError\u001b[0m: [E007] 'textcat' already exists in pipeline. Existing names: ['textcat']"
          ]
        }
      ]
    },
    {
      "cell_type": "code",
      "metadata": {
        "id": "3jlGvLEz764Y",
        "colab": {
          "base_uri": "https://localhost:8080/"
        },
        "outputId": "6a9d0329-3931-4ab0-da02-4cd56c364b4d"
      },
      "source": [
        "modelo.begin_training()\n",
        "for epoca in range(20):\n",
        "  random.shuffle(base_dados_treinamento_final)\n",
        "  losses = {}\n",
        "  for batch in spacy.util.minibatch(base_dados_treinamento_final, 512): #retornando batchs\n",
        "    textos = [modelo(texto) for texto, entities in batch]\n",
        "    annotations = [{'cats': entities} for texto, entities in batch]\n",
        "    modelo.update(textos, annotations, losses=losses) #realiza a o processamento e atualização\n",
        "    historico.append(losses)\n",
        "  if epoca % 5 == 0:\n",
        "    print(losses)"
      ],
      "execution_count": 43,
      "outputs": [
        {
          "output_type": "stream",
          "name": "stdout",
          "text": [
            "{'textcat': 3.475418611464942e-05}\n",
            "{'textcat': 7.36796642031301e-08}\n",
            "{'textcat': 5.7189362299633895e-09}\n",
            "{'textcat': 2.164518305043661e-09}\n"
          ]
        }
      ]
    },
    {
      "cell_type": "code",
      "metadata": {
        "id": "wSe-tDsCAciN"
      },
      "source": [
        "historico_loss = [] #historico de valor do erro\n",
        "for i in historico:\n",
        "  historico_loss.append(i.get('textcat'))"
      ],
      "execution_count": 44,
      "outputs": []
    },
    {
      "cell_type": "code",
      "metadata": {
        "id": "ShJhtbYtAr50",
        "colab": {
          "base_uri": "https://localhost:8080/"
        },
        "outputId": "d3e3dd69-7b0d-486e-d001-ee3fb1d3731a"
      },
      "source": [
        "historico_loss = np.array(historico_loss)\n",
        "historico_loss"
      ],
      "execution_count": 45,
      "outputs": [
        {
          "output_type": "execute_result",
          "data": {
            "text/plain": [
              "array([3.47541861e-05, 3.47541861e-05, 3.47541861e-05, ...,\n",
              "       1.32873367e-09, 1.32873367e-09, 1.32873367e-09])"
            ]
          },
          "metadata": {},
          "execution_count": 45
        }
      ]
    },
    {
      "cell_type": "code",
      "metadata": {
        "id": "6lEL-QoBA0KI",
        "colab": {
          "base_uri": "https://localhost:8080/",
          "height": 312
        },
        "outputId": "8f9db4ea-092d-4512-c1af-b5b6b63b8183"
      },
      "source": [
        "import matplotlib.pyplot as plt\n",
        "plt.plot(historico_loss)\n",
        "plt.title('Progressão do erro')\n",
        "plt.xlabel('Batches')\n",
        "plt.ylabel('Erro')"
      ],
      "execution_count": 46,
      "outputs": [
        {
          "output_type": "execute_result",
          "data": {
            "text/plain": [
              "Text(0, 0.5, 'Erro')"
            ]
          },
          "metadata": {},
          "execution_count": 46
        },
        {
          "output_type": "display_data",
          "data": {
            "text/plain": [
              "<Figure size 432x288 with 1 Axes>"
            ],
            "image/png": "[encoded data removed]"
          },
          "metadata": {
            "needs_background": "light"
          }
        }
      ]
    },
    {
      "cell_type": "code",
      "metadata": {
        "id": "amNE8xy_BPSF"
      },
      "source": [
        "modelo.to_disk(\"modelo_classificador\") #Gurdando o classificador gerado"
      ],
      "execution_count": 47,
      "outputs": []
    },
    {
      "cell_type": "markdown",
      "metadata": {
        "id": "ePMk8G0Dl6wg"
      },
      "source": [
        "# Etapa 6: Testes com uma frase"
      ]
    },
    {
      "cell_type": "code",
      "metadata": {
        "id": "W-7DO-DoAyPU",
        "colab": {
          "base_uri": "https://localhost:8080/"
        },
        "outputId": "56643a0f-56ba-4405-b7b2-fd458f9d9d04"
      },
      "source": [
        "modelo_carregado = spacy.load('modelo_classificador')\n",
        "modelo_carregado"
      ],
      "execution_count": 48,
      "outputs": [
        {
          "output_type": "execute_result",
          "data": {
            "text/plain": [
              "<spacy.lang.pt.Portuguese at 0x7faa7ef07390>"
            ]
          },
          "metadata": {},
          "execution_count": 48
        }
      ]
    },
    {
      "cell_type": "markdown",
      "metadata": {
        "id": "RZxpVOP4wJT9"
      },
      "source": [
        "## Texto positivo"
      ]
    },
    {
      "cell_type": "code",
      "metadata": {
        "id": "fGB9HS7BBEK2",
        "colab": {
          "base_uri": "https://localhost:8080/",
          "height": 35
        },
        "outputId": "55a90bea-80c2-4b6c-db06-b11038f0a625"
      },
      "source": [
        "texto_positivo = base_teste['tweet_text'][21]\n",
        "texto_positivo"
      ],
      "execution_count": 49,
      "outputs": [
        {
          "output_type": "execute_result",
          "data": {
            "text/plain": [
              "'  ficar feliz q recíproco emocaopositiva'"
            ],
            "application/vnd.google.colaboratory.intrinsic+json": {
              "type": "string"
            }
          },
          "metadata": {},
          "execution_count": 49
        }
      ]
    },
    {
      "cell_type": "code",
      "metadata": {
        "id": "NRJW5li7Bpij",
        "colab": {
          "base_uri": "https://localhost:8080/"
        },
        "outputId": "0157e2ed-5294-4053-c626-a8cf5c4410ab"
      },
      "source": [
        "previsao = modelo_carregado(texto_positivo)\n",
        "previsao"
      ],
      "execution_count": 50,
      "outputs": [
        {
          "output_type": "execute_result",
          "data": {
            "text/plain": [
              "  ficar feliz q recíproco emocaopositiva"
            ]
          },
          "metadata": {},
          "execution_count": 50
        }
      ]
    },
    {
      "cell_type": "code",
      "metadata": {
        "id": "_XtuIsoMBuz8",
        "colab": {
          "base_uri": "https://localhost:8080/"
        },
        "outputId": "3af28e5f-a2b2-4684-af85-92920537216c"
      },
      "source": [
        "previsao.cats #valores das categorias"
      ],
      "execution_count": 51,
      "outputs": [
        {
          "output_type": "execute_result",
          "data": {
            "text/plain": [
              "{'NEGATIVO': 0.0002591503434814513, 'POSITIVO': 0.9999244213104248}"
            ]
          },
          "metadata": {},
          "execution_count": 51
        }
      ]
    },
    {
      "cell_type": "code",
      "metadata": {
        "id": "wKdZht7PB1cJ",
        "colab": {
          "base_uri": "https://localhost:8080/",
          "height": 35
        },
        "outputId": "64417552-d553-4a92-f7ed-ffff6c3ac5c6"
      },
      "source": [
        "texto_positivo = 'eu gosto muito de você minha amiga'\n",
        "texto_positivo = preprocessamento(texto_positivo)\n",
        "texto_positivo"
      ],
      "execution_count": 52,
      "outputs": [
        {
          "output_type": "execute_result",
          "data": {
            "text/plain": [
              "'gostar amigo'"
            ],
            "application/vnd.google.colaboratory.intrinsic+json": {
              "type": "string"
            }
          },
          "metadata": {},
          "execution_count": 52
        }
      ]
    },
    {
      "cell_type": "code",
      "metadata": {
        "id": "GFDF7coVCC4c",
        "colab": {
          "base_uri": "https://localhost:8080/"
        },
        "outputId": "32ef8581-cb11-4318-eede-cdcc1892b654"
      },
      "source": [
        "modelo_carregado(texto_positivo).cats #Gerando o % do texto "
      ],
      "execution_count": 53,
      "outputs": [
        {
          "output_type": "execute_result",
          "data": {
            "text/plain": [
              "{'NEGATIVO': 0.852846086025238, 'POSITIVO': 0.15220032632350922}"
            ]
          },
          "metadata": {},
          "execution_count": 53
        }
      ]
    },
    {
      "cell_type": "markdown",
      "metadata": {
        "id": "eavhsiJ4weg6"
      },
      "source": [
        "## Texto negativo"
      ]
    },
    {
      "cell_type": "code",
      "metadata": {
        "id": "Luyzv_ZcCY9p",
        "colab": {
          "base_uri": "https://localhost:8080/",
          "height": 35
        },
        "outputId": "1e3e798a-15a8-4cf5-912f-fa5e7a24ffb7"
      },
      "source": [
        "base_teste['tweet_text'][4000]"
      ],
      "execution_count": 54,
      "outputs": [
        {
          "output_type": "execute_result",
          "data": {
            "text/plain": [
              "'tô triste filmar mulan o mushu emocaonegativa'"
            ],
            "application/vnd.google.colaboratory.intrinsic+json": {
              "type": "string"
            }
          },
          "metadata": {},
          "execution_count": 54
        }
      ]
    },
    {
      "cell_type": "code",
      "metadata": {
        "id": "GgpAm0JFCggN",
        "colab": {
          "base_uri": "https://localhost:8080/"
        },
        "outputId": "ce92d75b-0086-43f2-a64a-da057e2bb5e7"
      },
      "source": [
        "texto_negativo = base_teste['tweet_text'][4000]\n",
        "previsao = modelo_carregado(texto_negativo)\n",
        "previsao.cats #Valor maior para negativo e menor para positivo"
      ],
      "execution_count": 55,
      "outputs": [
        {
          "output_type": "execute_result",
          "data": {
            "text/plain": [
              "{'NEGATIVO': 0.9998027682304382, 'POSITIVO': 0.0003306699509266764}"
            ]
          },
          "metadata": {},
          "execution_count": 55
        }
      ]
    },
    {
      "cell_type": "markdown",
      "metadata": {
        "id": "KhF2vtEsnlpM"
      },
      "source": [
        "# Etapa 7: Avaliação do modelo"
      ]
    },
    {
      "cell_type": "markdown",
      "metadata": {
        "id": "sJzwpVWNACFi"
      },
      "source": [
        "## Avaliação na base de treinamento\n"
      ]
    },
    {
      "cell_type": "code",
      "metadata": {
        "id": "6NoTHRADDZ0Z"
      },
      "source": [
        "previsoes = []\n",
        "for texto in base_treinamento['tweet_text']: #Passando o modelo na base de dados\n",
        "  previsao = modelo_carregado(texto)\n",
        "  previsoes.append(previsao.cats)"
      ],
      "execution_count": 56,
      "outputs": []
    },
    {
      "cell_type": "code",
      "metadata": {
        "id": "8lRO94OuDvLZ",
        "colab": {
          "base_uri": "https://localhost:8080/"
        },
        "outputId": "697ce8d1-f517-498b-898c-1c20250ec154"
      },
      "source": [
        "previsoes #Listando todos os comentários dentro do seu % entre Positivo e Negativo"
      ],
      "execution_count": 57,
      "outputs": [
        {
          "output_type": "execute_result",
          "data": {
            "text/plain": [
              "[{'NEGATIVO': 0.000379397562937811, 'POSITIVO': 0.9997337460517883},\n",
              " {'NEGATIVO': 0.00019170604355167598, 'POSITIVO': 0.9998573064804077},\n",
              " {'NEGATIVO': 0.00030546571360901, 'POSITIVO': 0.9995548129081726},\n",
              " {'NEGATIVO': 0.0005372315645217896, 'POSITIVO': 0.9995668530464172},\n",
              " {'NEGATIVO': 0.0003015337570104748, 'POSITIVO': 0.9996786117553711},\n",
              " {'NEGATIVO': 0.00044891025754623115, 'POSITIVO': 0.999167799949646},\n",
              " {'NEGATIVO': 0.0021024432498961687, 'POSITIVO': 0.9977376461029053},\n",
              " {'NEGATIVO': 0.0005383859970606863, 'POSITIVO': 0.9981787204742432},\n",
              " {'NEGATIVO': 0.0006178951589390635, 'POSITIVO': 0.9998534917831421},\n",
              " {'NEGATIVO': 0.0005171457887627184, 'POSITIVO': 0.9995517134666443},\n",
              " {'NEGATIVO': 0.0003492842079140246, 'POSITIVO': 0.9996906518936157},\n",
              " {'NEGATIVO': 0.0005920967669226229, 'POSITIVO': 0.9998435974121094},\n",
              " {'NEGATIVO': 0.00013307479093782604, 'POSITIVO': 0.9998464584350586},\n",
              " {'NEGATIVO': 0.00013703452714253217, 'POSITIVO': 0.9995686411857605},\n",
              " {'NEGATIVO': 0.00025560546782799065, 'POSITIVO': 0.999849796295166},\n",
              " {'NEGATIVO': 0.0005456309299916029, 'POSITIVO': 0.999818742275238},\n",
              " {'NEGATIVO': 0.00019995398179162294, 'POSITIVO': 0.9997320771217346},\n",
              " {'NEGATIVO': 0.00018154976714868098, 'POSITIVO': 0.99960857629776},\n",
              " {'NEGATIVO': 0.0011116814566776156, 'POSITIVO': 0.9993916749954224},\n",
              " {'NEGATIVO': 0.00024264985404442996, 'POSITIVO': 0.9998075366020203},\n",
              " {'NEGATIVO': 0.00015278335195034742, 'POSITIVO': 0.999713122844696},\n",
              " {'NEGATIVO': 0.0004979186924174428, 'POSITIVO': 0.9998509883880615},\n",
              " {'NEGATIVO': 0.0002710496773943305, 'POSITIVO': 0.9996293783187866},\n",
              " {'NEGATIVO': 0.0004447037063073367, 'POSITIVO': 0.9997894167900085},\n",
              " {'NEGATIVO': 0.0010884267976507545, 'POSITIVO': 0.9990277290344238},\n",
              " {'NEGATIVO': 0.0009488572832196951, 'POSITIVO': 0.9997890591621399},\n",
              " {'NEGATIVO': 0.00018678772903513163, 'POSITIVO': 0.9996967315673828},\n",
              " {'NEGATIVO': 0.00024868303444236517, 'POSITIVO': 0.9996546506881714},\n",
              " {'NEGATIVO': 0.00041387241799384356, 'POSITIVO': 0.9992554783821106},\n",
              " {'NEGATIVO': 0.00037063047057017684, 'POSITIVO': 0.9996621608734131},\n",
              " {'NEGATIVO': 0.0015204730443656445, 'POSITIVO': 0.9987351298332214},\n",
              " {'NEGATIVO': 0.0002328559203306213, 'POSITIVO': 0.9998340606689453},\n",
              " {'NEGATIVO': 0.0010494361631572247, 'POSITIVO': 0.9978692531585693},\n",
              " {'NEGATIVO': 0.0003332949709147215, 'POSITIVO': 0.9998210072517395},\n",
              " {'NEGATIVO': 0.00012589595280587673, 'POSITIVO': 0.9998512268066406},\n",
              " {'NEGATIVO': 0.0010295449756085873, 'POSITIVO': 0.9998619556427002},\n",
              " {'NEGATIVO': 0.000762991956435144, 'POSITIVO': 0.9996076226234436},\n",
              " {'NEGATIVO': 0.0015195799060165882, 'POSITIVO': 0.9994730353355408},\n",
              " {'NEGATIVO': 0.0002473807253409177, 'POSITIVO': 0.9997298121452332},\n",
              " {'NEGATIVO': 0.0018955933628603816, 'POSITIVO': 0.9925225377082825},\n",
              " {'NEGATIVO': 0.0001429856929462403, 'POSITIVO': 0.9996758699417114},\n",
              " {'NEGATIVO': 0.00018241998623125255, 'POSITIVO': 0.9995083808898926},\n",
              " {'NEGATIVO': 0.00014544800797011703, 'POSITIVO': 0.9995890259742737},\n",
              " {'NEGATIVO': 0.0002604912151582539, 'POSITIVO': 0.9990100860595703},\n",
              " {'NEGATIVO': 0.00018591422121971846, 'POSITIVO': 0.9997571110725403},\n",
              " {'NEGATIVO': 0.0001775697892298922, 'POSITIVO': 0.9983067512512207},\n",
              " {'NEGATIVO': 0.00040735211223363876, 'POSITIVO': 0.9994931221008301},\n",
              " {'NEGATIVO': 0.00014951740740798414, 'POSITIVO': 0.9999107122421265},\n",
              " {'NEGATIVO': 0.00012310170859564096, 'POSITIVO': 0.9996887445449829},\n",
              " {'NEGATIVO': 0.000461049989098683, 'POSITIVO': 0.9998819828033447},\n",
              " {'NEGATIVO': 0.0004619549144990742, 'POSITIVO': 0.9995935559272766},\n",
              " {'NEGATIVO': 0.00012243431410752237, 'POSITIVO': 0.9991276860237122},\n",
              " {'NEGATIVO': 0.00023689372756052762, 'POSITIVO': 0.9998608827590942},\n",
              " {'NEGATIVO': 0.0020426393020898104, 'POSITIVO': 0.9966564178466797},\n",
              " {'NEGATIVO': 0.0006298342486843467, 'POSITIVO': 0.999549925327301},\n",
              " {'NEGATIVO': 0.00012267808779142797, 'POSITIVO': 0.9996635913848877},\n",
              " {'NEGATIVO': 0.00012179294571978971, 'POSITIVO': 0.9998069405555725},\n",
              " {'NEGATIVO': 0.00045762030640617013, 'POSITIVO': 0.9991242289543152},\n",
              " {'NEGATIVO': 0.00027799466624855995, 'POSITIVO': 0.9998619556427002},\n",
              " {'NEGATIVO': 0.0001808300439734012, 'POSITIVO': 0.9996886253356934},\n",
              " {'NEGATIVO': 0.0005704053910449147, 'POSITIVO': 0.9997575879096985},\n",
              " {'NEGATIVO': 0.00016741344006732106, 'POSITIVO': 0.9995253086090088},\n",
              " {'NEGATIVO': 0.006238361354917288, 'POSITIVO': 0.9942424893379211},\n",
              " {'NEGATIVO': 0.00046878124703653157, 'POSITIVO': 0.9998718500137329},\n",
              " {'NEGATIVO': 0.003011466935276985, 'POSITIVO': 0.9943707585334778},\n",
              " {'NEGATIVO': 0.0002660737372934818, 'POSITIVO': 0.9997605681419373},\n",
              " {'NEGATIVO': 0.0015575330471619964, 'POSITIVO': 0.9998102784156799},\n",
              " {'NEGATIVO': 0.00014936721709091216, 'POSITIVO': 0.9993773102760315},\n",
              " {'NEGATIVO': 9.294460323872045e-05, 'POSITIVO': 0.9993473887443542},\n",
              " {'NEGATIVO': 0.00020878989016637206, 'POSITIVO': 0.999708354473114},\n",
              " {'NEGATIVO': 0.00011383936362108216, 'POSITIVO': 0.9997624754905701},\n",
              " {'NEGATIVO': 0.0002124609163729474, 'POSITIVO': 0.9997016787528992},\n",
              " {'NEGATIVO': 0.0006576273590326309, 'POSITIVO': 0.9987892508506775},\n",
              " {'NEGATIVO': 0.00018544310296420008, 'POSITIVO': 0.999699592590332},\n",
              " {'NEGATIVO': 0.0002001000684686005, 'POSITIVO': 0.9997144341468811},\n",
              " {'NEGATIVO': 0.006238361354917288, 'POSITIVO': 0.9942424893379211},\n",
              " {'NEGATIVO': 0.0005967566394247115, 'POSITIVO': 0.9996459484100342},\n",
              " {'NEGATIVO': 0.00043438569991849363, 'POSITIVO': 0.9992715716362},\n",
              " {'NEGATIVO': 0.0005739204352721572, 'POSITIVO': 0.9997790455818176},\n",
              " {'NEGATIVO': 0.00022291229106485844, 'POSITIVO': 0.9996980428695679},\n",
              " {'NEGATIVO': 0.0008423207909800112, 'POSITIVO': 0.9993780851364136},\n",
              " {'NEGATIVO': 0.00033514684764668345, 'POSITIVO': 0.9993717074394226},\n",
              " {'NEGATIVO': 0.0002804672985803336, 'POSITIVO': 0.999646782875061},\n",
              " {'NEGATIVO': 0.0004935478209517896, 'POSITIVO': 0.9980888962745667},\n",
              " {'NEGATIVO': 0.00045127750490792096, 'POSITIVO': 0.9997754693031311},\n",
              " {'NEGATIVO': 0.0003462836320977658, 'POSITIVO': 0.9989320635795593},\n",
              " {'NEGATIVO': 0.0002718729665502906, 'POSITIVO': 0.9996904134750366},\n",
              " {'NEGATIVO': 0.0004506069526541978, 'POSITIVO': 0.9997708201408386},\n",
              " {'NEGATIVO': 0.00036415777867659926, 'POSITIVO': 0.999518632888794},\n",
              " {'NEGATIVO': 0.0004129612643737346, 'POSITIVO': 0.9996826648712158},\n",
              " {'NEGATIVO': 0.00039382759132422507, 'POSITIVO': 0.9998472929000854},\n",
              " {'NEGATIVO': 0.00016908544057514518, 'POSITIVO': 0.9995694756507874},\n",
              " {'NEGATIVO': 0.0007205629372037947, 'POSITIVO': 0.9997187256813049},\n",
              " {'NEGATIVO': 0.00045763145317323506, 'POSITIVO': 0.9996111989021301},\n",
              " {'NEGATIVO': 0.0002186828205594793, 'POSITIVO': 0.9997335076332092},\n",
              " {'NEGATIVO': 0.00033133834949694574, 'POSITIVO': 0.9993970394134521},\n",
              " {'NEGATIVO': 0.00040695213829167187, 'POSITIVO': 0.9997475743293762},\n",
              " {'NEGATIVO': 0.0003281688259448856, 'POSITIVO': 0.9992700219154358},\n",
              " {'NEGATIVO': 0.0005533777293749154, 'POSITIVO': 0.999526858329773},\n",
              " {'NEGATIVO': 0.0004555199120659381, 'POSITIVO': 0.9996242523193359},\n",
              " {'NEGATIVO': 0.00039893711800687015, 'POSITIVO': 0.9991093277931213},\n",
              " {'NEGATIVO': 0.000817074382212013, 'POSITIVO': 0.9982534050941467},\n",
              " {'NEGATIVO': 0.0003289459564257413, 'POSITIVO': 0.9998323917388916},\n",
              " {'NEGATIVO': 0.0002549949858803302, 'POSITIVO': 0.9997895359992981},\n",
              " {'NEGATIVO': 0.0003772975178435445, 'POSITIVO': 0.9995627999305725},\n",
              " {'NEGATIVO': 0.0005792409065179527, 'POSITIVO': 0.9993834495544434},\n",
              " {'NEGATIVO': 0.0007538903737440705, 'POSITIVO': 0.9995449185371399},\n",
              " {'NEGATIVO': 0.00017302004562225193, 'POSITIVO': 0.9996572732925415},\n",
              " {'NEGATIVO': 0.00013626730651594698, 'POSITIVO': 0.9996929168701172},\n",
              " {'NEGATIVO': 0.0011554548982530832, 'POSITIVO': 0.9992339611053467},\n",
              " {'NEGATIVO': 0.0015963012119755149, 'POSITIVO': 0.998961329460144},\n",
              " {'NEGATIVO': 0.0009553576819598675, 'POSITIVO': 0.9992260932922363},\n",
              " {'NEGATIVO': 0.000307191105093807, 'POSITIVO': 0.9998981952667236},\n",
              " {'NEGATIVO': 0.0005669743404723704, 'POSITIVO': 0.9997424483299255},\n",
              " {'NEGATIVO': 0.0008074416546151042, 'POSITIVO': 0.9996240139007568},\n",
              " {'NEGATIVO': 0.0003480125160422176, 'POSITIVO': 0.9993993043899536},\n",
              " {'NEGATIVO': 0.0003477293357718736, 'POSITIVO': 0.9997578263282776},\n",
              " {'NEGATIVO': 0.0010249208426102996, 'POSITIVO': 0.9983673691749573},\n",
              " {'NEGATIVO': 0.0007687158649787307, 'POSITIVO': 0.9997820258140564},\n",
              " {'NEGATIVO': 0.000390765315387398, 'POSITIVO': 0.9996249675750732},\n",
              " {'NEGATIVO': 0.00048488425090909004, 'POSITIVO': 0.9997817873954773},\n",
              " {'NEGATIVO': 0.00020714232232421637, 'POSITIVO': 0.9995002746582031},\n",
              " {'NEGATIVO': 0.00015422141586896032, 'POSITIVO': 0.999713122844696},\n",
              " {'NEGATIVO': 0.0032126661390066147, 'POSITIVO': 0.9987605810165405},\n",
              " {'NEGATIVO': 0.007147781550884247, 'POSITIVO': 0.9929435849189758},\n",
              " {'NEGATIVO': 0.001054246909916401, 'POSITIVO': 0.999381422996521},\n",
              " {'NEGATIVO': 0.0001861838682089001, 'POSITIVO': 0.9996709823608398},\n",
              " {'NEGATIVO': 0.0006371845374815166, 'POSITIVO': 0.9996300935745239},\n",
              " {'NEGATIVO': 0.00021230537095107138, 'POSITIVO': 0.999206006526947},\n",
              " {'NEGATIVO': 0.0005188455106690526, 'POSITIVO': 0.9995554089546204},\n",
              " {'NEGATIVO': 8.322893700096756e-05, 'POSITIVO': 0.9997355341911316},\n",
              " {'NEGATIVO': 0.0004142440448049456, 'POSITIVO': 0.999794065952301},\n",
              " {'NEGATIVO': 0.0003898511058650911, 'POSITIVO': 0.9997560381889343},\n",
              " {'NEGATIVO': 0.00014401179214473814, 'POSITIVO': 0.9998948574066162},\n",
              " {'NEGATIVO': 0.00018099375301972032, 'POSITIVO': 0.9997428059577942},\n",
              " {'NEGATIVO': 0.00023446776322089136, 'POSITIVO': 0.9995021820068359},\n",
              " {'NEGATIVO': 0.0003490375529509038, 'POSITIVO': 0.9995564818382263},\n",
              " {'NEGATIVO': 0.0006053840625099838, 'POSITIVO': 0.9981046915054321},\n",
              " {'NEGATIVO': 0.0002744198718573898, 'POSITIVO': 0.9997064471244812},\n",
              " {'NEGATIVO': 0.00012891722144559026, 'POSITIVO': 0.9992008805274963},\n",
              " {'NEGATIVO': 0.00026106907171197236, 'POSITIVO': 0.9998007416725159},\n",
              " {'NEGATIVO': 0.00018191593699157238, 'POSITIVO': 0.9996951818466187},\n",
              " {'NEGATIVO': 0.00044723847531713545, 'POSITIVO': 0.999750554561615},\n",
              " {'NEGATIVO': 0.00021547307551372796, 'POSITIVO': 0.9996354579925537},\n",
              " {'NEGATIVO': 0.00018786943110171705, 'POSITIVO': 0.9998908042907715},\n",
              " {'NEGATIVO': 0.00014328992983791977, 'POSITIVO': 0.9995692372322083},\n",
              " {'NEGATIVO': 0.0001712972589302808, 'POSITIVO': 0.9996559619903564},\n",
              " {'NEGATIVO': 0.0004448184045031667, 'POSITIVO': 0.9994664788246155},\n",
              " {'NEGATIVO': 0.001268833177164197, 'POSITIVO': 0.9988797307014465},\n",
              " {'NEGATIVO': 0.0007582919206470251, 'POSITIVO': 0.999848484992981},\n",
              " {'NEGATIVO': 0.0013878113823011518, 'POSITIVO': 0.9997346997261047},\n",
              " {'NEGATIVO': 0.003980142995715141, 'POSITIVO': 0.9969555139541626},\n",
              " {'NEGATIVO': 0.00039268325781449676, 'POSITIVO': 0.9993141889572144},\n",
              " {'NEGATIVO': 0.00015769498713780195, 'POSITIVO': 0.9997808337211609},\n",
              " {'NEGATIVO': 0.0001360816095257178, 'POSITIVO': 0.9987892508506775},\n",
              " {'NEGATIVO': 0.00014211630332283676, 'POSITIVO': 0.9997701048851013},\n",
              " {'NEGATIVO': 0.007587072439491749, 'POSITIVO': 0.991357684135437},\n",
              " {'NEGATIVO': 0.00036182659096084535, 'POSITIVO': 0.9989680051803589},\n",
              " {'NEGATIVO': 0.007111091632395983, 'POSITIVO': 0.9967349171638489},\n",
              " {'NEGATIVO': 0.00026375180459581316, 'POSITIVO': 0.999650239944458},\n",
              " {'NEGATIVO': 0.00033893296495079994, 'POSITIVO': 0.9997116923332214},\n",
              " {'NEGATIVO': 0.0004097346100024879, 'POSITIVO': 0.9995433688163757},\n",
              " {'NEGATIVO': 0.0013263842556625605, 'POSITIVO': 0.9996817111968994},\n",
              " {'NEGATIVO': 0.00021860588458366692, 'POSITIVO': 0.9997815489768982},\n",
              " {'NEGATIVO': 0.0017138157272711396, 'POSITIVO': 0.9997333884239197},\n",
              " {'NEGATIVO': 0.00019996064656879753, 'POSITIVO': 0.9998462200164795},\n",
              " {'NEGATIVO': 0.0006525935605168343, 'POSITIVO': 0.9958348274230957},\n",
              " {'NEGATIVO': 0.001583061646670103, 'POSITIVO': 0.9988487958908081},\n",
              " {'NEGATIVO': 0.00023212180531118065, 'POSITIVO': 0.9995824694633484},\n",
              " {'NEGATIVO': 0.0003642918018158525, 'POSITIVO': 0.9992708563804626},\n",
              " {'NEGATIVO': 0.0005371074075810611, 'POSITIVO': 0.9993686079978943},\n",
              " {'NEGATIVO': 0.0007340536103583872, 'POSITIVO': 0.9998742341995239},\n",
              " {'NEGATIVO': 0.0007512146839872003, 'POSITIVO': 0.9996278285980225},\n",
              " {'NEGATIVO': 0.0007676061359234154, 'POSITIVO': 0.9994176626205444},\n",
              " {'NEGATIVO': 0.0004904794623143971, 'POSITIVO': 0.999560534954071},\n",
              " {'NEGATIVO': 0.00038780481554567814, 'POSITIVO': 0.999352753162384},\n",
              " {'NEGATIVO': 0.00020423490786924958, 'POSITIVO': 0.9994574189186096},\n",
              " {'NEGATIVO': 0.0015074549010023475, 'POSITIVO': 0.999530553817749},\n",
              " {'NEGATIVO': 0.0002264505747007206, 'POSITIVO': 0.9995869994163513},\n",
              " {'NEGATIVO': 0.00020169896015431732, 'POSITIVO': 0.9998337030410767},\n",
              " {'NEGATIVO': 0.00047531843301840127, 'POSITIVO': 0.9993563294410706},\n",
              " {'NEGATIVO': 0.001077051623724401, 'POSITIVO': 0.9995220899581909},\n",
              " {'NEGATIVO': 0.00037696873187087476, 'POSITIVO': 0.999624490737915},\n",
              " {'NEGATIVO': 0.00020777351164724678, 'POSITIVO': 0.9996157884597778},\n",
              " {'NEGATIVO': 0.00013700511772185564, 'POSITIVO': 0.9997193217277527},\n",
              " {'NEGATIVO': 0.0001917791523737833, 'POSITIVO': 0.9997261166572571},\n",
              " {'NEGATIVO': 8.654742123326287e-05, 'POSITIVO': 0.9995300769805908},\n",
              " {'NEGATIVO': 0.0004356172285042703, 'POSITIVO': 0.9996755123138428},\n",
              " {'NEGATIVO': 0.0032010527793318033, 'POSITIVO': 0.9981561303138733},\n",
              " {'NEGATIVO': 0.0006338321836665273, 'POSITIVO': 0.9993470311164856},\n",
              " {'NEGATIVO': 0.000981187797151506, 'POSITIVO': 0.9992940425872803},\n",
              " {'NEGATIVO': 0.0007848910754546523, 'POSITIVO': 0.9994564652442932},\n",
              " {'NEGATIVO': 0.0001537062635179609, 'POSITIVO': 0.9998216032981873},\n",
              " {'NEGATIVO': 0.0004326438356656581, 'POSITIVO': 0.999783456325531},\n",
              " {'NEGATIVO': 0.00015409117622766644, 'POSITIVO': 0.9997127652168274},\n",
              " {'NEGATIVO': 0.00027921440778300166, 'POSITIVO': 0.9998375177383423},\n",
              " {'NEGATIVO': 0.0035742076579481363, 'POSITIVO': 0.9996222257614136},\n",
              " {'NEGATIVO': 5.8698693464975804e-05, 'POSITIVO': 0.9995487332344055},\n",
              " {'NEGATIVO': 0.00013031967682763934, 'POSITIVO': 0.999591052532196},\n",
              " {'NEGATIVO': 0.00021392139024101198, 'POSITIVO': 0.9997192025184631},\n",
              " {'NEGATIVO': 0.00023081946710590273, 'POSITIVO': 0.9998067021369934},\n",
              " {'NEGATIVO': 0.0077546704560518265, 'POSITIVO': 0.99112468957901},\n",
              " {'NEGATIVO': 0.0010348428040742874, 'POSITIVO': 0.9994340538978577},\n",
              " {'NEGATIVO': 0.0003876239061355591, 'POSITIVO': 0.9987267851829529},\n",
              " {'NEGATIVO': 0.00039012881461530924, 'POSITIVO': 0.9998505115509033},\n",
              " {'NEGATIVO': 0.00021814573847223073, 'POSITIVO': 0.9998524188995361},\n",
              " {'NEGATIVO': 0.00043236534111201763, 'POSITIVO': 0.9998526573181152},\n",
              " {'NEGATIVO': 0.00013940139615442604, 'POSITIVO': 0.9991843104362488},\n",
              " {'NEGATIVO': 0.0003254342882428318, 'POSITIVO': 0.9998331069946289},\n",
              " {'NEGATIVO': 0.00015860868734307587, 'POSITIVO': 0.9996782541275024},\n",
              " {'NEGATIVO': 0.00010020475747296587, 'POSITIVO': 0.9994364380836487},\n",
              " {'NEGATIVO': 0.0008957279496826231, 'POSITIVO': 0.9994576573371887},\n",
              " {'NEGATIVO': 0.0004091097507625818, 'POSITIVO': 0.9996297359466553},\n",
              " {'NEGATIVO': 0.0003378686378709972, 'POSITIVO': 0.9993025064468384},\n",
              " {'NEGATIVO': 0.0005406839773058891, 'POSITIVO': 0.9992006421089172},\n",
              " {'NEGATIVO': 0.00023368421534541994, 'POSITIVO': 0.9998401403427124},\n",
              " {'NEGATIVO': 0.00092310894979164, 'POSITIVO': 0.9995038509368896},\n",
              " {'NEGATIVO': 0.0005811044247820973, 'POSITIVO': 0.9990629553794861},\n",
              " {'NEGATIVO': 0.007994590327143669, 'POSITIVO': 0.9902024269104004},\n",
              " {'NEGATIVO': 0.0001642909919610247, 'POSITIVO': 0.9993075132369995},\n",
              " {'NEGATIVO': 0.0005217565922066569, 'POSITIVO': 0.9995226860046387},\n",
              " {'NEGATIVO': 0.00024118542205542326, 'POSITIVO': 0.9999302625656128},\n",
              " {'NEGATIVO': 0.00038993064663372934, 'POSITIVO': 0.9994677901268005},\n",
              " {'NEGATIVO': 0.0005774158635176718, 'POSITIVO': 0.9992203712463379},\n",
              " {'NEGATIVO': 0.0005012619076296687, 'POSITIVO': 0.9996225833892822},\n",
              " {'NEGATIVO': 0.00043026989442296326, 'POSITIVO': 0.9997640252113342},\n",
              " {'NEGATIVO': 0.00018007967446465045, 'POSITIVO': 0.9991204142570496},\n",
              " {'NEGATIVO': 0.00028826246852986515, 'POSITIVO': 0.9998461008071899},\n",
              " {'NEGATIVO': 0.0005037409137003124, 'POSITIVO': 0.9998488426208496},\n",
              " {'NEGATIVO': 0.0001489620190113783, 'POSITIVO': 0.9995056390762329},\n",
              " {'NEGATIVO': 0.0006392456125468016, 'POSITIVO': 0.9995090961456299},\n",
              " {'NEGATIVO': 0.00019430687825661153, 'POSITIVO': 0.999853253364563},\n",
              " {'NEGATIVO': 9.445541218155995e-05, 'POSITIVO': 0.9996134638786316},\n",
              " {'NEGATIVO': 0.00018527537758927792, 'POSITIVO': 0.999218225479126},\n",
              " {'NEGATIVO': 0.00023349067487288266, 'POSITIVO': 0.9998823404312134},\n",
              " {'NEGATIVO': 0.00029818780603818595, 'POSITIVO': 0.9994953870773315},\n",
              " {'NEGATIVO': 0.0005264211213216186, 'POSITIVO': 0.999679684638977},\n",
              " {'NEGATIVO': 0.001411489094607532, 'POSITIVO': 0.9992369413375854},\n",
              " {'NEGATIVO': 0.0002323562657693401, 'POSITIVO': 0.9998406171798706},\n",
              " {'NEGATIVO': 0.0006066258647479117, 'POSITIVO': 0.9994102716445923},\n",
              " {'NEGATIVO': 0.00012697158672381192, 'POSITIVO': 0.9994182586669922},\n",
              " {'NEGATIVO': 0.00019457012240309268, 'POSITIVO': 0.9996108412742615},\n",
              " {'NEGATIVO': 0.00018273177556693554, 'POSITIVO': 0.9997387528419495},\n",
              " {'NEGATIVO': 0.0001396925508743152, 'POSITIVO': 0.9997772574424744},\n",
              " {'NEGATIVO': 0.00027799466624855995, 'POSITIVO': 0.9998619556427002},\n",
              " {'NEGATIVO': 0.0006089687813073397, 'POSITIVO': 0.9995778203010559},\n",
              " {'NEGATIVO': 0.0003332838823553175, 'POSITIVO': 0.9997958540916443},\n",
              " {'NEGATIVO': 0.00016604606935288757, 'POSITIVO': 0.9998651742935181},\n",
              " {'NEGATIVO': 0.00027026236057281494, 'POSITIVO': 0.9998537302017212},\n",
              " {'NEGATIVO': 0.0004519639478530735, 'POSITIVO': 0.999669075012207},\n",
              " {'NEGATIVO': 0.0002101103455061093, 'POSITIVO': 0.9995481371879578},\n",
              " {'NEGATIVO': 0.001796061871573329, 'POSITIVO': 0.9995582699775696},\n",
              " {'NEGATIVO': 0.0001609579921932891, 'POSITIVO': 0.9996880292892456},\n",
              " {'NEGATIVO': 0.00032465459662489593, 'POSITIVO': 0.9997604489326477},\n",
              " {'NEGATIVO': 0.0004095827171113342, 'POSITIVO': 0.9997373223304749},\n",
              " {'NEGATIVO': 0.00027799466624855995, 'POSITIVO': 0.9998619556427002},\n",
              " {'NEGATIVO': 0.0003043752512894571, 'POSITIVO': 0.9997749924659729},\n",
              " {'NEGATIVO': 0.000578306382521987, 'POSITIVO': 0.9995800852775574},\n",
              " {'NEGATIVO': 0.0027839113026857376, 'POSITIVO': 0.9983932375907898},\n",
              " {'NEGATIVO': 0.00010193731577601284, 'POSITIVO': 0.9994620680809021},\n",
              " {'NEGATIVO': 9.703792602522299e-05, 'POSITIVO': 0.9991509914398193},\n",
              " {'NEGATIVO': 0.0002995115064550191, 'POSITIVO': 0.9996659755706787},\n",
              " {'NEGATIVO': 0.0002460409014020115, 'POSITIVO': 0.9996347427368164},\n",
              " {'NEGATIVO': 0.00033514684764668345, 'POSITIVO': 0.9993717074394226},\n",
              " {'NEGATIVO': 7.585049024783075e-05, 'POSITIVO': 0.9997739195823669},\n",
              " {'NEGATIVO': 0.00024146429495885968, 'POSITIVO': 0.9997791647911072},\n",
              " {'NEGATIVO': 0.00021407013991847634, 'POSITIVO': 0.9999289512634277},\n",
              " {'NEGATIVO': 0.00021106952044647187, 'POSITIVO': 0.9998074173927307},\n",
              " {'NEGATIVO': 0.0005319170886650681, 'POSITIVO': 0.9995632767677307},\n",
              " {'NEGATIVO': 0.000338325509801507, 'POSITIVO': 0.9994242191314697},\n",
              " {'NEGATIVO': 0.0011854233453050256, 'POSITIVO': 0.998322069644928},\n",
              " {'NEGATIVO': 0.0011810444993898273, 'POSITIVO': 0.9990409016609192},\n",
              " {'NEGATIVO': 0.00033514684764668345, 'POSITIVO': 0.9993717074394226},\n",
              " {'NEGATIVO': 0.005622973665595055, 'POSITIVO': 0.9982714653015137},\n",
              " {'NEGATIVO': 0.0003637215995695442, 'POSITIVO': 0.9996386766433716},\n",
              " {'NEGATIVO': 0.0003328977036289871, 'POSITIVO': 0.9997956156730652},\n",
              " {'NEGATIVO': 0.0006349013419821858, 'POSITIVO': 0.9995900988578796},\n",
              " {'NEGATIVO': 0.0001772972464095801, 'POSITIVO': 0.9998571872711182},\n",
              " {'NEGATIVO': 0.00016448712267447263, 'POSITIVO': 0.9995620846748352},\n",
              " {'NEGATIVO': 0.0002025277935899794, 'POSITIVO': 0.9996465444564819},\n",
              " {'NEGATIVO': 0.0008980368729680777, 'POSITIVO': 0.9994627833366394},\n",
              " {'NEGATIVO': 0.00020326412050053477, 'POSITIVO': 0.9995834231376648},\n",
              " {'NEGATIVO': 0.00021468948398251086, 'POSITIVO': 0.9992721676826477},\n",
              " {'NEGATIVO': 0.00040683147381059825, 'POSITIVO': 0.9996347427368164},\n",
              " {'NEGATIVO': 0.0003648811252787709, 'POSITIVO': 0.9998542070388794},\n",
              " {'NEGATIVO': 0.0005079855327494442, 'POSITIVO': 0.9995575547218323},\n",
              " {'NEGATIVO': 0.0003815269737970084, 'POSITIVO': 0.9995244741439819},\n",
              " {'NEGATIVO': 0.0009907661005854607, 'POSITIVO': 0.9983713030815125},\n",
              " {'NEGATIVO': 0.00018087039643432945, 'POSITIVO': 0.9989526271820068},\n",
              " {'NEGATIVO': 0.00027243499062024057, 'POSITIVO': 0.9998188614845276},\n",
              " {'NEGATIVO': 0.0003248645516578108, 'POSITIVO': 0.9999097585678101},\n",
              " {'NEGATIVO': 0.00014951740740798414, 'POSITIVO': 0.9999107122421265},\n",
              " {'NEGATIVO': 0.00011137904220959172, 'POSITIVO': 0.9997546076774597},\n",
              " {'NEGATIVO': 0.0002570233482401818, 'POSITIVO': 0.9993665814399719},\n",
              " {'NEGATIVO': 0.0005206807982176542, 'POSITIVO': 0.9996601343154907},\n",
              " {'NEGATIVO': 0.0006164989899843931, 'POSITIVO': 0.9996370077133179},\n",
              " {'NEGATIVO': 0.001250508357770741, 'POSITIVO': 0.999138355255127},\n",
              " {'NEGATIVO': 0.00026177093968726695, 'POSITIVO': 0.9998019337654114},\n",
              " {'NEGATIVO': 0.0004904691595584154, 'POSITIVO': 0.9992042183876038},\n",
              " {'NEGATIVO': 0.00014498786185868084, 'POSITIVO': 0.9999403953552246},\n",
              " {'NEGATIVO': 0.00042319876956753433, 'POSITIVO': 0.9989174604415894},\n",
              " {'NEGATIVO': 0.0005548454937525094, 'POSITIVO': 0.9998453855514526},\n",
              " {'NEGATIVO': 0.00019437895389273763, 'POSITIVO': 0.9995917677879333},\n",
              " {'NEGATIVO': 0.00015396882372442633, 'POSITIVO': 0.9997054934501648},\n",
              " {'NEGATIVO': 0.0004605086869560182, 'POSITIVO': 0.9996681213378906},\n",
              " {'NEGATIVO': 0.00037372205406427383, 'POSITIVO': 0.999755322933197},\n",
              " {'NEGATIVO': 0.00014951740740798414, 'POSITIVO': 0.9999107122421265},\n",
              " {'NEGATIVO': 0.00033514684764668345, 'POSITIVO': 0.9993717074394226},\n",
              " {'NEGATIVO': 0.000407483777962625, 'POSITIVO': 0.9998286962509155},\n",
              " {'NEGATIVO': 0.00026182434521615505, 'POSITIVO': 0.9995855689048767},\n",
              " {'NEGATIVO': 0.0003276508650742471, 'POSITIVO': 0.9998733997344971},\n",
              " {'NEGATIVO': 0.00037845171755179763, 'POSITIVO': 0.9998482465744019},\n",
              " {'NEGATIVO': 0.0002710437693167478, 'POSITIVO': 0.9991484880447388},\n",
              " {'NEGATIVO': 0.0001525652623968199, 'POSITIVO': 0.999528169631958},\n",
              " {'NEGATIVO': 0.0002927866007667035, 'POSITIVO': 0.9991711378097534},\n",
              " {'NEGATIVO': 0.00022251626069191843, 'POSITIVO': 0.9995591044425964},\n",
              " {'NEGATIVO': 0.00012944874470122159, 'POSITIVO': 0.9998272061347961},\n",
              " {'NEGATIVO': 0.00029495544731616974, 'POSITIVO': 0.999724805355072},\n",
              " {'NEGATIVO': 0.0001797650329535827, 'POSITIVO': 0.999697208404541},\n",
              " {'NEGATIVO': 0.0008719885372556746, 'POSITIVO': 0.999290943145752},\n",
              " {'NEGATIVO': 0.00021790750906802714, 'POSITIVO': 0.9997178912162781},\n",
              " {'NEGATIVO': 0.0005765496753156185, 'POSITIVO': 0.9995542168617249},\n",
              " {'NEGATIVO': 0.00015670912398491055, 'POSITIVO': 0.9997126460075378},\n",
              " {'NEGATIVO': 0.0003385716991033405, 'POSITIVO': 0.9996045231819153},\n",
              " {'NEGATIVO': 8.990590140456334e-05, 'POSITIVO': 0.9997518658638},\n",
              " {'NEGATIVO': 0.0007393094128929079, 'POSITIVO': 0.9994390606880188},\n",
              " {'NEGATIVO': 0.00042717184987850487, 'POSITIVO': 0.9988860487937927},\n",
              " {'NEGATIVO': 0.0004952521412633359, 'POSITIVO': 0.9996711015701294},\n",
              " {'NEGATIVO': 0.0003331151674501598, 'POSITIVO': 0.9998034834861755},\n",
              " {'NEGATIVO': 0.00016182994295377284, 'POSITIVO': 0.9991542100906372},\n",
              " {'NEGATIVO': 0.0010209943866357207, 'POSITIVO': 0.9998101592063904},\n",
              " {'NEGATIVO': 0.00016867673548404127, 'POSITIVO': 0.9999209642410278},\n",
              " {'NEGATIVO': 0.00025581734371371567, 'POSITIVO': 0.9993922710418701},\n",
              " {'NEGATIVO': 0.0006738145020790398, 'POSITIVO': 0.9996621608734131},\n",
              " {'NEGATIVO': 0.0002438963419990614, 'POSITIVO': 0.9997746348381042},\n",
              " {'NEGATIVO': 0.00031970153213478625, 'POSITIVO': 0.9998020529747009},\n",
              " {'NEGATIVO': 0.00011149222700623795, 'POSITIVO': 0.9999229907989502},\n",
              " {'NEGATIVO': 4.539786823443137e-05, 'POSITIVO': 0.9994401335716248},\n",
              " {'NEGATIVO': 0.00027531455270946026, 'POSITIVO': 0.9978919625282288},\n",
              " {'NEGATIVO': 0.0013779785949736834, 'POSITIVO': 0.9955089092254639},\n",
              " {'NEGATIVO': 0.00034252015757374465, 'POSITIVO': 0.999866247177124},\n",
              " {'NEGATIVO': 0.00016160588711500168, 'POSITIVO': 0.9998107552528381},\n",
              " {'NEGATIVO': 0.0004747768398374319, 'POSITIVO': 0.9998887777328491},\n",
              " {'NEGATIVO': 0.0007631857297383249, 'POSITIVO': 0.9999130964279175},\n",
              " {'NEGATIVO': 0.00034916287404485047, 'POSITIVO': 0.9996383190155029},\n",
              " {'NEGATIVO': 0.00020498031517490745, 'POSITIVO': 0.99918133020401},\n",
              " {'NEGATIVO': 0.00016263416910078377, 'POSITIVO': 0.999693751335144},\n",
              " {'NEGATIVO': 0.0001852019049692899, 'POSITIVO': 0.9997186064720154},\n",
              " {'NEGATIVO': 0.00014422823733184487, 'POSITIVO': 0.9997538924217224},\n",
              " {'NEGATIVO': 0.0005233252886682749, 'POSITIVO': 0.9990686774253845},\n",
              " {'NEGATIVO': 0.0002437652146909386, 'POSITIVO': 0.9996660947799683},\n",
              " {'NEGATIVO': 0.00026106034056283534, 'POSITIVO': 0.9994667172431946},\n",
              " {'NEGATIVO': 0.0005507468013092875, 'POSITIVO': 0.9993911981582642},\n",
              " {'NEGATIVO': 0.00013148550351615995, 'POSITIVO': 0.9998077750205994},\n",
              " {'NEGATIVO': 0.0010258679976686835, 'POSITIVO': 0.9993268251419067},\n",
              " {'NEGATIVO': 0.004832480102777481, 'POSITIVO': 0.9975398778915405},\n",
              " {'NEGATIVO': 0.00013852090341970325, 'POSITIVO': 0.9997977614402771},\n",
              " {'NEGATIVO': 0.0006816707900725305, 'POSITIVO': 0.9992720484733582},\n",
              " {'NEGATIVO': 0.002890093717724085, 'POSITIVO': 0.9993854761123657},\n",
              " {'NEGATIVO': 0.0006036084378138185, 'POSITIVO': 0.9996726512908936},\n",
              " {'NEGATIVO': 0.00034689606400206685, 'POSITIVO': 0.9996805191040039},\n",
              " {'NEGATIVO': 0.0002785826218314469, 'POSITIVO': 0.9998247027397156},\n",
              " {'NEGATIVO': 0.00017548821051605046, 'POSITIVO': 0.9994864463806152},\n",
              " {'NEGATIVO': 0.0009720645612105727, 'POSITIVO': 0.9989433884620667},\n",
              " {'NEGATIVO': 0.00020466960268095136, 'POSITIVO': 0.9996224641799927},\n",
              " {'NEGATIVO': 0.00020038188085891306, 'POSITIVO': 0.9997184872627258},\n",
              " {'NEGATIVO': 0.00022291952336672693, 'POSITIVO': 0.9999092817306519},\n",
              " {'NEGATIVO': 0.000614083546679467, 'POSITIVO': 0.999765932559967},\n",
              " {'NEGATIVO': 0.0007127722492441535, 'POSITIVO': 0.9986439347267151},\n",
              " {'NEGATIVO': 0.00015243598318193108, 'POSITIVO': 0.9995282888412476},\n",
              " {'NEGATIVO': 0.0004987186403013766, 'POSITIVO': 0.999170184135437},\n",
              " {'NEGATIVO': 0.000688450934831053, 'POSITIVO': 0.9995773434638977},\n",
              " {'NEGATIVO': 0.0002310273121111095, 'POSITIVO': 0.9997696280479431},\n",
              " {'NEGATIVO': 0.00015409117622766644, 'POSITIVO': 0.9997127652168274},\n",
              " {'NEGATIVO': 0.00041203401633538306, 'POSITIVO': 0.9983653426170349},\n",
              " {'NEGATIVO': 0.00026718919980339706, 'POSITIVO': 0.9995495676994324},\n",
              " {'NEGATIVO': 0.000797138549387455, 'POSITIVO': 0.9995879530906677},\n",
              " {'NEGATIVO': 0.0002252382255392149, 'POSITIVO': 0.9998237490653992},\n",
              " {'NEGATIVO': 0.00020843582751695067, 'POSITIVO': 0.9998316764831543},\n",
              " {'NEGATIVO': 0.000304997171042487, 'POSITIVO': 0.9993934631347656},\n",
              " {'NEGATIVO': 0.00019307044567540288, 'POSITIVO': 0.9995504021644592},\n",
              " {'NEGATIVO': 0.00020204581960570067, 'POSITIVO': 0.9988558292388916},\n",
              " {'NEGATIVO': 0.0003190706192981452, 'POSITIVO': 0.9998167157173157},\n",
              " {'NEGATIVO': 0.00017395717441104352, 'POSITIVO': 0.9997420907020569},\n",
              " {'NEGATIVO': 5.132059959578328e-05, 'POSITIVO': 0.9995218515396118},\n",
              " {'NEGATIVO': 0.000316104938974604, 'POSITIVO': 0.999606192111969},\n",
              " {'NEGATIVO': 0.0001306142657995224, 'POSITIVO': 0.9998001456260681},\n",
              " {'NEGATIVO': 0.00033514684764668345, 'POSITIVO': 0.9993717074394226},\n",
              " {'NEGATIVO': 0.00010701382416300476, 'POSITIVO': 0.9996645450592041},\n",
              " {'NEGATIVO': 0.00033514684764668345, 'POSITIVO': 0.9993717074394226},\n",
              " {'NEGATIVO': 0.0004254578670952469, 'POSITIVO': 0.9992546439170837},\n",
              " {'NEGATIVO': 0.00040606121183373034, 'POSITIVO': 0.9998143315315247},\n",
              " {'NEGATIVO': 0.0004438778560142964, 'POSITIVO': 0.9998511075973511},\n",
              " {'NEGATIVO': 0.0006298822117969394, 'POSITIVO': 0.998304009437561},\n",
              " {'NEGATIVO': 5.1679311582120135e-05, 'POSITIVO': 0.9989606142044067},\n",
              " {'NEGATIVO': 0.0005106384051032364, 'POSITIVO': 0.9998410940170288},\n",
              " {'NEGATIVO': 0.0001285474863834679, 'POSITIVO': 0.9990761280059814},\n",
              " {'NEGATIVO': 0.00019862366025336087, 'POSITIVO': 0.9998034834861755},\n",
              " {'NEGATIVO': 0.0003570424159988761, 'POSITIVO': 0.9994326233863831},\n",
              " {'NEGATIVO': 0.00013166855205781758, 'POSITIVO': 0.9997923970222473},\n",
              " {'NEGATIVO': 0.0006211373256519437, 'POSITIVO': 0.9995964169502258},\n",
              " {'NEGATIVO': 0.00012193319707876071, 'POSITIVO': 0.9996324777603149},\n",
              " {'NEGATIVO': 0.0003341285337228328, 'POSITIVO': 0.9995372295379639},\n",
              " {'NEGATIVO': 0.0001554152404423803, 'POSITIVO': 0.999702513217926},\n",
              " {'NEGATIVO': 0.0003143396752420813, 'POSITIVO': 0.9996181726455688},\n",
              " {'NEGATIVO': 0.0012121923500671983, 'POSITIVO': 0.9998881816864014},\n",
              " {'NEGATIVO': 0.00324269593693316, 'POSITIVO': 0.9977893829345703},\n",
              " {'NEGATIVO': 0.0003393184451851994, 'POSITIVO': 0.9998555183410645},\n",
              " {'NEGATIVO': 0.0001299621508223936, 'POSITIVO': 0.9997993111610413},\n",
              " {'NEGATIVO': 0.00034319970291107893, 'POSITIVO': 0.9994351267814636},\n",
              " {'NEGATIVO': 0.00033514684764668345, 'POSITIVO': 0.9993717074394226},\n",
              " {'NEGATIVO': 0.0001459063932998106, 'POSITIVO': 0.9995637536048889},\n",
              " {'NEGATIVO': 0.0002146489714505151, 'POSITIVO': 0.9997597336769104},\n",
              " {'NEGATIVO': 0.00011200969311175868, 'POSITIVO': 0.9991456270217896},\n",
              " {'NEGATIVO': 0.0010184596758335829, 'POSITIVO': 0.9996562004089355},\n",
              " {'NEGATIVO': 0.0004067593836225569, 'POSITIVO': 0.9998101592063904},\n",
              " {'NEGATIVO': 0.0004550347803160548, 'POSITIVO': 0.9995933175086975},\n",
              " {'NEGATIVO': 0.0012128535890951753, 'POSITIVO': 0.9995077848434448},\n",
              " {'NEGATIVO': 0.00044168700696900487, 'POSITIVO': 0.9996851682662964},\n",
              " {'NEGATIVO': 0.00039476656820625067, 'POSITIVO': 0.9996908903121948},\n",
              " {'NEGATIVO': 0.008452441543340683, 'POSITIVO': 0.9924155473709106},\n",
              " {'NEGATIVO': 0.0004406291409395635, 'POSITIVO': 0.9996850490570068},\n",
              " {'NEGATIVO': 0.00021301646484062076, 'POSITIVO': 0.9993855953216553},\n",
              " {'NEGATIVO': 0.00046990971895866096, 'POSITIVO': 0.9995638728141785},\n",
              " {'NEGATIVO': 0.0004134173796046525, 'POSITIVO': 0.9992351531982422},\n",
              " {'NEGATIVO': 0.0022452841512858868, 'POSITIVO': 0.9996235370635986},\n",
              " {'NEGATIVO': 0.00039699944318272173, 'POSITIVO': 0.9997608065605164},\n",
              " {'NEGATIVO': 0.0002609443909022957, 'POSITIVO': 0.999138355255127},\n",
              " {'NEGATIVO': 0.000630596128758043, 'POSITIVO': 0.9994373917579651},\n",
              " {'NEGATIVO': 0.0003373184008523822, 'POSITIVO': 0.9998923540115356},\n",
              " {'NEGATIVO': 0.0004987897118553519, 'POSITIVO': 0.9996582269668579},\n",
              " {'NEGATIVO': 0.00044854063889943063, 'POSITIVO': 0.9998224377632141},\n",
              " {'NEGATIVO': 0.00037338497349992394, 'POSITIVO': 0.9989960789680481},\n",
              " {'NEGATIVO': 0.0005097613320685923, 'POSITIVO': 0.9996968507766724},\n",
              " {'NEGATIVO': 0.00015513614926021546, 'POSITIVO': 0.9993295669555664},\n",
              " {'NEGATIVO': 0.00045979456626810133, 'POSITIVO': 0.9997071623802185},\n",
              " {'NEGATIVO': 0.0002527873439248651, 'POSITIVO': 0.9995148181915283},\n",
              " {'NEGATIVO': 0.0005780531209893525, 'POSITIVO': 0.9996339082717896},\n",
              " {'NEGATIVO': 0.0002341947692912072, 'POSITIVO': 0.9993507266044617},\n",
              " {'NEGATIVO': 0.0007724638562649488, 'POSITIVO': 0.9991531372070312},\n",
              " {'NEGATIVO': 0.00015409117622766644, 'POSITIVO': 0.9997127652168274},\n",
              " {'NEGATIVO': 0.00039296920294873416, 'POSITIVO': 0.9994655251502991},\n",
              " {'NEGATIVO': 0.00043992343125864863, 'POSITIVO': 0.9996894598007202},\n",
              " {'NEGATIVO': 0.0005248637171462178, 'POSITIVO': 0.9997064471244812},\n",
              " {'NEGATIVO': 0.00037190233706496656, 'POSITIVO': 0.9991313815116882},\n",
              " {'NEGATIVO': 0.00019957816402893513, 'POSITIVO': 0.9998186230659485},\n",
              " {'NEGATIVO': 0.00034900844912044704, 'POSITIVO': 0.9997537732124329},\n",
              " {'NEGATIVO': 0.0003908729995600879, 'POSITIVO': 0.999559223651886},\n",
              " {'NEGATIVO': 0.0004754299880005419, 'POSITIVO': 0.9998397827148438},\n",
              " {'NEGATIVO': 0.0004969502915628254, 'POSITIVO': 0.9997243285179138},\n",
              " {'NEGATIVO': 0.0003596004971768707, 'POSITIVO': 0.9993067979812622},\n",
              " {'NEGATIVO': 0.0013198250671848655, 'POSITIVO': 0.9996486902236938},\n",
              " {'NEGATIVO': 0.0003151573473587632, 'POSITIVO': 0.9995019435882568},\n",
              " {'NEGATIVO': 0.00016688939649611712, 'POSITIVO': 0.9998239874839783},\n",
              " {'NEGATIVO': 0.00011182313755853102, 'POSITIVO': 0.9997885823249817},\n",
              " {'NEGATIVO': 0.000686958315782249, 'POSITIVO': 0.9996480941772461},\n",
              " {'NEGATIVO': 0.00038568858872167766, 'POSITIVO': 0.9995362758636475},\n",
              " {'NEGATIVO': 0.006238361354917288, 'POSITIVO': 0.9942424893379211},\n",
              " {'NEGATIVO': 0.0029306430369615555, 'POSITIVO': 0.9961217045783997},\n",
              " {'NEGATIVO': 0.0004069090646225959, 'POSITIVO': 0.9997767806053162},\n",
              " {'NEGATIVO': 0.00745196919888258, 'POSITIVO': 0.9936815500259399},\n",
              " {'NEGATIVO': 0.00023848963610362262, 'POSITIVO': 0.9998468160629272},\n",
              " {'NEGATIVO': 0.0003366262826602906, 'POSITIVO': 0.9998975992202759},\n",
              " {'NEGATIVO': 0.001007103594020009, 'POSITIVO': 0.999721109867096},\n",
              " {'NEGATIVO': 0.00012970661919098347, 'POSITIVO': 0.9997537732124329},\n",
              " {'NEGATIVO': 0.0002961236459668726, 'POSITIVO': 0.9995799660682678},\n",
              " {'NEGATIVO': 0.0002382157981628552, 'POSITIVO': 0.9994687438011169},\n",
              " {'NEGATIVO': 0.0003644741955213249, 'POSITIVO': 0.9997896552085876},\n",
              " {'NEGATIVO': 0.0001877281320048496, 'POSITIVO': 0.9996908903121948},\n",
              " {'NEGATIVO': 0.0009296444477513433, 'POSITIVO': 0.9999103546142578},\n",
              " {'NEGATIVO': 0.00020000716904178262, 'POSITIVO': 0.9996898174285889},\n",
              " {'NEGATIVO': 0.0002717169700190425, 'POSITIVO': 0.9989700317382812},\n",
              " {'NEGATIVO': 0.00017011018644552678, 'POSITIVO': 0.9996711015701294},\n",
              " {'NEGATIVO': 0.0004757620336022228, 'POSITIVO': 0.9993612170219421},\n",
              " {'NEGATIVO': 0.001268833177164197, 'POSITIVO': 0.9988797307014465},\n",
              " {'NEGATIVO': 0.00025598323554731905, 'POSITIVO': 0.9996206760406494},\n",
              " {'NEGATIVO': 0.00022521076607517898, 'POSITIVO': 0.9996217489242554},\n",
              " {'NEGATIVO': 0.0003660060465335846, 'POSITIVO': 0.9998494386672974},\n",
              " {'NEGATIVO': 0.00013283455336932093, 'POSITIVO': 0.9997925162315369},\n",
              " {'NEGATIVO': 0.001053643529303372, 'POSITIVO': 0.9995788931846619},\n",
              " {'NEGATIVO': 0.0003537596785463393, 'POSITIVO': 0.9997308850288391},\n",
              " {'NEGATIVO': 0.00042181569733656943, 'POSITIVO': 0.9994012117385864},\n",
              " {'NEGATIVO': 9.456508996663615e-05, 'POSITIVO': 0.9991883635520935},\n",
              " {'NEGATIVO': 0.0006471629603765905, 'POSITIVO': 0.999718964099884},\n",
              " {'NEGATIVO': 0.0003966309886891395, 'POSITIVO': 0.9997125267982483},\n",
              " {'NEGATIVO': 0.0005499169346876442, 'POSITIVO': 0.9997246861457825},\n",
              " {'NEGATIVO': 0.006238361354917288, 'POSITIVO': 0.9942424893379211},\n",
              " {'NEGATIVO': 0.00019068675464950502, 'POSITIVO': 0.9996379613876343},\n",
              " {'NEGATIVO': 0.001138260355219245, 'POSITIVO': 0.9995443224906921},\n",
              " {'NEGATIVO': 0.00016473274445161223, 'POSITIVO': 0.9996540546417236},\n",
              " {'NEGATIVO': 0.0004601420368999243, 'POSITIVO': 0.9996519088745117},\n",
              " {'NEGATIVO': 0.0006791985360905528, 'POSITIVO': 0.9985840320587158},\n",
              " {'NEGATIVO': 0.000589167233556509, 'POSITIVO': 0.9995096921920776},\n",
              " {'NEGATIVO': 0.0009064716286957264, 'POSITIVO': 0.9997019171714783},\n",
              " {'NEGATIVO': 0.00013579268124885857, 'POSITIVO': 0.9996711015701294},\n",
              " {'NEGATIVO': 0.004982355050742626, 'POSITIVO': 0.9968020915985107},\n",
              " {'NEGATIVO': 0.0004068547859787941, 'POSITIVO': 0.9997510313987732},\n",
              " {'NEGATIVO': 0.00034978738403879106, 'POSITIVO': 0.9988993406295776},\n",
              " {'NEGATIVO': 0.000482354051200673, 'POSITIVO': 0.999298095703125},\n",
              " {'NEGATIVO': 0.001294358167797327, 'POSITIVO': 0.9990200996398926},\n",
              " {'NEGATIVO': 0.0007394309504888952, 'POSITIVO': 0.9994542002677917},\n",
              " {'NEGATIVO': 0.0009548704838380218, 'POSITIVO': 0.9989978671073914},\n",
              " {'NEGATIVO': 0.00011095863010268658, 'POSITIVO': 0.9997527003288269},\n",
              " {'NEGATIVO': 0.00022228594752959907, 'POSITIVO': 0.9997742772102356},\n",
              " {'NEGATIVO': 0.00022228594752959907, 'POSITIVO': 0.9997742772102356},\n",
              " {'NEGATIVO': 0.00016843498451635242, 'POSITIVO': 0.9996426105499268},\n",
              " {'NEGATIVO': 0.00022228594752959907, 'POSITIVO': 0.9997742772102356},\n",
              " {'NEGATIVO': 0.0002571471268311143, 'POSITIVO': 0.9993749260902405},\n",
              " {'NEGATIVO': 0.00022228594752959907, 'POSITIVO': 0.9997742772102356},\n",
              " {'NEGATIVO': 0.0003445346374064684, 'POSITIVO': 0.9998140931129456},\n",
              " {'NEGATIVO': 0.0002408285508863628, 'POSITIVO': 0.9998440742492676},\n",
              " {'NEGATIVO': 0.00028974865563213825, 'POSITIVO': 0.9997788071632385},\n",
              " {'NEGATIVO': 0.00017784498049877584, 'POSITIVO': 0.9998098015785217},\n",
              " {'NEGATIVO': 0.00098501390311867, 'POSITIVO': 0.9994495511054993},\n",
              " {'NEGATIVO': 0.0013605717103928328, 'POSITIVO': 0.9984429478645325},\n",
              " {'NEGATIVO': 0.0010388209484517574, 'POSITIVO': 0.9995761513710022},\n",
              " {'NEGATIVO': 0.0003139227628707886, 'POSITIVO': 0.9994713664054871},\n",
              " {'NEGATIVO': 0.0008167151245288551, 'POSITIVO': 0.999599039554596},\n",
              " {'NEGATIVO': 0.00038706170744262636, 'POSITIVO': 0.9992617964744568},\n",
              " {'NEGATIVO': 0.0004149627638980746, 'POSITIVO': 0.9994827508926392},\n",
              " {'NEGATIVO': 0.00022821209859102964, 'POSITIVO': 0.9993495345115662},\n",
              " {'NEGATIVO': 0.0003339317045174539, 'POSITIVO': 0.9989946484565735},\n",
              " {'NEGATIVO': 0.00040784289012663066, 'POSITIVO': 0.9993570446968079},\n",
              " {'NEGATIVO': 0.00017969904001802206, 'POSITIVO': 0.9997707009315491},\n",
              " {'NEGATIVO': 0.00027293546008877456, 'POSITIVO': 0.9995561242103577},\n",
              " {'NEGATIVO': 0.0003701043897308409, 'POSITIVO': 0.9995937943458557},\n",
              " {'NEGATIVO': 0.00022089805861469358, 'POSITIVO': 0.9997772574424744},\n",
              " {'NEGATIVO': 0.0004323675821069628, 'POSITIVO': 0.9996734857559204},\n",
              " {'NEGATIVO': 0.00033514684764668345, 'POSITIVO': 0.9993717074394226},\n",
              " {'NEGATIVO': 0.0001476606703363359, 'POSITIVO': 0.9992154836654663},\n",
              " {'NEGATIVO': 0.00016770022921264172, 'POSITIVO': 0.9997994303703308},\n",
              " {'NEGATIVO': 0.00021789089078083634, 'POSITIVO': 0.9995537400245667},\n",
              " {'NEGATIVO': 0.00027799466624855995, 'POSITIVO': 0.9998619556427002},\n",
              " {'NEGATIVO': 0.0004172721819486469, 'POSITIVO': 0.9998371601104736},\n",
              " {'NEGATIVO': 0.0006276039639487863, 'POSITIVO': 0.9996358156204224},\n",
              " {'NEGATIVO': 0.00014618101704400033, 'POSITIVO': 0.9998767375946045},\n",
              " {'NEGATIVO': 0.00020169820345472544, 'POSITIVO': 0.9992326498031616},\n",
              " {'NEGATIVO': 0.0003873928217217326, 'POSITIVO': 0.99937504529953},\n",
              " {'NEGATIVO': 0.00020527681044768542, 'POSITIVO': 0.9994521737098694},\n",
              " {'NEGATIVO': 0.00030320833320729434, 'POSITIVO': 0.9996439218521118},\n",
              " {'NEGATIVO': 0.0003129283431917429, 'POSITIVO': 0.9994279742240906},\n",
              " {'NEGATIVO': 0.00017113938520196825, 'POSITIVO': 0.9996682405471802},\n",
              " {'NEGATIVO': 0.00012386484013404697, 'POSITIVO': 0.9998233914375305},\n",
              " {'NEGATIVO': 0.00037954081199131906, 'POSITIVO': 0.9994837045669556},\n",
              " {'NEGATIVO': 0.00021558260777965188, 'POSITIVO': 0.9997238516807556},\n",
              " {'NEGATIVO': 0.00019156058260705322, 'POSITIVO': 0.9998852014541626},\n",
              " {'NEGATIVO': 0.0002620218729134649, 'POSITIVO': 0.9997305274009705},\n",
              " {'NEGATIVO': 0.00019413315749261528, 'POSITIVO': 0.9996926784515381},\n",
              " {'NEGATIVO': 0.00023626349866390228, 'POSITIVO': 0.9996234178543091},\n",
              " {'NEGATIVO': 0.00014622283924836665, 'POSITIVO': 0.9997445940971375},\n",
              " {'NEGATIVO': 0.000532856909558177, 'POSITIVO': 0.9998871088027954},\n",
              " {'NEGATIVO': 0.0003351277264300734, 'POSITIVO': 0.999457061290741},\n",
              " {'NEGATIVO': 0.00021960321464575827, 'POSITIVO': 0.9996793270111084},\n",
              " {'NEGATIVO': 0.0003714814083650708, 'POSITIVO': 0.9995380640029907},\n",
              " {'NEGATIVO': 0.00028658017981797457, 'POSITIVO': 0.9998966455459595},\n",
              " {'NEGATIVO': 0.006119251251220703, 'POSITIVO': 0.995368480682373},\n",
              " {'NEGATIVO': 0.00016801843594294041, 'POSITIVO': 0.9996633529663086},\n",
              " {'NEGATIVO': 0.001507298438809812, 'POSITIVO': 0.9997723698616028},\n",
              " {'NEGATIVO': 0.0006839853012934327, 'POSITIVO': 0.9991520643234253},\n",
              " {'NEGATIVO': 0.000430061190854758, 'POSITIVO': 0.9998751878738403},\n",
              " {'NEGATIVO': 0.0002707023231778294, 'POSITIVO': 0.9996614456176758},\n",
              " {'NEGATIVO': 0.0003322258999105543, 'POSITIVO': 0.9995928406715393},\n",
              " {'NEGATIVO': 0.00021987642685417086, 'POSITIVO': 0.9997391104698181},\n",
              " {'NEGATIVO': 0.0004997308133170009, 'POSITIVO': 0.9998748302459717},\n",
              " {'NEGATIVO': 0.00025816832203418016, 'POSITIVO': 0.9995550513267517},\n",
              " {'NEGATIVO': 0.0008680263999849558, 'POSITIVO': 0.998582124710083},\n",
              " {'NEGATIVO': 0.00022585887927561998, 'POSITIVO': 0.999737560749054},\n",
              " {'NEGATIVO': 9.66550360317342e-05, 'POSITIVO': 0.999718964099884},\n",
              " {'NEGATIVO': 0.00014063625712879002, 'POSITIVO': 0.9997909665107727},\n",
              " {'NEGATIVO': 0.00022152598830871284, 'POSITIVO': 0.9997333884239197},\n",
              " {'NEGATIVO': 0.0011253661941736937, 'POSITIVO': 0.9997422099113464},\n",
              " {'NEGATIVO': 0.00013796778512187302, 'POSITIVO': 0.9996386766433716},\n",
              " {'NEGATIVO': 0.0002456859510857612, 'POSITIVO': 0.999679446220398},\n",
              " {'NEGATIVO': 0.00016789928486105055, 'POSITIVO': 0.9996237754821777},\n",
              " {'NEGATIVO': 0.0008782867225818336, 'POSITIVO': 0.9994844198226929},\n",
              " {'NEGATIVO': 0.00020519658573903143, 'POSITIVO': 0.9997130036354065},\n",
              " {'NEGATIVO': 0.0004623291897587478, 'POSITIVO': 0.9995059967041016},\n",
              " {'NEGATIVO': 0.00012636969040613621, 'POSITIVO': 0.9998260140419006},\n",
              " {'NEGATIVO': 0.00013621558900922537, 'POSITIVO': 0.9984537363052368},\n",
              " {'NEGATIVO': 0.00028700014809146523, 'POSITIVO': 0.9997382760047913},\n",
              " {'NEGATIVO': 0.00027593973209150136, 'POSITIVO': 0.9994107484817505},\n",
              " {'NEGATIVO': 0.00036786336568184197, 'POSITIVO': 0.9994619488716125},\n",
              " {'NEGATIVO': 0.00019013503333553672, 'POSITIVO': 0.9991768002510071},\n",
              " {'NEGATIVO': 0.00030765155679546297, 'POSITIVO': 0.9999048709869385},\n",
              " {'NEGATIVO': 0.00024941962328739464, 'POSITIVO': 0.9996765851974487},\n",
              " {'NEGATIVO': 0.0004924005479551852, 'POSITIVO': 0.9995914101600647},\n",
              " {'NEGATIVO': 0.0002720290794968605, 'POSITIVO': 0.9996256828308105},\n",
              " {'NEGATIVO': 0.00015673332381993532, 'POSITIVO': 0.999824583530426},\n",
              " {'NEGATIVO': 0.0009590997360646725, 'POSITIVO': 0.9993307590484619},\n",
              " {'NEGATIVO': 0.0019758569542318583, 'POSITIVO': 0.9993392825126648},\n",
              " {'NEGATIVO': 0.0002612037642393261, 'POSITIVO': 0.9997791647911072},\n",
              " {'NEGATIVO': 0.0006321489345282316, 'POSITIVO': 0.9998852014541626},\n",
              " {'NEGATIVO': 0.0002109667257172987, 'POSITIVO': 0.9991673231124878},\n",
              " {'NEGATIVO': 0.0002828195283655077, 'POSITIVO': 0.9995077848434448},\n",
              " {'NEGATIVO': 0.00036074130912311375, 'POSITIVO': 0.999699592590332},\n",
              " {'NEGATIVO': 0.00020027605933137238, 'POSITIVO': 0.9996249675750732},\n",
              " {'NEGATIVO': 0.00015431674546562135, 'POSITIVO': 0.9997097849845886},\n",
              " {'NEGATIVO': 9.290136222261935e-05, 'POSITIVO': 0.9996693134307861},\n",
              " {'NEGATIVO': 0.0008797419723123312, 'POSITIVO': 0.9997981190681458},\n",
              " {'NEGATIVO': 0.0001795221323845908, 'POSITIVO': 0.9997064471244812},\n",
              " {'NEGATIVO': 0.00018303676915820688, 'POSITIVO': 0.9997088313102722},\n",
              " {'NEGATIVO': 0.0016980433138087392, 'POSITIVO': 0.997655987739563},\n",
              " {'NEGATIVO': 0.00022167050337884575, 'POSITIVO': 0.9997643828392029},\n",
              " {'NEGATIVO': 0.000355725729605183, 'POSITIVO': 0.9999269247055054},\n",
              " {'NEGATIVO': 0.00028209161246195436, 'POSITIVO': 0.9997960925102234},\n",
              " {'NEGATIVO': 0.00017595180543139577, 'POSITIVO': 0.9997270703315735},\n",
              " {'NEGATIVO': 0.000851178599987179, 'POSITIVO': 0.9993745684623718},\n",
              " {'NEGATIVO': 0.0002183725591748953, 'POSITIVO': 0.9998353719711304},\n",
              " {'NEGATIVO': 0.00011599796562222764, 'POSITIVO': 0.999883770942688},\n",
              " {'NEGATIVO': 0.001601202879101038, 'POSITIVO': 0.9994194507598877},\n",
              " {'NEGATIVO': 0.0004264152958057821, 'POSITIVO': 0.9996640682220459},\n",
              " {'NEGATIVO': 0.00016761693404987454, 'POSITIVO': 0.9993873834609985},\n",
              " {'NEGATIVO': 0.0001783085463102907, 'POSITIVO': 0.9993245601654053},\n",
              " {'NEGATIVO': 0.00026020652148872614, 'POSITIVO': 0.999629020690918},\n",
              " {'NEGATIVO': 0.00046788231702521443, 'POSITIVO': 0.9997060894966125},\n",
              " {'NEGATIVO': 0.0004919018829241395, 'POSITIVO': 0.9982126951217651},\n",
              " {'NEGATIVO': 0.00015568934031762183, 'POSITIVO': 0.9994291663169861},\n",
              " {'NEGATIVO': 0.0003032939275726676, 'POSITIVO': 0.9988330006599426},\n",
              " {'NEGATIVO': 0.00024019746342673898, 'POSITIVO': 0.9995833039283752},\n",
              " {'NEGATIVO': 0.00012604103540070355, 'POSITIVO': 0.9996246099472046},\n",
              " {'NEGATIVO': 0.0004086788394488394, 'POSITIVO': 0.9995761513710022},\n",
              " {'NEGATIVO': 0.0010239703115075827, 'POSITIVO': 0.9994145631790161},\n",
              " {'NEGATIVO': 0.0001288928760914132, 'POSITIVO': 0.999771773815155},\n",
              " {'NEGATIVO': 0.007651067804545164, 'POSITIVO': 0.9974145889282227},\n",
              " {'NEGATIVO': 0.0005185394547879696, 'POSITIVO': 0.9996488094329834},\n",
              " {'NEGATIVO': 0.00013202850823290646, 'POSITIVO': 0.9998242259025574},\n",
              " {'NEGATIVO': 0.000292757322313264, 'POSITIVO': 0.9997990727424622},\n",
              " {'NEGATIVO': 0.0003179216291755438, 'POSITIVO': 0.9990731477737427},\n",
              " {'NEGATIVO': 0.0003114479186479002, 'POSITIVO': 0.9998840093612671},\n",
              " {'NEGATIVO': 0.00044462864752858877, 'POSITIVO': 0.9998314380645752},\n",
              " {'NEGATIVO': 0.00033557545975781977, 'POSITIVO': 0.999221920967102},\n",
              " {'NEGATIVO': 0.0002420561941107735, 'POSITIVO': 0.9995203018188477},\n",
              " {'NEGATIVO': 0.0002517816610634327, 'POSITIVO': 0.9998074173927307},\n",
              " {'NEGATIVO': 0.0008635988342575729, 'POSITIVO': 0.9996355772018433},\n",
              " {'NEGATIVO': 0.00031452643452212214, 'POSITIVO': 0.9997428059577942},\n",
              " {'NEGATIVO': 0.00034096805029548705, 'POSITIVO': 0.9996919631958008},\n",
              " {'NEGATIVO': 0.00018377142259851098, 'POSITIVO': 0.9997032284736633},\n",
              " {'NEGATIVO': 9.452225640416145e-05, 'POSITIVO': 0.9995174407958984},\n",
              " {'NEGATIVO': 0.00047242731670849025, 'POSITIVO': 0.9997908473014832},\n",
              " {'NEGATIVO': 0.0002863731642719358, 'POSITIVO': 0.9997411370277405},\n",
              " {'NEGATIVO': 0.0016341429436579347, 'POSITIVO': 0.9996188879013062},\n",
              " {'NEGATIVO': 0.0003761551051866263, 'POSITIVO': 0.9997363686561584},\n",
              " {'NEGATIVO': 0.0002655817661434412, 'POSITIVO': 0.9998124241828918},\n",
              " {'NEGATIVO': 0.00017010387091431767, 'POSITIVO': 0.999549925327301},\n",
              " {'NEGATIVO': 0.00035164738073945045, 'POSITIVO': 0.9995653033256531},\n",
              " {'NEGATIVO': 0.00113301957026124, 'POSITIVO': 0.9986262321472168},\n",
              " {'NEGATIVO': 0.00024849295732565224, 'POSITIVO': 0.9991011619567871},\n",
              " {'NEGATIVO': 0.00015958183212205768, 'POSITIVO': 0.9995099306106567},\n",
              " {'NEGATIVO': 0.0021452580112963915, 'POSITIVO': 0.9990572333335876},\n",
              " {'NEGATIVO': 0.0005359600763767958, 'POSITIVO': 0.9997543692588806},\n",
              " {'NEGATIVO': 0.0001706249895505607, 'POSITIVO': 0.9997066855430603},\n",
              " {'NEGATIVO': 0.00033514684764668345, 'POSITIVO': 0.9993717074394226},\n",
              " {'NEGATIVO': 0.00012075519043719396, 'POSITIVO': 0.9997594952583313},\n",
              " {'NEGATIVO': 0.0006356351659633219, 'POSITIVO': 0.9995649456977844},\n",
              " {'NEGATIVO': 0.00027494129608385265, 'POSITIVO': 0.9990814924240112},\n",
              " {'NEGATIVO': 0.0005339299095794559, 'POSITIVO': 0.999503493309021},\n",
              " {'NEGATIVO': 0.00018385396106168628, 'POSITIVO': 0.9994829893112183},\n",
              " {'NEGATIVO': 0.0005003597470931709, 'POSITIVO': 0.9995697140693665},\n",
              " {'NEGATIVO': 0.0013130208244547248, 'POSITIVO': 0.9996665716171265},\n",
              " {'NEGATIVO': 0.000173247855855152, 'POSITIVO': 0.999842643737793},\n",
              " {'NEGATIVO': 0.00021694724273402244, 'POSITIVO': 0.9995539784431458},\n",
              " {'NEGATIVO': 0.0005957874236628413, 'POSITIVO': 0.9996659755706787},\n",
              " {'NEGATIVO': 0.0008377254707738757, 'POSITIVO': 0.999395489692688},\n",
              " {'NEGATIVO': 0.0017969924956560135, 'POSITIVO': 0.9972856044769287},\n",
              " {'NEGATIVO': 0.00022852281108498573, 'POSITIVO': 0.9996819496154785},\n",
              " {'NEGATIVO': 0.0010668534087017179, 'POSITIVO': 0.9995934367179871},\n",
              " {'NEGATIVO': 0.0001748054928611964, 'POSITIVO': 0.9995928406715393},\n",
              " {'NEGATIVO': 0.0007552857277914882, 'POSITIVO': 0.9996896982192993},\n",
              " {'NEGATIVO': 0.0008322285139001906, 'POSITIVO': 0.9974738955497742},\n",
              " {'NEGATIVO': 0.0002636095159687102, 'POSITIVO': 0.9991318583488464},\n",
              " {'NEGATIVO': 0.00014549196930602193, 'POSITIVO': 0.9997668862342834},\n",
              " {'NEGATIVO': 0.00030671822605654597, 'POSITIVO': 0.9993101358413696},\n",
              " {'NEGATIVO': 0.00014951740740798414, 'POSITIVO': 0.9999107122421265},\n",
              " {'NEGATIVO': 0.00041709624929353595, 'POSITIVO': 0.9997910857200623},\n",
              " {'NEGATIVO': 0.00025907918461598456, 'POSITIVO': 0.9997264742851257},\n",
              " {'NEGATIVO': 0.00015409117622766644, 'POSITIVO': 0.9997127652168274},\n",
              " {'NEGATIVO': 0.00038928381400182843, 'POSITIVO': 0.9998263716697693},\n",
              " {'NEGATIVO': 0.002112108515575528, 'POSITIVO': 0.9997374415397644},\n",
              " {'NEGATIVO': 0.00024345723795704544, 'POSITIVO': 0.9994767308235168},\n",
              " {'NEGATIVO': 0.0005275133298709989, 'POSITIVO': 0.9997867941856384},\n",
              " {'NEGATIVO': 0.0022452841512858868, 'POSITIVO': 0.9996235370635986},\n",
              " {'NEGATIVO': 0.0003932779945898801, 'POSITIVO': 0.9994818568229675},\n",
              " {'NEGATIVO': 0.00048541740397922695, 'POSITIVO': 0.9993278980255127},\n",
              " {'NEGATIVO': 0.003657593857496977, 'POSITIVO': 0.9988812804222107},\n",
              " {'NEGATIVO': 0.000271860248176381, 'POSITIVO': 0.9998132586479187},\n",
              " {'NEGATIVO': 0.00038928381400182843, 'POSITIVO': 0.9998263716697693},\n",
              " {'NEGATIVO': 0.00027799466624855995, 'POSITIVO': 0.9998619556427002},\n",
              " {'NEGATIVO': 0.0002953888615593314, 'POSITIVO': 0.9995872378349304},\n",
              " {'NEGATIVO': 0.0005845936830155551, 'POSITIVO': 0.9996007084846497},\n",
              " {'NEGATIVO': 0.00026107431040145457, 'POSITIVO': 0.9996708631515503},\n",
              " {'NEGATIVO': 0.00016851516556926072, 'POSITIVO': 0.9995604157447815},\n",
              " {'NEGATIVO': 0.0001760812010616064, 'POSITIVO': 0.9996808767318726},\n",
              " {'NEGATIVO': 0.0003320903342682868, 'POSITIVO': 0.9997223019599915},\n",
              " {'NEGATIVO': 0.0002955248928628862, 'POSITIVO': 0.999618649482727},\n",
              " {'NEGATIVO': 0.011906856670975685, 'POSITIVO': 0.9928898811340332},\n",
              " {'NEGATIVO': 0.0012471789959818125, 'POSITIVO': 0.9991451501846313},\n",
              " {'NEGATIVO': 0.0002322754153283313, 'POSITIVO': 0.9998082518577576},\n",
              " {'NEGATIVO': 0.00027655469602905214, 'POSITIVO': 0.999144434928894},\n",
              " {'NEGATIVO': 0.0003068366495426744, 'POSITIVO': 0.9991804957389832},\n",
              " {'NEGATIVO': 0.00036012488999404013, 'POSITIVO': 0.9994505047798157},\n",
              " {'NEGATIVO': 0.0007502814987674356, 'POSITIVO': 0.999822199344635},\n",
              " {'NEGATIVO': 0.00033971754601225257, 'POSITIVO': 0.9992757439613342},\n",
              " {'NEGATIVO': 0.0006923057371750474, 'POSITIVO': 0.9985658526420593},\n",
              " {'NEGATIVO': 0.00017217299318872392, 'POSITIVO': 0.9995760321617126},\n",
              " {'NEGATIVO': 0.0006140940822660923, 'POSITIVO': 0.9997925162315369},\n",
              " {'NEGATIVO': 0.00011992004147032276, 'POSITIVO': 0.9996920824050903},\n",
              " {'NEGATIVO': 0.00015409117622766644, 'POSITIVO': 0.9997127652168274},\n",
              " {'NEGATIVO': 0.0002634281408973038, 'POSITIVO': 0.9996582269668579},\n",
              " {'NEGATIVO': 0.0009086242644116282, 'POSITIVO': 0.9997014403343201},\n",
              " {'NEGATIVO': 0.0002261271292809397, 'POSITIVO': 0.9995971322059631},\n",
              " {'NEGATIVO': 0.0011126874014735222, 'POSITIVO': 0.9993971586227417},\n",
              " {'NEGATIVO': 0.0007197702652774751, 'POSITIVO': 0.9996652603149414},\n",
              " {'NEGATIVO': 0.0018295437330380082, 'POSITIVO': 0.9948016405105591},\n",
              " {'NEGATIVO': 0.0002978369011543691, 'POSITIVO': 0.9995623230934143},\n",
              " {'NEGATIVO': 0.000360539008397609, 'POSITIVO': 0.9996461868286133},\n",
              " {'NEGATIVO': 0.00386882689781487, 'POSITIVO': 0.9979520440101624},\n",
              " {'NEGATIVO': 0.00042113446397706866, 'POSITIVO': 0.9993239641189575},\n",
              " {'NEGATIVO': 0.00031651355675421655, 'POSITIVO': 0.9998286962509155},\n",
              " {'NEGATIVO': 0.00036653957795351744, 'POSITIVO': 0.9999028444290161},\n",
              " {'NEGATIVO': 0.0002360106591368094, 'POSITIVO': 0.9998457431793213},\n",
              " {'NEGATIVO': 0.0009207280236296356, 'POSITIVO': 0.9989489912986755},\n",
              " {'NEGATIVO': 0.001006198232062161, 'POSITIVO': 0.9993409514427185},\n",
              " {'NEGATIVO': 0.0017623931635171175, 'POSITIVO': 0.9983933568000793},\n",
              " {'NEGATIVO': 0.00016591344319749624, 'POSITIVO': 0.9999189376831055},\n",
              " {'NEGATIVO': 0.0005677947192452848, 'POSITIVO': 0.9993897676467896},\n",
              " {'NEGATIVO': 0.00042037959792651236, 'POSITIVO': 0.9998438358306885},\n",
              " {'NEGATIVO': 0.0009996768785640597, 'POSITIVO': 0.9996471405029297},\n",
              " {'NEGATIVO': 0.002886872971430421, 'POSITIVO': 0.9988839030265808},\n",
              " {'NEGATIVO': 0.00014951740740798414, 'POSITIVO': 0.9999107122421265},\n",
              " {'NEGATIVO': 0.00029251567320898175, 'POSITIVO': 0.9998477697372437},\n",
              " {'NEGATIVO': 0.00018257155898027122, 'POSITIVO': 0.9996768236160278},\n",
              " {'NEGATIVO': 0.0003327914164401591, 'POSITIVO': 0.9997037053108215},\n",
              " {'NEGATIVO': 0.00029892215388827026, 'POSITIVO': 0.9994584918022156},\n",
              " {'NEGATIVO': 0.0003876307455357164, 'POSITIVO': 0.9998237490653992},\n",
              " {'NEGATIVO': 0.0002451277105137706, 'POSITIVO': 0.9996219873428345},\n",
              " {'NEGATIVO': 0.0003063981421291828, 'POSITIVO': 0.9998180270195007},\n",
              " {'NEGATIVO': 0.0004458057228475809, 'POSITIVO': 0.9992917776107788},\n",
              " {'NEGATIVO': 0.0006814347580075264, 'POSITIVO': 0.9997513890266418},\n",
              " {'NEGATIVO': 0.000177241483470425, 'POSITIVO': 0.9999244213104248},\n",
              " {'NEGATIVO': 0.0006000546854920685, 'POSITIVO': 0.9990755319595337},\n",
              " {'NEGATIVO': 0.000718575669452548, 'POSITIVO': 0.9998799562454224},\n",
              " {'NEGATIVO': 0.00032053166069090366, 'POSITIVO': 0.9989456534385681},\n",
              " {'NEGATIVO': 0.00465752137824893, 'POSITIVO': 0.9998342990875244},\n",
              " {'NEGATIVO': 0.0002601906599011272, 'POSITIVO': 0.9997997879981995},\n",
              " {'NEGATIVO': 0.0001569636515341699, 'POSITIVO': 0.9990355968475342},\n",
              " {'NEGATIVO': 0.00026093918131664395, 'POSITIVO': 0.9997033476829529},\n",
              " {'NEGATIVO': 0.00020500531536526978, 'POSITIVO': 0.9998239874839783},\n",
              " {'NEGATIVO': 0.00038727669743821025, 'POSITIVO': 0.9995251893997192},\n",
              " {'NEGATIVO': 0.00022304368030745536, 'POSITIVO': 0.9998817443847656},\n",
              " {'NEGATIVO': 0.0003071466344408691, 'POSITIVO': 0.9996438026428223},\n",
              " {'NEGATIVO': 0.0003381834540050477, 'POSITIVO': 0.9995824694633484},\n",
              " {'NEGATIVO': 0.0011372935259714723, 'POSITIVO': 0.9996019005775452},\n",
              " {'NEGATIVO': 0.0002384164254181087, 'POSITIVO': 0.9998356103897095},\n",
              " {'NEGATIVO': 0.00010450649278936908, 'POSITIVO': 0.9991406202316284},\n",
              " {'NEGATIVO': 0.00016461779887322336, 'POSITIVO': 0.9997496008872986},\n",
              " {'NEGATIVO': 0.0003540477773640305, 'POSITIVO': 0.9994698166847229},\n",
              " {'NEGATIVO': 0.0008123181760311127, 'POSITIVO': 0.9992893934249878},\n",
              " {'NEGATIVO': 0.00035857947659678757, 'POSITIVO': 0.9997746348381042},\n",
              " {'NEGATIVO': 0.00013524219684768468, 'POSITIVO': 0.9996771812438965},\n",
              " {'NEGATIVO': 0.000703637080732733, 'POSITIVO': 0.9995075464248657},\n",
              " {'NEGATIVO': 0.00017804808157961816, 'POSITIVO': 0.9997316002845764},\n",
              " {'NEGATIVO': 0.0015393522335216403, 'POSITIVO': 0.9993728995323181},\n",
              " {'NEGATIVO': 0.0030164276249706745, 'POSITIVO': 0.998934805393219},\n",
              " {'NEGATIVO': 0.00018986438226420432, 'POSITIVO': 0.9996932744979858},\n",
              " {'NEGATIVO': 0.00027918777777813375, 'POSITIVO': 0.9988250136375427},\n",
              " {'NEGATIVO': 0.00015049405919853598, 'POSITIVO': 0.9997748732566833},\n",
              " {'NEGATIVO': 0.00032344821374863386, 'POSITIVO': 0.9996604919433594},\n",
              " {'NEGATIVO': 0.0001880706986412406, 'POSITIVO': 0.9996132254600525},\n",
              " {'NEGATIVO': 0.0002621950698085129, 'POSITIVO': 0.9997777342796326},\n",
              " {'NEGATIVO': 0.00048135805991478264, 'POSITIVO': 0.9995554089546204},\n",
              " {'NEGATIVO': 0.0012563266791403294, 'POSITIVO': 0.9994261264801025},\n",
              " {'NEGATIVO': 0.0003197012410964817, 'POSITIVO': 0.9997186064720154},\n",
              " {'NEGATIVO': 0.0001329205697402358, 'POSITIVO': 0.9994716048240662},\n",
              " {'NEGATIVO': 0.00048155151307582855, 'POSITIVO': 0.9998185038566589},\n",
              " {'NEGATIVO': 7.905508391559124e-05, 'POSITIVO': 0.999681830406189},\n",
              " {'NEGATIVO': 0.00020631345978472382, 'POSITIVO': 0.999049723148346},\n",
              " {'NEGATIVO': 0.0008755106828175485, 'POSITIVO': 0.9999212026596069},\n",
              " {'NEGATIVO': 0.0001302800519624725, 'POSITIVO': 0.9996227025985718},\n",
              " {'NEGATIVO': 0.0008093073265627027, 'POSITIVO': 0.9998319149017334},\n",
              " {'NEGATIVO': 0.0004370803653728217, 'POSITIVO': 0.9988235831260681},\n",
              " {'NEGATIVO': 0.00017786565877031535, 'POSITIVO': 0.999251663684845},\n",
              " {'NEGATIVO': 0.0004097463097423315, 'POSITIVO': 0.9991624355316162},\n",
              " {'NEGATIVO': 0.0003599083283916116, 'POSITIVO': 0.9989770650863647},\n",
              " {'NEGATIVO': 0.0003771628253161907, 'POSITIVO': 0.9996954202651978},\n",
              " {'NEGATIVO': 0.0008952061180025339, 'POSITIVO': 0.9993002414703369},\n",
              " {'NEGATIVO': 0.0006346448208205402, 'POSITIVO': 0.999629020690918},\n",
              " {'NEGATIVO': 0.0003703795082401484, 'POSITIVO': 0.9998728036880493},\n",
              " {'NEGATIVO': 0.00038967016735114157, 'POSITIVO': 0.9998124241828918},\n",
              " {'NEGATIVO': 0.0005025445716455579, 'POSITIVO': 0.9980169534683228},\n",
              " {'NEGATIVO': 0.0004975050105713308, 'POSITIVO': 0.9988414645195007},\n",
              " {'NEGATIVO': 0.0014074931386858225, 'POSITIVO': 0.9988129138946533},\n",
              " {'NEGATIVO': 0.0002497129898983985, 'POSITIVO': 0.9997298121452332},\n",
              " {'NEGATIVO': 0.0001917327317642048, 'POSITIVO': 0.9987602233886719},\n",
              " {'NEGATIVO': 0.0002859120722860098, 'POSITIVO': 0.9998677968978882},\n",
              " {'NEGATIVO': 0.0003350663755554706, 'POSITIVO': 0.9995982050895691},\n",
              " {'NEGATIVO': 0.0005558441043831408, 'POSITIVO': 0.999314546585083},\n",
              " {'NEGATIVO': 0.00017480265523772687, 'POSITIVO': 0.9997318387031555},\n",
              " {'NEGATIVO': 0.00023108499590307474, 'POSITIVO': 0.9992627501487732},\n",
              " {'NEGATIVO': 0.00018375407671555877, 'POSITIVO': 0.9997848868370056},\n",
              " {'NEGATIVO': 0.0003978522145189345, 'POSITIVO': 0.9996567964553833},\n",
              " {'NEGATIVO': 0.00020668204524554312, 'POSITIVO': 0.9994363188743591},\n",
              " {'NEGATIVO': 0.0003826780302915722, 'POSITIVO': 0.9997692704200745},\n",
              " {'NEGATIVO': 0.00019691071065608412, 'POSITIVO': 0.9995701909065247},\n",
              " {'NEGATIVO': 0.00012809537292923778, 'POSITIVO': 0.9996684789657593},\n",
              " {'NEGATIVO': 0.00010009225661633536, 'POSITIVO': 0.9997218251228333},\n",
              " {'NEGATIVO': 0.003155703889206052, 'POSITIVO': 0.9972056746482849},\n",
              " {'NEGATIVO': 0.0001458158512832597, 'POSITIVO': 0.9997314810752869},\n",
              " {'NEGATIVO': 0.00014195271069183946, 'POSITIVO': 0.9997005462646484},\n",
              " {'NEGATIVO': 0.0011314814910292625, 'POSITIVO': 0.9992358684539795},\n",
              " {'NEGATIVO': 0.0001797026488929987, 'POSITIVO': 0.9998553991317749},\n",
              " {'NEGATIVO': 0.0005826528649777174, 'POSITIVO': 0.9996342658996582},\n",
              " {'NEGATIVO': 0.0006983821513131261, 'POSITIVO': 0.99979168176651},\n",
              " {'NEGATIVO': 0.0001327219943050295, 'POSITIVO': 0.9998189806938171},\n",
              " {'NEGATIVO': 0.0002908718306571245, 'POSITIVO': 0.9994620680809021},\n",
              " {'NEGATIVO': 0.00036578558501787484, 'POSITIVO': 0.9992702603340149},\n",
              " {'NEGATIVO': 0.0001632321800570935, 'POSITIVO': 0.9996985197067261},\n",
              " {'NEGATIVO': 0.0015719688963145018, 'POSITIVO': 0.9993894100189209},\n",
              " {'NEGATIVO': 0.0005626500933431089, 'POSITIVO': 0.998503565788269},\n",
              " {'NEGATIVO': 0.000840839697048068, 'POSITIVO': 0.9994975328445435},\n",
              " {'NEGATIVO': 0.0006195720052346587, 'POSITIVO': 0.9994788765907288},\n",
              " {'NEGATIVO': 0.005266872700303793, 'POSITIVO': 0.9990488886833191},\n",
              " {'NEGATIVO': 0.0001548182626720518, 'POSITIVO': 0.9996694326400757},\n",
              " {'NEGATIVO': 0.0005161573644727468, 'POSITIVO': 0.9997652173042297},\n",
              " {'NEGATIVO': 0.0009290870511904359, 'POSITIVO': 0.9999456405639648},\n",
              " {'NEGATIVO': 0.0001739458821248263, 'POSITIVO': 0.9998787641525269},\n",
              " {'NEGATIVO': 0.00033514684764668345, 'POSITIVO': 0.9993717074394226},\n",
              " {'NEGATIVO': 0.00010947882401524112, 'POSITIVO': 0.9995941519737244},\n",
              " {'NEGATIVO': 0.0002786139666568488, 'POSITIVO': 0.999009370803833},\n",
              " {'NEGATIVO': 0.000299490406177938, 'POSITIVO': 0.9997493624687195},\n",
              " {'NEGATIVO': 0.0003456658741924912, 'POSITIVO': 0.9996317625045776},\n",
              " {'NEGATIVO': 0.00012549263192340732, 'POSITIVO': 0.9997618794441223},\n",
              " {'NEGATIVO': 0.00024126109201461077, 'POSITIVO': 0.9995988011360168},\n",
              " {'NEGATIVO': 0.0001305033511016518, 'POSITIVO': 0.9990123510360718},\n",
              " {'NEGATIVO': 0.00034252015757374465, 'POSITIVO': 0.999866247177124},\n",
              " {'NEGATIVO': 0.00014206806372385472, 'POSITIVO': 0.9997492432594299},\n",
              " {'NEGATIVO': 0.0002195600827690214, 'POSITIVO': 0.9995180368423462},\n",
              " {'NEGATIVO': 0.0014339962508529425, 'POSITIVO': 0.9997027516365051},\n",
              " {'NEGATIVO': 0.00025893375277519226, 'POSITIVO': 0.9992165565490723},\n",
              " {'NEGATIVO': 0.000762991956435144, 'POSITIVO': 0.9996076226234436},\n",
              " {'NEGATIVO': 0.00026227731723338366, 'POSITIVO': 0.9998923540115356},\n",
              " {'NEGATIVO': 0.00013082566147204489, 'POSITIVO': 0.999664306640625},\n",
              " {'NEGATIVO': 0.00022035704751033336, 'POSITIVO': 0.9998053908348083},\n",
              " {'NEGATIVO': 8.632239769212902e-05, 'POSITIVO': 0.9995403289794922},\n",
              " {'NEGATIVO': 0.00014307980018202215, 'POSITIVO': 0.999444305896759},\n",
              " {'NEGATIVO': 0.00019030296243727207, 'POSITIVO': 0.9994425177574158},\n",
              " {'NEGATIVO': 7.15900314389728e-05, 'POSITIVO': 0.9992121458053589},\n",
              " {'NEGATIVO': 0.0004345488268882036, 'POSITIVO': 0.9996862411499023},\n",
              " {'NEGATIVO': 0.0001033839798765257, 'POSITIVO': 0.9997592568397522},\n",
              " {'NEGATIVO': 0.0004967068089172244, 'POSITIVO': 0.9995895028114319},\n",
              " {'NEGATIVO': 0.00014269899111241102, 'POSITIVO': 0.9999042749404907},\n",
              " {'NEGATIVO': 0.0002106999309035018, 'POSITIVO': 0.9993960857391357},\n",
              " {'NEGATIVO': 0.00031407034839503467, 'POSITIVO': 0.9992055296897888},\n",
              " {'NEGATIVO': 0.00029081362299621105, 'POSITIVO': 0.9993565678596497},\n",
              " {'NEGATIVO': 0.000317687721690163, 'POSITIVO': 0.9992493987083435},\n",
              " {'NEGATIVO': 0.0005165060865692794, 'POSITIVO': 0.9994516968727112},\n",
              " {'NEGATIVO': 0.0012110619572922587, 'POSITIVO': 0.9992328882217407},\n",
              " {'NEGATIVO': 0.00039318710332736373, 'POSITIVO': 0.9999356269836426},\n",
              " {'NEGATIVO': 0.0007507770787924528, 'POSITIVO': 0.99955815076828},\n",
              " {'NEGATIVO': 0.0001467769907321781, 'POSITIVO': 0.9998155236244202},\n",
              " {'NEGATIVO': 0.00017475831555202603, 'POSITIVO': 0.999622106552124},\n",
              " {'NEGATIVO': 0.0010140056256204844, 'POSITIVO': 0.9987001419067383},\n",
              " {'NEGATIVO': 0.0003219352220185101, 'POSITIVO': 0.9998784065246582},\n",
              " {'NEGATIVO': 0.0002489641774445772, 'POSITIVO': 0.999808132648468},\n",
              " {'NEGATIVO': 0.00038400499033741653, 'POSITIVO': 0.9998708963394165},\n",
              " {'NEGATIVO': 0.00021120339806657284, 'POSITIVO': 0.9987273812294006},\n",
              " {'NEGATIVO': 0.001236937940120697, 'POSITIVO': 0.99947589635849},\n",
              " {'NEGATIVO': 0.00023421330843120813, 'POSITIVO': 0.9993724226951599},\n",
              " {'NEGATIVO': 0.0003642918018158525, 'POSITIVO': 0.9992708563804626},\n",
              " {'NEGATIVO': 0.0003107245429418981, 'POSITIVO': 0.9994562268257141},\n",
              " {'NEGATIVO': 0.00021486538753379136, 'POSITIVO': 0.9998277425765991},\n",
              " {'NEGATIVO': 0.00015691247244831175, 'POSITIVO': 0.9995263814926147},\n",
              " {'NEGATIVO': 0.0004978430224582553, 'POSITIVO': 0.9996845722198486},\n",
              " {'NEGATIVO': 0.000261362933088094, 'POSITIVO': 0.9996998310089111},\n",
              " {'NEGATIVO': 0.0003003734163939953, 'POSITIVO': 0.9995492100715637},\n",
              " {'NEGATIVO': 0.0006182586657814682, 'POSITIVO': 0.9996733665466309},\n",
              " {'NEGATIVO': 0.001054168213158846, 'POSITIVO': 0.9993783235549927},\n",
              " {'NEGATIVO': 0.0005393099272623658, 'POSITIVO': 0.9998794794082642},\n",
              " {'NEGATIVO': 8.61243242979981e-05, 'POSITIVO': 0.9997020363807678},\n",
              " {'NEGATIVO': 0.00013202850823290646, 'POSITIVO': 0.9998242259025574},\n",
              " {'NEGATIVO': 0.0008919736137613654, 'POSITIVO': 0.999772846698761},\n",
              " {'NEGATIVO': 0.00025604278198443353, 'POSITIVO': 0.9996652603149414},\n",
              " {'NEGATIVO': 0.0003206438268534839, 'POSITIVO': 0.9997833371162415},\n",
              " {'NEGATIVO': 0.0007649193285033107, 'POSITIVO': 0.999477207660675},\n",
              " {'NEGATIVO': 0.00040650006849318743, 'POSITIVO': 0.9998008608818054},\n",
              " {'NEGATIVO': 0.0002283320063725114, 'POSITIVO': 0.9986323714256287},\n",
              " {'NEGATIVO': 0.00019971065921708941, 'POSITIVO': 0.999714195728302},\n",
              " {'NEGATIVO': 0.0012006149627268314, 'POSITIVO': 0.9998419284820557},\n",
              " {'NEGATIVO': 0.0001858342729974538, 'POSITIVO': 0.9997435212135315},\n",
              " {'NEGATIVO': 0.00011396274931030348, 'POSITIVO': 0.9995168447494507},\n",
              " {'NEGATIVO': 0.005655879154801369, 'POSITIVO': 0.9960089921951294},\n",
              " {'NEGATIVO': 0.00037762243300676346, 'POSITIVO': 0.9996490478515625},\n",
              " {'NEGATIVO': 0.00026138461544178426, 'POSITIVO': 0.9997465014457703},\n",
              " {'NEGATIVO': 8.312654244946316e-05, 'POSITIVO': 0.9995916485786438},\n",
              " {'NEGATIVO': 0.0001781272003427148, 'POSITIVO': 0.9990170001983643},\n",
              " {'NEGATIVO': 0.0002178322902182117, 'POSITIVO': 0.9997243285179138},\n",
              " {'NEGATIVO': 0.0005220301682129502, 'POSITIVO': 0.9996727705001831},\n",
              " {'NEGATIVO': 0.0003987929958384484, 'POSITIVO': 0.9988948702812195},\n",
              " {'NEGATIVO': 0.000487514742417261, 'POSITIVO': 0.9998396635055542},\n",
              " {'NEGATIVO': 0.00016015974688343704, 'POSITIVO': 0.9992399215698242},\n",
              " {'NEGATIVO': 0.00011468934098957106, 'POSITIVO': 0.9998252987861633},\n",
              " {'NEGATIVO': 0.00016183919797185808, 'POSITIVO': 0.9993380904197693},\n",
              " {'NEGATIVO': 0.00021198175090830773, 'POSITIVO': 0.9995519518852234},\n",
              " {'NEGATIVO': 0.00037282457924447954, 'POSITIVO': 0.9994698166847229},\n",
              " {'NEGATIVO': 0.00019957340555265546, 'POSITIVO': 0.9996280670166016},\n",
              " {'NEGATIVO': 9.90652188193053e-05, 'POSITIVO': 0.9996757507324219},\n",
              " {'NEGATIVO': 0.0003054126864299178, 'POSITIVO': 0.9990886449813843},\n",
              " {'NEGATIVO': 0.0003591347485780716, 'POSITIVO': 0.9998736381530762},\n",
              " {'NEGATIVO': 0.00044766050996258855, 'POSITIVO': 0.9994248151779175},\n",
              " {'NEGATIVO': 0.00021872116485610604, 'POSITIVO': 0.9997239708900452},\n",
              " {'NEGATIVO': 0.00015388532483484596, 'POSITIVO': 0.9994099140167236},\n",
              " {'NEGATIVO': 0.0019176488276571035, 'POSITIVO': 0.9991249442100525},\n",
              " {'NEGATIVO': 0.00014063558774068952, 'POSITIVO': 0.9991008043289185},\n",
              " {'NEGATIVO': 0.0001861082564573735, 'POSITIVO': 0.9997497200965881},\n",
              " {'NEGATIVO': 0.0004496800829656422, 'POSITIVO': 0.9995914101600647},\n",
              " {'NEGATIVO': 0.001195247401483357, 'POSITIVO': 0.999774158000946},\n",
              " {'NEGATIVO': 0.0003352200728841126, 'POSITIVO': 0.9994656443595886},\n",
              " {'NEGATIVO': 0.00030097021954134107, 'POSITIVO': 0.999733030796051},\n",
              " {'NEGATIVO': 0.0003243696701247245, 'POSITIVO': 0.9996756315231323},\n",
              " {'NEGATIVO': 0.0002694871218409389, 'POSITIVO': 0.9998887777328491},\n",
              " {'NEGATIVO': 0.0005557272816076875, 'POSITIVO': 0.9996895790100098},\n",
              " {'NEGATIVO': 0.00026127725141122937, 'POSITIVO': 0.9988430738449097},\n",
              " {'NEGATIVO': 0.006635499186813831, 'POSITIVO': 0.9935958981513977},\n",
              " {'NEGATIVO': 0.00027408989262767136, 'POSITIVO': 0.9998331069946289},\n",
              " {'NEGATIVO': 0.00013910741836298257, 'POSITIVO': 0.9996213912963867},\n",
              " {'NEGATIVO': 0.00033514684764668345, 'POSITIVO': 0.9993717074394226},\n",
              " {'NEGATIVO': 0.00017324602231383324, 'POSITIVO': 0.9998540878295898},\n",
              " {'NEGATIVO': 0.00014815287431702018, 'POSITIVO': 0.9998408555984497},\n",
              " {'NEGATIVO': 0.0010156013304367661, 'POSITIVO': 0.9997212290763855},\n",
              " {'NEGATIVO': 0.0001509200083091855, 'POSITIVO': 0.9997754693031311},\n",
              " {'NEGATIVO': 0.00024181886692531407, 'POSITIVO': 0.9991248250007629},\n",
              " {'NEGATIVO': 0.0002433384070172906, 'POSITIVO': 0.9998090863227844},\n",
              " {'NEGATIVO': 0.0011980450944975019, 'POSITIVO': 0.9990130662918091},\n",
              " {'NEGATIVO': 0.0006030172808095813, 'POSITIVO': 0.9995371103286743},\n",
              " {'NEGATIVO': 0.00013789584045298398, 'POSITIVO': 0.9988216757774353},\n",
              " {'NEGATIVO': 0.0008679077727720141, 'POSITIVO': 0.9994308352470398},\n",
              " {'NEGATIVO': 0.0072299703024327755, 'POSITIVO': 0.9919608235359192},\n",
              " {'NEGATIVO': 0.00014951740740798414, 'POSITIVO': 0.9999107122421265},\n",
              " {'NEGATIVO': 0.000689939595758915, 'POSITIVO': 0.9997727274894714},\n",
              " {'NEGATIVO': 0.002195638371631503, 'POSITIVO': 0.9999046325683594},\n",
              " {'NEGATIVO': 0.00029191948124207556, 'POSITIVO': 0.9997217059135437},\n",
              " {'NEGATIVO': 0.0010582669638097286, 'POSITIVO': 0.9997368454933167},\n",
              " {'NEGATIVO': 0.0006547374650835991, 'POSITIVO': 0.999729573726654},\n",
              " {'NEGATIVO': 0.0001598457747604698, 'POSITIVO': 0.9998254179954529},\n",
              " {'NEGATIVO': 0.00047789892414584756, 'POSITIVO': 0.9997610449790955},\n",
              " {'NEGATIVO': 0.00036327008274383843, 'POSITIVO': 0.9996885061264038},\n",
              " {'NEGATIVO': 0.0004121990059502423, 'POSITIVO': 0.9998124241828918},\n",
              " {'NEGATIVO': 0.0005072211497463286, 'POSITIVO': 0.999677300453186},\n",
              " {'NEGATIVO': 0.00021990890672896057, 'POSITIVO': 0.9997891783714294},\n",
              " {'NEGATIVO': 0.0004026932583656162, 'POSITIVO': 0.9994754195213318},\n",
              " {'NEGATIVO': 0.0002481037226971239, 'POSITIVO': 0.9996685981750488},\n",
              " {'NEGATIVO': 0.00013923905498813838, 'POSITIVO': 0.9987144470214844},\n",
              " {'NEGATIVO': 0.0004789074300788343, 'POSITIVO': 0.9998452663421631},\n",
              " {'NEGATIVO': 0.00026149506447836757, 'POSITIVO': 0.9998075366020203},\n",
              " {'NEGATIVO': 0.0010855699656531215, 'POSITIVO': 0.9993744492530823},\n",
              " {'NEGATIVO': 0.0002570735814515501, 'POSITIVO': 0.9994196891784668},\n",
              " {'NEGATIVO': 0.00015295388584490865, 'POSITIVO': 0.9994766116142273},\n",
              " {'NEGATIVO': 0.00035893742460757494, 'POSITIVO': 0.9994874000549316},\n",
              " {'NEGATIVO': 0.000398158619645983, 'POSITIVO': 0.9998733997344971},\n",
              " {'NEGATIVO': 0.00014951740740798414, 'POSITIVO': 0.9999107122421265},\n",
              " {'NEGATIVO': 0.0001198897443828173, 'POSITIVO': 0.9996676445007324},\n",
              " {'NEGATIVO': 0.0001578423980390653, 'POSITIVO': 0.9991424083709717},\n",
              " {'NEGATIVO': 0.00031154946191236377, 'POSITIVO': 0.9998981952667236},\n",
              " {'NEGATIVO': 0.0002548924239818007, 'POSITIVO': 0.9997535347938538},\n",
              " {'NEGATIVO': 0.000193957777810283, 'POSITIVO': 0.9997410178184509},\n",
              " {'NEGATIVO': 0.00031096398015506566, 'POSITIVO': 0.9994595646858215},\n",
              " {'NEGATIVO': 0.00030841625994071364, 'POSITIVO': 0.9996887445449829},\n",
              " {'NEGATIVO': 0.0002299708576174453, 'POSITIVO': 0.9997474551200867},\n",
              " {'NEGATIVO': 0.00028047984233126044, 'POSITIVO': 0.9994298815727234},\n",
              " {'NEGATIVO': 0.0001403139904141426, 'POSITIVO': 0.9996262788772583},\n",
              " {'NEGATIVO': 0.006238361354917288, 'POSITIVO': 0.9942424893379211},\n",
              " {'NEGATIVO': 0.0002642847248353064, 'POSITIVO': 0.9996935129165649},\n",
              " {'NEGATIVO': 0.00028670369647443295, 'POSITIVO': 0.9992079138755798},\n",
              " {'NEGATIVO': 0.0006360611296258867, 'POSITIVO': 0.9999184608459473},\n",
              " {'NEGATIVO': 0.0004178406670689583, 'POSITIVO': 0.9996849298477173},\n",
              " {'NEGATIVO': 0.0002995786489918828, 'POSITIVO': 0.999107301235199},\n",
              " {'NEGATIVO': 0.00033514684764668345, 'POSITIVO': 0.9993717074394226},\n",
              " {'NEGATIVO': 0.00027799466624855995, 'POSITIVO': 0.9998619556427002},\n",
              " {'NEGATIVO': 0.00011632449604803696, 'POSITIVO': 0.9994482398033142},\n",
              " {'NEGATIVO': 0.0011744261719286442, 'POSITIVO': 0.999593198299408},\n",
              " {'NEGATIVO': 0.00021419448603410274, 'POSITIVO': 0.9996346235275269},\n",
              " {'NEGATIVO': 0.00024920664145611227, 'POSITIVO': 0.9998261332511902},\n",
              " {'NEGATIVO': 0.0003853603848256171, 'POSITIVO': 0.9996219873428345},\n",
              " {'NEGATIVO': 0.00103678775485605, 'POSITIVO': 0.9993205070495605},\n",
              " {'NEGATIVO': 0.00021823414135724306, 'POSITIVO': 0.9997743964195251},\n",
              " {'NEGATIVO': 0.0006652476149611175, 'POSITIVO': 0.9996600151062012},\n",
              " {'NEGATIVO': 0.0004392399569042027, 'POSITIVO': 0.9992923736572266},\n",
              " {'NEGATIVO': 0.00029355441802181304, 'POSITIVO': 0.9998617172241211},\n",
              " {'NEGATIVO': 0.00020039486116729677, 'POSITIVO': 0.999467670917511},\n",
              " {'NEGATIVO': 0.00038501687231473625, 'POSITIVO': 0.9995325803756714},\n",
              " {'NEGATIVO': 0.00013537032646127045, 'POSITIVO': 0.999514102935791},\n",
              " {'NEGATIVO': 0.0001202135972562246, 'POSITIVO': 0.9998699426651001},\n",
              " {'NEGATIVO': 0.00020084381685592234, 'POSITIVO': 0.9997990727424622},\n",
              " {'NEGATIVO': 0.00033471963251940906, 'POSITIVO': 0.9995905756950378},\n",
              " {'NEGATIVO': 0.0011863850522786379, 'POSITIVO': 0.9993003606796265},\n",
              " {'NEGATIVO': 0.00040348467882722616, 'POSITIVO': 0.9994944334030151},\n",
              " {'NEGATIVO': 0.000316067598760128, 'POSITIVO': 0.9996132254600525},\n",
              " {'NEGATIVO': 0.00017897573707159609, 'POSITIVO': 0.9994364380836487},\n",
              " {'NEGATIVO': 0.0013642117846757174, 'POSITIVO': 0.9893249869346619},\n",
              " {'NEGATIVO': 0.000644123472739011, 'POSITIVO': 0.9996521472930908},\n",
              " {'NEGATIVO': 0.0025821735616773367, 'POSITIVO': 0.995995044708252},\n",
              " ...]"
            ]
          },
          "metadata": {},
          "execution_count": 57
        }
      ]
    },
    {
      "cell_type": "code",
      "metadata": {
        "id": "YXTXMXAgEDMR"
      },
      "source": [
        "previsoes_final = []\n",
        "for previsao in previsoes:\n",
        "  if previsao['POSITIVO'] > previsao['NEGATIVO']: #Setando valor 0 e 1 entre positivo e negativo\n",
        "    previsoes_final.append(1)\n",
        "  else:\n",
        "    previsoes_final.append(0)\n",
        "\n",
        "previsoes_final = np.array(previsoes_final)"
      ],
      "execution_count": 58,
      "outputs": []
    },
    {
      "cell_type": "code",
      "metadata": {
        "id": "ilep1MZKEVyg",
        "colab": {
          "base_uri": "https://localhost:8080/"
        },
        "outputId": "c23e5336-758d-4e3d-862b-f4471bb1da18"
      },
      "source": [
        "previsoes_final"
      ],
      "execution_count": 59,
      "outputs": [
        {
          "output_type": "execute_result",
          "data": {
            "text/plain": [
              "array([1, 1, 1, ..., 0, 0, 0])"
            ]
          },
          "metadata": {},
          "execution_count": 59
        }
      ]
    },
    {
      "cell_type": "code",
      "metadata": {
        "id": "3bbnP269EaYs",
        "colab": {
          "base_uri": "https://localhost:8080/"
        },
        "outputId": "55d11ee4-f7a5-4e6d-ddf1-083077783f02"
      },
      "source": [
        "respostas_reais = base_treinamento['sentiment'].values\n",
        "respostas_reais"
      ],
      "execution_count": 60,
      "outputs": [
        {
          "output_type": "execute_result",
          "data": {
            "text/plain": [
              "array([1, 1, 1, ..., 0, 0, 0])"
            ]
          },
          "metadata": {},
          "execution_count": 60
        }
      ]
    },
    {
      "cell_type": "code",
      "metadata": {
        "id": "7dM1nOQtEo6p",
        "colab": {
          "base_uri": "https://localhost:8080/"
        },
        "outputId": "91c02c95-f241-4eef-b562-f5371a1a26e1"
      },
      "source": [
        "from sklearn.metrics import confusion_matrix, accuracy_score\n",
        "accuracy_score(respostas_reais, previsoes_final) # Deu 100 % de acuracidade"
      ],
      "execution_count": 61,
      "outputs": [
        {
          "output_type": "execute_result",
          "data": {
            "text/plain": [
              "1.0"
            ]
          },
          "metadata": {},
          "execution_count": 61
        }
      ]
    },
    {
      "cell_type": "code",
      "metadata": {
        "id": "UuI8nXdAE-Nw",
        "colab": {
          "base_uri": "https://localhost:8080/"
        },
        "outputId": "46fb50bf-830a-4d73-dd18-f09ba93f6327"
      },
      "source": [
        "cm = confusion_matrix(respostas_reais, previsoes_final) # Todas corretas\n",
        "cm"
      ],
      "execution_count": 62,
      "outputs": [
        {
          "output_type": "execute_result",
          "data": {
            "text/plain": [
              "array([[25000,     0],\n",
              "       [    0, 25000]])"
            ]
          },
          "metadata": {},
          "execution_count": 62
        }
      ]
    },
    {
      "cell_type": "code",
      "metadata": {
        "id": "ws7BgykmyWQG",
        "colab": {
          "base_uri": "https://localhost:8080/",
          "height": 286
        },
        "outputId": "a79790cf-fbfb-4f68-c3c0-fc83332e0336"
      },
      "source": [
        "sns.heatmap(cm, annot=True) #errou nenhuma classificação nem na positiva e nem na negativa"
      ],
      "execution_count": 63,
      "outputs": [
        {
          "output_type": "execute_result",
          "data": {
            "text/plain": [
              "<matplotlib.axes._subplots.AxesSubplot at 0x7faa76d52610>"
            ]
          },
          "metadata": {},
          "execution_count": 63
        },
        {
          "output_type": "display_data",
          "data": {
            "text/plain": [
              "<Figure size 432x288 with 2 Axes>"
            ],
            "image/png": "[encoded data removed]"
          },
          "metadata": {
            "needs_background": "light"
          }
        }
      ]
    },
    {
      "cell_type": "markdown",
      "metadata": {
        "id": "HmLjfVrZAE2T"
      },
      "source": [
        "## Avaliação na base de teste"
      ]
    },
    {
      "cell_type": "code",
      "metadata": {
        "id": "AwmnAwRcF1sD"
      },
      "source": [
        "previsoes = []\n",
        "for texto in base_teste['tweet_text']:\n",
        "  previsao = modelo_carregado(texto)\n",
        "  previsoes.append(previsao.cats)"
      ],
      "execution_count": 64,
      "outputs": []
    },
    {
      "cell_type": "code",
      "metadata": {
        "id": "Y7MpSvS4F8xv"
      },
      "source": [
        "previsoes_final = []\n",
        "for previsao in previsoes:\n",
        "  if previsao['POSITIVO'] > previsao['NEGATIVO']: #Gerando a mesma trativa do teste anterior\n",
        "    previsoes_final.append(1)\n",
        "  else:\n",
        "    previsoes_final.append(0)\n",
        "\n",
        "previsoes_final = np.array(previsoes_final)"
      ],
      "execution_count": 65,
      "outputs": []
    },
    {
      "cell_type": "code",
      "metadata": {
        "id": "rgoCy1SXGEkw"
      },
      "source": [
        "respostas_reais = base_teste['sentiment'].values"
      ],
      "execution_count": 66,
      "outputs": []
    },
    {
      "cell_type": "code",
      "metadata": {
        "id": "HbpqmtMlGJ0T",
        "colab": {
          "base_uri": "https://localhost:8080/"
        },
        "outputId": "20321921-49d7-4d2a-fbc6-2b56cce28a11"
      },
      "source": [
        "accuracy_score(respostas_reais, previsoes_final) #Gerou uma acuracidade maior que a do curso"
      ],
      "execution_count": 67,
      "outputs": [
        {
          "output_type": "execute_result",
          "data": {
            "text/plain": [
              "0.9974"
            ]
          },
          "metadata": {},
          "execution_count": 67
        }
      ]
    },
    {
      "cell_type": "code",
      "metadata": {
        "id": "noYdfAJ0GQAF",
        "colab": {
          "base_uri": "https://localhost:8080/"
        },
        "outputId": "fa0b5835-866f-4064-be06-37a1d3f14d76"
      },
      "source": [
        "cm = confusion_matrix(respostas_reais, previsoes_final)\n",
        "cm"
      ],
      "execution_count": 68,
      "outputs": [
        {
          "output_type": "execute_result",
          "data": {
            "text/plain": [
              "array([[2493,    7],\n",
              "       [   6, 2494]])"
            ]
          },
          "metadata": {},
          "execution_count": 68
        }
      ]
    },
    {
      "cell_type": "code",
      "metadata": {
        "id": "WCe0F3G8zQkW",
        "colab": {
          "base_uri": "https://localhost:8080/",
          "height": 282
        },
        "outputId": "4ef2e10f-5d75-41b6-f1f0-0ed122123d24"
      },
      "source": [
        "sns.heatmap(cm, annot=True) #Teve erros em positivos e negativos"
      ],
      "execution_count": 69,
      "outputs": [
        {
          "output_type": "execute_result",
          "data": {
            "text/plain": [
              "<matplotlib.axes._subplots.AxesSubplot at 0x7faa76cc1f50>"
            ]
          },
          "metadata": {},
          "execution_count": 69
        },
        {
          "output_type": "display_data",
          "data": {
            "text/plain": [
              "<Figure size 432x288 with 2 Axes>"
            ],
            "image/png": "[encoded data removed]"
          },
          "metadata": {
            "needs_background": "light"
          }
        }
      ]
    }
  ]
}