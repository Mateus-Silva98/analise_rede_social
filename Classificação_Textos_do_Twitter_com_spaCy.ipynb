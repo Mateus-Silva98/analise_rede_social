{
  "nbformat": 4,
  "nbformat_minor": 0,
  "metadata": {
    "colab": {
      "name": "Classificação - Textos do Twitter com spaCy.ipynb",
      "provenance": [],
      "collapsed_sections": [],
      "include_colab_link": true
    },
    "kernelspec": {
      "name": "python3",
      "display_name": "Python 3"
    },
    "accelerator": "TPU"
  },
  "cells": [
    {
      "cell_type": "markdown",
      "metadata": {
        "id": "view-in-github",
        "colab_type": "text"
      },
      "source": [
        "<a href=\"https://colab.research.google.com/github/Mateus-Silva98/analise_rede_social/blob/main/Classifica%C3%A7%C3%A3o_Textos_do_Twitter_com_spaCy.ipynb\" target=\"_parent\"><img src=\"https://colab.research.google.com/assets/colab-badge.svg\" alt=\"Open In Colab\"/></a>"
      ]
    },
    {
      "cell_type": "markdown",
      "metadata": {
        "id": "AGgw36kc8udU"
      },
      "source": [
        "# Classificação de textos do Twitter com spaCy"
      ]
    },
    {
      "cell_type": "markdown",
      "metadata": {
        "id": "JtJGnXGi8zt9"
      },
      "source": [
        "# Etapa 1: Importação e instalação das bibliotecas"
      ]
    },
    {
      "cell_type": "code",
      "metadata": {
        "id": "Xh86jT1k_299"
      },
      "source": [
        "#!pip install spacy --upgrade # Retornando uma mais atual\n",
        "#!pip uninstall spacy -y\n",
        "!pip install -q spacy==2.2.3 #Atualizado: 02/05/2021 Obs: utilizar esta versão. # Setado a versão do colab "
      ],
      "execution_count": 1,
      "outputs": []
    },
    {
      "cell_type": "code",
      "metadata": {
        "id": "T1ZYK4Svri9a",
        "colab": {
          "base_uri": "https://localhost:8080/",
          "height": 35
        },
        "outputId": "e5a7e06b-a536-42b6-c537-651da5db3e36"
      },
      "source": [
        "import spacy\n",
        "spacy.__version__"
      ],
      "execution_count": 2,
      "outputs": [
        {
          "output_type": "execute_result",
          "data": {
            "text/plain": [
              "'2.2.3'"
            ],
            "application/vnd.google.colaboratory.intrinsic+json": {
              "type": "string"
            }
          },
          "metadata": {},
          "execution_count": 2
        }
      ]
    },
    {
      "cell_type": "code",
      "metadata": {
        "id": "BbXiQKovAAy_",
        "colab": {
          "base_uri": "https://localhost:8080/"
        },
        "outputId": "f0494c7c-f74b-4b39-8b65-aee03406de89"
      },
      "source": [
        "#!pip uninstall -m spacy download pt #_core_news_sm\n",
        "!python3 -m spacy download pt #_core_news_sm\n",
        "\n",
        " #pt  As of spaCy v3.0, shortcuts like 'pt' are deprecated. Please use the full pipeline package name 'pt_core_news_sm' instead."
      ],
      "execution_count": 5,
      "outputs": [
        {
          "output_type": "stream",
          "name": "stdout",
          "text": [
            "Looking in indexes: https://pypi.org/simple, https://us-python.pkg.dev/colab-wheels/public/simple/\n",
            "Collecting pt_core_news_sm==2.2.5\n",
            "  Downloading https://github.com/explosion/spacy-models/releases/download/pt_core_news_sm-2.2.5/pt_core_news_sm-2.2.5.tar.gz (21.2 MB)\n",
            "\u001b[K     |████████████████████████████████| 21.2 MB 1.4 MB/s \n",
            "\u001b[?25hRequirement already satisfied: spacy>=2.2.2 in /usr/local/lib/python3.7/dist-packages (from pt_core_news_sm==2.2.5) (2.2.3)\n",
            "Requirement already satisfied: murmurhash<1.1.0,>=0.28.0 in /usr/local/lib/python3.7/dist-packages (from spacy>=2.2.2->pt_core_news_sm==2.2.5) (1.0.7)\n",
            "Requirement already satisfied: cymem<2.1.0,>=2.0.2 in /usr/local/lib/python3.7/dist-packages (from spacy>=2.2.2->pt_core_news_sm==2.2.5) (2.0.6)\n",
            "Requirement already satisfied: setuptools in /usr/local/lib/python3.7/dist-packages (from spacy>=2.2.2->pt_core_news_sm==2.2.5) (57.4.0)\n",
            "Requirement already satisfied: preshed<3.1.0,>=3.0.2 in /usr/local/lib/python3.7/dist-packages (from spacy>=2.2.2->pt_core_news_sm==2.2.5) (3.0.6)\n",
            "Requirement already satisfied: thinc<7.4.0,>=7.3.0 in /usr/local/lib/python3.7/dist-packages (from spacy>=2.2.2->pt_core_news_sm==2.2.5) (7.3.1)\n",
            "Requirement already satisfied: catalogue<1.1.0,>=0.0.7 in /usr/local/lib/python3.7/dist-packages (from spacy>=2.2.2->pt_core_news_sm==2.2.5) (1.0.0)\n",
            "Requirement already satisfied: blis<0.5.0,>=0.4.0 in /usr/local/lib/python3.7/dist-packages (from spacy>=2.2.2->pt_core_news_sm==2.2.5) (0.4.1)\n",
            "Requirement already satisfied: wasabi<1.1.0,>=0.4.0 in /usr/local/lib/python3.7/dist-packages (from spacy>=2.2.2->pt_core_news_sm==2.2.5) (0.10.1)\n",
            "Requirement already satisfied: numpy>=1.15.0 in /usr/local/lib/python3.7/dist-packages (from spacy>=2.2.2->pt_core_news_sm==2.2.5) (1.21.6)\n",
            "Requirement already satisfied: requests<3.0.0,>=2.13.0 in /usr/local/lib/python3.7/dist-packages (from spacy>=2.2.2->pt_core_news_sm==2.2.5) (2.23.0)\n",
            "Requirement already satisfied: plac<1.2.0,>=0.9.6 in /usr/local/lib/python3.7/dist-packages (from spacy>=2.2.2->pt_core_news_sm==2.2.5) (1.1.3)\n",
            "Requirement already satisfied: srsly<1.1.0,>=0.1.0 in /usr/local/lib/python3.7/dist-packages (from spacy>=2.2.2->pt_core_news_sm==2.2.5) (1.0.5)\n",
            "Requirement already satisfied: importlib-metadata>=0.20 in /usr/local/lib/python3.7/dist-packages (from catalogue<1.1.0,>=0.0.7->spacy>=2.2.2->pt_core_news_sm==2.2.5) (4.12.0)\n",
            "Requirement already satisfied: zipp>=0.5 in /usr/local/lib/python3.7/dist-packages (from importlib-metadata>=0.20->catalogue<1.1.0,>=0.0.7->spacy>=2.2.2->pt_core_news_sm==2.2.5) (3.8.1)\n",
            "Requirement already satisfied: typing-extensions>=3.6.4 in /usr/local/lib/python3.7/dist-packages (from importlib-metadata>=0.20->catalogue<1.1.0,>=0.0.7->spacy>=2.2.2->pt_core_news_sm==2.2.5) (4.1.1)\n",
            "Requirement already satisfied: urllib3!=1.25.0,!=1.25.1,<1.26,>=1.21.1 in /usr/local/lib/python3.7/dist-packages (from requests<3.0.0,>=2.13.0->spacy>=2.2.2->pt_core_news_sm==2.2.5) (1.24.3)\n",
            "Requirement already satisfied: certifi>=2017.4.17 in /usr/local/lib/python3.7/dist-packages (from requests<3.0.0,>=2.13.0->spacy>=2.2.2->pt_core_news_sm==2.2.5) (2022.6.15)\n",
            "Requirement already satisfied: chardet<4,>=3.0.2 in /usr/local/lib/python3.7/dist-packages (from requests<3.0.0,>=2.13.0->spacy>=2.2.2->pt_core_news_sm==2.2.5) (3.0.4)\n",
            "Requirement already satisfied: idna<3,>=2.5 in /usr/local/lib/python3.7/dist-packages (from requests<3.0.0,>=2.13.0->spacy>=2.2.2->pt_core_news_sm==2.2.5) (2.10)\n",
            "Requirement already satisfied: tqdm<5.0.0,>=4.10.0 in /usr/local/lib/python3.7/dist-packages (from thinc<7.4.0,>=7.3.0->spacy>=2.2.2->pt_core_news_sm==2.2.5) (4.64.0)\n",
            "Building wheels for collected packages: pt-core-news-sm\n",
            "  Building wheel for pt-core-news-sm (setup.py) ... \u001b[?25l\u001b[?25hdone\n",
            "  Created wheel for pt-core-news-sm: filename=pt_core_news_sm-2.2.5-py3-none-any.whl size=21186281 sha256=129856e92f1ab2dbcea47309ad15bcd4b29d13d8909a6db7d800647329511bd0\n",
            "  Stored in directory: /tmp/pip-ephem-wheel-cache-9gl72k9a/wheels/c3/f9/0c/5c014a36941a00f5df5fc0756cb961d7c457a978e697a6ce3b\n",
            "Successfully built pt-core-news-sm\n",
            "Installing collected packages: pt-core-news-sm\n",
            "  Attempting uninstall: pt-core-news-sm\n",
            "    Found existing installation: pt-core-news-sm 3.4.0\n",
            "    Uninstalling pt-core-news-sm-3.4.0:\n",
            "      Successfully uninstalled pt-core-news-sm-3.4.0\n",
            "Successfully installed pt-core-news-sm-2.2.5\n",
            "\u001b[38;5;2m✔ Download and installation successful\u001b[0m\n",
            "You can now load the model via spacy.load('pt_core_news_sm')\n",
            "\u001b[38;5;2m✔ Linking successful\u001b[0m\n",
            "/usr/local/lib/python3.7/dist-packages/pt_core_news_sm -->\n",
            "/usr/local/lib/python3.7/dist-packages/spacy/data/pt\n",
            "You can now load the model via spacy.load('pt')\n"
          ]
        }
      ]
    },
    {
      "cell_type": "code",
      "metadata": {
        "id": "DelYAveq8yuX"
      },
      "source": [
        "import pandas as pd\n",
        "import string\n",
        "import spacy\n",
        "import random\n",
        "import seaborn as sns #geração de gráficos\n",
        "import numpy as np\n",
        "import re #expressões regulares"
      ],
      "execution_count": 6,
      "outputs": []
    },
    {
      "cell_type": "markdown",
      "metadata": {
        "id": "iE3VMD8t86ky"
      },
      "source": [
        "# Etapa 2: Carregamento das bases de dados\n",
        "\n",
        "- Link Kaggle: https://www.kaggle.com/augustop/portuguese-tweets-for-sentiment-analysis#TweetsNeutralHash.csv"
      ]
    },
    {
      "cell_type": "markdown",
      "metadata": {
        "id": "472HCiGNxsGm"
      },
      "source": [
        "## Base de treinamento\n",
        "\n",
        "- Negative label: 0\n",
        "- Positive label: 1"
      ]
    },
    {
      "cell_type": "code",
      "metadata": {
        "id": "jqsZesTIj1D1"
      },
      "source": [
        "base_treinamento = pd.read_csv('/content/Train50.csv', delimiter=';') #lendo o arquivo"
      ],
      "execution_count": 7,
      "outputs": []
    },
    {
      "cell_type": "code",
      "source": [
        "from google.colab import drive\n",
        "drive.mount('/content/drive')"
      ],
      "metadata": {
        "colab": {
          "base_uri": "https://localhost:8080/"
        },
        "id": "wCELzEf-qNY-",
        "outputId": "3e27df56-ad47-463f-8537-3c9d2b49eae4"
      },
      "execution_count": 8,
      "outputs": [
        {
          "output_type": "stream",
          "name": "stdout",
          "text": [
            "Drive already mounted at /content/drive; to attempt to forcibly remount, call drive.mount(\"/content/drive\", force_remount=True).\n"
          ]
        }
      ]
    },
    {
      "cell_type": "code",
      "metadata": {
        "id": "kkNNr-fokG5Z",
        "colab": {
          "base_uri": "https://localhost:8080/"
        },
        "outputId": "c99643eb-e32a-405a-9a18-11ae234dc163"
      },
      "source": [
        "base_treinamento.shape"
      ],
      "execution_count": 9,
      "outputs": [
        {
          "output_type": "execute_result",
          "data": {
            "text/plain": [
              "(50000, 5)"
            ]
          },
          "metadata": {},
          "execution_count": 9
        }
      ]
    },
    {
      "cell_type": "code",
      "metadata": {
        "id": "ian62Lo5kKXp",
        "colab": {
          "base_uri": "https://localhost:8080/",
          "height": 337
        },
        "outputId": "6064b5a1-849f-451f-c45c-da9fb2de10ea"
      },
      "source": [
        "base_treinamento.head()"
      ],
      "execution_count": 10,
      "outputs": [
        {
          "output_type": "execute_result",
          "data": {
            "text/plain": [
              "                    id                                         tweet_text  \\\n",
              "0  1050785521201541121  @Laranjito76 A pessoa certa para isso seria o ...   \n",
              "1  1050785431955140608  @behin_d_curtain Para mim, é precisamente o co...   \n",
              "2  1050785401248645120  Vou fazer um video hoje... estou pensando em f...   \n",
              "3  1050785370982547461  aaaaaaaa amei tanto essas polaroids, nem sei e...   \n",
              "4  1050785368902131713  Valoriza o coração do menininho que vc tem. El...   \n",
              "\n",
              "                       tweet_date  sentiment query_used  \n",
              "0  Fri Oct 12 16:29:25 +0000 2018          1         :)  \n",
              "1  Fri Oct 12 16:29:04 +0000 2018          1         :)  \n",
              "2  Fri Oct 12 16:28:56 +0000 2018          1         :)  \n",
              "3  Fri Oct 12 16:28:49 +0000 2018          1         :)  \n",
              "4  Fri Oct 12 16:28:49 +0000 2018          1         :)  "
            ],
            "text/html": [
              "\n",
              "  <div id=\"df-633988d8-81b5-43c2-9401-9df444f6eea5\">\n",
              "    <div class=\"colab-df-container\">\n",
              "      <div>\n",
              "<style scoped>\n",
              "    .dataframe tbody tr th:only-of-type {\n",
              "        vertical-align: middle;\n",
              "    }\n",
              "\n",
              "    .dataframe tbody tr th {\n",
              "        vertical-align: top;\n",
              "    }\n",
              "\n",
              "    .dataframe thead th {\n",
              "        text-align: right;\n",
              "    }\n",
              "</style>\n",
              "<table border=\"1\" class=\"dataframe\">\n",
              "  <thead>\n",
              "    <tr style=\"text-align: right;\">\n",
              "      <th></th>\n",
              "      <th>id</th>\n",
              "      <th>tweet_text</th>\n",
              "      <th>tweet_date</th>\n",
              "      <th>sentiment</th>\n",
              "      <th>query_used</th>\n",
              "    </tr>\n",
              "  </thead>\n",
              "  <tbody>\n",
              "    <tr>\n",
              "      <th>0</th>\n",
              "      <td>1050785521201541121</td>\n",
              "      <td>@Laranjito76 A pessoa certa para isso seria o ...</td>\n",
              "      <td>Fri Oct 12 16:29:25 +0000 2018</td>\n",
              "      <td>1</td>\n",
              "      <td>:)</td>\n",
              "    </tr>\n",
              "    <tr>\n",
              "      <th>1</th>\n",
              "      <td>1050785431955140608</td>\n",
              "      <td>@behin_d_curtain Para mim, é precisamente o co...</td>\n",
              "      <td>Fri Oct 12 16:29:04 +0000 2018</td>\n",
              "      <td>1</td>\n",
              "      <td>:)</td>\n",
              "    </tr>\n",
              "    <tr>\n",
              "      <th>2</th>\n",
              "      <td>1050785401248645120</td>\n",
              "      <td>Vou fazer um video hoje... estou pensando em f...</td>\n",
              "      <td>Fri Oct 12 16:28:56 +0000 2018</td>\n",
              "      <td>1</td>\n",
              "      <td>:)</td>\n",
              "    </tr>\n",
              "    <tr>\n",
              "      <th>3</th>\n",
              "      <td>1050785370982547461</td>\n",
              "      <td>aaaaaaaa amei tanto essas polaroids, nem sei e...</td>\n",
              "      <td>Fri Oct 12 16:28:49 +0000 2018</td>\n",
              "      <td>1</td>\n",
              "      <td>:)</td>\n",
              "    </tr>\n",
              "    <tr>\n",
              "      <th>4</th>\n",
              "      <td>1050785368902131713</td>\n",
              "      <td>Valoriza o coração do menininho que vc tem. El...</td>\n",
              "      <td>Fri Oct 12 16:28:49 +0000 2018</td>\n",
              "      <td>1</td>\n",
              "      <td>:)</td>\n",
              "    </tr>\n",
              "  </tbody>\n",
              "</table>\n",
              "</div>\n",
              "      <button class=\"colab-df-convert\" onclick=\"convertToInteractive('df-633988d8-81b5-43c2-9401-9df444f6eea5')\"\n",
              "              title=\"Convert this dataframe to an interactive table.\"\n",
              "              style=\"display:none;\">\n",
              "        \n",
              "  <svg xmlns=\"http://www.w3.org/2000/svg\" height=\"24px\"viewBox=\"0 0 24 24\"\n",
              "       width=\"24px\">\n",
              "    <path d=\"M0 0h24v24H0V0z\" fill=\"none\"/>\n",
              "    <path d=\"M18.56 5.44l.94 2.06.94-2.06 2.06-.94-2.06-.94-.94-2.06-.94 2.06-2.06.94zm-11 1L8.5 8.5l.94-2.06 2.06-.94-2.06-.94L8.5 2.5l-.94 2.06-2.06.94zm10 10l.94 2.06.94-2.06 2.06-.94-2.06-.94-.94-2.06-.94 2.06-2.06.94z\"/><path d=\"M17.41 7.96l-1.37-1.37c-.4-.4-.92-.59-1.43-.59-.52 0-1.04.2-1.43.59L10.3 9.45l-7.72 7.72c-.78.78-.78 2.05 0 2.83L4 21.41c.39.39.9.59 1.41.59.51 0 1.02-.2 1.41-.59l7.78-7.78 2.81-2.81c.8-.78.8-2.07 0-2.86zM5.41 20L4 18.59l7.72-7.72 1.47 1.35L5.41 20z\"/>\n",
              "  </svg>\n",
              "      </button>\n",
              "      \n",
              "  <style>\n",
              "    .colab-df-container {\n",
              "      display:flex;\n",
              "      flex-wrap:wrap;\n",
              "      gap: 12px;\n",
              "    }\n",
              "\n",
              "    .colab-df-convert {\n",
              "      background-color: #E8F0FE;\n",
              "      border: none;\n",
              "      border-radius: 50%;\n",
              "      cursor: pointer;\n",
              "      display: none;\n",
              "      fill: #1967D2;\n",
              "      height: 32px;\n",
              "      padding: 0 0 0 0;\n",
              "      width: 32px;\n",
              "    }\n",
              "\n",
              "    .colab-df-convert:hover {\n",
              "      background-color: #E2EBFA;\n",
              "      box-shadow: 0px 1px 2px rgba(60, 64, 67, 0.3), 0px 1px 3px 1px rgba(60, 64, 67, 0.15);\n",
              "      fill: #174EA6;\n",
              "    }\n",
              "\n",
              "    [theme=dark] .colab-df-convert {\n",
              "      background-color: #3B4455;\n",
              "      fill: #D2E3FC;\n",
              "    }\n",
              "\n",
              "    [theme=dark] .colab-df-convert:hover {\n",
              "      background-color: #434B5C;\n",
              "      box-shadow: 0px 1px 3px 1px rgba(0, 0, 0, 0.15);\n",
              "      filter: drop-shadow(0px 1px 2px rgba(0, 0, 0, 0.3));\n",
              "      fill: #FFFFFF;\n",
              "    }\n",
              "  </style>\n",
              "\n",
              "      <script>\n",
              "        const buttonEl =\n",
              "          document.querySelector('#df-633988d8-81b5-43c2-9401-9df444f6eea5 button.colab-df-convert');\n",
              "        buttonEl.style.display =\n",
              "          google.colab.kernel.accessAllowed ? 'block' : 'none';\n",
              "\n",
              "        async function convertToInteractive(key) {\n",
              "          const element = document.querySelector('#df-633988d8-81b5-43c2-9401-9df444f6eea5');\n",
              "          const dataTable =\n",
              "            await google.colab.kernel.invokeFunction('convertToInteractive',\n",
              "                                                     [key], {});\n",
              "          if (!dataTable) return;\n",
              "\n",
              "          const docLinkHtml = 'Like what you see? Visit the ' +\n",
              "            '<a target=\"_blank\" href=https://colab.research.google.com/notebooks/data_table.ipynb>data table notebook</a>'\n",
              "            + ' to learn more about interactive tables.';\n",
              "          element.innerHTML = '';\n",
              "          dataTable['output_type'] = 'display_data';\n",
              "          await google.colab.output.renderOutput(dataTable, element);\n",
              "          const docLink = document.createElement('div');\n",
              "          docLink.innerHTML = docLinkHtml;\n",
              "          element.appendChild(docLink);\n",
              "        }\n",
              "      </script>\n",
              "    </div>\n",
              "  </div>\n",
              "  "
            ]
          },
          "metadata": {},
          "execution_count": 10
        }
      ]
    },
    {
      "cell_type": "code",
      "metadata": {
        "id": "xFrzQLCckhEW",
        "colab": {
          "base_uri": "https://localhost:8080/",
          "height": 337
        },
        "outputId": "dcb8372c-724a-415b-c2eb-6b95fccef18f"
      },
      "source": [
        "base_treinamento.tail() #os últimos registros"
      ],
      "execution_count": 12,
      "outputs": [
        {
          "output_type": "execute_result",
          "data": {
            "text/plain": [
              "                        id                                         tweet_text  \\\n",
              "49995  1046762827053232128     :( é tão lindo que dói https://t.co/GqnpgyWWxB   \n",
              "49996  1046762813362966529  @veraluciarj Pois é.. tenho problema c/ \"coisa...   \n",
              "49997  1046762806392082432  eu te amo tanto minja vidinha meu bem mais pre...   \n",
              "49998  1046762752071618560                      @itsLary @jessboluda Pfvor :(   \n",
              "49999  1046762735340584962  @Renk_lol Passa ano Entra ano Eu nao desisto d...   \n",
              "\n",
              "                           tweet_date  sentiment query_used  \n",
              "49995  Mon Oct 01 14:04:40 +0000 2018          0         :(  \n",
              "49996  Mon Oct 01 14:04:37 +0000 2018          0         :(  \n",
              "49997  Mon Oct 01 14:04:35 +0000 2018          0         :(  \n",
              "49998  Mon Oct 01 14:04:22 +0000 2018          0         :(  \n",
              "49999  Mon Oct 01 14:04:18 +0000 2018          0         :(  "
            ],
            "text/html": [
              "\n",
              "  <div id=\"df-e6ae5257-7096-485d-bbc4-6aec45d1844d\">\n",
              "    <div class=\"colab-df-container\">\n",
              "      <div>\n",
              "<style scoped>\n",
              "    .dataframe tbody tr th:only-of-type {\n",
              "        vertical-align: middle;\n",
              "    }\n",
              "\n",
              "    .dataframe tbody tr th {\n",
              "        vertical-align: top;\n",
              "    }\n",
              "\n",
              "    .dataframe thead th {\n",
              "        text-align: right;\n",
              "    }\n",
              "</style>\n",
              "<table border=\"1\" class=\"dataframe\">\n",
              "  <thead>\n",
              "    <tr style=\"text-align: right;\">\n",
              "      <th></th>\n",
              "      <th>id</th>\n",
              "      <th>tweet_text</th>\n",
              "      <th>tweet_date</th>\n",
              "      <th>sentiment</th>\n",
              "      <th>query_used</th>\n",
              "    </tr>\n",
              "  </thead>\n",
              "  <tbody>\n",
              "    <tr>\n",
              "      <th>49995</th>\n",
              "      <td>1046762827053232128</td>\n",
              "      <td>:( é tão lindo que dói https://t.co/GqnpgyWWxB</td>\n",
              "      <td>Mon Oct 01 14:04:40 +0000 2018</td>\n",
              "      <td>0</td>\n",
              "      <td>:(</td>\n",
              "    </tr>\n",
              "    <tr>\n",
              "      <th>49996</th>\n",
              "      <td>1046762813362966529</td>\n",
              "      <td>@veraluciarj Pois é.. tenho problema c/ \"coisa...</td>\n",
              "      <td>Mon Oct 01 14:04:37 +0000 2018</td>\n",
              "      <td>0</td>\n",
              "      <td>:(</td>\n",
              "    </tr>\n",
              "    <tr>\n",
              "      <th>49997</th>\n",
              "      <td>1046762806392082432</td>\n",
              "      <td>eu te amo tanto minja vidinha meu bem mais pre...</td>\n",
              "      <td>Mon Oct 01 14:04:35 +0000 2018</td>\n",
              "      <td>0</td>\n",
              "      <td>:(</td>\n",
              "    </tr>\n",
              "    <tr>\n",
              "      <th>49998</th>\n",
              "      <td>1046762752071618560</td>\n",
              "      <td>@itsLary @jessboluda Pfvor :(</td>\n",
              "      <td>Mon Oct 01 14:04:22 +0000 2018</td>\n",
              "      <td>0</td>\n",
              "      <td>:(</td>\n",
              "    </tr>\n",
              "    <tr>\n",
              "      <th>49999</th>\n",
              "      <td>1046762735340584962</td>\n",
              "      <td>@Renk_lol Passa ano Entra ano Eu nao desisto d...</td>\n",
              "      <td>Mon Oct 01 14:04:18 +0000 2018</td>\n",
              "      <td>0</td>\n",
              "      <td>:(</td>\n",
              "    </tr>\n",
              "  </tbody>\n",
              "</table>\n",
              "</div>\n",
              "      <button class=\"colab-df-convert\" onclick=\"convertToInteractive('df-e6ae5257-7096-485d-bbc4-6aec45d1844d')\"\n",
              "              title=\"Convert this dataframe to an interactive table.\"\n",
              "              style=\"display:none;\">\n",
              "        \n",
              "  <svg xmlns=\"http://www.w3.org/2000/svg\" height=\"24px\"viewBox=\"0 0 24 24\"\n",
              "       width=\"24px\">\n",
              "    <path d=\"M0 0h24v24H0V0z\" fill=\"none\"/>\n",
              "    <path d=\"M18.56 5.44l.94 2.06.94-2.06 2.06-.94-2.06-.94-.94-2.06-.94 2.06-2.06.94zm-11 1L8.5 8.5l.94-2.06 2.06-.94-2.06-.94L8.5 2.5l-.94 2.06-2.06.94zm10 10l.94 2.06.94-2.06 2.06-.94-2.06-.94-.94-2.06-.94 2.06-2.06.94z\"/><path d=\"M17.41 7.96l-1.37-1.37c-.4-.4-.92-.59-1.43-.59-.52 0-1.04.2-1.43.59L10.3 9.45l-7.72 7.72c-.78.78-.78 2.05 0 2.83L4 21.41c.39.39.9.59 1.41.59.51 0 1.02-.2 1.41-.59l7.78-7.78 2.81-2.81c.8-.78.8-2.07 0-2.86zM5.41 20L4 18.59l7.72-7.72 1.47 1.35L5.41 20z\"/>\n",
              "  </svg>\n",
              "      </button>\n",
              "      \n",
              "  <style>\n",
              "    .colab-df-container {\n",
              "      display:flex;\n",
              "      flex-wrap:wrap;\n",
              "      gap: 12px;\n",
              "    }\n",
              "\n",
              "    .colab-df-convert {\n",
              "      background-color: #E8F0FE;\n",
              "      border: none;\n",
              "      border-radius: 50%;\n",
              "      cursor: pointer;\n",
              "      display: none;\n",
              "      fill: #1967D2;\n",
              "      height: 32px;\n",
              "      padding: 0 0 0 0;\n",
              "      width: 32px;\n",
              "    }\n",
              "\n",
              "    .colab-df-convert:hover {\n",
              "      background-color: #E2EBFA;\n",
              "      box-shadow: 0px 1px 2px rgba(60, 64, 67, 0.3), 0px 1px 3px 1px rgba(60, 64, 67, 0.15);\n",
              "      fill: #174EA6;\n",
              "    }\n",
              "\n",
              "    [theme=dark] .colab-df-convert {\n",
              "      background-color: #3B4455;\n",
              "      fill: #D2E3FC;\n",
              "    }\n",
              "\n",
              "    [theme=dark] .colab-df-convert:hover {\n",
              "      background-color: #434B5C;\n",
              "      box-shadow: 0px 1px 3px 1px rgba(0, 0, 0, 0.15);\n",
              "      filter: drop-shadow(0px 1px 2px rgba(0, 0, 0, 0.3));\n",
              "      fill: #FFFFFF;\n",
              "    }\n",
              "  </style>\n",
              "\n",
              "      <script>\n",
              "        const buttonEl =\n",
              "          document.querySelector('#df-e6ae5257-7096-485d-bbc4-6aec45d1844d button.colab-df-convert');\n",
              "        buttonEl.style.display =\n",
              "          google.colab.kernel.accessAllowed ? 'block' : 'none';\n",
              "\n",
              "        async function convertToInteractive(key) {\n",
              "          const element = document.querySelector('#df-e6ae5257-7096-485d-bbc4-6aec45d1844d');\n",
              "          const dataTable =\n",
              "            await google.colab.kernel.invokeFunction('convertToInteractive',\n",
              "                                                     [key], {});\n",
              "          if (!dataTable) return;\n",
              "\n",
              "          const docLinkHtml = 'Like what you see? Visit the ' +\n",
              "            '<a target=\"_blank\" href=https://colab.research.google.com/notebooks/data_table.ipynb>data table notebook</a>'\n",
              "            + ' to learn more about interactive tables.';\n",
              "          element.innerHTML = '';\n",
              "          dataTable['output_type'] = 'display_data';\n",
              "          await google.colab.output.renderOutput(dataTable, element);\n",
              "          const docLink = document.createElement('div');\n",
              "          docLink.innerHTML = docLinkHtml;\n",
              "          element.appendChild(docLink);\n",
              "        }\n",
              "      </script>\n",
              "    </div>\n",
              "  </div>\n",
              "  "
            ]
          },
          "metadata": {},
          "execution_count": 12
        }
      ]
    },
    {
      "cell_type": "code",
      "metadata": {
        "id": "IVVwuPGhkm5h",
        "colab": {
          "base_uri": "https://localhost:8080/",
          "height": 334
        },
        "outputId": "5ceb17db-4d60-4514-dacb-a986e6807c25"
      },
      "source": [
        "sns.countplot(base_treinamento['sentiment'], label = 'Contagem');"
      ],
      "execution_count": 11,
      "outputs": [
        {
          "output_type": "stream",
          "name": "stderr",
          "text": [
            "/usr/local/lib/python3.7/dist-packages/seaborn/_decorators.py:43: FutureWarning: Pass the following variable as a keyword arg: x. From version 0.12, the only valid positional argument will be `data`, and passing other arguments without an explicit keyword will result in an error or misinterpretation.\n",
            "  FutureWarning\n"
          ]
        },
        {
          "output_type": "display_data",
          "data": {
            "text/plain": [
              "<Figure size 432x288 with 1 Axes>"
            ],
            "image/png": "[encoded data removed]"
          },
          "metadata": {
            "needs_background": "light"
          }
        }
      ]
    },
    {
      "cell_type": "code",
      "metadata": {
        "id": "-xTh-gqelMWn"
      },
      "source": [
        "base_treinamento.drop(['id', 'tweet_date', 'query_used'], axis = 1, inplace=True)"
      ],
      "execution_count": 12,
      "outputs": []
    },
    {
      "cell_type": "code",
      "metadata": {
        "id": "82hWS5cklVZ_",
        "colab": {
          "base_uri": "https://localhost:8080/",
          "height": 206
        },
        "outputId": "b923a859-4863-475b-e653-d5fe7147b024"
      },
      "source": [
        "base_treinamento.head()"
      ],
      "execution_count": 13,
      "outputs": [
        {
          "output_type": "execute_result",
          "data": {
            "text/plain": [
              "                                          tweet_text  sentiment\n",
              "0  @Laranjito76 A pessoa certa para isso seria o ...          1\n",
              "1  @behin_d_curtain Para mim, é precisamente o co...          1\n",
              "2  Vou fazer um video hoje... estou pensando em f...          1\n",
              "3  aaaaaaaa amei tanto essas polaroids, nem sei e...          1\n",
              "4  Valoriza o coração do menininho que vc tem. El...          1"
            ],
            "text/html": [
              "\n",
              "  <div id=\"df-8b24e708-879d-4981-9b74-9bb50db8b8ed\">\n",
              "    <div class=\"colab-df-container\">\n",
              "      <div>\n",
              "<style scoped>\n",
              "    .dataframe tbody tr th:only-of-type {\n",
              "        vertical-align: middle;\n",
              "    }\n",
              "\n",
              "    .dataframe tbody tr th {\n",
              "        vertical-align: top;\n",
              "    }\n",
              "\n",
              "    .dataframe thead th {\n",
              "        text-align: right;\n",
              "    }\n",
              "</style>\n",
              "<table border=\"1\" class=\"dataframe\">\n",
              "  <thead>\n",
              "    <tr style=\"text-align: right;\">\n",
              "      <th></th>\n",
              "      <th>tweet_text</th>\n",
              "      <th>sentiment</th>\n",
              "    </tr>\n",
              "  </thead>\n",
              "  <tbody>\n",
              "    <tr>\n",
              "      <th>0</th>\n",
              "      <td>@Laranjito76 A pessoa certa para isso seria o ...</td>\n",
              "      <td>1</td>\n",
              "    </tr>\n",
              "    <tr>\n",
              "      <th>1</th>\n",
              "      <td>@behin_d_curtain Para mim, é precisamente o co...</td>\n",
              "      <td>1</td>\n",
              "    </tr>\n",
              "    <tr>\n",
              "      <th>2</th>\n",
              "      <td>Vou fazer um video hoje... estou pensando em f...</td>\n",
              "      <td>1</td>\n",
              "    </tr>\n",
              "    <tr>\n",
              "      <th>3</th>\n",
              "      <td>aaaaaaaa amei tanto essas polaroids, nem sei e...</td>\n",
              "      <td>1</td>\n",
              "    </tr>\n",
              "    <tr>\n",
              "      <th>4</th>\n",
              "      <td>Valoriza o coração do menininho que vc tem. El...</td>\n",
              "      <td>1</td>\n",
              "    </tr>\n",
              "  </tbody>\n",
              "</table>\n",
              "</div>\n",
              "      <button class=\"colab-df-convert\" onclick=\"convertToInteractive('df-8b24e708-879d-4981-9b74-9bb50db8b8ed')\"\n",
              "              title=\"Convert this dataframe to an interactive table.\"\n",
              "              style=\"display:none;\">\n",
              "        \n",
              "  <svg xmlns=\"http://www.w3.org/2000/svg\" height=\"24px\"viewBox=\"0 0 24 24\"\n",
              "       width=\"24px\">\n",
              "    <path d=\"M0 0h24v24H0V0z\" fill=\"none\"/>\n",
              "    <path d=\"M18.56 5.44l.94 2.06.94-2.06 2.06-.94-2.06-.94-.94-2.06-.94 2.06-2.06.94zm-11 1L8.5 8.5l.94-2.06 2.06-.94-2.06-.94L8.5 2.5l-.94 2.06-2.06.94zm10 10l.94 2.06.94-2.06 2.06-.94-2.06-.94-.94-2.06-.94 2.06-2.06.94z\"/><path d=\"M17.41 7.96l-1.37-1.37c-.4-.4-.92-.59-1.43-.59-.52 0-1.04.2-1.43.59L10.3 9.45l-7.72 7.72c-.78.78-.78 2.05 0 2.83L4 21.41c.39.39.9.59 1.41.59.51 0 1.02-.2 1.41-.59l7.78-7.78 2.81-2.81c.8-.78.8-2.07 0-2.86zM5.41 20L4 18.59l7.72-7.72 1.47 1.35L5.41 20z\"/>\n",
              "  </svg>\n",
              "      </button>\n",
              "      \n",
              "  <style>\n",
              "    .colab-df-container {\n",
              "      display:flex;\n",
              "      flex-wrap:wrap;\n",
              "      gap: 12px;\n",
              "    }\n",
              "\n",
              "    .colab-df-convert {\n",
              "      background-color: #E8F0FE;\n",
              "      border: none;\n",
              "      border-radius: 50%;\n",
              "      cursor: pointer;\n",
              "      display: none;\n",
              "      fill: #1967D2;\n",
              "      height: 32px;\n",
              "      padding: 0 0 0 0;\n",
              "      width: 32px;\n",
              "    }\n",
              "\n",
              "    .colab-df-convert:hover {\n",
              "      background-color: #E2EBFA;\n",
              "      box-shadow: 0px 1px 2px rgba(60, 64, 67, 0.3), 0px 1px 3px 1px rgba(60, 64, 67, 0.15);\n",
              "      fill: #174EA6;\n",
              "    }\n",
              "\n",
              "    [theme=dark] .colab-df-convert {\n",
              "      background-color: #3B4455;\n",
              "      fill: #D2E3FC;\n",
              "    }\n",
              "\n",
              "    [theme=dark] .colab-df-convert:hover {\n",
              "      background-color: #434B5C;\n",
              "      box-shadow: 0px 1px 3px 1px rgba(0, 0, 0, 0.15);\n",
              "      filter: drop-shadow(0px 1px 2px rgba(0, 0, 0, 0.3));\n",
              "      fill: #FFFFFF;\n",
              "    }\n",
              "  </style>\n",
              "\n",
              "      <script>\n",
              "        const buttonEl =\n",
              "          document.querySelector('#df-8b24e708-879d-4981-9b74-9bb50db8b8ed button.colab-df-convert');\n",
              "        buttonEl.style.display =\n",
              "          google.colab.kernel.accessAllowed ? 'block' : 'none';\n",
              "\n",
              "        async function convertToInteractive(key) {\n",
              "          const element = document.querySelector('#df-8b24e708-879d-4981-9b74-9bb50db8b8ed');\n",
              "          const dataTable =\n",
              "            await google.colab.kernel.invokeFunction('convertToInteractive',\n",
              "                                                     [key], {});\n",
              "          if (!dataTable) return;\n",
              "\n",
              "          const docLinkHtml = 'Like what you see? Visit the ' +\n",
              "            '<a target=\"_blank\" href=https://colab.research.google.com/notebooks/data_table.ipynb>data table notebook</a>'\n",
              "            + ' to learn more about interactive tables.';\n",
              "          element.innerHTML = '';\n",
              "          dataTable['output_type'] = 'display_data';\n",
              "          await google.colab.output.renderOutput(dataTable, element);\n",
              "          const docLink = document.createElement('div');\n",
              "          docLink.innerHTML = docLinkHtml;\n",
              "          element.appendChild(docLink);\n",
              "        }\n",
              "      </script>\n",
              "    </div>\n",
              "  </div>\n",
              "  "
            ]
          },
          "metadata": {},
          "execution_count": 13
        }
      ]
    },
    {
      "cell_type": "code",
      "metadata": {
        "id": "dfMcmaval-7w",
        "colab": {
          "base_uri": "https://localhost:8080/",
          "height": 271
        },
        "outputId": "8f20ffd4-50a1-431e-9793-57c04190708d"
      },
      "source": [
        "sns.heatmap(pd.isnull(base_treinamento));"
      ],
      "execution_count": 16,
      "outputs": [
        {
          "output_type": "display_data",
          "data": {
            "text/plain": [
              "<Figure size 432x288 with 2 Axes>"
            ],
            "image/png": "[encoded data removed]"
          },
          "metadata": {
            "needs_background": "light"
          }
        }
      ]
    },
    {
      "cell_type": "markdown",
      "metadata": {
        "id": "KwANq9uCx-jV"
      },
      "source": [
        "## Base de teste"
      ]
    },
    {
      "cell_type": "code",
      "metadata": {
        "id": "PllVVG-IlYkC"
      },
      "source": [
        "base_teste = pd.read_csv('/content/Test.csv', delimiter=';')"
      ],
      "execution_count": 14,
      "outputs": []
    },
    {
      "cell_type": "code",
      "metadata": {
        "id": "yeiX7jb-lfdE",
        "colab": {
          "base_uri": "https://localhost:8080/",
          "height": 337
        },
        "outputId": "bb8ae89c-767f-4275-8a96-f5bbcb5d6ccf"
      },
      "source": [
        "base_teste.head()"
      ],
      "execution_count": 15,
      "outputs": [
        {
          "output_type": "execute_result",
          "data": {
            "text/plain": [
              "                    id                                         tweet_text  \\\n",
              "0  1029536486021099522                   @Gazo1a Nossa! Muito obrigada :)   \n",
              "1  1029536496368406528             @BerzGamer vai pa puta que te pariu :)   \n",
              "2  1029536531655131137  QUER MAIS DESCONTOS? (14/08) ⭐⭐⭐⭐⭐ 🌐 Confira n...   \n",
              "3  1029536560117678081  EU VOU PEGAR VCS, ME AJUDEM GALERA, PELO AMOR ...   \n",
              "4  1029536605852377088  Estávamos em casa do Zé e eu estava a morrer d...   \n",
              "\n",
              "                       tweet_date  sentiment query_used  \n",
              "0  Wed Aug 15 01:13:20 +0000 2018          1         :)  \n",
              "1  Wed Aug 15 01:13:23 +0000 2018          1         :)  \n",
              "2  Wed Aug 15 01:13:31 +0000 2018          1         :)  \n",
              "3  Wed Aug 15 01:13:38 +0000 2018          1         :)  \n",
              "4  Wed Aug 15 01:13:49 +0000 2018          1         :)  "
            ],
            "text/html": [
              "\n",
              "  <div id=\"df-1220391f-5c0d-4176-9d59-a568aa33b5a6\">\n",
              "    <div class=\"colab-df-container\">\n",
              "      <div>\n",
              "<style scoped>\n",
              "    .dataframe tbody tr th:only-of-type {\n",
              "        vertical-align: middle;\n",
              "    }\n",
              "\n",
              "    .dataframe tbody tr th {\n",
              "        vertical-align: top;\n",
              "    }\n",
              "\n",
              "    .dataframe thead th {\n",
              "        text-align: right;\n",
              "    }\n",
              "</style>\n",
              "<table border=\"1\" class=\"dataframe\">\n",
              "  <thead>\n",
              "    <tr style=\"text-align: right;\">\n",
              "      <th></th>\n",
              "      <th>id</th>\n",
              "      <th>tweet_text</th>\n",
              "      <th>tweet_date</th>\n",
              "      <th>sentiment</th>\n",
              "      <th>query_used</th>\n",
              "    </tr>\n",
              "  </thead>\n",
              "  <tbody>\n",
              "    <tr>\n",
              "      <th>0</th>\n",
              "      <td>1029536486021099522</td>\n",
              "      <td>@Gazo1a Nossa! Muito obrigada :)</td>\n",
              "      <td>Wed Aug 15 01:13:20 +0000 2018</td>\n",
              "      <td>1</td>\n",
              "      <td>:)</td>\n",
              "    </tr>\n",
              "    <tr>\n",
              "      <th>1</th>\n",
              "      <td>1029536496368406528</td>\n",
              "      <td>@BerzGamer vai pa puta que te pariu :)</td>\n",
              "      <td>Wed Aug 15 01:13:23 +0000 2018</td>\n",
              "      <td>1</td>\n",
              "      <td>:)</td>\n",
              "    </tr>\n",
              "    <tr>\n",
              "      <th>2</th>\n",
              "      <td>1029536531655131137</td>\n",
              "      <td>QUER MAIS DESCONTOS? (14/08) ⭐⭐⭐⭐⭐ 🌐 Confira n...</td>\n",
              "      <td>Wed Aug 15 01:13:31 +0000 2018</td>\n",
              "      <td>1</td>\n",
              "      <td>:)</td>\n",
              "    </tr>\n",
              "    <tr>\n",
              "      <th>3</th>\n",
              "      <td>1029536560117678081</td>\n",
              "      <td>EU VOU PEGAR VCS, ME AJUDEM GALERA, PELO AMOR ...</td>\n",
              "      <td>Wed Aug 15 01:13:38 +0000 2018</td>\n",
              "      <td>1</td>\n",
              "      <td>:)</td>\n",
              "    </tr>\n",
              "    <tr>\n",
              "      <th>4</th>\n",
              "      <td>1029536605852377088</td>\n",
              "      <td>Estávamos em casa do Zé e eu estava a morrer d...</td>\n",
              "      <td>Wed Aug 15 01:13:49 +0000 2018</td>\n",
              "      <td>1</td>\n",
              "      <td>:)</td>\n",
              "    </tr>\n",
              "  </tbody>\n",
              "</table>\n",
              "</div>\n",
              "      <button class=\"colab-df-convert\" onclick=\"convertToInteractive('df-1220391f-5c0d-4176-9d59-a568aa33b5a6')\"\n",
              "              title=\"Convert this dataframe to an interactive table.\"\n",
              "              style=\"display:none;\">\n",
              "        \n",
              "  <svg xmlns=\"http://www.w3.org/2000/svg\" height=\"24px\"viewBox=\"0 0 24 24\"\n",
              "       width=\"24px\">\n",
              "    <path d=\"M0 0h24v24H0V0z\" fill=\"none\"/>\n",
              "    <path d=\"M18.56 5.44l.94 2.06.94-2.06 2.06-.94-2.06-.94-.94-2.06-.94 2.06-2.06.94zm-11 1L8.5 8.5l.94-2.06 2.06-.94-2.06-.94L8.5 2.5l-.94 2.06-2.06.94zm10 10l.94 2.06.94-2.06 2.06-.94-2.06-.94-.94-2.06-.94 2.06-2.06.94z\"/><path d=\"M17.41 7.96l-1.37-1.37c-.4-.4-.92-.59-1.43-.59-.52 0-1.04.2-1.43.59L10.3 9.45l-7.72 7.72c-.78.78-.78 2.05 0 2.83L4 21.41c.39.39.9.59 1.41.59.51 0 1.02-.2 1.41-.59l7.78-7.78 2.81-2.81c.8-.78.8-2.07 0-2.86zM5.41 20L4 18.59l7.72-7.72 1.47 1.35L5.41 20z\"/>\n",
              "  </svg>\n",
              "      </button>\n",
              "      \n",
              "  <style>\n",
              "    .colab-df-container {\n",
              "      display:flex;\n",
              "      flex-wrap:wrap;\n",
              "      gap: 12px;\n",
              "    }\n",
              "\n",
              "    .colab-df-convert {\n",
              "      background-color: #E8F0FE;\n",
              "      border: none;\n",
              "      border-radius: 50%;\n",
              "      cursor: pointer;\n",
              "      display: none;\n",
              "      fill: #1967D2;\n",
              "      height: 32px;\n",
              "      padding: 0 0 0 0;\n",
              "      width: 32px;\n",
              "    }\n",
              "\n",
              "    .colab-df-convert:hover {\n",
              "      background-color: #E2EBFA;\n",
              "      box-shadow: 0px 1px 2px rgba(60, 64, 67, 0.3), 0px 1px 3px 1px rgba(60, 64, 67, 0.15);\n",
              "      fill: #174EA6;\n",
              "    }\n",
              "\n",
              "    [theme=dark] .colab-df-convert {\n",
              "      background-color: #3B4455;\n",
              "      fill: #D2E3FC;\n",
              "    }\n",
              "\n",
              "    [theme=dark] .colab-df-convert:hover {\n",
              "      background-color: #434B5C;\n",
              "      box-shadow: 0px 1px 3px 1px rgba(0, 0, 0, 0.15);\n",
              "      filter: drop-shadow(0px 1px 2px rgba(0, 0, 0, 0.3));\n",
              "      fill: #FFFFFF;\n",
              "    }\n",
              "  </style>\n",
              "\n",
              "      <script>\n",
              "        const buttonEl =\n",
              "          document.querySelector('#df-1220391f-5c0d-4176-9d59-a568aa33b5a6 button.colab-df-convert');\n",
              "        buttonEl.style.display =\n",
              "          google.colab.kernel.accessAllowed ? 'block' : 'none';\n",
              "\n",
              "        async function convertToInteractive(key) {\n",
              "          const element = document.querySelector('#df-1220391f-5c0d-4176-9d59-a568aa33b5a6');\n",
              "          const dataTable =\n",
              "            await google.colab.kernel.invokeFunction('convertToInteractive',\n",
              "                                                     [key], {});\n",
              "          if (!dataTable) return;\n",
              "\n",
              "          const docLinkHtml = 'Like what you see? Visit the ' +\n",
              "            '<a target=\"_blank\" href=https://colab.research.google.com/notebooks/data_table.ipynb>data table notebook</a>'\n",
              "            + ' to learn more about interactive tables.';\n",
              "          element.innerHTML = '';\n",
              "          dataTable['output_type'] = 'display_data';\n",
              "          await google.colab.output.renderOutput(dataTable, element);\n",
              "          const docLink = document.createElement('div');\n",
              "          docLink.innerHTML = docLinkHtml;\n",
              "          element.appendChild(docLink);\n",
              "        }\n",
              "      </script>\n",
              "    </div>\n",
              "  </div>\n",
              "  "
            ]
          },
          "metadata": {},
          "execution_count": 15
        }
      ]
    },
    {
      "cell_type": "code",
      "metadata": {
        "id": "Lr5tKcjPlkQy",
        "colab": {
          "base_uri": "https://localhost:8080/"
        },
        "outputId": "d4f4dc77-f2bd-4e69-8c1d-abfc8838a61f"
      },
      "source": [
        "base_teste.shape"
      ],
      "execution_count": 17,
      "outputs": [
        {
          "output_type": "execute_result",
          "data": {
            "text/plain": [
              "(5000, 5)"
            ]
          },
          "metadata": {},
          "execution_count": 17
        }
      ]
    },
    {
      "cell_type": "code",
      "metadata": {
        "id": "uyU25iuZlnSP",
        "colab": {
          "base_uri": "https://localhost:8080/",
          "height": 334
        },
        "outputId": "6184004b-8067-41d3-bbba-8b274b5e0d11"
      },
      "source": [
        "sns.countplot(base_teste['sentiment'], label='Contagem');"
      ],
      "execution_count": 16,
      "outputs": [
        {
          "output_type": "stream",
          "name": "stderr",
          "text": [
            "/usr/local/lib/python3.7/dist-packages/seaborn/_decorators.py:43: FutureWarning: Pass the following variable as a keyword arg: x. From version 0.12, the only valid positional argument will be `data`, and passing other arguments without an explicit keyword will result in an error or misinterpretation.\n",
            "  FutureWarning\n"
          ]
        },
        {
          "output_type": "display_data",
          "data": {
            "text/plain": [
              "<Figure size 432x288 with 1 Axes>"
            ],
            "image/png": "[encoded data removed]"
          },
          "metadata": {
            "needs_background": "light"
          }
        }
      ]
    },
    {
      "cell_type": "code",
      "metadata": {
        "id": "gPgCCOZslxXy"
      },
      "source": [
        "base_teste.drop(['id', 'tweet_date', 'query_used'], axis = 1, inplace=True)"
      ],
      "execution_count": 18,
      "outputs": []
    },
    {
      "cell_type": "code",
      "metadata": {
        "id": "5evaWMpvl1kg",
        "colab": {
          "base_uri": "https://localhost:8080/",
          "height": 206
        },
        "outputId": "3542bee7-85ac-47b7-d8a9-36d518ef286b"
      },
      "source": [
        "base_teste.head()"
      ],
      "execution_count": 22,
      "outputs": [
        {
          "output_type": "execute_result",
          "data": {
            "text/plain": [
              "                                          tweet_text  sentiment\n",
              "0                   @Gazo1a Nossa! Muito obrigada :)          1\n",
              "1             @BerzGamer vai pa puta que te pariu :)          1\n",
              "2  QUER MAIS DESCONTOS? (14/08) ⭐⭐⭐⭐⭐ 🌐 Confira n...          1\n",
              "3  EU VOU PEGAR VCS, ME AJUDEM GALERA, PELO AMOR ...          1\n",
              "4  Estávamos em casa do Zé e eu estava a morrer d...          1"
            ],
            "text/html": [
              "\n",
              "  <div id=\"df-c0c4ae0f-b181-41a7-9d4e-131531551253\">\n",
              "    <div class=\"colab-df-container\">\n",
              "      <div>\n",
              "<style scoped>\n",
              "    .dataframe tbody tr th:only-of-type {\n",
              "        vertical-align: middle;\n",
              "    }\n",
              "\n",
              "    .dataframe tbody tr th {\n",
              "        vertical-align: top;\n",
              "    }\n",
              "\n",
              "    .dataframe thead th {\n",
              "        text-align: right;\n",
              "    }\n",
              "</style>\n",
              "<table border=\"1\" class=\"dataframe\">\n",
              "  <thead>\n",
              "    <tr style=\"text-align: right;\">\n",
              "      <th></th>\n",
              "      <th>tweet_text</th>\n",
              "      <th>sentiment</th>\n",
              "    </tr>\n",
              "  </thead>\n",
              "  <tbody>\n",
              "    <tr>\n",
              "      <th>0</th>\n",
              "      <td>@Gazo1a Nossa! Muito obrigada :)</td>\n",
              "      <td>1</td>\n",
              "    </tr>\n",
              "    <tr>\n",
              "      <th>1</th>\n",
              "      <td>@BerzGamer vai pa puta que te pariu :)</td>\n",
              "      <td>1</td>\n",
              "    </tr>\n",
              "    <tr>\n",
              "      <th>2</th>\n",
              "      <td>QUER MAIS DESCONTOS? (14/08) ⭐⭐⭐⭐⭐ 🌐 Confira n...</td>\n",
              "      <td>1</td>\n",
              "    </tr>\n",
              "    <tr>\n",
              "      <th>3</th>\n",
              "      <td>EU VOU PEGAR VCS, ME AJUDEM GALERA, PELO AMOR ...</td>\n",
              "      <td>1</td>\n",
              "    </tr>\n",
              "    <tr>\n",
              "      <th>4</th>\n",
              "      <td>Estávamos em casa do Zé e eu estava a morrer d...</td>\n",
              "      <td>1</td>\n",
              "    </tr>\n",
              "  </tbody>\n",
              "</table>\n",
              "</div>\n",
              "      <button class=\"colab-df-convert\" onclick=\"convertToInteractive('df-c0c4ae0f-b181-41a7-9d4e-131531551253')\"\n",
              "              title=\"Convert this dataframe to an interactive table.\"\n",
              "              style=\"display:none;\">\n",
              "        \n",
              "  <svg xmlns=\"http://www.w3.org/2000/svg\" height=\"24px\"viewBox=\"0 0 24 24\"\n",
              "       width=\"24px\">\n",
              "    <path d=\"M0 0h24v24H0V0z\" fill=\"none\"/>\n",
              "    <path d=\"M18.56 5.44l.94 2.06.94-2.06 2.06-.94-2.06-.94-.94-2.06-.94 2.06-2.06.94zm-11 1L8.5 8.5l.94-2.06 2.06-.94-2.06-.94L8.5 2.5l-.94 2.06-2.06.94zm10 10l.94 2.06.94-2.06 2.06-.94-2.06-.94-.94-2.06-.94 2.06-2.06.94z\"/><path d=\"M17.41 7.96l-1.37-1.37c-.4-.4-.92-.59-1.43-.59-.52 0-1.04.2-1.43.59L10.3 9.45l-7.72 7.72c-.78.78-.78 2.05 0 2.83L4 21.41c.39.39.9.59 1.41.59.51 0 1.02-.2 1.41-.59l7.78-7.78 2.81-2.81c.8-.78.8-2.07 0-2.86zM5.41 20L4 18.59l7.72-7.72 1.47 1.35L5.41 20z\"/>\n",
              "  </svg>\n",
              "      </button>\n",
              "      \n",
              "  <style>\n",
              "    .colab-df-container {\n",
              "      display:flex;\n",
              "      flex-wrap:wrap;\n",
              "      gap: 12px;\n",
              "    }\n",
              "\n",
              "    .colab-df-convert {\n",
              "      background-color: #E8F0FE;\n",
              "      border: none;\n",
              "      border-radius: 50%;\n",
              "      cursor: pointer;\n",
              "      display: none;\n",
              "      fill: #1967D2;\n",
              "      height: 32px;\n",
              "      padding: 0 0 0 0;\n",
              "      width: 32px;\n",
              "    }\n",
              "\n",
              "    .colab-df-convert:hover {\n",
              "      background-color: #E2EBFA;\n",
              "      box-shadow: 0px 1px 2px rgba(60, 64, 67, 0.3), 0px 1px 3px 1px rgba(60, 64, 67, 0.15);\n",
              "      fill: #174EA6;\n",
              "    }\n",
              "\n",
              "    [theme=dark] .colab-df-convert {\n",
              "      background-color: #3B4455;\n",
              "      fill: #D2E3FC;\n",
              "    }\n",
              "\n",
              "    [theme=dark] .colab-df-convert:hover {\n",
              "      background-color: #434B5C;\n",
              "      box-shadow: 0px 1px 3px 1px rgba(0, 0, 0, 0.15);\n",
              "      filter: drop-shadow(0px 1px 2px rgba(0, 0, 0, 0.3));\n",
              "      fill: #FFFFFF;\n",
              "    }\n",
              "  </style>\n",
              "\n",
              "      <script>\n",
              "        const buttonEl =\n",
              "          document.querySelector('#df-c0c4ae0f-b181-41a7-9d4e-131531551253 button.colab-df-convert');\n",
              "        buttonEl.style.display =\n",
              "          google.colab.kernel.accessAllowed ? 'block' : 'none';\n",
              "\n",
              "        async function convertToInteractive(key) {\n",
              "          const element = document.querySelector('#df-c0c4ae0f-b181-41a7-9d4e-131531551253');\n",
              "          const dataTable =\n",
              "            await google.colab.kernel.invokeFunction('convertToInteractive',\n",
              "                                                     [key], {});\n",
              "          if (!dataTable) return;\n",
              "\n",
              "          const docLinkHtml = 'Like what you see? Visit the ' +\n",
              "            '<a target=\"_blank\" href=https://colab.research.google.com/notebooks/data_table.ipynb>data table notebook</a>'\n",
              "            + ' to learn more about interactive tables.';\n",
              "          element.innerHTML = '';\n",
              "          dataTable['output_type'] = 'display_data';\n",
              "          await google.colab.output.renderOutput(dataTable, element);\n",
              "          const docLink = document.createElement('div');\n",
              "          docLink.innerHTML = docLinkHtml;\n",
              "          element.appendChild(docLink);\n",
              "        }\n",
              "      </script>\n",
              "    </div>\n",
              "  </div>\n",
              "  "
            ]
          },
          "metadata": {},
          "execution_count": 22
        }
      ]
    },
    {
      "cell_type": "code",
      "metadata": {
        "id": "FYE-KGRkmZcd",
        "colab": {
          "base_uri": "https://localhost:8080/",
          "height": 271
        },
        "outputId": "7460052c-9250-430c-847a-28d58ebaaa89"
      },
      "source": [
        "sns.heatmap(pd.isnull(base_teste)); #Checar se tem valor nulo"
      ],
      "execution_count": 23,
      "outputs": [
        {
          "output_type": "display_data",
          "data": {
            "text/plain": [
              "<Figure size 432x288 with 2 Axes>"
            ],
            "image/png": "[encoded data removed]"
          },
          "metadata": {
            "needs_background": "light"
          }
        }
      ]
    },
    {
      "cell_type": "markdown",
      "metadata": {
        "id": "h36-8Ien-AQ1"
      },
      "source": [
        "# Etapa 3: Função para pré-processamento dos textos - Tutorial da Função\n",
        "\n",
        "- Letras minúsculas\n",
        "- Nome do usuário (@)\n",
        "- URLs\n",
        "- Espaços em branco\n",
        "- Emoticons\n",
        "- Stop words\n",
        "- Lematização\n",
        "- Pontuações"
      ]
    },
    {
      "cell_type": "code",
      "metadata": {
        "id": "gOur6ftJnKuP",
        "colab": {
          "base_uri": "https://localhost:8080/"
        },
        "outputId": "6101494f-7864-43d4-c92f-451cb62037aa"
      },
      "source": [
        "pln = spacy.load('pt') #_core_news_sm #processamento de linguagem natural #Usando lib mais atual\n",
        "pln"
      ],
      "execution_count": 19,
      "outputs": [
        {
          "output_type": "execute_result",
          "data": {
            "text/plain": [
              "<spacy.lang.pt.Portuguese at 0x7faa87383490>"
            ]
          },
          "metadata": {},
          "execution_count": 19
        }
      ]
    },
    {
      "cell_type": "code",
      "metadata": {
        "id": "m8eGCSuHnSYM",
        "colab": {
          "base_uri": "https://localhost:8080/",
          "height": 53
        },
        "outputId": "030babb1-0462-4e22-d396-231ba95b3ff1"
      },
      "source": [
        "base_treinamento['tweet_text'][2]"
      ],
      "execution_count": 20,
      "outputs": [
        {
          "output_type": "execute_result",
          "data": {
            "text/plain": [
              "'Vou fazer um video hoje... estou pensando em falar um pouco sobre o novo meta do CSGO e sobre a pagina https://t.co/5RjhKnj0oh Alguem tem uma sugestao? Queria falar sobre algo do cenario nacional :D'"
            ],
            "application/vnd.google.colaboratory.intrinsic+json": {
              "type": "string"
            }
          },
          "metadata": {},
          "execution_count": 20
        }
      ]
    },
    {
      "cell_type": "code",
      "metadata": {
        "id": "z6-JRv8Ynayt"
      },
      "source": [
        "stop_words = spacy.lang.pt.stop_words.STOP_WORDS"
      ],
      "execution_count": 21,
      "outputs": []
    },
    {
      "cell_type": "code",
      "metadata": {
        "id": "QqMa61Qwnj4c",
        "colab": {
          "base_uri": "https://localhost:8080/"
        },
        "outputId": "e8819c54-9837-4318-c1f3-af71d2f75028"
      },
      "source": [
        "print(stop_words) #Palavras que não dão sentido para a análise retirada no modelo"
      ],
      "execution_count": 22,
      "outputs": [
        {
          "output_type": "stream",
          "name": "stdout",
          "text": [
            "{'mas', 'ao', 'lugar', 'ponto', 'porquê', 'você', 'grandes', 'às', 'forma', 'sabe', 'ele', 'estar', 'da', 'quatro', 'aquela', 'estado', 'fazer', 'dá', 'nosso', 'próxima', 'mês', 'custa', 'aqui', 'nenhuma', 'pois', 'estás', 'quarta', 'poder', 'tivestes', 'tudo', 'pouca', 'sétima', 'querem', 'debaixo', 'és', 'portanto', 'à', 'falta', 'algo', 'pontos', 'veja', 'vinte', 'as', 'elas', 'dizer', 'disso', 'vem', 'ir', 'cento', 'deve', 'apenas', 'num', 'caminho', 'vossas', 'ali', 'em', 'sétimo', 'nossa', 'maiorias', 'por', 'estou', 'oito', 'parte', 'dezoito', 'sexto', 'comprido', 'do', 'toda', 'minha', 'vais', 'logo', 'pelos', 'pegar', 'mesmo', 'menor', 'seis', 'três', 'outra', 'novos', 'neste', 'estivestes', 'no', 'seu', 'des', 'tua', 'onde', 'contra', 'sete', 'todos', 'dez', 'fostes', 'numa', 'foi', 'aquelas', 'já', 'relação', 'baixo', 'nem', 'essas', 'uma', 'deste', 'teu', 'ver', 'suas', 'cima', 'tais', 'grande', 'põem', 'poderá', 'porque', 'primeiro', 'estive', 'vários', 'tu', 'faz', 'fazem', 'meus', 'estiveste', 'deverá', 'nesse', 'dois', 'primeira', 'irá', 'isso', 'segundo', 'embora', 'favor', 'treze', 'tente', 'final', 'sistema', 'pelas', 'faço', 'certeza', 'tão', 'algumas', 'fora', 'sua', 'das', 'breve', 'mal', 'nessa', 'conhecida', 'quanto', 'depois', 'até', 'maior', 'cuja', 'estas', 'outros', 'os', 'quarto', 'eles', 'nós', 'ela', 'sem', 'dentro', 'esses', 'área', 'enquanto', 'tal', 'porquanto', 'tendes', 'números', 'antes', 'podem', 'estivemos', 'pouco', 'bastante', 'corrente', 'tiveste', 'pôde', 'usa', 'apoio', 'meu', 'sob', 'naquele', 'ora', 'daquele', 'têm', 'através', 'onze', 'inclusive', 'vão', 'qual', 'próprio', 'seria', 'entre', 'momento', 'é', 'essa', 'me', 'ambas', 'põe', 'fui', 'temos', 'bom', 'foste', 'agora', 'tempo', 'daquela', 'nuns', 'quando', 'lado', 'desta', 'sou', 'dezassete', 'quero', 'eu', 'ambos', 'te', 'meses', 'apontar', 'número', 'esteve', 'fomos', 'assim', 'sempre', 'cá', 'sei', 'geral', 'nova', 'minhas', 'último', 'lhe', 'nos', 'então', 'parece', 'cedo', 'aquele', 'nossas', 'zero', 'segunda', 'de', 'dão', 'vós', 'cinco', 'vai', 'dezanove', 'todo', 'doze', 'quê', 'um', 'vêm', 'tentaram', 'umas', 'cada', 'aí', 'demais', 'povo', 'só', 'catorze', 'desse', 'nada', 'isto', 'se', 'certamente', 'puderam', 'dar', 'esse', 'estará', 'ligado', 'nível', 'tenho', 'contudo', 'sexta', 'vos', 'obrigado', 'seus', 'quinto', 'tuas', 'somente', 'for', 'na', 'diante', 'estiveram', 'foram', 'vezes', 'conselho', 'estes', 'ontem', 'devem', 'mais', 'pode', 'tipo', 'muito', 'estão', 'desde', 'ter', 'iniciar', 'aquilo', 'cujo', 'terceiro', 'são', 'qualquer', 'este', 'questão', 'novo', 'partir', 'quieto', 'nunca', 'vindo', 'conhecido', 'naquela', 'oitava', 'uns', 'apoia', 'lá', 'atrás', 'vinda', 'fará', 'obrigada', 'duas', 'fez', 'maioria', 'adeus', 'tanta', 'após', 'tentei', 'comprida', 'podia', 'quinta', 'fazes', 'dessa', 'acerca', 'nove', 'posso', 'ou', 'fazia', 'sim', 'diz', 'vez', 'boa', 'sobre', 'exemplo', 'outras', 'máximo', 'menos', 'coisa', 'dizem', 'vocês', 'usar', 'talvez', 'com', 'quais', 'nossos', 'bem', 'somos', 'esta', 'nesta', 'era', 'grupo', 'aos', 'que', 'teve', 'tarde', 'terceira', 'teus', 'oitavo', 'muitos', 'sois', 'inicio', 'alguns', 'fazeis', 'pelo', 'pela', 'vens', 'saber', 'para', 'está', 'possível', 'tivemos', 'tens', 'dezasseis', 'quinze', 'ainda', 'próximo', 'tem', 'quieta', 'tentar', 'também', 'como', 'nas', 'aqueles', 'não', 'vossos', 'longe', 'direita', 'dos', 'ser', 'vosso', 'possivelmente', 'tive', 'novas', 'valor', 'fim', 'quer', 'tanto', 'ademais', 'fazemos', 'meio', 'eventual', 'tiveram', 'posição', 'além', 'mil', 'todas', 'vossa', 'porém', 'perto', 'estava', 'quem', 'local'}\n"
          ]
        }
      ]
    },
    {
      "cell_type": "code",
      "metadata": {
        "id": "n1lFJDhJnoth",
        "colab": {
          "base_uri": "https://localhost:8080/",
          "height": 35
        },
        "outputId": "0bbe2a7a-21c3-472d-aa35-e331b2601bb6"
      },
      "source": [
        "string.punctuation"
      ],
      "execution_count": 23,
      "outputs": [
        {
          "output_type": "execute_result",
          "data": {
            "text/plain": [
              "'!\"#$%&\\'()*+,-./:;<=>?@[\\\\]^_`{|}~'"
            ],
            "application/vnd.google.colaboratory.intrinsic+json": {
              "type": "string"
            }
          },
          "metadata": {},
          "execution_count": 23
        }
      ]
    },
    {
      "cell_type": "code",
      "metadata": {
        "id": "rS9ldTSJnsMb"
      },
      "source": [
        "def preprocessamento(texto): #Criando a função\n",
        "  # Letras minúsculas\n",
        "  texto = texto.lower()\n",
        "\n",
        "  # Nome do usuário\n",
        "  texto = re.sub(r\"@[A-Za-z0-9$-_@.&+]+\", ' ', texto) #Para retirar o nome do usuário\n",
        "\n",
        "  # URLs\n",
        "  texto = re.sub(r\"https?://[A-Za-z0-9./]+\", ' ', texto) #\"?\" pode ou não aparecer a caractere anterior\n",
        "\n",
        "  # Espaços em branco\n",
        "  texto = re.sub(r\" +\", ' ', texto) #Retirando dois ou mais espaços\n",
        "\n",
        "  # Emoticons\n",
        "  lista_emocoes = {':)': 'emocaopositiva',\n",
        "                   ':d': 'emocaopositiva',\n",
        "                   ':(': 'emocaonegativa'} #Substituindo os valores\n",
        "  for emocao in lista_emocoes: #Percorrer dentro do dataframe para substituir os valores\n",
        "    texto = texto.replace(emocao, lista_emocoes[emocao])\n",
        "\n",
        "  # Lematização\n",
        "  documento = pln(texto)\n",
        "\n",
        "  lista = [] \n",
        "  for token in documento: #Criando a separação das palavras o token\n",
        "    lista.append(token.lemma_)\n",
        "  \n",
        "  # Stop words e pontuações\n",
        "  lista = [palavra for palavra in lista if palavra not in stop_words and palavra not in string.punctuation] #Retirando as pontuações e as palavras que não dão sentido na análise\n",
        "  lista = ' '.join([str(elemento) for elemento in lista if not elemento.isdigit()]) #join para juntar as palavras com ' ', e retirando digitos\n",
        "  \n",
        "  return lista"
      ],
      "execution_count": 24,
      "outputs": []
    },
    {
      "cell_type": "code",
      "metadata": {
        "id": "iIy-2X18n0G8",
        "colab": {
          "base_uri": "https://localhost:8080/",
          "height": 35
        },
        "outputId": "bfd5fdd0-2878-4983-85f5-c76ec9fbf0e4"
      },
      "source": [
        "texto_teste = '@tiavelhoca @creyto_ @broaordinaria @ClintPugstwood @bonitoporbosta @_malimallu @celsorodrigo_ @flcampagna @BrunoSuba Olar , tia :)'\n",
        "resultado = preprocessamento(texto_teste) #passando a função de tratamento\n",
        "resultado"
      ],
      "execution_count": 25,
      "outputs": [
        {
          "output_type": "execute_result",
          "data": {
            "text/plain": [
              "'  olar tio emocaopositiva'"
            ],
            "application/vnd.google.colaboratory.intrinsic+json": {
              "type": "string"
            }
          },
          "metadata": {},
          "execution_count": 25
        }
      ]
    },
    {
      "cell_type": "markdown",
      "metadata": {
        "id": "DtL8DBPVOFoL"
      },
      "source": [
        "# Etapa 4: Pré-processamento da base de dados"
      ]
    },
    {
      "cell_type": "markdown",
      "metadata": {
        "id": "n7G5PSVUOOId"
      },
      "source": [
        "### Limpeza dos textos"
      ]
    },
    {
      "cell_type": "code",
      "metadata": {
        "id": "o3zrf-ytssZb",
        "colab": {
          "base_uri": "https://localhost:8080/",
          "height": 363
        },
        "outputId": "f4936240-8cbc-4f20-c921-ccd56c9fd7df"
      },
      "source": [
        "base_treinamento.head(10)"
      ],
      "execution_count": 26,
      "outputs": [
        {
          "output_type": "execute_result",
          "data": {
            "text/plain": [
              "                                          tweet_text  sentiment\n",
              "0  @Laranjito76 A pessoa certa para isso seria o ...          1\n",
              "1  @behin_d_curtain Para mim, é precisamente o co...          1\n",
              "2  Vou fazer um video hoje... estou pensando em f...          1\n",
              "3  aaaaaaaa amei tanto essas polaroids, nem sei e...          1\n",
              "4  Valoriza o coração do menininho que vc tem. El...          1\n",
              "5       @KingJokerLeto mas amiga eu to aqui ainda :)          1\n",
              "6                   @RivasJairo Bravo, Jairo!!! :)))          1\n",
              "7  @inquilinasls @Spotify socorro ksoaksosks acho...          1\n",
              "8  @chimekarlla gosto muito de fazenda :) , mas m...          1\n",
              "9                            Amanha vou ver venom :D          1"
            ],
            "text/html": [
              "\n",
              "  <div id=\"df-168c40d1-776b-4bf4-ab00-0c86f025c68b\">\n",
              "    <div class=\"colab-df-container\">\n",
              "      <div>\n",
              "<style scoped>\n",
              "    .dataframe tbody tr th:only-of-type {\n",
              "        vertical-align: middle;\n",
              "    }\n",
              "\n",
              "    .dataframe tbody tr th {\n",
              "        vertical-align: top;\n",
              "    }\n",
              "\n",
              "    .dataframe thead th {\n",
              "        text-align: right;\n",
              "    }\n",
              "</style>\n",
              "<table border=\"1\" class=\"dataframe\">\n",
              "  <thead>\n",
              "    <tr style=\"text-align: right;\">\n",
              "      <th></th>\n",
              "      <th>tweet_text</th>\n",
              "      <th>sentiment</th>\n",
              "    </tr>\n",
              "  </thead>\n",
              "  <tbody>\n",
              "    <tr>\n",
              "      <th>0</th>\n",
              "      <td>@Laranjito76 A pessoa certa para isso seria o ...</td>\n",
              "      <td>1</td>\n",
              "    </tr>\n",
              "    <tr>\n",
              "      <th>1</th>\n",
              "      <td>@behin_d_curtain Para mim, é precisamente o co...</td>\n",
              "      <td>1</td>\n",
              "    </tr>\n",
              "    <tr>\n",
              "      <th>2</th>\n",
              "      <td>Vou fazer um video hoje... estou pensando em f...</td>\n",
              "      <td>1</td>\n",
              "    </tr>\n",
              "    <tr>\n",
              "      <th>3</th>\n",
              "      <td>aaaaaaaa amei tanto essas polaroids, nem sei e...</td>\n",
              "      <td>1</td>\n",
              "    </tr>\n",
              "    <tr>\n",
              "      <th>4</th>\n",
              "      <td>Valoriza o coração do menininho que vc tem. El...</td>\n",
              "      <td>1</td>\n",
              "    </tr>\n",
              "    <tr>\n",
              "      <th>5</th>\n",
              "      <td>@KingJokerLeto mas amiga eu to aqui ainda :)</td>\n",
              "      <td>1</td>\n",
              "    </tr>\n",
              "    <tr>\n",
              "      <th>6</th>\n",
              "      <td>@RivasJairo Bravo, Jairo!!! :)))</td>\n",
              "      <td>1</td>\n",
              "    </tr>\n",
              "    <tr>\n",
              "      <th>7</th>\n",
              "      <td>@inquilinasls @Spotify socorro ksoaksosks acho...</td>\n",
              "      <td>1</td>\n",
              "    </tr>\n",
              "    <tr>\n",
              "      <th>8</th>\n",
              "      <td>@chimekarlla gosto muito de fazenda :) , mas m...</td>\n",
              "      <td>1</td>\n",
              "    </tr>\n",
              "    <tr>\n",
              "      <th>9</th>\n",
              "      <td>Amanha vou ver venom :D</td>\n",
              "      <td>1</td>\n",
              "    </tr>\n",
              "  </tbody>\n",
              "</table>\n",
              "</div>\n",
              "      <button class=\"colab-df-convert\" onclick=\"convertToInteractive('df-168c40d1-776b-4bf4-ab00-0c86f025c68b')\"\n",
              "              title=\"Convert this dataframe to an interactive table.\"\n",
              "              style=\"display:none;\">\n",
              "        \n",
              "  <svg xmlns=\"http://www.w3.org/2000/svg\" height=\"24px\"viewBox=\"0 0 24 24\"\n",
              "       width=\"24px\">\n",
              "    <path d=\"M0 0h24v24H0V0z\" fill=\"none\"/>\n",
              "    <path d=\"M18.56 5.44l.94 2.06.94-2.06 2.06-.94-2.06-.94-.94-2.06-.94 2.06-2.06.94zm-11 1L8.5 8.5l.94-2.06 2.06-.94-2.06-.94L8.5 2.5l-.94 2.06-2.06.94zm10 10l.94 2.06.94-2.06 2.06-.94-2.06-.94-.94-2.06-.94 2.06-2.06.94z\"/><path d=\"M17.41 7.96l-1.37-1.37c-.4-.4-.92-.59-1.43-.59-.52 0-1.04.2-1.43.59L10.3 9.45l-7.72 7.72c-.78.78-.78 2.05 0 2.83L4 21.41c.39.39.9.59 1.41.59.51 0 1.02-.2 1.41-.59l7.78-7.78 2.81-2.81c.8-.78.8-2.07 0-2.86zM5.41 20L4 18.59l7.72-7.72 1.47 1.35L5.41 20z\"/>\n",
              "  </svg>\n",
              "      </button>\n",
              "      \n",
              "  <style>\n",
              "    .colab-df-container {\n",
              "      display:flex;\n",
              "      flex-wrap:wrap;\n",
              "      gap: 12px;\n",
              "    }\n",
              "\n",
              "    .colab-df-convert {\n",
              "      background-color: #E8F0FE;\n",
              "      border: none;\n",
              "      border-radius: 50%;\n",
              "      cursor: pointer;\n",
              "      display: none;\n",
              "      fill: #1967D2;\n",
              "      height: 32px;\n",
              "      padding: 0 0 0 0;\n",
              "      width: 32px;\n",
              "    }\n",
              "\n",
              "    .colab-df-convert:hover {\n",
              "      background-color: #E2EBFA;\n",
              "      box-shadow: 0px 1px 2px rgba(60, 64, 67, 0.3), 0px 1px 3px 1px rgba(60, 64, 67, 0.15);\n",
              "      fill: #174EA6;\n",
              "    }\n",
              "\n",
              "    [theme=dark] .colab-df-convert {\n",
              "      background-color: #3B4455;\n",
              "      fill: #D2E3FC;\n",
              "    }\n",
              "\n",
              "    [theme=dark] .colab-df-convert:hover {\n",
              "      background-color: #434B5C;\n",
              "      box-shadow: 0px 1px 3px 1px rgba(0, 0, 0, 0.15);\n",
              "      filter: drop-shadow(0px 1px 2px rgba(0, 0, 0, 0.3));\n",
              "      fill: #FFFFFF;\n",
              "    }\n",
              "  </style>\n",
              "\n",
              "      <script>\n",
              "        const buttonEl =\n",
              "          document.querySelector('#df-168c40d1-776b-4bf4-ab00-0c86f025c68b button.colab-df-convert');\n",
              "        buttonEl.style.display =\n",
              "          google.colab.kernel.accessAllowed ? 'block' : 'none';\n",
              "\n",
              "        async function convertToInteractive(key) {\n",
              "          const element = document.querySelector('#df-168c40d1-776b-4bf4-ab00-0c86f025c68b');\n",
              "          const dataTable =\n",
              "            await google.colab.kernel.invokeFunction('convertToInteractive',\n",
              "                                                     [key], {});\n",
              "          if (!dataTable) return;\n",
              "\n",
              "          const docLinkHtml = 'Like what you see? Visit the ' +\n",
              "            '<a target=\"_blank\" href=https://colab.research.google.com/notebooks/data_table.ipynb>data table notebook</a>'\n",
              "            + ' to learn more about interactive tables.';\n",
              "          element.innerHTML = '';\n",
              "          dataTable['output_type'] = 'display_data';\n",
              "          await google.colab.output.renderOutput(dataTable, element);\n",
              "          const docLink = document.createElement('div');\n",
              "          docLink.innerHTML = docLinkHtml;\n",
              "          element.appendChild(docLink);\n",
              "        }\n",
              "      </script>\n",
              "    </div>\n",
              "  </div>\n",
              "  "
            ]
          },
          "metadata": {},
          "execution_count": 26
        }
      ]
    },
    {
      "cell_type": "code",
      "metadata": {
        "id": "SNSsbuMis0-d"
      },
      "source": [
        "base_treinamento['tweet_text'] = base_treinamento['tweet_text'].apply(preprocessamento) #aplicando na base de dados"
      ],
      "execution_count": 27,
      "outputs": []
    },
    {
      "cell_type": "code",
      "metadata": {
        "id": "wR742NJLusfy",
        "colab": {
          "base_uri": "https://localhost:8080/",
          "height": 363
        },
        "outputId": "235cc41f-7685-48e6-f8e1-3b137ee17112"
      },
      "source": [
        "base_treinamento.head(10)"
      ],
      "execution_count": 40,
      "outputs": [
        {
          "output_type": "execute_result",
          "data": {
            "text/plain": [
              "                                          tweet_text  sentiment\n",
              "0           pessoa certo vale azevedo emocaopositivo          1\n",
              "1    precisamente contrário emocaopositivo vir ch...          1\n",
              "2  video hoje ... pensar falar meta de o csgo pag...          1\n",
              "3  aaaaaaaar ameir polaroids expressar to apaixon...          1\n",
              "4  valorizar coração de o menininho elvc diferent...          1\n",
              "5                            amiga to emocaopositivo          1\n",
              "6                         Bravo jairo emocaopositivo          1\n",
              "7    socorro ksoaksosks achar to em o caixinha so...          1\n",
              "8    gostar fazenda emocaopositivo morro medo Gal...          1\n",
              "9                        amanha venom emocaopositivo          1"
            ],
            "text/html": [
              "\n",
              "  <div id=\"df-1f19e35d-361d-47b4-a2bc-d1b9f2e5a5df\">\n",
              "    <div class=\"colab-df-container\">\n",
              "      <div>\n",
              "<style scoped>\n",
              "    .dataframe tbody tr th:only-of-type {\n",
              "        vertical-align: middle;\n",
              "    }\n",
              "\n",
              "    .dataframe tbody tr th {\n",
              "        vertical-align: top;\n",
              "    }\n",
              "\n",
              "    .dataframe thead th {\n",
              "        text-align: right;\n",
              "    }\n",
              "</style>\n",
              "<table border=\"1\" class=\"dataframe\">\n",
              "  <thead>\n",
              "    <tr style=\"text-align: right;\">\n",
              "      <th></th>\n",
              "      <th>tweet_text</th>\n",
              "      <th>sentiment</th>\n",
              "    </tr>\n",
              "  </thead>\n",
              "  <tbody>\n",
              "    <tr>\n",
              "      <th>0</th>\n",
              "      <td>pessoa certo vale azevedo emocaopositivo</td>\n",
              "      <td>1</td>\n",
              "    </tr>\n",
              "    <tr>\n",
              "      <th>1</th>\n",
              "      <td>precisamente contrário emocaopositivo vir ch...</td>\n",
              "      <td>1</td>\n",
              "    </tr>\n",
              "    <tr>\n",
              "      <th>2</th>\n",
              "      <td>video hoje ... pensar falar meta de o csgo pag...</td>\n",
              "      <td>1</td>\n",
              "    </tr>\n",
              "    <tr>\n",
              "      <th>3</th>\n",
              "      <td>aaaaaaaar ameir polaroids expressar to apaixon...</td>\n",
              "      <td>1</td>\n",
              "    </tr>\n",
              "    <tr>\n",
              "      <th>4</th>\n",
              "      <td>valorizar coração de o menininho elvc diferent...</td>\n",
              "      <td>1</td>\n",
              "    </tr>\n",
              "    <tr>\n",
              "      <th>5</th>\n",
              "      <td>amiga to emocaopositivo</td>\n",
              "      <td>1</td>\n",
              "    </tr>\n",
              "    <tr>\n",
              "      <th>6</th>\n",
              "      <td>Bravo jairo emocaopositivo</td>\n",
              "      <td>1</td>\n",
              "    </tr>\n",
              "    <tr>\n",
              "      <th>7</th>\n",
              "      <td>socorro ksoaksosks achar to em o caixinha so...</td>\n",
              "      <td>1</td>\n",
              "    </tr>\n",
              "    <tr>\n",
              "      <th>8</th>\n",
              "      <td>gostar fazenda emocaopositivo morro medo Gal...</td>\n",
              "      <td>1</td>\n",
              "    </tr>\n",
              "    <tr>\n",
              "      <th>9</th>\n",
              "      <td>amanha venom emocaopositivo</td>\n",
              "      <td>1</td>\n",
              "    </tr>\n",
              "  </tbody>\n",
              "</table>\n",
              "</div>\n",
              "      <button class=\"colab-df-convert\" onclick=\"convertToInteractive('df-1f19e35d-361d-47b4-a2bc-d1b9f2e5a5df')\"\n",
              "              title=\"Convert this dataframe to an interactive table.\"\n",
              "              style=\"display:none;\">\n",
              "        \n",
              "  <svg xmlns=\"http://www.w3.org/2000/svg\" height=\"24px\"viewBox=\"0 0 24 24\"\n",
              "       width=\"24px\">\n",
              "    <path d=\"M0 0h24v24H0V0z\" fill=\"none\"/>\n",
              "    <path d=\"M18.56 5.44l.94 2.06.94-2.06 2.06-.94-2.06-.94-.94-2.06-.94 2.06-2.06.94zm-11 1L8.5 8.5l.94-2.06 2.06-.94-2.06-.94L8.5 2.5l-.94 2.06-2.06.94zm10 10l.94 2.06.94-2.06 2.06-.94-2.06-.94-.94-2.06-.94 2.06-2.06.94z\"/><path d=\"M17.41 7.96l-1.37-1.37c-.4-.4-.92-.59-1.43-.59-.52 0-1.04.2-1.43.59L10.3 9.45l-7.72 7.72c-.78.78-.78 2.05 0 2.83L4 21.41c.39.39.9.59 1.41.59.51 0 1.02-.2 1.41-.59l7.78-7.78 2.81-2.81c.8-.78.8-2.07 0-2.86zM5.41 20L4 18.59l7.72-7.72 1.47 1.35L5.41 20z\"/>\n",
              "  </svg>\n",
              "      </button>\n",
              "      \n",
              "  <style>\n",
              "    .colab-df-container {\n",
              "      display:flex;\n",
              "      flex-wrap:wrap;\n",
              "      gap: 12px;\n",
              "    }\n",
              "\n",
              "    .colab-df-convert {\n",
              "      background-color: #E8F0FE;\n",
              "      border: none;\n",
              "      border-radius: 50%;\n",
              "      cursor: pointer;\n",
              "      display: none;\n",
              "      fill: #1967D2;\n",
              "      height: 32px;\n",
              "      padding: 0 0 0 0;\n",
              "      width: 32px;\n",
              "    }\n",
              "\n",
              "    .colab-df-convert:hover {\n",
              "      background-color: #E2EBFA;\n",
              "      box-shadow: 0px 1px 2px rgba(60, 64, 67, 0.3), 0px 1px 3px 1px rgba(60, 64, 67, 0.15);\n",
              "      fill: #174EA6;\n",
              "    }\n",
              "\n",
              "    [theme=dark] .colab-df-convert {\n",
              "      background-color: #3B4455;\n",
              "      fill: #D2E3FC;\n",
              "    }\n",
              "\n",
              "    [theme=dark] .colab-df-convert:hover {\n",
              "      background-color: #434B5C;\n",
              "      box-shadow: 0px 1px 3px 1px rgba(0, 0, 0, 0.15);\n",
              "      filter: drop-shadow(0px 1px 2px rgba(0, 0, 0, 0.3));\n",
              "      fill: #FFFFFF;\n",
              "    }\n",
              "  </style>\n",
              "\n",
              "      <script>\n",
              "        const buttonEl =\n",
              "          document.querySelector('#df-1f19e35d-361d-47b4-a2bc-d1b9f2e5a5df button.colab-df-convert');\n",
              "        buttonEl.style.display =\n",
              "          google.colab.kernel.accessAllowed ? 'block' : 'none';\n",
              "\n",
              "        async function convertToInteractive(key) {\n",
              "          const element = document.querySelector('#df-1f19e35d-361d-47b4-a2bc-d1b9f2e5a5df');\n",
              "          const dataTable =\n",
              "            await google.colab.kernel.invokeFunction('convertToInteractive',\n",
              "                                                     [key], {});\n",
              "          if (!dataTable) return;\n",
              "\n",
              "          const docLinkHtml = 'Like what you see? Visit the ' +\n",
              "            '<a target=\"_blank\" href=https://colab.research.google.com/notebooks/data_table.ipynb>data table notebook</a>'\n",
              "            + ' to learn more about interactive tables.';\n",
              "          element.innerHTML = '';\n",
              "          dataTable['output_type'] = 'display_data';\n",
              "          await google.colab.output.renderOutput(dataTable, element);\n",
              "          const docLink = document.createElement('div');\n",
              "          docLink.innerHTML = docLinkHtml;\n",
              "          element.appendChild(docLink);\n",
              "        }\n",
              "      </script>\n",
              "    </div>\n",
              "  </div>\n",
              "  "
            ]
          },
          "metadata": {},
          "execution_count": 40
        }
      ]
    },
    {
      "cell_type": "code",
      "metadata": {
        "id": "DI1GvLX1uyr4"
      },
      "source": [
        "base_teste['tweet_text'] = base_teste['tweet_text'].apply(preprocessamento) #passando a funcao"
      ],
      "execution_count": 28,
      "outputs": []
    },
    {
      "cell_type": "code",
      "metadata": {
        "id": "jTGab2hXvGSr",
        "colab": {
          "base_uri": "https://localhost:8080/",
          "height": 363
        },
        "outputId": "6a9a34df-4efe-45ff-9b3c-cf8556c6575e"
      },
      "source": [
        "base_teste.head(10)"
      ],
      "execution_count": 30,
      "outputs": [
        {
          "output_type": "execute_result",
          "data": {
            "text/plain": [
              "                                          tweet_text  sentiment\n",
              "0                             obrigar emocaopositiva          1\n",
              "1                       pa puta parir emocaopositiva          1\n",
              "2  querer desconto 14/08 ⭐ ⭐ ⭐ ⭐ ⭐ 🌐 conferir o l...          1\n",
              "3  vcs ajudar galera pelar amor butera emocaoposi...          1\n",
              "4  casar zé e o morrer sono chegar o casar e fica...          1\n",
              "5                             preciso emocaopositiva          1\n",
              "6    acaso adorar beijo e abraço hahahahaha bue f...          1\n",
              "7                          solteiro s emocaopositiva          1\n",
              "8  lindeza cortador kit mário coleção bia cravol ...          1\n",
              "9                               claro emocaopositiva          1"
            ],
            "text/html": [
              "\n",
              "  <div id=\"df-8765fda2-43af-42d6-a8e9-e61f6aae4c7f\">\n",
              "    <div class=\"colab-df-container\">\n",
              "      <div>\n",
              "<style scoped>\n",
              "    .dataframe tbody tr th:only-of-type {\n",
              "        vertical-align: middle;\n",
              "    }\n",
              "\n",
              "    .dataframe tbody tr th {\n",
              "        vertical-align: top;\n",
              "    }\n",
              "\n",
              "    .dataframe thead th {\n",
              "        text-align: right;\n",
              "    }\n",
              "</style>\n",
              "<table border=\"1\" class=\"dataframe\">\n",
              "  <thead>\n",
              "    <tr style=\"text-align: right;\">\n",
              "      <th></th>\n",
              "      <th>tweet_text</th>\n",
              "      <th>sentiment</th>\n",
              "    </tr>\n",
              "  </thead>\n",
              "  <tbody>\n",
              "    <tr>\n",
              "      <th>0</th>\n",
              "      <td>obrigar emocaopositiva</td>\n",
              "      <td>1</td>\n",
              "    </tr>\n",
              "    <tr>\n",
              "      <th>1</th>\n",
              "      <td>pa puta parir emocaopositiva</td>\n",
              "      <td>1</td>\n",
              "    </tr>\n",
              "    <tr>\n",
              "      <th>2</th>\n",
              "      <td>querer desconto 14/08 ⭐ ⭐ ⭐ ⭐ ⭐ 🌐 conferir o l...</td>\n",
              "      <td>1</td>\n",
              "    </tr>\n",
              "    <tr>\n",
              "      <th>3</th>\n",
              "      <td>vcs ajudar galera pelar amor butera emocaoposi...</td>\n",
              "      <td>1</td>\n",
              "    </tr>\n",
              "    <tr>\n",
              "      <th>4</th>\n",
              "      <td>casar zé e o morrer sono chegar o casar e fica...</td>\n",
              "      <td>1</td>\n",
              "    </tr>\n",
              "    <tr>\n",
              "      <th>5</th>\n",
              "      <td>preciso emocaopositiva</td>\n",
              "      <td>1</td>\n",
              "    </tr>\n",
              "    <tr>\n",
              "      <th>6</th>\n",
              "      <td>acaso adorar beijo e abraço hahahahaha bue f...</td>\n",
              "      <td>1</td>\n",
              "    </tr>\n",
              "    <tr>\n",
              "      <th>7</th>\n",
              "      <td>solteiro s emocaopositiva</td>\n",
              "      <td>1</td>\n",
              "    </tr>\n",
              "    <tr>\n",
              "      <th>8</th>\n",
              "      <td>lindeza cortador kit mário coleção bia cravol ...</td>\n",
              "      <td>1</td>\n",
              "    </tr>\n",
              "    <tr>\n",
              "      <th>9</th>\n",
              "      <td>claro emocaopositiva</td>\n",
              "      <td>1</td>\n",
              "    </tr>\n",
              "  </tbody>\n",
              "</table>\n",
              "</div>\n",
              "      <button class=\"colab-df-convert\" onclick=\"convertToInteractive('df-8765fda2-43af-42d6-a8e9-e61f6aae4c7f')\"\n",
              "              title=\"Convert this dataframe to an interactive table.\"\n",
              "              style=\"display:none;\">\n",
              "        \n",
              "  <svg xmlns=\"http://www.w3.org/2000/svg\" height=\"24px\"viewBox=\"0 0 24 24\"\n",
              "       width=\"24px\">\n",
              "    <path d=\"M0 0h24v24H0V0z\" fill=\"none\"/>\n",
              "    <path d=\"M18.56 5.44l.94 2.06.94-2.06 2.06-.94-2.06-.94-.94-2.06-.94 2.06-2.06.94zm-11 1L8.5 8.5l.94-2.06 2.06-.94-2.06-.94L8.5 2.5l-.94 2.06-2.06.94zm10 10l.94 2.06.94-2.06 2.06-.94-2.06-.94-.94-2.06-.94 2.06-2.06.94z\"/><path d=\"M17.41 7.96l-1.37-1.37c-.4-.4-.92-.59-1.43-.59-.52 0-1.04.2-1.43.59L10.3 9.45l-7.72 7.72c-.78.78-.78 2.05 0 2.83L4 21.41c.39.39.9.59 1.41.59.51 0 1.02-.2 1.41-.59l7.78-7.78 2.81-2.81c.8-.78.8-2.07 0-2.86zM5.41 20L4 18.59l7.72-7.72 1.47 1.35L5.41 20z\"/>\n",
              "  </svg>\n",
              "      </button>\n",
              "      \n",
              "  <style>\n",
              "    .colab-df-container {\n",
              "      display:flex;\n",
              "      flex-wrap:wrap;\n",
              "      gap: 12px;\n",
              "    }\n",
              "\n",
              "    .colab-df-convert {\n",
              "      background-color: #E8F0FE;\n",
              "      border: none;\n",
              "      border-radius: 50%;\n",
              "      cursor: pointer;\n",
              "      display: none;\n",
              "      fill: #1967D2;\n",
              "      height: 32px;\n",
              "      padding: 0 0 0 0;\n",
              "      width: 32px;\n",
              "    }\n",
              "\n",
              "    .colab-df-convert:hover {\n",
              "      background-color: #E2EBFA;\n",
              "      box-shadow: 0px 1px 2px rgba(60, 64, 67, 0.3), 0px 1px 3px 1px rgba(60, 64, 67, 0.15);\n",
              "      fill: #174EA6;\n",
              "    }\n",
              "\n",
              "    [theme=dark] .colab-df-convert {\n",
              "      background-color: #3B4455;\n",
              "      fill: #D2E3FC;\n",
              "    }\n",
              "\n",
              "    [theme=dark] .colab-df-convert:hover {\n",
              "      background-color: #434B5C;\n",
              "      box-shadow: 0px 1px 3px 1px rgba(0, 0, 0, 0.15);\n",
              "      filter: drop-shadow(0px 1px 2px rgba(0, 0, 0, 0.3));\n",
              "      fill: #FFFFFF;\n",
              "    }\n",
              "  </style>\n",
              "\n",
              "      <script>\n",
              "        const buttonEl =\n",
              "          document.querySelector('#df-8765fda2-43af-42d6-a8e9-e61f6aae4c7f button.colab-df-convert');\n",
              "        buttonEl.style.display =\n",
              "          google.colab.kernel.accessAllowed ? 'block' : 'none';\n",
              "\n",
              "        async function convertToInteractive(key) {\n",
              "          const element = document.querySelector('#df-8765fda2-43af-42d6-a8e9-e61f6aae4c7f');\n",
              "          const dataTable =\n",
              "            await google.colab.kernel.invokeFunction('convertToInteractive',\n",
              "                                                     [key], {});\n",
              "          if (!dataTable) return;\n",
              "\n",
              "          const docLinkHtml = 'Like what you see? Visit the ' +\n",
              "            '<a target=\"_blank\" href=https://colab.research.google.com/notebooks/data_table.ipynb>data table notebook</a>'\n",
              "            + ' to learn more about interactive tables.';\n",
              "          element.innerHTML = '';\n",
              "          dataTable['output_type'] = 'display_data';\n",
              "          await google.colab.output.renderOutput(dataTable, element);\n",
              "          const docLink = document.createElement('div');\n",
              "          docLink.innerHTML = docLinkHtml;\n",
              "          element.appendChild(docLink);\n",
              "        }\n",
              "      </script>\n",
              "    </div>\n",
              "  </div>\n",
              "  "
            ]
          },
          "metadata": {},
          "execution_count": 30
        }
      ]
    },
    {
      "cell_type": "markdown",
      "metadata": {
        "id": "trA39YO4PcFp"
      },
      "source": [
        "### Tratamento da classe"
      ]
    },
    {
      "cell_type": "code",
      "metadata": {
        "id": "SPPY0MlIYoTR"
      },
      "source": [
        "exemplo_base_dados = [[\"este trabalho é agradável\", {\"POSITIVO\": True, \"NEGATIVO\": False}],\n",
        "                      [\"este lugar continua assustador\", {\"POSITIVO\": False, \"NEGATIVO\": True}]]"
      ],
      "execution_count": 29,
      "outputs": []
    },
    {
      "cell_type": "code",
      "metadata": {
        "id": "TH31QeqEyrub"
      },
      "source": [
        "base_dados_treinamento_final = [] #Tratando a base sobre o sentimento\n",
        "for texto, emocao in zip(base_treinamento['tweet_text'], base_treinamento['sentiment']):\n",
        "  if emocao == 1:\n",
        "    dic = ({'POSITIVO': True, 'NEGATIVO': False})\n",
        "  elif emocao == 0:\n",
        "    dic = ({'POSITIVO': False, 'NEGATIVO': True})\n",
        "\n",
        "  base_dados_treinamento_final.append([texto, dic.copy()])"
      ],
      "execution_count": 31,
      "outputs": []
    },
    {
      "cell_type": "code",
      "metadata": {
        "id": "kwFKyNZM2TFj",
        "colab": {
          "base_uri": "https://localhost:8080/"
        },
        "outputId": "4b8c3b88-ef9b-47a9-e226-1bd171b9aa44"
      },
      "source": [
        "len(base_dados_treinamento_final)"
      ],
      "execution_count": 32,
      "outputs": [
        {
          "output_type": "execute_result",
          "data": {
            "text/plain": [
              "50000"
            ]
          },
          "metadata": {},
          "execution_count": 32
        }
      ]
    },
    {
      "cell_type": "code",
      "metadata": {
        "id": "_3D9UkMI2W60",
        "colab": {
          "base_uri": "https://localhost:8080/"
        },
        "outputId": "f6bc2b5d-22da-4b2d-95c8-04f124702c90"
      },
      "source": [
        "base_dados_treinamento_final[10:15]"
      ],
      "execution_count": 33,
      "outputs": [
        {
          "output_type": "execute_result",
          "data": {
            "text/plain": [
              "[['simplesmente o deixar chatear querer muitooo e iludir emocaopositiva',\n",
              "  {'NEGATIVO': False, 'POSITIVO': True}],\n",
              " ['o comedir umar rotina e perfeitamente parir consolidar o escola condução :p',\n",
              "  {'NEGATIVO': False, 'POSITIVO': True}],\n",
              " ['amigar parecer apaixonar vc — recíproco emocaopositiva',\n",
              "  {'NEGATIVO': False, 'POSITIVO': True}],\n",
              " ['  gajar bacano aleijar esperar e o silvar feliz emocaopositiva',\n",
              "  {'NEGATIVO': False, 'POSITIVO': True}],\n",
              " ['tou o video cabra bebé emocaopositiva',\n",
              "  {'NEGATIVO': False, 'POSITIVO': True}]]"
            ]
          },
          "metadata": {},
          "execution_count": 33
        }
      ]
    },
    {
      "cell_type": "code",
      "metadata": {
        "id": "E8C-_9AB2fEM",
        "colab": {
          "base_uri": "https://localhost:8080/"
        },
        "outputId": "d85f8ee3-1519-445e-ab40-7078f15c7705"
      },
      "source": [
        "base_dados_treinamento_final[45000:45005]"
      ],
      "execution_count": 34,
      "outputs": [
        {
          "output_type": "execute_result",
          "data": {
            "text/plain": [
              "[['o menino pijama listrar o filmar triste mundo estruturar nenhum pra assistir rever e to pensar n emocaonegativa',\n",
              "  {'NEGATIVO': True, 'POSITIVO': False}],\n",
              " ['pra o vídeo luísa raiz o poliana infelizmente o twitter tá ruim amanhã postar emocaonegativa asaventurasdepoliana099',\n",
              "  {'NEGATIVO': True, 'POSITIVO': False}],\n",
              " ['to crise abstinência strangers emocaonegativa — tbm :/ to',\n",
              "  {'NEGATIVO': True, 'POSITIVO': False}],\n",
              " ['  esquecer olhar pra pagar o mensalidade turma pro cursar querer emocaonegativa',\n",
              "  {'NEGATIVO': True, 'POSITIVO': False}],\n",
              " ['querer comer doce comer montar hoje emocaonegativa maldição',\n",
              "  {'NEGATIVO': True, 'POSITIVO': False}]]"
            ]
          },
          "metadata": {},
          "execution_count": 34
        }
      ]
    },
    {
      "cell_type": "markdown",
      "metadata": {
        "id": "5mc19ZByUNsu"
      },
      "source": [
        "# Etapa 5: Criação do classificador"
      ]
    },
    {
      "cell_type": "code",
      "metadata": {
        "id": "YnZ1orji7Iv8"
      },
      "source": [
        "modelo = spacy.blank('pt') #processamento de linguagem natural #Usando lib mais atual"
      ],
      "execution_count": 35,
      "outputs": []
    },
    {
      "cell_type": "code",
      "source": [
        "categorias = modelo.create_pipe(\"textcat\")"
      ],
      "metadata": {
        "id": "LgYfztEjBahx"
      },
      "execution_count": 40,
      "outputs": []
    },
    {
      "cell_type": "code",
      "source": [
        "categorias.add_label(\"POSITIVO\")\n",
        "categorias.add_label(\"NEGATIVO\")"
      ],
      "metadata": {
        "colab": {
          "base_uri": "https://localhost:8080/"
        },
        "id": "Y6N_BYsLBdmL",
        "outputId": "8d9c2aab-1d6c-4577-8aca-a4bee4a4284f"
      },
      "execution_count": 41,
      "outputs": [
        {
          "output_type": "execute_result",
          "data": {
            "text/plain": [
              "1"
            ]
          },
          "metadata": {},
          "execution_count": 41
        }
      ]
    },
    {
      "cell_type": "code",
      "source": [
        "#from thinc.api import Config\n",
        "#from spacy.language import pt"
      ],
      "metadata": {
        "id": "tpyud1i9BhDl"
      },
      "execution_count": 58,
      "outputs": []
    },
    {
      "cell_type": "code",
      "source": [
        "modelo.add_pipe(categorias)\n",
        "historico = []"
      ],
      "metadata": {
        "colab": {
          "base_uri": "https://localhost:8080/",
          "height": 321
        },
        "id": "mdW1K2ViCDwL",
        "outputId": "34d17e10-c5f5-444e-e90e-a75e6ea33e70"
      },
      "execution_count": 42,
      "outputs": [
        {
          "output_type": "error",
          "ename": "ValueError",
          "evalue": "ignored",
          "traceback": [
            "\u001b[0;31m---------------------------------------------------------------------------\u001b[0m",
            "\u001b[0;31mValueError\u001b[0m                                Traceback (most recent call last)",
            "\u001b[0;32m<ipython-input-42-47032dc9bd23>\u001b[0m in \u001b[0;36m<module>\u001b[0;34m()\u001b[0m\n\u001b[0;32m----> 1\u001b[0;31m \u001b[0mmodelo\u001b[0m\u001b[0;34m.\u001b[0m\u001b[0madd_pipe\u001b[0m\u001b[0;34m(\u001b[0m\u001b[0mcategorias\u001b[0m\u001b[0;34m)\u001b[0m\u001b[0;34m\u001b[0m\u001b[0;34m\u001b[0m\u001b[0m\n\u001b[0m\u001b[1;32m      2\u001b[0m \u001b[0mhistorico\u001b[0m \u001b[0;34m=\u001b[0m \u001b[0;34m[\u001b[0m\u001b[0;34m]\u001b[0m\u001b[0;34m\u001b[0m\u001b[0;34m\u001b[0m\u001b[0m\n",
            "\u001b[0;32m/usr/local/lib/python3.7/dist-packages/spacy/language.py\u001b[0m in \u001b[0;36madd_pipe\u001b[0;34m(self, component, name, before, after, first, last)\u001b[0m\n\u001b[1;32m    325\u001b[0m             \u001b[0mname\u001b[0m \u001b[0;34m=\u001b[0m \u001b[0mutil\u001b[0m\u001b[0;34m.\u001b[0m\u001b[0mget_component_name\u001b[0m\u001b[0;34m(\u001b[0m\u001b[0mcomponent\u001b[0m\u001b[0;34m)\u001b[0m\u001b[0;34m\u001b[0m\u001b[0;34m\u001b[0m\u001b[0m\n\u001b[1;32m    326\u001b[0m         \u001b[0;32mif\u001b[0m \u001b[0mname\u001b[0m \u001b[0;32min\u001b[0m \u001b[0mself\u001b[0m\u001b[0;34m.\u001b[0m\u001b[0mpipe_names\u001b[0m\u001b[0;34m:\u001b[0m\u001b[0;34m\u001b[0m\u001b[0;34m\u001b[0m\u001b[0m\n\u001b[0;32m--> 327\u001b[0;31m             \u001b[0;32mraise\u001b[0m \u001b[0mValueError\u001b[0m\u001b[0;34m(\u001b[0m\u001b[0mErrors\u001b[0m\u001b[0;34m.\u001b[0m\u001b[0mE007\u001b[0m\u001b[0;34m.\u001b[0m\u001b[0mformat\u001b[0m\u001b[0;34m(\u001b[0m\u001b[0mname\u001b[0m\u001b[0;34m=\u001b[0m\u001b[0mname\u001b[0m\u001b[0;34m,\u001b[0m \u001b[0mopts\u001b[0m\u001b[0;34m=\u001b[0m\u001b[0mself\u001b[0m\u001b[0;34m.\u001b[0m\u001b[0mpipe_names\u001b[0m\u001b[0;34m)\u001b[0m\u001b[0;34m)\u001b[0m\u001b[0;34m\u001b[0m\u001b[0;34m\u001b[0m\u001b[0m\n\u001b[0m\u001b[1;32m    328\u001b[0m         \u001b[0;32mif\u001b[0m \u001b[0msum\u001b[0m\u001b[0;34m(\u001b[0m\u001b[0;34m[\u001b[0m\u001b[0mbool\u001b[0m\u001b[0;34m(\u001b[0m\u001b[0mbefore\u001b[0m\u001b[0;34m)\u001b[0m\u001b[0;34m,\u001b[0m \u001b[0mbool\u001b[0m\u001b[0;34m(\u001b[0m\u001b[0mafter\u001b[0m\u001b[0;34m)\u001b[0m\u001b[0;34m,\u001b[0m \u001b[0mbool\u001b[0m\u001b[0;34m(\u001b[0m\u001b[0mfirst\u001b[0m\u001b[0;34m)\u001b[0m\u001b[0;34m,\u001b[0m \u001b[0mbool\u001b[0m\u001b[0;34m(\u001b[0m\u001b[0mlast\u001b[0m\u001b[0;34m)\u001b[0m\u001b[0;34m]\u001b[0m\u001b[0;34m)\u001b[0m \u001b[0;34m>=\u001b[0m \u001b[0;36m2\u001b[0m\u001b[0;34m:\u001b[0m\u001b[0;34m\u001b[0m\u001b[0;34m\u001b[0m\u001b[0m\n\u001b[1;32m    329\u001b[0m             \u001b[0;32mraise\u001b[0m \u001b[0mValueError\u001b[0m\u001b[0;34m(\u001b[0m\u001b[0mErrors\u001b[0m\u001b[0;34m.\u001b[0m\u001b[0mE006\u001b[0m\u001b[0;34m)\u001b[0m\u001b[0;34m\u001b[0m\u001b[0;34m\u001b[0m\u001b[0m\n",
            "\u001b[0;31mValueError\u001b[0m: [E007] 'textcat' already exists in pipeline. Existing names: ['textcat']"
          ]
        }
      ]
    },
    {
      "cell_type": "code",
      "metadata": {
        "id": "3jlGvLEz764Y",
        "colab": {
          "base_uri": "https://localhost:8080/"
        },
        "outputId": "6a9d0329-3931-4ab0-da02-4cd56c364b4d"
      },
      "source": [
        "modelo.begin_training()\n",
        "for epoca in range(20):\n",
        "  random.shuffle(base_dados_treinamento_final)\n",
        "  losses = {}\n",
        "  for batch in spacy.util.minibatch(base_dados_treinamento_final, 512): #retornando batchs\n",
        "    textos = [modelo(texto) for texto, entities in batch]\n",
        "    annotations = [{'cats': entities} for texto, entities in batch]\n",
        "    modelo.update(textos, annotations, losses=losses) #realiza a o processamento e atualização\n",
        "    historico.append(losses)\n",
        "  if epoca % 5 == 0:\n",
        "    print(losses)"
      ],
      "execution_count": 43,
      "outputs": [
        {
          "output_type": "stream",
          "name": "stdout",
          "text": [
            "{'textcat': 3.475418611464942e-05}\n",
            "{'textcat': 7.36796642031301e-08}\n",
            "{'textcat': 5.7189362299633895e-09}\n",
            "{'textcat': 2.164518305043661e-09}\n"
          ]
        }
      ]
    },
    {
      "cell_type": "code",
      "metadata": {
        "id": "wSe-tDsCAciN"
      },
      "source": [
        "historico_loss = [] #historico de valor do erro\n",
        "for i in historico:\n",
        "  historico_loss.append(i.get('textcat'))"
      ],
      "execution_count": 44,
      "outputs": []
    },
    {
      "cell_type": "code",
      "metadata": {
        "id": "ShJhtbYtAr50",
        "colab": {
          "base_uri": "https://localhost:8080/"
        },
        "outputId": "d3e3dd69-7b0d-486e-d001-ee3fb1d3731a"
      },
      "source": [
        "historico_loss = np.array(historico_loss)\n",
        "historico_loss"
      ],
      "execution_count": 45,
      "outputs": [
        {
          "output_type": "execute_result",
          "data": {
            "text/plain": [
              "array([3.47541861e-05, 3.47541861e-05, 3.47541861e-05, ...,\n",
              "       1.32873367e-09, 1.32873367e-09, 1.32873367e-09])"
            ]
          },
          "metadata": {},
          "execution_count": 45
        }
      ]
    },
    {
      "cell_type": "code",
      "metadata": {
        "id": "6lEL-QoBA0KI",
        "colab": {
          "base_uri": "https://localhost:8080/",
          "height": 312
        },
        "outputId": "8f9db4ea-092d-4512-c1af-b5b6b63b8183"
      },
      "source": [
        "import matplotlib.pyplot as plt\n",
        "plt.plot(historico_loss)\n",
        "plt.title('Progressão do erro')\n",
        "plt.xlabel('Batches')\n",
        "plt.ylabel('Erro')"
      ],
      "execution_count": 46,
      "outputs": [
        {
          "output_type": "execute_result",
          "data": {
            "text/plain": [
              "Text(0, 0.5, 'Erro')"
            ]
          },
          "metadata": {},
          "execution_count": 46
        },
        {
          "output_type": "display_data",
          "data": {
            "text/plain": [
              "<Figure size 432x288 with 1 Axes>"
            ],
            "image/png": "[encoded data removed]"
          },
          "metadata": {
            "needs_background": "light"
          }
        }
      ]
    },
    {
      "cell_type": "code",
      "metadata": {
        "id": "amNE8xy_BPSF"
      },
      "source": [
        "modelo.to_disk(\"modelo_classificador\") #Gurdando o classificador gerado"
      ],
      "execution_count": 47,
      "outputs": []
    },
    {
      "cell_type": "markdown",
      "metadata": {
        "id": "ePMk8G0Dl6wg"
      },
      "source": [
        "# Etapa 6: Testes com uma frase"
      ]
    },
    {
      "cell_type": "code",
      "metadata": {
        "id": "W-7DO-DoAyPU",
        "colab": {
          "base_uri": "https://localhost:8080/"
        },
        "outputId": "e26b3ec0-18a4-4f63-adc9-e6454bdafbcf"
      },
      "source": [
        "modelo_carregado = spacy.load('modelo')\n",
        "modelo_carregado"
      ],
      "execution_count": null,
      "outputs": [
        {
          "output_type": "execute_result",
          "data": {
            "text/plain": [
              "<spacy.lang.pt.Portuguese at 0x7f82ebd05f10>"
            ]
          },
          "metadata": {},
          "execution_count": 45
        }
      ]
    },
    {
      "cell_type": "markdown",
      "metadata": {
        "id": "RZxpVOP4wJT9"
      },
      "source": [
        "## Texto positivo"
      ]
    },
    {
      "cell_type": "code",
      "metadata": {
        "id": "fGB9HS7BBEK2",
        "colab": {
          "base_uri": "https://localhost:8080/",
          "height": 35
        },
        "outputId": "66ea22fc-39f2-4609-8e41-203600068a7f"
      },
      "source": [
        "texto_positivo = base_teste['tweet_text'][21]\n",
        "texto_positivo"
      ],
      "execution_count": null,
      "outputs": [
        {
          "output_type": "execute_result",
          "data": {
            "application/vnd.google.colaboratory.intrinsic+json": {
              "type": "string"
            },
            "text/plain": [
              "'  ficar feliz q recíproco emocaopositiva'"
            ]
          },
          "metadata": {},
          "execution_count": 46
        }
      ]
    },
    {
      "cell_type": "code",
      "metadata": {
        "id": "NRJW5li7Bpij",
        "colab": {
          "base_uri": "https://localhost:8080/"
        },
        "outputId": "2a5cf983-2143-413f-fe0f-28174b99162f"
      },
      "source": [
        "previsao = modelo_carregado(texto_positivo)\n",
        "previsao"
      ],
      "execution_count": null,
      "outputs": [
        {
          "output_type": "execute_result",
          "data": {
            "text/plain": [
              "  ficar feliz q recíproco emocaopositiva"
            ]
          },
          "metadata": {},
          "execution_count": 47
        }
      ]
    },
    {
      "cell_type": "code",
      "metadata": {
        "id": "_XtuIsoMBuz8",
        "colab": {
          "base_uri": "https://localhost:8080/"
        },
        "outputId": "092768c4-99d5-4022-ab04-f70a121bc38c"
      },
      "source": [
        "previsao.cats"
      ],
      "execution_count": null,
      "outputs": [
        {
          "output_type": "execute_result",
          "data": {
            "text/plain": [
              "{'NEGATIVO': 4.539786823443137e-05, 'POSITIVO': 0.9999545812606812}"
            ]
          },
          "metadata": {},
          "execution_count": 48
        }
      ]
    },
    {
      "cell_type": "code",
      "metadata": {
        "id": "wKdZht7PB1cJ",
        "colab": {
          "base_uri": "https://localhost:8080/",
          "height": 35
        },
        "outputId": "cb15efc4-b173-45d8-cba7-49035ec3ab53"
      },
      "source": [
        "texto_positivo = 'eu gosto muito de você'\n",
        "texto_positivo = preprocessamento(texto_positivo)\n",
        "texto_positivo"
      ],
      "execution_count": null,
      "outputs": [
        {
          "output_type": "execute_result",
          "data": {
            "application/vnd.google.colaboratory.intrinsic+json": {
              "type": "string"
            },
            "text/plain": [
              "'gostar'"
            ]
          },
          "metadata": {},
          "execution_count": 49
        }
      ]
    },
    {
      "cell_type": "code",
      "metadata": {
        "id": "GFDF7coVCC4c",
        "colab": {
          "base_uri": "https://localhost:8080/"
        },
        "outputId": "8f89dcfb-fa09-47ce-aaaf-2de82f2102db"
      },
      "source": [
        "modelo_carregado(texto_positivo).cats"
      ],
      "execution_count": null,
      "outputs": [
        {
          "output_type": "execute_result",
          "data": {
            "text/plain": [
              "{'NEGATIVO': 0.026432260870933533, 'POSITIVO': 0.9160122871398926}"
            ]
          },
          "metadata": {},
          "execution_count": 50
        }
      ]
    },
    {
      "cell_type": "markdown",
      "metadata": {
        "id": "eavhsiJ4weg6"
      },
      "source": [
        "## Texto negativo"
      ]
    },
    {
      "cell_type": "code",
      "metadata": {
        "id": "Luyzv_ZcCY9p",
        "colab": {
          "base_uri": "https://localhost:8080/",
          "height": 35
        },
        "outputId": "3a325acb-c764-47a9-b4cb-23a1649bcb63"
      },
      "source": [
        "base_teste['tweet_text'][4000]"
      ],
      "execution_count": null,
      "outputs": [
        {
          "output_type": "execute_result",
          "data": {
            "application/vnd.google.colaboratory.intrinsic+json": {
              "type": "string"
            },
            "text/plain": [
              "'tô triste filmar mulan o mushu emocaonegativa'"
            ]
          },
          "metadata": {},
          "execution_count": 51
        }
      ]
    },
    {
      "cell_type": "code",
      "metadata": {
        "id": "GgpAm0JFCggN",
        "colab": {
          "base_uri": "https://localhost:8080/"
        },
        "outputId": "0338a89b-d462-434b-cb99-1523e49c743a"
      },
      "source": [
        "texto_negativo = base_teste['tweet_text'][4000]\n",
        "previsao = modelo_carregado(texto_negativo)\n",
        "previsao.cats"
      ],
      "execution_count": null,
      "outputs": [
        {
          "output_type": "execute_result",
          "data": {
            "text/plain": [
              "{'NEGATIVO': 0.9956915974617004, 'POSITIVO': 0.0007994209881871939}"
            ]
          },
          "metadata": {},
          "execution_count": 52
        }
      ]
    },
    {
      "cell_type": "markdown",
      "metadata": {
        "id": "KhF2vtEsnlpM"
      },
      "source": [
        "# Etapa 7: Avaliação do modelo"
      ]
    },
    {
      "cell_type": "markdown",
      "metadata": {
        "id": "sJzwpVWNACFi"
      },
      "source": [
        "## Avaliação na base de treinamento\n"
      ]
    },
    {
      "cell_type": "code",
      "metadata": {
        "id": "6NoTHRADDZ0Z"
      },
      "source": [
        "previsoes = []\n",
        "for texto in base_treinamento['tweet_text']:\n",
        "  previsao = modelo_carregado(texto)\n",
        "  previsoes.append(previsao.cats)"
      ],
      "execution_count": null,
      "outputs": []
    },
    {
      "cell_type": "code",
      "metadata": {
        "id": "8lRO94OuDvLZ",
        "colab": {
          "base_uri": "https://localhost:8080/"
        },
        "outputId": "2467e1ba-a65c-47a2-e56a-134ea878f8df"
      },
      "source": [
        "previsoes"
      ],
      "execution_count": null,
      "outputs": [
        {
          "output_type": "execute_result",
          "data": {
            "text/plain": [
              "[{'NEGATIVO': 6.014708196744323e-05, 'POSITIVO': 0.9998656511306763},\n",
              " {'NEGATIVO': 4.539786823443137e-05, 'POSITIVO': 0.9999545812606812},\n",
              " {'NEGATIVO': 4.539786823443137e-05, 'POSITIVO': 0.9999545812606812},\n",
              " {'NEGATIVO': 4.539786823443137e-05, 'POSITIVO': 0.9999545812606812},\n",
              " {'NEGATIVO': 4.539786823443137e-05, 'POSITIVO': 0.9999545812606812},\n",
              " {'NEGATIVO': 8.89400253072381e-05, 'POSITIVO': 0.9998146891593933},\n",
              " {'NEGATIVO': 0.00020334727014414966, 'POSITIVO': 0.9983733892440796},\n",
              " {'NEGATIVO': 4.539786823443137e-05, 'POSITIVO': 0.9999545812606812},\n",
              " {'NEGATIVO': 0.0002625312772579491, 'POSITIVO': 0.9996039271354675},\n",
              " {'NEGATIVO': 0.0005516020464710891, 'POSITIVO': 0.999866247177124},\n",
              " {'NEGATIVO': 4.539786823443137e-05, 'POSITIVO': 0.9999508857727051},\n",
              " {'NEGATIVO': 4.539786823443137e-05, 'POSITIVO': 0.9999545812606812},\n",
              " {'NEGATIVO': 4.539786823443137e-05, 'POSITIVO': 0.9999545812606812},\n",
              " {'NEGATIVO': 4.539786823443137e-05, 'POSITIVO': 0.9999545812606812},\n",
              " {'NEGATIVO': 9.066620987141505e-05, 'POSITIVO': 0.9997803568840027},\n",
              " {'NEGATIVO': 4.539786823443137e-05, 'POSITIVO': 0.9999545812606812},\n",
              " {'NEGATIVO': 0.00014880442176945508, 'POSITIVO': 0.9998539686203003},\n",
              " {'NEGATIVO': 9.471382509218529e-05, 'POSITIVO': 0.9997263550758362},\n",
              " {'NEGATIVO': 4.539786823443137e-05, 'POSITIVO': 0.9999172687530518},\n",
              " {'NEGATIVO': 4.539786823443137e-05, 'POSITIVO': 0.9999545812606812},\n",
              " {'NEGATIVO': 7.809077214915305e-05, 'POSITIVO': 0.9999299049377441},\n",
              " {'NEGATIVO': 4.539786823443137e-05, 'POSITIVO': 0.9999545812606812},\n",
              " {'NEGATIVO': 5.5630120186833665e-05, 'POSITIVO': 0.9999129772186279},\n",
              " {'NEGATIVO': 6.52651724522002e-05, 'POSITIVO': 0.9999284744262695},\n",
              " {'NEGATIVO': 4.820523099624552e-05, 'POSITIVO': 0.9998132586479187},\n",
              " {'NEGATIVO': 7.432212441926822e-05, 'POSITIVO': 0.9999480247497559},\n",
              " {'NEGATIVO': 0.0007128157885745168, 'POSITIVO': 0.9997841715812683},\n",
              " {'NEGATIVO': 4.895507299806923e-05, 'POSITIVO': 0.9997857213020325},\n",
              " {'NEGATIVO': 4.539786823443137e-05, 'POSITIVO': 0.9999545812606812},\n",
              " {'NEGATIVO': 9.35832504183054e-05, 'POSITIVO': 0.9998966455459595},\n",
              " {'NEGATIVO': 4.6684239350724965e-05, 'POSITIVO': 0.9999115467071533},\n",
              " {'NEGATIVO': 4.539786823443137e-05, 'POSITIVO': 0.9999433755874634},\n",
              " {'NEGATIVO': 4.539786823443137e-05, 'POSITIVO': 0.9999545812606812},\n",
              " {'NEGATIVO': 4.539786823443137e-05, 'POSITIVO': 0.9998887777328491},\n",
              " {'NEGATIVO': 7.120432564988732e-05, 'POSITIVO': 0.9998138546943665},\n",
              " {'NEGATIVO': 7.611851469846442e-05, 'POSITIVO': 0.9999545812606812},\n",
              " {'NEGATIVO': 4.539786823443137e-05, 'POSITIVO': 0.9998890161514282},\n",
              " {'NEGATIVO': 4.539786823443137e-05, 'POSITIVO': 0.9999138116836548},\n",
              " {'NEGATIVO': 0.00014524052676279098, 'POSITIVO': 0.9996994733810425},\n",
              " {'NEGATIVO': 0.0003822966536972672, 'POSITIVO': 0.9999126195907593},\n",
              " {'NEGATIVO': 0.00038814550498500466, 'POSITIVO': 0.9998922348022461},\n",
              " {'NEGATIVO': 0.00012510527449194342, 'POSITIVO': 0.9999281167984009},\n",
              " {'NEGATIVO': 0.00017728880629874766, 'POSITIVO': 0.9999324083328247},\n",
              " {'NEGATIVO': 4.539786823443137e-05, 'POSITIVO': 0.9999024868011475},\n",
              " {'NEGATIVO': 4.539786823443137e-05, 'POSITIVO': 0.9999545812606812},\n",
              " {'NEGATIVO': 0.00011626385094132274, 'POSITIVO': 0.9999082088470459},\n",
              " {'NEGATIVO': 4.539786823443137e-05, 'POSITIVO': 0.9999545812606812},\n",
              " {'NEGATIVO': 4.539786823443137e-05, 'POSITIVO': 0.9999545812606812},\n",
              " {'NEGATIVO': 4.539786823443137e-05, 'POSITIVO': 0.9999545812606812},\n",
              " {'NEGATIVO': 4.539786823443137e-05, 'POSITIVO': 0.9999293088912964},\n",
              " {'NEGATIVO': 4.539786823443137e-05, 'POSITIVO': 0.9999545812606812},\n",
              " {'NEGATIVO': 4.539786823443137e-05, 'POSITIVO': 0.9999545812606812},\n",
              " {'NEGATIVO': 4.539786823443137e-05, 'POSITIVO': 0.9999545812606812},\n",
              " {'NEGATIVO': 0.00021031919459346682, 'POSITIVO': 0.999794065952301},\n",
              " {'NEGATIVO': 4.539786823443137e-05, 'POSITIVO': 0.9999545812606812},\n",
              " {'NEGATIVO': 4.539786823443137e-05, 'POSITIVO': 0.9999545812606812},\n",
              " {'NEGATIVO': 4.539786823443137e-05, 'POSITIVO': 0.9999545812606812},\n",
              " {'NEGATIVO': 4.539786823443137e-05, 'POSITIVO': 0.9999514818191528},\n",
              " {'NEGATIVO': 4.539786823443137e-05, 'POSITIVO': 0.9999545812606812},\n",
              " {'NEGATIVO': 7.448062387993559e-05, 'POSITIVO': 0.9999264478683472},\n",
              " {'NEGATIVO': 4.539786823443137e-05, 'POSITIVO': 0.9999545812606812},\n",
              " {'NEGATIVO': 8.322092617163435e-05, 'POSITIVO': 0.9999289512634277},\n",
              " {'NEGATIVO': 4.539786823443137e-05, 'POSITIVO': 0.9999545812606812},\n",
              " {'NEGATIVO': 5.5605090892640874e-05, 'POSITIVO': 0.9998918771743774},\n",
              " {'NEGATIVO': 4.539786823443137e-05, 'POSITIVO': 0.9998854398727417},\n",
              " {'NEGATIVO': 4.539786823443137e-05, 'POSITIVO': 0.9999545812606812},\n",
              " {'NEGATIVO': 4.539786823443137e-05, 'POSITIVO': 0.9999545812606812},\n",
              " {'NEGATIVO': 5.916542431805283e-05, 'POSITIVO': 0.9998751878738403},\n",
              " {'NEGATIVO': 6.667410343652591e-05, 'POSITIVO': 0.9994422793388367},\n",
              " {'NEGATIVO': 0.0001371211837977171, 'POSITIVO': 0.9996587038040161},\n",
              " {'NEGATIVO': 4.539786823443137e-05, 'POSITIVO': 0.9999545812606812},\n",
              " {'NEGATIVO': 4.539786823443137e-05, 'POSITIVO': 0.9999545812606812},\n",
              " {'NEGATIVO': 4.539786823443137e-05, 'POSITIVO': 0.9999511241912842},\n",
              " {'NEGATIVO': 7.638326496817172e-05, 'POSITIVO': 0.9999237060546875},\n",
              " {'NEGATIVO': 4.539786823443137e-05, 'POSITIVO': 0.9999545812606812},\n",
              " {'NEGATIVO': 4.539786823443137e-05, 'POSITIVO': 0.9999545812606812},\n",
              " {'NEGATIVO': 4.539786823443137e-05, 'POSITIVO': 0.9999196529388428},\n",
              " {'NEGATIVO': 4.539786823443137e-05, 'POSITIVO': 0.9999545812606812},\n",
              " {'NEGATIVO': 4.539786823443137e-05, 'POSITIVO': 0.9999545812606812},\n",
              " {'NEGATIVO': 4.539786823443137e-05, 'POSITIVO': 0.9999545812606812},\n",
              " {'NEGATIVO': 4.539786823443137e-05, 'POSITIVO': 0.9998717308044434},\n",
              " {'NEGATIVO': 4.539786823443137e-05, 'POSITIVO': 0.999943733215332},\n",
              " {'NEGATIVO': 4.539786823443137e-05, 'POSITIVO': 0.9999545812606812},\n",
              " {'NEGATIVO': 4.539786823443137e-05, 'POSITIVO': 0.9999545812606812},\n",
              " {'NEGATIVO': 4.539786823443137e-05, 'POSITIVO': 0.9999545812606812},\n",
              " {'NEGATIVO': 4.5998771383892745e-05, 'POSITIVO': 0.9998700618743896},\n",
              " {'NEGATIVO': 4.539786823443137e-05, 'POSITIVO': 0.9999545812606812},\n",
              " {'NEGATIVO': 0.00013071032299194485, 'POSITIVO': 0.9998201727867126},\n",
              " {'NEGATIVO': 8.034019992919639e-05, 'POSITIVO': 0.9999005794525146},\n",
              " {'NEGATIVO': 4.539786823443137e-05, 'POSITIVO': 0.9999545812606812},\n",
              " {'NEGATIVO': 4.539786823443137e-05, 'POSITIVO': 0.9999545812606812},\n",
              " {'NEGATIVO': 4.539786823443137e-05, 'POSITIVO': 0.9999545812606812},\n",
              " {'NEGATIVO': 4.539786823443137e-05, 'POSITIVO': 0.9998819828033447},\n",
              " {'NEGATIVO': 4.925913526676595e-05, 'POSITIVO': 0.9999545812606812},\n",
              " {'NEGATIVO': 4.539786823443137e-05, 'POSITIVO': 0.9999545812606812},\n",
              " {'NEGATIVO': 4.539786823443137e-05, 'POSITIVO': 0.9999545812606812},\n",
              " {'NEGATIVO': 4.539786823443137e-05, 'POSITIVO': 0.999954342842102},\n",
              " {'NEGATIVO': 4.539786823443137e-05, 'POSITIVO': 0.9999545812606812},\n",
              " {'NEGATIVO': 4.539786823443137e-05, 'POSITIVO': 0.9999545812606812},\n",
              " {'NEGATIVO': 4.539786823443137e-05, 'POSITIVO': 0.9999545812606812},\n",
              " {'NEGATIVO': 0.00035757877049036324, 'POSITIVO': 0.9998866319656372},\n",
              " {'NEGATIVO': 4.539786823443137e-05, 'POSITIVO': 0.9999545812606812},\n",
              " {'NEGATIVO': 5.410588710219599e-05, 'POSITIVO': 0.9999545812606812},\n",
              " {'NEGATIVO': 4.539786823443137e-05, 'POSITIVO': 0.9999545812606812},\n",
              " {'NEGATIVO': 4.539786823443137e-05, 'POSITIVO': 0.9999545812606812},\n",
              " {'NEGATIVO': 0.00017208764620590955, 'POSITIVO': 0.9999152421951294},\n",
              " {'NEGATIVO': 4.539786823443137e-05, 'POSITIVO': 0.9999338388442993},\n",
              " {'NEGATIVO': 4.539786823443137e-05, 'POSITIVO': 0.9999545812606812},\n",
              " {'NEGATIVO': 4.539786823443137e-05, 'POSITIVO': 0.9999545812606812},\n",
              " {'NEGATIVO': 4.539786823443137e-05, 'POSITIVO': 0.9999247789382935},\n",
              " {'NEGATIVO': 4.539786823443137e-05, 'POSITIVO': 0.9999545812606812},\n",
              " {'NEGATIVO': 4.539786823443137e-05, 'POSITIVO': 0.9999545812606812},\n",
              " {'NEGATIVO': 9.383122232975438e-05, 'POSITIVO': 0.9999545812606812},\n",
              " {'NEGATIVO': 5.824992331326939e-05, 'POSITIVO': 0.999913215637207},\n",
              " {'NEGATIVO': 0.00013456674059852958, 'POSITIVO': 0.9999202489852905},\n",
              " {'NEGATIVO': 0.0002549891360104084, 'POSITIVO': 0.9995618462562561},\n",
              " {'NEGATIVO': 4.8997666453942657e-05, 'POSITIVO': 0.9999511241912842},\n",
              " {'NEGATIVO': 4.539786823443137e-05, 'POSITIVO': 0.9999545812606812},\n",
              " {'NEGATIVO': 4.539786823443137e-05, 'POSITIVO': 0.9999545812606812},\n",
              " {'NEGATIVO': 0.00012945776688866317, 'POSITIVO': 0.9997580647468567},\n",
              " {'NEGATIVO': 4.539786823443137e-05, 'POSITIVO': 0.9998569488525391},\n",
              " {'NEGATIVO': 0.0001361327595077455, 'POSITIVO': 0.9999545812606812},\n",
              " {'NEGATIVO': 7.810521492501721e-05, 'POSITIVO': 0.9999299049377441},\n",
              " {'NEGATIVO': 0.0001571270258864388, 'POSITIVO': 0.9999294281005859},\n",
              " {'NEGATIVO': 0.0002524633891880512, 'POSITIVO': 0.998444139957428},\n",
              " {'NEGATIVO': 4.557945430860855e-05, 'POSITIVO': 0.9999545812606812},\n",
              " {'NEGATIVO': 4.539786823443137e-05, 'POSITIVO': 0.9999545812606812},\n",
              " {'NEGATIVO': 4.539786823443137e-05, 'POSITIVO': 0.9999545812606812},\n",
              " {'NEGATIVO': 4.539786823443137e-05, 'POSITIVO': 0.9999545812606812},\n",
              " {'NEGATIVO': 4.539786823443137e-05, 'POSITIVO': 0.9999545812606812},\n",
              " {'NEGATIVO': 4.539786823443137e-05, 'POSITIVO': 0.9999545812606812},\n",
              " {'NEGATIVO': 4.539786823443137e-05, 'POSITIVO': 0.9998692274093628},\n",
              " {'NEGATIVO': 4.539786823443137e-05, 'POSITIVO': 0.9999545812606812},\n",
              " {'NEGATIVO': 4.539786823443137e-05, 'POSITIVO': 0.9999545812606812},\n",
              " {'NEGATIVO': 4.984028055332601e-05, 'POSITIVO': 0.9999233484268188},\n",
              " {'NEGATIVO': 4.539786823443137e-05, 'POSITIVO': 0.9999545812606812},\n",
              " {'NEGATIVO': 4.539786823443137e-05, 'POSITIVO': 0.9999545812606812},\n",
              " {'NEGATIVO': 4.539786823443137e-05, 'POSITIVO': 0.9999545812606812},\n",
              " {'NEGATIVO': 5.745795715483837e-05, 'POSITIVO': 0.9999545812606812},\n",
              " {'NEGATIVO': 4.539786823443137e-05, 'POSITIVO': 0.9999455213546753},\n",
              " {'NEGATIVO': 4.539786823443137e-05, 'POSITIVO': 0.9999545812606812},\n",
              " {'NEGATIVO': 0.00010830775136128068, 'POSITIVO': 0.9998286962509155},\n",
              " {'NEGATIVO': 0.00016878244059626013, 'POSITIVO': 0.9999469518661499},\n",
              " {'NEGATIVO': 4.539786823443137e-05, 'POSITIVO': 0.9998830556869507},\n",
              " {'NEGATIVO': 4.539786823443137e-05, 'POSITIVO': 0.9999545812606812},\n",
              " {'NEGATIVO': 0.00018332531908527017, 'POSITIVO': 0.9999113082885742},\n",
              " {'NEGATIVO': 4.539786823443137e-05, 'POSITIVO': 0.9999545812606812},\n",
              " {'NEGATIVO': 4.539786823443137e-05, 'POSITIVO': 0.999953031539917},\n",
              " {'NEGATIVO': 4.539786823443137e-05, 'POSITIVO': 0.9999545812606812},\n",
              " {'NEGATIVO': 4.539786823443137e-05, 'POSITIVO': 0.9999545812606812},\n",
              " {'NEGATIVO': 4.539786823443137e-05, 'POSITIVO': 0.9999545812606812},\n",
              " {'NEGATIVO': 5.896849688724615e-05, 'POSITIVO': 0.9998553991317749},\n",
              " {'NEGATIVO': 4.539786823443137e-05, 'POSITIVO': 0.9999545812606812},\n",
              " {'NEGATIVO': 0.00012500249431468546, 'POSITIVO': 0.9999189376831055},\n",
              " {'NEGATIVO': 4.539786823443137e-05, 'POSITIVO': 0.9998835325241089},\n",
              " {'NEGATIVO': 9.421253344044089e-05, 'POSITIVO': 0.9997425675392151},\n",
              " {'NEGATIVO': 0.0018909447826445103, 'POSITIVO': 0.9999538660049438},\n",
              " {'NEGATIVO': 4.539786823443137e-05, 'POSITIVO': 0.9998005032539368},\n",
              " {'NEGATIVO': 0.003861246397718787, 'POSITIVO': 0.9989990592002869},\n",
              " {'NEGATIVO': 4.539786823443137e-05, 'POSITIVO': 0.9999545812606812},\n",
              " {'NEGATIVO': 4.539786823443137e-05, 'POSITIVO': 0.9999545812606812},\n",
              " {'NEGATIVO': 4.539786823443137e-05, 'POSITIVO': 0.9999444484710693},\n",
              " {'NEGATIVO': 4.539786823443137e-05, 'POSITIVO': 0.9999545812606812},\n",
              " {'NEGATIVO': 5.237973891780712e-05, 'POSITIVO': 0.9999545812606812},\n",
              " {'NEGATIVO': 4.539786823443137e-05, 'POSITIVO': 0.999936580657959},\n",
              " {'NEGATIVO': 4.539786823443137e-05, 'POSITIVO': 0.9999545812606812},\n",
              " {'NEGATIVO': 4.539786823443137e-05, 'POSITIVO': 0.9999545812606812},\n",
              " {'NEGATIVO': 0.0004282080044504255, 'POSITIVO': 0.9999488592147827},\n",
              " {'NEGATIVO': 4.539786823443137e-05, 'POSITIVO': 0.9999545812606812},\n",
              " {'NEGATIVO': 4.539786823443137e-05, 'POSITIVO': 0.9999545812606812},\n",
              " {'NEGATIVO': 4.539786823443137e-05, 'POSITIVO': 0.9999545812606812},\n",
              " {'NEGATIVO': 4.539786823443137e-05, 'POSITIVO': 0.9999545812606812},\n",
              " {'NEGATIVO': 5.006875653634779e-05, 'POSITIVO': 0.9996484518051147},\n",
              " {'NEGATIVO': 0.00010850189573829994, 'POSITIVO': 0.9998229146003723},\n",
              " {'NEGATIVO': 0.00019134845933876932, 'POSITIVO': 0.999915361404419},\n",
              " {'NEGATIVO': 4.539786823443137e-05, 'POSITIVO': 0.9999545812606812},\n",
              " {'NEGATIVO': 4.539786823443137e-05, 'POSITIVO': 0.9999545812606812},\n",
              " {'NEGATIVO': 4.539786823443137e-05, 'POSITIVO': 0.9999103546142578},\n",
              " {'NEGATIVO': 5.523772779270075e-05, 'POSITIVO': 0.9999507665634155},\n",
              " {'NEGATIVO': 4.539786823443137e-05, 'POSITIVO': 0.9999545812606812},\n",
              " {'NEGATIVO': 4.539786823443137e-05, 'POSITIVO': 0.9999545812606812},\n",
              " {'NEGATIVO': 0.00018081003508996218, 'POSITIVO': 0.9998283386230469},\n",
              " {'NEGATIVO': 0.00011802447988884524, 'POSITIVO': 0.9996979236602783},\n",
              " {'NEGATIVO': 8.792287553660572e-05, 'POSITIVO': 0.9996547698974609},\n",
              " {'NEGATIVO': 4.539786823443137e-05, 'POSITIVO': 0.9999545812606812},\n",
              " {'NEGATIVO': 4.539786823443137e-05, 'POSITIVO': 0.9999545812606812},\n",
              " {'NEGATIVO': 4.539786823443137e-05, 'POSITIVO': 0.9999545812606812},\n",
              " {'NEGATIVO': 4.539786823443137e-05, 'POSITIVO': 0.9999388456344604},\n",
              " {'NEGATIVO': 4.539786823443137e-05, 'POSITIVO': 0.9999545812606812},\n",
              " {'NEGATIVO': 4.539786823443137e-05, 'POSITIVO': 0.9999545812606812},\n",
              " {'NEGATIVO': 4.539786823443137e-05, 'POSITIVO': 0.9999361038208008},\n",
              " {'NEGATIVO': 4.539786823443137e-05, 'POSITIVO': 0.9999545812606812},\n",
              " {'NEGATIVO': 4.539786823443137e-05, 'POSITIVO': 0.9999545812606812},\n",
              " {'NEGATIVO': 4.539786823443137e-05, 'POSITIVO': 0.9999545812606812},\n",
              " {'NEGATIVO': 7.810455281287432e-05, 'POSITIVO': 0.9999299049377441},\n",
              " {'NEGATIVO': 4.539786823443137e-05, 'POSITIVO': 0.9999545812606812},\n",
              " {'NEGATIVO': 4.6624172682641074e-05, 'POSITIVO': 0.9999396800994873},\n",
              " {'NEGATIVO': 4.539786823443137e-05, 'POSITIVO': 0.9999101161956787},\n",
              " {'NEGATIVO': 6.32787196082063e-05, 'POSITIVO': 0.9998923540115356},\n",
              " {'NEGATIVO': 5.5900432926137e-05, 'POSITIVO': 0.9999325275421143},\n",
              " {'NEGATIVO': 8.242285548476502e-05, 'POSITIVO': 0.9999545812606812},\n",
              " {'NEGATIVO': 0.00027671665884554386, 'POSITIVO': 0.9990288019180298},\n",
              " {'NEGATIVO': 4.539786823443137e-05, 'POSITIVO': 0.9999545812606812},\n",
              " {'NEGATIVO': 4.539786823443137e-05, 'POSITIVO': 0.9999545812606812},\n",
              " {'NEGATIVO': 0.00020116368250455707, 'POSITIVO': 0.9997386336326599},\n",
              " {'NEGATIVO': 4.539786823443137e-05, 'POSITIVO': 0.9999545812606812},\n",
              " {'NEGATIVO': 0.00010105138062499464, 'POSITIVO': 0.9998555183410645},\n",
              " {'NEGATIVO': 4.624195207725279e-05, 'POSITIVO': 0.9998972415924072},\n",
              " {'NEGATIVO': 4.539786823443137e-05, 'POSITIVO': 0.9999033212661743},\n",
              " {'NEGATIVO': 7.661042764084414e-05, 'POSITIVO': 0.9999233484268188},\n",
              " {'NEGATIVO': 4.539786823443137e-05, 'POSITIVO': 0.9999545812606812},\n",
              " {'NEGATIVO': 4.539786823443137e-05, 'POSITIVO': 0.9999545812606812},\n",
              " {'NEGATIVO': 5.273061105981469e-05, 'POSITIVO': 0.9996933937072754},\n",
              " {'NEGATIVO': 0.0002319532068213448, 'POSITIVO': 0.9996869564056396},\n",
              " {'NEGATIVO': 4.539786823443137e-05, 'POSITIVO': 0.9999545812606812},\n",
              " {'NEGATIVO': 4.539786823443137e-05, 'POSITIVO': 0.9999545812606812},\n",
              " {'NEGATIVO': 8.537093526683748e-05, 'POSITIVO': 0.9999524354934692},\n",
              " {'NEGATIVO': 4.539786823443137e-05, 'POSITIVO': 0.9999545812606812},\n",
              " {'NEGATIVO': 0.0004305184993427247, 'POSITIVO': 0.9992546439170837},\n",
              " {'NEGATIVO': 4.539786823443137e-05, 'POSITIVO': 0.9999545812606812},\n",
              " {'NEGATIVO': 6.787321763113141e-05, 'POSITIVO': 0.999907374382019},\n",
              " {'NEGATIVO': 4.539786823443137e-05, 'POSITIVO': 0.9999289512634277},\n",
              " {'NEGATIVO': 0.0007276539690792561, 'POSITIVO': 0.999645471572876},\n",
              " {'NEGATIVO': 4.539786823443137e-05, 'POSITIVO': 0.9999415874481201},\n",
              " {'NEGATIVO': 4.539786823443137e-05, 'POSITIVO': 0.9999545812606812},\n",
              " {'NEGATIVO': 5.948750185780227e-05, 'POSITIVO': 0.9999356269836426},\n",
              " {'NEGATIVO': 0.00035408258554525673, 'POSITIVO': 0.9996484518051147},\n",
              " {'NEGATIVO': 0.0002505973679944873, 'POSITIVO': 0.999784529209137},\n",
              " {'NEGATIVO': 0.0004369372909422964, 'POSITIVO': 0.9988011121749878},\n",
              " {'NEGATIVO': 5.972510189167224e-05, 'POSITIVO': 0.9999449253082275},\n",
              " {'NEGATIVO': 4.539786823443137e-05, 'POSITIVO': 0.9999455213546753},\n",
              " {'NEGATIVO': 4.539786823443137e-05, 'POSITIVO': 0.9999545812606812},\n",
              " {'NEGATIVO': 4.539786823443137e-05, 'POSITIVO': 0.9999545812606812},\n",
              " {'NEGATIVO': 6.722385296598077e-05, 'POSITIVO': 0.9999545812606812},\n",
              " {'NEGATIVO': 4.539786823443137e-05, 'POSITIVO': 0.9999545812606812},\n",
              " {'NEGATIVO': 8.644728222861886e-05, 'POSITIVO': 0.9997814297676086},\n",
              " {'NEGATIVO': 5.992574733681977e-05, 'POSITIVO': 0.9999040365219116},\n",
              " {'NEGATIVO': 4.539786823443137e-05, 'POSITIVO': 0.9999545812606812},\n",
              " {'NEGATIVO': 4.539786823443137e-05, 'POSITIVO': 0.9999545812606812},\n",
              " {'NEGATIVO': 0.0013128465507179499, 'POSITIVO': 0.9997573494911194},\n",
              " {'NEGATIVO': 0.0002231274702353403, 'POSITIVO': 0.9996902942657471},\n",
              " {'NEGATIVO': 5.239812526269816e-05, 'POSITIVO': 0.9999545812606812},\n",
              " {'NEGATIVO': 4.539786823443137e-05, 'POSITIVO': 0.9999545812606812},\n",
              " {'NEGATIVO': 4.539786823443137e-05, 'POSITIVO': 0.9999308586120605},\n",
              " {'NEGATIVO': 4.539786823443137e-05, 'POSITIVO': 0.9999545812606812},\n",
              " {'NEGATIVO': 9.516385762253776e-05, 'POSITIVO': 0.9999545812606812},\n",
              " {'NEGATIVO': 7.941958028823137e-05, 'POSITIVO': 0.9999545812606812},\n",
              " {'NEGATIVO': 4.539786823443137e-05, 'POSITIVO': 0.9999545812606812},\n",
              " {'NEGATIVO': 4.539786823443137e-05, 'POSITIVO': 0.9999545812606812},\n",
              " {'NEGATIVO': 4.539786823443137e-05, 'POSITIVO': 0.9999545812606812},\n",
              " {'NEGATIVO': 4.539786823443137e-05, 'POSITIVO': 0.9999496936798096},\n",
              " {'NEGATIVO': 4.539786823443137e-05, 'POSITIVO': 0.9999545812606812},\n",
              " {'NEGATIVO': 4.539786823443137e-05, 'POSITIVO': 0.9999545812606812},\n",
              " {'NEGATIVO': 4.539786823443137e-05, 'POSITIVO': 0.9999545812606812},\n",
              " {'NEGATIVO': 4.539786823443137e-05, 'POSITIVO': 0.9999526739120483},\n",
              " {'NEGATIVO': 4.539786823443137e-05, 'POSITIVO': 0.9999545812606812},\n",
              " {'NEGATIVO': 0.00011931802146136761, 'POSITIVO': 0.9998766183853149},\n",
              " {'NEGATIVO': 5.2833594963885844e-05, 'POSITIVO': 0.9999493360519409},\n",
              " {'NEGATIVO': 0.00010287280019838363, 'POSITIVO': 0.9999545812606812},\n",
              " {'NEGATIVO': 5.5256899941014126e-05, 'POSITIVO': 0.9999545812606812},\n",
              " {'NEGATIVO': 4.539786823443137e-05, 'POSITIVO': 0.9998773336410522},\n",
              " {'NEGATIVO': 4.539786823443137e-05, 'POSITIVO': 0.9999545812606812},\n",
              " {'NEGATIVO': 5.047105150879361e-05, 'POSITIVO': 0.9997493624687195},\n",
              " {'NEGATIVO': 4.539786823443137e-05, 'POSITIVO': 0.999943733215332},\n",
              " {'NEGATIVO': 4.539786823443137e-05, 'POSITIVO': 0.9999545812606812},\n",
              " {'NEGATIVO': 4.539786823443137e-05, 'POSITIVO': 0.9999545812606812},\n",
              " {'NEGATIVO': 6.612210563616827e-05, 'POSITIVO': 0.99992835521698},\n",
              " {'NEGATIVO': 4.539786823443137e-05, 'POSITIVO': 0.9999545812606812},\n",
              " {'NEGATIVO': 8.502604032400995e-05, 'POSITIVO': 0.9999545812606812},\n",
              " {'NEGATIVO': 4.539786823443137e-05, 'POSITIVO': 0.9999545812606812},\n",
              " {'NEGATIVO': 4.539786823443137e-05, 'POSITIVO': 0.9997749924659729},\n",
              " {'NEGATIVO': 5.695622894563712e-05, 'POSITIVO': 0.9999545812606812},\n",
              " {'NEGATIVO': 4.539786823443137e-05, 'POSITIVO': 0.999943733215332},\n",
              " {'NEGATIVO': 5.2162158681312576e-05, 'POSITIVO': 0.9999374151229858},\n",
              " {'NEGATIVO': 7.611902401549742e-05, 'POSITIVO': 0.9997270703315735},\n",
              " {'NEGATIVO': 7.92877544881776e-05, 'POSITIVO': 0.9999545812606812},\n",
              " {'NEGATIVO': 5.3738895076094195e-05, 'POSITIVO': 0.9999545812606812},\n",
              " {'NEGATIVO': 5.0169837777502835e-05, 'POSITIVO': 0.999942421913147},\n",
              " {'NEGATIVO': 4.539786823443137e-05, 'POSITIVO': 0.9999316930770874},\n",
              " {'NEGATIVO': 0.000220459362026304, 'POSITIVO': 0.99985671043396},\n",
              " {'NEGATIVO': 9.318013326264918e-05, 'POSITIVO': 0.9998025298118591},\n",
              " {'NEGATIVO': 7.390583778033033e-05, 'POSITIVO': 0.9999545812606812},\n",
              " {'NEGATIVO': 4.539786823443137e-05, 'POSITIVO': 0.999940037727356},\n",
              " {'NEGATIVO': 4.539786823443137e-05, 'POSITIVO': 0.9999545812606812},\n",
              " {'NEGATIVO': 4.539786823443137e-05, 'POSITIVO': 0.9999545812606812},\n",
              " {'NEGATIVO': 8.358693594345823e-05, 'POSITIVO': 0.9999401569366455},\n",
              " {'NEGATIVO': 0.00033822248224169016, 'POSITIVO': 0.9995986819267273},\n",
              " {'NEGATIVO': 4.539786823443137e-05, 'POSITIVO': 0.9999545812606812},\n",
              " {'NEGATIVO': 4.539786823443137e-05, 'POSITIVO': 0.9999545812606812},\n",
              " {'NEGATIVO': 4.539786823443137e-05, 'POSITIVO': 0.9999545812606812},\n",
              " {'NEGATIVO': 6.70543740852736e-05, 'POSITIVO': 0.9999545812606812},\n",
              " {'NEGATIVO': 4.539786823443137e-05, 'POSITIVO': 0.9999545812606812},\n",
              " {'NEGATIVO': 4.539786823443137e-05, 'POSITIVO': 0.9999545812606812},\n",
              " {'NEGATIVO': 4.539786823443137e-05, 'POSITIVO': 0.9999545812606812},\n",
              " {'NEGATIVO': 4.539786823443137e-05, 'POSITIVO': 0.9999545812606812},\n",
              " {'NEGATIVO': 0.00010093955643242225, 'POSITIVO': 0.9999545812606812},\n",
              " {'NEGATIVO': 4.539786823443137e-05, 'POSITIVO': 0.9999178647994995},\n",
              " {'NEGATIVO': 8.413528848905116e-05, 'POSITIVO': 0.9999340772628784},\n",
              " {'NEGATIVO': 0.00013266075984574854, 'POSITIVO': 0.9998072981834412},\n",
              " {'NEGATIVO': 4.539786823443137e-05, 'POSITIVO': 0.9999545812606812},\n",
              " {'NEGATIVO': 4.539786823443137e-05, 'POSITIVO': 0.9998656511306763},\n",
              " {'NEGATIVO': 4.539786823443137e-05, 'POSITIVO': 0.9999545812606812},\n",
              " {'NEGATIVO': 4.539786823443137e-05, 'POSITIVO': 0.9999545812606812},\n",
              " {'NEGATIVO': 7.793455006321892e-05, 'POSITIVO': 0.9999302625656128},\n",
              " {'NEGATIVO': 4.6749948523938656e-05, 'POSITIVO': 0.9998993873596191},\n",
              " {'NEGATIVO': 0.00012212312140036374, 'POSITIVO': 0.9999210834503174},\n",
              " {'NEGATIVO': 4.539786823443137e-05, 'POSITIVO': 0.9999545812606812},\n",
              " {'NEGATIVO': 4.539786823443137e-05, 'POSITIVO': 0.999943733215332},\n",
              " {'NEGATIVO': 4.539786823443137e-05, 'POSITIVO': 0.9999545812606812},\n",
              " {'NEGATIVO': 6.700931407976896e-05, 'POSITIVO': 0.9997615218162537},\n",
              " {'NEGATIVO': 4.539786823443137e-05, 'POSITIVO': 0.9999545812606812},\n",
              " {'NEGATIVO': 4.539786823443137e-05, 'POSITIVO': 0.9999545812606812},\n",
              " {'NEGATIVO': 0.0002401331439614296, 'POSITIVO': 0.9996962547302246},\n",
              " {'NEGATIVO': 6.528577796416357e-05, 'POSITIVO': 0.9999490976333618},\n",
              " {'NEGATIVO': 0.00026697912835516036, 'POSITIVO': 0.9998328685760498},\n",
              " {'NEGATIVO': 4.539786823443137e-05, 'POSITIVO': 0.9999324083328247},\n",
              " {'NEGATIVO': 4.539786823443137e-05, 'POSITIVO': 0.9999545812606812},\n",
              " {'NEGATIVO': 0.0001654144434724003, 'POSITIVO': 0.9998157620429993},\n",
              " {'NEGATIVO': 0.00010269481572322547, 'POSITIVO': 0.9999545812606812},\n",
              " {'NEGATIVO': 4.539786823443137e-05, 'POSITIVO': 0.9999545812606812},\n",
              " {'NEGATIVO': 4.539786823443137e-05, 'POSITIVO': 0.9999545812606812},\n",
              " {'NEGATIVO': 4.539786823443137e-05, 'POSITIVO': 0.9999545812606812},\n",
              " {'NEGATIVO': 7.92994032963179e-05, 'POSITIVO': 0.99992835521698},\n",
              " {'NEGATIVO': 4.539786823443137e-05, 'POSITIVO': 0.9999545812606812},\n",
              " {'NEGATIVO': 0.00011323437502142042, 'POSITIVO': 0.9998670816421509},\n",
              " {'NEGATIVO': 4.539786823443137e-05, 'POSITIVO': 0.9999338388442993},\n",
              " {'NEGATIVO': 0.0003323874552734196, 'POSITIVO': 0.9999545812606812},\n",
              " {'NEGATIVO': 4.539786823443137e-05, 'POSITIVO': 0.9999545812606812},\n",
              " {'NEGATIVO': 4.539786823443137e-05, 'POSITIVO': 0.9999545812606812},\n",
              " {'NEGATIVO': 0.00015499287110287696, 'POSITIVO': 0.9997970461845398},\n",
              " {'NEGATIVO': 5.0876147724920884e-05, 'POSITIVO': 0.9999343156814575},\n",
              " {'NEGATIVO': 4.539786823443137e-05, 'POSITIVO': 0.9999052286148071},\n",
              " {'NEGATIVO': 4.539786823443137e-05, 'POSITIVO': 0.9999545812606812},\n",
              " {'NEGATIVO': 4.539786823443137e-05, 'POSITIVO': 0.9999545812606812},\n",
              " {'NEGATIVO': 4.539786823443137e-05, 'POSITIVO': 0.999883770942688},\n",
              " {'NEGATIVO': 4.539786823443137e-05, 'POSITIVO': 0.9999545812606812},\n",
              " {'NEGATIVO': 4.539786823443137e-05, 'POSITIVO': 0.9999393224716187},\n",
              " {'NEGATIVO': 4.539786823443137e-05, 'POSITIVO': 0.9999545812606812},\n",
              " {'NEGATIVO': 4.539786823443137e-05, 'POSITIVO': 0.9999545812606812},\n",
              " {'NEGATIVO': 5.861798126716167e-05, 'POSITIVO': 0.9999545812606812},\n",
              " {'NEGATIVO': 4.539786823443137e-05, 'POSITIVO': 0.9999545812606812},\n",
              " {'NEGATIVO': 6.046694761607796e-05, 'POSITIVO': 0.9987427592277527},\n",
              " {'NEGATIVO': 4.539786823443137e-05, 'POSITIVO': 0.9999545812606812},\n",
              " {'NEGATIVO': 4.539786823443137e-05, 'POSITIVO': 0.9999262094497681},\n",
              " {'NEGATIVO': 0.00016860356845427305, 'POSITIVO': 0.9998524188995361},\n",
              " {'NEGATIVO': 4.539786823443137e-05, 'POSITIVO': 0.9999545812606812},\n",
              " {'NEGATIVO': 4.539786823443137e-05, 'POSITIVO': 0.9999545812606812},\n",
              " {'NEGATIVO': 0.0001191328265122138, 'POSITIVO': 0.9998972415924072},\n",
              " {'NEGATIVO': 4.539786823443137e-05, 'POSITIVO': 0.9999545812606812},\n",
              " {'NEGATIVO': 4.539786823443137e-05, 'POSITIVO': 0.9999545812606812},\n",
              " {'NEGATIVO': 4.543424802250229e-05, 'POSITIVO': 0.9998774528503418},\n",
              " {'NEGATIVO': 5.501734631252475e-05, 'POSITIVO': 0.9999545812606812},\n",
              " {'NEGATIVO': 4.539786823443137e-05, 'POSITIVO': 0.9999198913574219},\n",
              " {'NEGATIVO': 0.00013014371506869793, 'POSITIVO': 0.9995567202568054},\n",
              " {'NEGATIVO': 0.00015377368254121393, 'POSITIVO': 0.9998224377632141},\n",
              " {'NEGATIVO': 0.000489141559228301, 'POSITIVO': 0.9996360540390015},\n",
              " {'NEGATIVO': 4.539786823443137e-05, 'POSITIVO': 0.999943733215332},\n",
              " {'NEGATIVO': 0.00010594769264571369, 'POSITIVO': 0.9998704195022583},\n",
              " {'NEGATIVO': 0.00023936531215440482, 'POSITIVO': 0.9999545812606812},\n",
              " {'NEGATIVO': 4.539786823443137e-05, 'POSITIVO': 0.9999545812606812},\n",
              " {'NEGATIVO': 4.539786823443137e-05, 'POSITIVO': 0.9999545812606812},\n",
              " {'NEGATIVO': 4.539786823443137e-05, 'POSITIVO': 0.9999545812606812},\n",
              " {'NEGATIVO': 0.00022229974274523556, 'POSITIVO': 0.999575674533844},\n",
              " {'NEGATIVO': 0.00019755784887820482, 'POSITIVO': 0.9998303651809692},\n",
              " {'NEGATIVO': 4.547833668766543e-05, 'POSITIVO': 0.9999136924743652},\n",
              " {'NEGATIVO': 4.539786823443137e-05, 'POSITIVO': 0.9999545812606812},\n",
              " {'NEGATIVO': 4.539786823443137e-05, 'POSITIVO': 0.9999545812606812},\n",
              " {'NEGATIVO': 9.752038022270426e-05, 'POSITIVO': 0.9999301433563232},\n",
              " {'NEGATIVO': 4.539786823443137e-05, 'POSITIVO': 0.9999545812606812},\n",
              " {'NEGATIVO': 0.000178873204276897, 'POSITIVO': 0.9997923970222473},\n",
              " {'NEGATIVO': 9.618217882234603e-05, 'POSITIVO': 0.9999545812606812},\n",
              " {'NEGATIVO': 4.539786823443137e-05, 'POSITIVO': 0.9999545812606812},\n",
              " {'NEGATIVO': 0.00032473975443281233, 'POSITIVO': 0.9999545812606812},\n",
              " {'NEGATIVO': 7.810455281287432e-05, 'POSITIVO': 0.9999299049377441},\n",
              " {'NEGATIVO': 0.00019867176888510585, 'POSITIVO': 0.9997761845588684},\n",
              " {'NEGATIVO': 0.00010345183545723557, 'POSITIVO': 0.9998798370361328},\n",
              " {'NEGATIVO': 4.539786823443137e-05, 'POSITIVO': 0.9999545812606812},\n",
              " {'NEGATIVO': 4.539786823443137e-05, 'POSITIVO': 0.9999545812606812},\n",
              " {'NEGATIVO': 4.539786823443137e-05, 'POSITIVO': 0.9999545812606812},\n",
              " {'NEGATIVO': 4.539786823443137e-05, 'POSITIVO': 0.9999545812606812},\n",
              " {'NEGATIVO': 4.539786823443137e-05, 'POSITIVO': 0.9999539852142334},\n",
              " {'NEGATIVO': 4.539786823443137e-05, 'POSITIVO': 0.9999545812606812},\n",
              " {'NEGATIVO': 4.539786823443137e-05, 'POSITIVO': 0.9999545812606812},\n",
              " {'NEGATIVO': 8.362728112842888e-05, 'POSITIVO': 0.9999240636825562},\n",
              " {'NEGATIVO': 4.539786823443137e-05, 'POSITIVO': 0.9999545812606812},\n",
              " {'NEGATIVO': 8.269493991974741e-05, 'POSITIVO': 0.9998785257339478},\n",
              " {'NEGATIVO': 4.539786823443137e-05, 'POSITIVO': 0.999942421913147},\n",
              " {'NEGATIVO': 4.539786823443137e-05, 'POSITIVO': 0.999943733215332},\n",
              " {'NEGATIVO': 0.00011205722694285214, 'POSITIVO': 0.9998422861099243},\n",
              " {'NEGATIVO': 4.539786823443137e-05, 'POSITIVO': 0.999943733215332},\n",
              " {'NEGATIVO': 4.539786823443137e-05, 'POSITIVO': 0.9999545812606812},\n",
              " {'NEGATIVO': 4.539786823443137e-05, 'POSITIVO': 0.9999545812606812},\n",
              " {'NEGATIVO': 4.539786823443137e-05, 'POSITIVO': 0.9999545812606812},\n",
              " {'NEGATIVO': 0.00047225059824995697, 'POSITIVO': 0.999799907207489},\n",
              " {'NEGATIVO': 4.539786823443137e-05, 'POSITIVO': 0.9999545812606812},\n",
              " {'NEGATIVO': 8.030228491406888e-05, 'POSITIVO': 0.9999371767044067},\n",
              " {'NEGATIVO': 4.539786823443137e-05, 'POSITIVO': 0.9999545812606812},\n",
              " {'NEGATIVO': 0.00014708675735164434, 'POSITIVO': 0.9999525547027588},\n",
              " {'NEGATIVO': 4.539786823443137e-05, 'POSITIVO': 0.9999545812606812},\n",
              " {'NEGATIVO': 4.539786823443137e-05, 'POSITIVO': 0.9999545812606812},\n",
              " {'NEGATIVO': 0.0001242324651684612, 'POSITIVO': 0.999614953994751},\n",
              " {'NEGATIVO': 4.539786823443137e-05, 'POSITIVO': 0.999930739402771},\n",
              " {'NEGATIVO': 4.539786823443137e-05, 'POSITIVO': 0.9999538660049438},\n",
              " {'NEGATIVO': 4.539786823443137e-05, 'POSITIVO': 0.9999063014984131},\n",
              " {'NEGATIVO': 4.539786823443137e-05, 'POSITIVO': 0.999948263168335},\n",
              " {'NEGATIVO': 7.092911982908845e-05, 'POSITIVO': 0.9996190071105957},\n",
              " {'NEGATIVO': 0.0001061815200955607, 'POSITIVO': 0.9998968839645386},\n",
              " {'NEGATIVO': 0.00010951797594316304, 'POSITIVO': 0.9998693466186523},\n",
              " {'NEGATIVO': 0.00010804276098497212, 'POSITIVO': 0.9998087286949158},\n",
              " {'NEGATIVO': 4.539786823443137e-05, 'POSITIVO': 0.9999545812606812},\n",
              " {'NEGATIVO': 4.539786823443137e-05, 'POSITIVO': 0.999943733215332},\n",
              " {'NEGATIVO': 8.320981578435749e-05, 'POSITIVO': 0.9999479055404663},\n",
              " {'NEGATIVO': 4.539786823443137e-05, 'POSITIVO': 0.9999545812606812},\n",
              " {'NEGATIVO': 4.539786823443137e-05, 'POSITIVO': 0.9999545812606812},\n",
              " {'NEGATIVO': 4.539786823443137e-05, 'POSITIVO': 0.9999545812606812},\n",
              " {'NEGATIVO': 4.539786823443137e-05, 'POSITIVO': 0.9999098777770996},\n",
              " {'NEGATIVO': 4.539786823443137e-05, 'POSITIVO': 0.9999426603317261},\n",
              " {'NEGATIVO': 4.827013617614284e-05, 'POSITIVO': 0.9998981952667236},\n",
              " {'NEGATIVO': 4.539786823443137e-05, 'POSITIVO': 0.9999545812606812},\n",
              " {'NEGATIVO': 0.0007928734412416816, 'POSITIVO': 0.9986791014671326},\n",
              " {'NEGATIVO': 4.539786823443137e-05, 'POSITIVO': 0.9999545812606812},\n",
              " {'NEGATIVO': 4.539786823443137e-05, 'POSITIVO': 0.9999545812606812},\n",
              " {'NEGATIVO': 4.539786823443137e-05, 'POSITIVO': 0.9999350309371948},\n",
              " {'NEGATIVO': 4.539786823443137e-05, 'POSITIVO': 0.9999240636825562},\n",
              " {'NEGATIVO': 6.402287544915453e-05, 'POSITIVO': 0.9999229907989502},\n",
              " {'NEGATIVO': 0.00024757772916927934, 'POSITIVO': 0.9994460940361023},\n",
              " {'NEGATIVO': 4.539786823443137e-05, 'POSITIVO': 0.9999545812606812},\n",
              " {'NEGATIVO': 4.539786823443137e-05, 'POSITIVO': 0.9999545812606812},\n",
              " {'NEGATIVO': 8.85735425981693e-05, 'POSITIVO': 0.9997174143791199},\n",
              " {'NEGATIVO': 4.539786823443137e-05, 'POSITIVO': 0.9999545812606812},\n",
              " {'NEGATIVO': 9.939867595676333e-05, 'POSITIVO': 0.9997743964195251},\n",
              " {'NEGATIVO': 4.539786823443137e-05, 'POSITIVO': 0.9999545812606812},\n",
              " {'NEGATIVO': 4.539786823443137e-05, 'POSITIVO': 0.9999481439590454},\n",
              " {'NEGATIVO': 4.539786823443137e-05, 'POSITIVO': 0.9999545812606812},\n",
              " {'NEGATIVO': 4.539786823443137e-05, 'POSITIVO': 0.9999136924743652},\n",
              " {'NEGATIVO': 6.405762542271987e-05, 'POSITIVO': 0.9999545812606812},\n",
              " {'NEGATIVO': 4.539786823443137e-05, 'POSITIVO': 0.9999545812606812},\n",
              " {'NEGATIVO': 6.922711327206343e-05, 'POSITIVO': 0.9997979998588562},\n",
              " {'NEGATIVO': 4.539786823443137e-05, 'POSITIVO': 0.9999545812606812},\n",
              " {'NEGATIVO': 8.013102342374623e-05, 'POSITIVO': 0.9998654127120972},\n",
              " {'NEGATIVO': 7.810455281287432e-05, 'POSITIVO': 0.9999299049377441},\n",
              " {'NEGATIVO': 4.539786823443137e-05, 'POSITIVO': 0.9999545812606812},\n",
              " {'NEGATIVO': 0.0001009423504001461, 'POSITIVO': 0.9999101161956787},\n",
              " {'NEGATIVO': 4.539786823443137e-05, 'POSITIVO': 0.9999545812606812},\n",
              " {'NEGATIVO': 4.539786823443137e-05, 'POSITIVO': 0.999922513961792},\n",
              " {'NEGATIVO': 4.539786823443137e-05, 'POSITIVO': 0.9999545812606812},\n",
              " {'NEGATIVO': 5.010037057218142e-05, 'POSITIVO': 0.9999545812606812},\n",
              " {'NEGATIVO': 0.00017671093519311398, 'POSITIVO': 0.9999480247497559},\n",
              " {'NEGATIVO': 4.539786823443137e-05, 'POSITIVO': 0.9999545812606812},\n",
              " {'NEGATIVO': 9.960333409253508e-05, 'POSITIVO': 0.9999521970748901},\n",
              " {'NEGATIVO': 4.539786823443137e-05, 'POSITIVO': 0.9999545812606812},\n",
              " {'NEGATIVO': 4.8247817176161334e-05, 'POSITIVO': 0.9999545812606812},\n",
              " {'NEGATIVO': 4.539786823443137e-05, 'POSITIVO': 0.9999545812606812},\n",
              " {'NEGATIVO': 4.539786823443137e-05, 'POSITIVO': 0.9999545812606812},\n",
              " {'NEGATIVO': 4.539786823443137e-05, 'POSITIVO': 0.9999545812606812},\n",
              " {'NEGATIVO': 4.937543781124987e-05, 'POSITIVO': 0.9999545812606812},\n",
              " {'NEGATIVO': 0.00010105561523232609, 'POSITIVO': 0.9999293088912964},\n",
              " {'NEGATIVO': 4.539786823443137e-05, 'POSITIVO': 0.9999545812606812},\n",
              " {'NEGATIVO': 0.00032441638177260756, 'POSITIVO': 0.9999148845672607},\n",
              " {'NEGATIVO': 4.539786823443137e-05, 'POSITIVO': 0.9998483657836914},\n",
              " {'NEGATIVO': 0.0010775498813018203, 'POSITIVO': 0.9990491271018982},\n",
              " {'NEGATIVO': 4.6232340537244454e-05, 'POSITIVO': 0.9999358654022217},\n",
              " {'NEGATIVO': 4.539786823443137e-05, 'POSITIVO': 0.9999545812606812},\n",
              " {'NEGATIVO': 4.539786823443137e-05, 'POSITIVO': 0.9999545812606812},\n",
              " {'NEGATIVO': 4.539786823443137e-05, 'POSITIVO': 0.9999545812606812},\n",
              " {'NEGATIVO': 0.00019772176165133715, 'POSITIVO': 0.999951958656311},\n",
              " {'NEGATIVO': 4.539786823443137e-05, 'POSITIVO': 0.9999545812606812},\n",
              " {'NEGATIVO': 0.00032999698305502534, 'POSITIVO': 0.9996260404586792},\n",
              " {'NEGATIVO': 4.539786823443137e-05, 'POSITIVO': 0.9999545812606812},\n",
              " {'NEGATIVO': 7.684749289182946e-05, 'POSITIVO': 0.9998565912246704},\n",
              " {'NEGATIVO': 4.539786823443137e-05, 'POSITIVO': 0.9999545812606812},\n",
              " {'NEGATIVO': 4.539786823443137e-05, 'POSITIVO': 0.9999545812606812},\n",
              " {'NEGATIVO': 6.737184594385326e-05, 'POSITIVO': 0.9998829364776611},\n",
              " {'NEGATIVO': 4.539786823443137e-05, 'POSITIVO': 0.9999545812606812},\n",
              " {'NEGATIVO': 4.539786823443137e-05, 'POSITIVO': 0.9999545812606812},\n",
              " {'NEGATIVO': 4.539786823443137e-05, 'POSITIVO': 0.9999111890792847},\n",
              " {'NEGATIVO': 0.0004914812743663788, 'POSITIVO': 0.9991979002952576},\n",
              " {'NEGATIVO': 4.539786823443137e-05, 'POSITIVO': 0.9998763799667358},\n",
              " {'NEGATIVO': 5.2791288908338174e-05, 'POSITIVO': 0.9998764991760254},\n",
              " {'NEGATIVO': 4.539786823443137e-05, 'POSITIVO': 0.9999545812606812},\n",
              " {'NEGATIVO': 4.539786823443137e-05, 'POSITIVO': 0.9998360872268677},\n",
              " {'NEGATIVO': 0.0002525271847844124, 'POSITIVO': 0.9997155070304871},\n",
              " {'NEGATIVO': 9.31989707169123e-05, 'POSITIVO': 0.9997536540031433},\n",
              " {'NEGATIVO': 4.539786823443137e-05, 'POSITIVO': 0.9999545812606812},\n",
              " {'NEGATIVO': 6.651882722508162e-05, 'POSITIVO': 0.9999545812606812},\n",
              " {'NEGATIVO': 9.828057955019176e-05, 'POSITIVO': 0.9998373985290527},\n",
              " {'NEGATIVO': 4.539786823443137e-05, 'POSITIVO': 0.9999545812606812},\n",
              " {'NEGATIVO': 4.539786823443137e-05, 'POSITIVO': 0.9999545812606812},\n",
              " {'NEGATIVO': 4.539786823443137e-05, 'POSITIVO': 0.9999545812606812},\n",
              " {'NEGATIVO': 4.539786823443137e-05, 'POSITIVO': 0.9998993873596191},\n",
              " {'NEGATIVO': 4.539786823443137e-05, 'POSITIVO': 0.9999545812606812},\n",
              " {'NEGATIVO': 4.539786823443137e-05, 'POSITIVO': 0.9999545812606812},\n",
              " {'NEGATIVO': 4.539786823443137e-05, 'POSITIVO': 0.9998984336853027},\n",
              " {'NEGATIVO': 4.539786823443137e-05, 'POSITIVO': 0.9999545812606812},\n",
              " {'NEGATIVO': 7.341113814618438e-05, 'POSITIVO': 0.9999303817749023},\n",
              " {'NEGATIVO': 0.00039748073322698474, 'POSITIVO': 0.9998685121536255},\n",
              " {'NEGATIVO': 4.539786823443137e-05, 'POSITIVO': 0.9999545812606812},\n",
              " {'NEGATIVO': 4.539786823443137e-05, 'POSITIVO': 0.9999545812606812},\n",
              " {'NEGATIVO': 4.539786823443137e-05, 'POSITIVO': 0.9999545812606812},\n",
              " {'NEGATIVO': 0.00016577064525336027, 'POSITIVO': 0.9998407363891602},\n",
              " {'NEGATIVO': 0.0002282227505929768, 'POSITIVO': 0.9994795918464661},\n",
              " {'NEGATIVO': 4.539786823443137e-05, 'POSITIVO': 0.9999545812606812},\n",
              " {'NEGATIVO': 4.6731449401704594e-05, 'POSITIVO': 0.9999545812606812},\n",
              " {'NEGATIVO': 4.539786823443137e-05, 'POSITIVO': 0.9999545812606812},\n",
              " {'NEGATIVO': 4.539786823443137e-05, 'POSITIVO': 0.9999545812606812},\n",
              " {'NEGATIVO': 4.539786823443137e-05, 'POSITIVO': 0.9999545812606812},\n",
              " {'NEGATIVO': 4.539786823443137e-05, 'POSITIVO': 0.9999545812606812},\n",
              " {'NEGATIVO': 4.539786823443137e-05, 'POSITIVO': 0.9999545812606812},\n",
              " {'NEGATIVO': 4.539786823443137e-05, 'POSITIVO': 0.9999545812606812},\n",
              " {'NEGATIVO': 4.539786823443137e-05, 'POSITIVO': 0.9999545812606812},\n",
              " {'NEGATIVO': 4.539786823443137e-05, 'POSITIVO': 0.9999545812606812},\n",
              " {'NEGATIVO': 4.539786823443137e-05, 'POSITIVO': 0.9999545812606812},\n",
              " {'NEGATIVO': 4.539786823443137e-05, 'POSITIVO': 0.9999545812606812},\n",
              " {'NEGATIVO': 4.539786823443137e-05, 'POSITIVO': 0.9999545812606812},\n",
              " {'NEGATIVO': 0.0006179920746944845, 'POSITIVO': 0.9968833327293396},\n",
              " {'NEGATIVO': 4.539786823443137e-05, 'POSITIVO': 0.999846339225769},\n",
              " {'NEGATIVO': 6.667785055469722e-05, 'POSITIVO': 0.9999545812606812},\n",
              " {'NEGATIVO': 5.8777837693924084e-05, 'POSITIVO': 0.9999376535415649},\n",
              " {'NEGATIVO': 4.539786823443137e-05, 'POSITIVO': 0.9999545812606812},\n",
              " {'NEGATIVO': 7.354265835601836e-05, 'POSITIVO': 0.9998952150344849},\n",
              " {'NEGATIVO': 7.94890511315316e-05, 'POSITIVO': 0.9997614026069641},\n",
              " {'NEGATIVO': 4.539786823443137e-05, 'POSITIVO': 0.9999545812606812},\n",
              " {'NEGATIVO': 4.539786823443137e-05, 'POSITIVO': 0.9999545812606812},\n",
              " {'NEGATIVO': 6.774401117581874e-05, 'POSITIVO': 0.9998973608016968},\n",
              " {'NEGATIVO': 4.539786823443137e-05, 'POSITIVO': 0.9999545812606812},\n",
              " {'NEGATIVO': 4.539786823443137e-05, 'POSITIVO': 0.9999545812606812},\n",
              " {'NEGATIVO': 4.539786823443137e-05, 'POSITIVO': 0.9999545812606812},\n",
              " {'NEGATIVO': 4.539786823443137e-05, 'POSITIVO': 0.9999514818191528},\n",
              " {'NEGATIVO': 4.539786823443137e-05, 'POSITIVO': 0.999943733215332},\n",
              " {'NEGATIVO': 0.0001564367994433269, 'POSITIVO': 0.9999545812606812},\n",
              " {'NEGATIVO': 4.539786823443137e-05, 'POSITIVO': 0.9999545812606812},\n",
              " {'NEGATIVO': 0.00010332238889532164, 'POSITIVO': 0.9998588562011719},\n",
              " {'NEGATIVO': 4.539786823443137e-05, 'POSITIVO': 0.9999545812606812},\n",
              " {'NEGATIVO': 4.539786823443137e-05, 'POSITIVO': 0.9999545812606812},\n",
              " {'NEGATIVO': 4.843618444283493e-05, 'POSITIVO': 0.9999545812606812},\n",
              " {'NEGATIVO': 4.539786823443137e-05, 'POSITIVO': 0.9999545812606812},\n",
              " {'NEGATIVO': 4.539786823443137e-05, 'POSITIVO': 0.9999526739120483},\n",
              " {'NEGATIVO': 4.539786823443137e-05, 'POSITIVO': 0.9999545812606812},\n",
              " {'NEGATIVO': 4.539786823443137e-05, 'POSITIVO': 0.9997912049293518},\n",
              " {'NEGATIVO': 4.539786823443137e-05, 'POSITIVO': 0.9999356269836426},\n",
              " {'NEGATIVO': 0.00010194480273639783, 'POSITIVO': 0.999914288520813},\n",
              " {'NEGATIVO': 4.539786823443137e-05, 'POSITIVO': 0.9999003410339355},\n",
              " {'NEGATIVO': 4.539786823443137e-05, 'POSITIVO': 0.9999545812606812},\n",
              " {'NEGATIVO': 4.539786823443137e-05, 'POSITIVO': 0.999904990196228},\n",
              " {'NEGATIVO': 4.539786823443137e-05, 'POSITIVO': 0.9999545812606812},\n",
              " {'NEGATIVO': 0.00042861452675424516, 'POSITIVO': 0.9997244477272034},\n",
              " {'NEGATIVO': 0.00027161388425156474, 'POSITIVO': 0.9999262094497681},\n",
              " {'NEGATIVO': 0.00015017382975202054, 'POSITIVO': 0.999921441078186},\n",
              " {'NEGATIVO': 6.0768634284613654e-05, 'POSITIVO': 0.9998955726623535},\n",
              " {'NEGATIVO': 4.539786823443137e-05, 'POSITIVO': 0.9999545812606812},\n",
              " {'NEGATIVO': 4.539786823443137e-05, 'POSITIVO': 0.9999382495880127},\n",
              " {'NEGATIVO': 4.60726187156979e-05, 'POSITIVO': 0.9998437166213989},\n",
              " {'NEGATIVO': 4.539786823443137e-05, 'POSITIVO': 0.9998550415039062},\n",
              " {'NEGATIVO': 4.539786823443137e-05, 'POSITIVO': 0.9999545812606812},\n",
              " {'NEGATIVO': 4.539786823443137e-05, 'POSITIVO': 0.9999545812606812},\n",
              " {'NEGATIVO': 0.0003004132304340601, 'POSITIVO': 0.9993300437927246},\n",
              " {'NEGATIVO': 0.00021924420434515923, 'POSITIVO': 0.99973064661026},\n",
              " {'NEGATIVO': 4.539786823443137e-05, 'POSITIVO': 0.9999393224716187},\n",
              " {'NEGATIVO': 4.539786823443137e-05, 'POSITIVO': 0.9999545812606812},\n",
              " {'NEGATIVO': 4.539786823443137e-05, 'POSITIVO': 0.9999545812606812},\n",
              " {'NEGATIVO': 0.00011933701171074063, 'POSITIVO': 0.9998681545257568},\n",
              " {'NEGATIVO': 4.855665974901058e-05, 'POSITIVO': 0.9999545812606812},\n",
              " {'NEGATIVO': 4.539786823443137e-05, 'POSITIVO': 0.9999545812606812},\n",
              " {'NEGATIVO': 0.0001904425589600578, 'POSITIVO': 0.9999545812606812},\n",
              " {'NEGATIVO': 4.539786823443137e-05, 'POSITIVO': 0.9999545812606812},\n",
              " {'NEGATIVO': 0.00039671268314123154, 'POSITIVO': 0.9998435974121094},\n",
              " {'NEGATIVO': 4.539786823443137e-05, 'POSITIVO': 0.9999545812606812},\n",
              " {'NEGATIVO': 4.539786823443137e-05, 'POSITIVO': 0.9999545812606812},\n",
              " {'NEGATIVO': 4.539786823443137e-05, 'POSITIVO': 0.9998503923416138},\n",
              " {'NEGATIVO': 8.90278461156413e-05, 'POSITIVO': 0.9999064207077026},\n",
              " {'NEGATIVO': 4.539786823443137e-05, 'POSITIVO': 0.9999545812606812},\n",
              " {'NEGATIVO': 0.00019861134933307767, 'POSITIVO': 0.9999005794525146},\n",
              " {'NEGATIVO': 4.539786823443137e-05, 'POSITIVO': 0.9999328851699829},\n",
              " {'NEGATIVO': 4.539786823443137e-05, 'POSITIVO': 0.9999545812606812},\n",
              " {'NEGATIVO': 4.539786823443137e-05, 'POSITIVO': 0.9999545812606812},\n",
              " {'NEGATIVO': 4.539786823443137e-05, 'POSITIVO': 0.9999545812606812},\n",
              " {'NEGATIVO': 4.539786823443137e-05, 'POSITIVO': 0.9999545812606812},\n",
              " {'NEGATIVO': 4.539786823443137e-05, 'POSITIVO': 0.9999545812606812},\n",
              " {'NEGATIVO': 4.539786823443137e-05, 'POSITIVO': 0.9999545812606812},\n",
              " {'NEGATIVO': 5.381350638344884e-05, 'POSITIVO': 0.9999545812606812},\n",
              " {'NEGATIVO': 4.539786823443137e-05, 'POSITIVO': 0.9999545812606812},\n",
              " {'NEGATIVO': 4.539786823443137e-05, 'POSITIVO': 0.9999545812606812},\n",
              " {'NEGATIVO': 9.393193613504991e-05, 'POSITIVO': 0.999439537525177},\n",
              " {'NEGATIVO': 4.539786823443137e-05, 'POSITIVO': 0.9999545812606812},\n",
              " {'NEGATIVO': 0.00014618434943258762, 'POSITIVO': 0.9998759031295776},\n",
              " {'NEGATIVO': 4.539786823443137e-05, 'POSITIVO': 0.9998654127120972},\n",
              " {'NEGATIVO': 4.539786823443137e-05, 'POSITIVO': 0.9999358654022217},\n",
              " {'NEGATIVO': 6.021285298629664e-05, 'POSITIVO': 0.9999545812606812},\n",
              " {'NEGATIVO': 4.539786823443137e-05, 'POSITIVO': 0.9999545812606812},\n",
              " {'NEGATIVO': 4.539786823443137e-05, 'POSITIVO': 0.9999481439590454},\n",
              " {'NEGATIVO': 4.539786823443137e-05, 'POSITIVO': 0.9999545812606812},\n",
              " {'NEGATIVO': 4.539786823443137e-05, 'POSITIVO': 0.9999545812606812},\n",
              " {'NEGATIVO': 4.8382637032773346e-05, 'POSITIVO': 0.9998729228973389},\n",
              " {'NEGATIVO': 4.539786823443137e-05, 'POSITIVO': 0.9999253749847412},\n",
              " {'NEGATIVO': 4.539786823443137e-05, 'POSITIVO': 0.999935507774353},\n",
              " {'NEGATIVO': 4.539786823443137e-05, 'POSITIVO': 0.999954342842102},\n",
              " {'NEGATIVO': 7.683892181375995e-05, 'POSITIVO': 0.9999316930770874},\n",
              " {'NEGATIVO': 4.539786823443137e-05, 'POSITIVO': 0.9999545812606812},\n",
              " {'NEGATIVO': 4.539786823443137e-05, 'POSITIVO': 0.9999545812606812},\n",
              " {'NEGATIVO': 4.539786823443137e-05, 'POSITIVO': 0.9999545812606812},\n",
              " {'NEGATIVO': 4.539786823443137e-05, 'POSITIVO': 0.9999485015869141},\n",
              " {'NEGATIVO': 5.945602242718451e-05, 'POSITIVO': 0.9999545812606812},\n",
              " {'NEGATIVO': 4.539786823443137e-05, 'POSITIVO': 0.9999545812606812},\n",
              " {'NEGATIVO': 4.539786823443137e-05, 'POSITIVO': 0.9999545812606812},\n",
              " {'NEGATIVO': 4.539786823443137e-05, 'POSITIVO': 0.9999185800552368},\n",
              " {'NEGATIVO': 4.539786823443137e-05, 'POSITIVO': 0.9999545812606812},\n",
              " {'NEGATIVO': 5.06707037857268e-05, 'POSITIVO': 0.9999545812606812},\n",
              " {'NEGATIVO': 4.539786823443137e-05, 'POSITIVO': 0.9999158382415771},\n",
              " {'NEGATIVO': 0.00021779409144073725, 'POSITIVO': 0.9995996356010437},\n",
              " {'NEGATIVO': 4.539786823443137e-05, 'POSITIVO': 0.9999545812606812},\n",
              " {'NEGATIVO': 4.539786823443137e-05, 'POSITIVO': 0.9999545812606812},\n",
              " {'NEGATIVO': 6.84854676364921e-05, 'POSITIVO': 0.9998435974121094},\n",
              " {'NEGATIVO': 4.539786823443137e-05, 'POSITIVO': 0.9999545812606812},\n",
              " {'NEGATIVO': 4.539786823443137e-05, 'POSITIVO': 0.9999545812606812},\n",
              " {'NEGATIVO': 9.579617471899837e-05, 'POSITIVO': 0.9998881816864014},\n",
              " {'NEGATIVO': 6.308044248726219e-05, 'POSITIVO': 0.9999545812606812},\n",
              " {'NEGATIVO': 4.539786823443137e-05, 'POSITIVO': 0.9999545812606812},\n",
              " {'NEGATIVO': 6.394507363438606e-05, 'POSITIVO': 0.9998973608016968},\n",
              " {'NEGATIVO': 4.539786823443137e-05, 'POSITIVO': 0.9999545812606812},\n",
              " {'NEGATIVO': 4.539786823443137e-05, 'POSITIVO': 0.9999545812606812},\n",
              " {'NEGATIVO': 4.539786823443137e-05, 'POSITIVO': 0.9999545812606812},\n",
              " {'NEGATIVO': 0.00014932977501302958, 'POSITIVO': 0.9998865127563477},\n",
              " {'NEGATIVO': 4.539786823443137e-05, 'POSITIVO': 0.9999545812606812},\n",
              " {'NEGATIVO': 0.0002172024396713823, 'POSITIVO': 0.9998542070388794},\n",
              " {'NEGATIVO': 4.539786823443137e-05, 'POSITIVO': 0.9999545812606812},\n",
              " {'NEGATIVO': 0.00010077760089188814, 'POSITIVO': 0.999914288520813},\n",
              " {'NEGATIVO': 0.00015259742212947458, 'POSITIVO': 0.9999489784240723},\n",
              " {'NEGATIVO': 9.754242637427524e-05, 'POSITIVO': 0.9999353885650635},\n",
              " {'NEGATIVO': 4.539786823443137e-05, 'POSITIVO': 0.9999545812606812},\n",
              " {'NEGATIVO': 0.00012267095735296607, 'POSITIVO': 0.9998620748519897},\n",
              " {'NEGATIVO': 4.539786823443137e-05, 'POSITIVO': 0.9999545812606812},\n",
              " {'NEGATIVO': 0.0001108372161979787, 'POSITIVO': 0.9999545812606812},\n",
              " {'NEGATIVO': 4.539786823443137e-05, 'POSITIVO': 0.9999545812606812},\n",
              " {'NEGATIVO': 4.539786823443137e-05, 'POSITIVO': 0.9999545812606812},\n",
              " {'NEGATIVO': 4.539786823443137e-05, 'POSITIVO': 0.9999545812606812},\n",
              " {'NEGATIVO': 4.539786823443137e-05, 'POSITIVO': 0.9999545812606812},\n",
              " {'NEGATIVO': 4.539786823443137e-05, 'POSITIVO': 0.9999545812606812},\n",
              " {'NEGATIVO': 4.539786823443137e-05, 'POSITIVO': 0.9999545812606812},\n",
              " {'NEGATIVO': 4.539786823443137e-05, 'POSITIVO': 0.9999545812606812},\n",
              " {'NEGATIVO': 0.000373243325157091, 'POSITIVO': 0.9999526739120483},\n",
              " {'NEGATIVO': 4.539786823443137e-05, 'POSITIVO': 0.9998766183853149},\n",
              " {'NEGATIVO': 4.539786823443137e-05, 'POSITIVO': 0.9999545812606812},\n",
              " {'NEGATIVO': 8.037070074351504e-05, 'POSITIVO': 0.9998277425765991},\n",
              " {'NEGATIVO': 4.653168798540719e-05, 'POSITIVO': 0.9999545812606812},\n",
              " {'NEGATIVO': 4.539786823443137e-05, 'POSITIVO': 0.9999414682388306},\n",
              " {'NEGATIVO': 0.00011875207565026358, 'POSITIVO': 0.9999185800552368},\n",
              " {'NEGATIVO': 5.4405201808549464e-05, 'POSITIVO': 0.9998226761817932},\n",
              " {'NEGATIVO': 4.539786823443137e-05, 'POSITIVO': 0.9999545812606812},\n",
              " {'NEGATIVO': 4.539786823443137e-05, 'POSITIVO': 0.9999545812606812},\n",
              " {'NEGATIVO': 4.539786823443137e-05, 'POSITIVO': 0.9999545812606812},\n",
              " {'NEGATIVO': 4.539786823443137e-05, 'POSITIVO': 0.9999314546585083},\n",
              " {'NEGATIVO': 4.539786823443137e-05, 'POSITIVO': 0.999943733215332},\n",
              " {'NEGATIVO': 7.598457159474492e-05, 'POSITIVO': 0.9999545812606812},\n",
              " {'NEGATIVO': 4.539786823443137e-05, 'POSITIVO': 0.9999426603317261},\n",
              " {'NEGATIVO': 4.539786823443137e-05, 'POSITIVO': 0.9999545812606812},\n",
              " {'NEGATIVO': 4.539786823443137e-05, 'POSITIVO': 0.9999545812606812},\n",
              " {'NEGATIVO': 0.00010445677617099136, 'POSITIVO': 0.9998812675476074},\n",
              " {'NEGATIVO': 5.682098708348349e-05, 'POSITIVO': 0.9998575448989868},\n",
              " {'NEGATIVO': 7.779243605909869e-05, 'POSITIVO': 0.9997552037239075},\n",
              " {'NEGATIVO': 4.972842725692317e-05, 'POSITIVO': 0.9999330043792725},\n",
              " {'NEGATIVO': 4.539786823443137e-05, 'POSITIVO': 0.9999426603317261},\n",
              " {'NEGATIVO': 9.185573435388505e-05, 'POSITIVO': 0.9999531507492065},\n",
              " {'NEGATIVO': 4.539786823443137e-05, 'POSITIVO': 0.9999545812606812},\n",
              " {'NEGATIVO': 4.539786823443137e-05, 'POSITIVO': 0.9999545812606812},\n",
              " {'NEGATIVO': 6.692310853395611e-05, 'POSITIVO': 0.9999362230300903},\n",
              " {'NEGATIVO': 4.539786823443137e-05, 'POSITIVO': 0.9999334812164307},\n",
              " {'NEGATIVO': 0.00020954337378498167, 'POSITIVO': 0.9998952150344849},\n",
              " {'NEGATIVO': 9.827627218328416e-05, 'POSITIVO': 0.9998749494552612},\n",
              " {'NEGATIVO': 4.539786823443137e-05, 'POSITIVO': 0.9999545812606812},\n",
              " {'NEGATIVO': 4.539786823443137e-05, 'POSITIVO': 0.9999545812606812},\n",
              " {'NEGATIVO': 4.539786823443137e-05, 'POSITIVO': 0.9999545812606812},\n",
              " {'NEGATIVO': 4.539786823443137e-05, 'POSITIVO': 0.9999545812606812},\n",
              " {'NEGATIVO': 4.539786823443137e-05, 'POSITIVO': 0.9999545812606812},\n",
              " {'NEGATIVO': 8.577199332648888e-05, 'POSITIVO': 0.9999545812606812},\n",
              " {'NEGATIVO': 4.539786823443137e-05, 'POSITIVO': 0.9999545812606812},\n",
              " {'NEGATIVO': 7.810455281287432e-05, 'POSITIVO': 0.9999299049377441},\n",
              " {'NEGATIVO': 4.539786823443137e-05, 'POSITIVO': 0.9999545812606812},\n",
              " {'NEGATIVO': 4.539786823443137e-05, 'POSITIVO': 0.9999545812606812},\n",
              " {'NEGATIVO': 0.00015326002903748304, 'POSITIVO': 0.9997178912162781},\n",
              " {'NEGATIVO': 4.615053694578819e-05, 'POSITIVO': 0.9998693466186523},\n",
              " {'NEGATIVO': 0.00024757772916927934, 'POSITIVO': 0.9994460940361023},\n",
              " {'NEGATIVO': 6.323510751826689e-05, 'POSITIVO': 0.9999513626098633},\n",
              " {'NEGATIVO': 4.539786823443137e-05, 'POSITIVO': 0.9999545812606812},\n",
              " {'NEGATIVO': 4.539786823443137e-05, 'POSITIVO': 0.9999545812606812},\n",
              " {'NEGATIVO': 4.539786823443137e-05, 'POSITIVO': 0.9999545812606812},\n",
              " {'NEGATIVO': 4.539786823443137e-05, 'POSITIVO': 0.9999545812606812},\n",
              " {'NEGATIVO': 4.539786823443137e-05, 'POSITIVO': 0.9999545812606812},\n",
              " {'NEGATIVO': 4.539786823443137e-05, 'POSITIVO': 0.999832272529602},\n",
              " {'NEGATIVO': 7.758374704280868e-05, 'POSITIVO': 0.9996979236602783},\n",
              " {'NEGATIVO': 4.539786823443137e-05, 'POSITIVO': 0.9999493360519409},\n",
              " {'NEGATIVO': 4.539786823443137e-05, 'POSITIVO': 0.9999545812606812},\n",
              " {'NEGATIVO': 0.0003175635647494346, 'POSITIVO': 0.9998308420181274},\n",
              " {'NEGATIVO': 4.539786823443137e-05, 'POSITIVO': 0.9999545812606812},\n",
              " {'NEGATIVO': 0.00011384403478587046, 'POSITIVO': 0.9999364614486694},\n",
              " {'NEGATIVO': 0.002085234969854355, 'POSITIVO': 0.9923545122146606},\n",
              " {'NEGATIVO': 4.539786823443137e-05, 'POSITIVO': 0.9999545812606812},\n",
              " {'NEGATIVO': 5.603027966571972e-05, 'POSITIVO': 0.999909520149231},\n",
              " {'NEGATIVO': 4.539786823443137e-05, 'POSITIVO': 0.9999545812606812},\n",
              " {'NEGATIVO': 4.539786823443137e-05, 'POSITIVO': 0.9999545812606812},\n",
              " {'NEGATIVO': 4.539786823443137e-05, 'POSITIVO': 0.9999545812606812},\n",
              " {'NEGATIVO': 4.539786823443137e-05, 'POSITIVO': 0.9999545812606812},\n",
              " {'NEGATIVO': 4.539786823443137e-05, 'POSITIVO': 0.9999545812606812},\n",
              " {'NEGATIVO': 0.00010870839469134808, 'POSITIVO': 0.9994925260543823},\n",
              " {'NEGATIVO': 4.548370998236351e-05, 'POSITIVO': 0.9999545812606812},\n",
              " {'NEGATIVO': 4.539786823443137e-05, 'POSITIVO': 0.9999545812606812},\n",
              " {'NEGATIVO': 6.065770867280662e-05, 'POSITIVO': 0.9997782111167908},\n",
              " {'NEGATIVO': 7.810455281287432e-05, 'POSITIVO': 0.9999299049377441},\n",
              " {'NEGATIVO': 6.615035090362653e-05, 'POSITIVO': 0.9994884729385376},\n",
              " {'NEGATIVO': 5.661712566507049e-05, 'POSITIVO': 0.9999469518661499},\n",
              " {'NEGATIVO': 4.539786823443137e-05, 'POSITIVO': 0.9997414946556091},\n",
              " {'NEGATIVO': 8.712390990694985e-05, 'POSITIVO': 0.9998264908790588},\n",
              " {'NEGATIVO': 0.0001237918622791767, 'POSITIVO': 0.9999545812606812},\n",
              " {'NEGATIVO': 0.00271686352789402, 'POSITIVO': 0.998760461807251},\n",
              " {'NEGATIVO': 4.539786823443137e-05, 'POSITIVO': 0.9999545812606812},\n",
              " {'NEGATIVO': 4.539786823443137e-05, 'POSITIVO': 0.9999545812606812},\n",
              " {'NEGATIVO': 4.612589691532776e-05, 'POSITIVO': 0.9999302625656128},\n",
              " {'NEGATIVO': 0.00024768305593170226, 'POSITIVO': 0.9999545812606812},\n",
              " {'NEGATIVO': 4.539786823443137e-05, 'POSITIVO': 0.9999545812606812},\n",
              " {'NEGATIVO': 4.539786823443137e-05, 'POSITIVO': 0.9999545812606812},\n",
              " {'NEGATIVO': 4.539786823443137e-05, 'POSITIVO': 0.9999545812606812},\n",
              " {'NEGATIVO': 4.539786823443137e-05, 'POSITIVO': 0.9999545812606812},\n",
              " {'NEGATIVO': 4.539786823443137e-05, 'POSITIVO': 0.9999545812606812},\n",
              " {'NEGATIVO': 6.426264735637233e-05, 'POSITIVO': 0.9999157190322876},\n",
              " {'NEGATIVO': 4.539786823443137e-05, 'POSITIVO': 0.9999545812606812},\n",
              " {'NEGATIVO': 0.00013828308146912605, 'POSITIVO': 0.9997455477714539},\n",
              " {'NEGATIVO': 4.539786823443137e-05, 'POSITIVO': 0.9999545812606812},\n",
              " {'NEGATIVO': 9.984010830521584e-05, 'POSITIVO': 0.9997720122337341},\n",
              " {'NEGATIVO': 4.539786823443137e-05, 'POSITIVO': 0.9999545812606812},\n",
              " {'NEGATIVO': 4.539786823443137e-05, 'POSITIVO': 0.9999545812606812},\n",
              " {'NEGATIVO': 4.539786823443137e-05, 'POSITIVO': 0.9999545812606812},\n",
              " {'NEGATIVO': 8.890593744581565e-05, 'POSITIVO': 0.9999048709869385},\n",
              " {'NEGATIVO': 4.539786823443137e-05, 'POSITIVO': 0.9999545812606812},\n",
              " {'NEGATIVO': 4.539786823443137e-05, 'POSITIVO': 0.9999545812606812},\n",
              " {'NEGATIVO': 0.0001100121226045303, 'POSITIVO': 0.9999545812606812},\n",
              " {'NEGATIVO': 4.539786823443137e-05, 'POSITIVO': 0.9999545812606812},\n",
              " {'NEGATIVO': 4.539786823443137e-05, 'POSITIVO': 0.999953031539917},\n",
              " {'NEGATIVO': 4.539786823443137e-05, 'POSITIVO': 0.9999427795410156},\n",
              " {'NEGATIVO': 4.539786823443137e-05, 'POSITIVO': 0.9999545812606812},\n",
              " {'NEGATIVO': 4.539786823443137e-05, 'POSITIVO': 0.9999420642852783},\n",
              " {'NEGATIVO': 6.069167284294963e-05, 'POSITIVO': 0.9999411106109619},\n",
              " {'NEGATIVO': 4.539786823443137e-05, 'POSITIVO': 0.9999545812606812},\n",
              " {'NEGATIVO': 4.539786823443137e-05, 'POSITIVO': 0.999901294708252},\n",
              " {'NEGATIVO': 6.698484503431246e-05, 'POSITIVO': 0.9998741149902344},\n",
              " {'NEGATIVO': 0.00015373103087767959, 'POSITIVO': 0.9995266199111938},\n",
              " {'NEGATIVO': 0.000546114519238472, 'POSITIVO': 0.99992835521698},\n",
              " {'NEGATIVO': 0.0001434887235518545, 'POSITIVO': 0.9998445510864258},\n",
              " {'NEGATIVO': 4.539786823443137e-05, 'POSITIVO': 0.9999545812606812},\n",
              " {'NEGATIVO': 4.551047823042609e-05, 'POSITIVO': 0.9999545812606812},\n",
              " {'NEGATIVO': 4.539786823443137e-05, 'POSITIVO': 0.9999545812606812},\n",
              " {'NEGATIVO': 0.0001325853809248656, 'POSITIVO': 0.9998960494995117},\n",
              " {'NEGATIVO': 4.539786823443137e-05, 'POSITIVO': 0.9999252557754517},\n",
              " {'NEGATIVO': 4.539786823443137e-05, 'POSITIVO': 0.9999545812606812},\n",
              " {'NEGATIVO': 5.380047150538303e-05, 'POSITIVO': 0.9999109506607056},\n",
              " {'NEGATIVO': 4.539786823443137e-05, 'POSITIVO': 0.9999545812606812},\n",
              " {'NEGATIVO': 0.00041146058356389403, 'POSITIVO': 0.9997135996818542},\n",
              " {'NEGATIVO': 8.208635699702427e-05, 'POSITIVO': 0.9998377561569214},\n",
              " {'NEGATIVO': 0.00013505238166544586, 'POSITIVO': 0.9997897744178772},\n",
              " {'NEGATIVO': 4.539786823443137e-05, 'POSITIVO': 0.9999545812606812},\n",
              " {'NEGATIVO': 4.539786823443137e-05, 'POSITIVO': 0.9999545812606812},\n",
              " {'NEGATIVO': 4.539786823443137e-05, 'POSITIVO': 0.9999545812606812},\n",
              " {'NEGATIVO': 0.0005820336518809199, 'POSITIVO': 0.9997720122337341},\n",
              " {'NEGATIVO': 5.3802479669684544e-05, 'POSITIVO': 0.9999150037765503},\n",
              " {'NEGATIVO': 5.654482447425835e-05, 'POSITIVO': 0.9999048709869385},\n",
              " {'NEGATIVO': 4.539786823443137e-05, 'POSITIVO': 0.9999302625656128},\n",
              " {'NEGATIVO': 7.049573468975723e-05, 'POSITIVO': 0.9999269247055054},\n",
              " {'NEGATIVO': 5.6581880926387385e-05, 'POSITIVO': 0.9999545812606812},\n",
              " {'NEGATIVO': 0.0002805333642754704, 'POSITIVO': 0.9995922446250916},\n",
              " {'NEGATIVO': 0.00013755571853835136, 'POSITIVO': 0.9998509883880615},\n",
              " {'NEGATIVO': 4.539786823443137e-05, 'POSITIVO': 0.9999545812606812},\n",
              " {'NEGATIVO': 4.539786823443137e-05, 'POSITIVO': 0.9999545812606812},\n",
              " {'NEGATIVO': 5.112667349749245e-05, 'POSITIVO': 0.9999545812606812},\n",
              " {'NEGATIVO': 0.00015181588241830468, 'POSITIVO': 0.9996931552886963},\n",
              " {'NEGATIVO': 0.00020095950458198786, 'POSITIVO': 0.9997351765632629},\n",
              " {'NEGATIVO': 0.00013297167606651783, 'POSITIVO': 0.9999449253082275},\n",
              " {'NEGATIVO': 0.00010465987725183368, 'POSITIVO': 0.9998445510864258},\n",
              " {'NEGATIVO': 4.539786823443137e-05, 'POSITIVO': 0.9999545812606812},\n",
              " {'NEGATIVO': 4.539786823443137e-05, 'POSITIVO': 0.9999545812606812},\n",
              " {'NEGATIVO': 8.701762271812186e-05, 'POSITIVO': 0.9998887777328491},\n",
              " {'NEGATIVO': 4.724207610706799e-05, 'POSITIVO': 0.9998550415039062},\n",
              " {'NEGATIVO': 4.539786823443137e-05, 'POSITIVO': 0.9998824596405029},\n",
              " {'NEGATIVO': 7.898717740317807e-05, 'POSITIVO': 0.9997634291648865},\n",
              " {'NEGATIVO': 4.539786823443137e-05, 'POSITIVO': 0.9999545812606812},\n",
              " {'NEGATIVO': 4.539786823443137e-05, 'POSITIVO': 0.9998823404312134},\n",
              " {'NEGATIVO': 4.539786823443137e-05, 'POSITIVO': 0.9999545812606812},\n",
              " {'NEGATIVO': 4.870812699664384e-05, 'POSITIVO': 0.9999545812606812},\n",
              " {'NEGATIVO': 4.539786823443137e-05, 'POSITIVO': 0.999932050704956},\n",
              " {'NEGATIVO': 4.539786823443137e-05, 'POSITIVO': 0.9998825788497925},\n",
              " {'NEGATIVO': 4.539786823443137e-05, 'POSITIVO': 0.9999545812606812},\n",
              " {'NEGATIVO': 4.539786823443137e-05, 'POSITIVO': 0.999904990196228},\n",
              " {'NEGATIVO': 4.539786823443137e-05, 'POSITIVO': 0.9999102354049683},\n",
              " {'NEGATIVO': 4.607586743077263e-05, 'POSITIVO': 0.9999510049819946},\n",
              " {'NEGATIVO': 4.539786823443137e-05, 'POSITIVO': 0.9999545812606812},\n",
              " {'NEGATIVO': 0.0021496019326150417, 'POSITIVO': 0.9990691542625427},\n",
              " {'NEGATIVO': 0.00034634192707017064, 'POSITIVO': 0.9999545812606812},\n",
              " {'NEGATIVO': 7.227556488942355e-05, 'POSITIVO': 0.9999545812606812},\n",
              " {'NEGATIVO': 4.539786823443137e-05, 'POSITIVO': 0.9999545812606812},\n",
              " {'NEGATIVO': 5.67460447200574e-05, 'POSITIVO': 0.9999172687530518},\n",
              " {'NEGATIVO': 4.604797140927985e-05, 'POSITIVO': 0.9999451637268066},\n",
              " {'NEGATIVO': 4.6829907660139725e-05, 'POSITIVO': 0.9999290704727173},\n",
              " {'NEGATIVO': 4.539786823443137e-05, 'POSITIVO': 0.9999545812606812},\n",
              " {'NEGATIVO': 9.136173321167007e-05, 'POSITIVO': 0.9997474551200867},\n",
              " {'NEGATIVO': 0.0001765014458214864, 'POSITIVO': 0.9998717308044434},\n",
              " {'NEGATIVO': 0.00011758357868529856, 'POSITIVO': 0.9998433589935303},\n",
              " {'NEGATIVO': 4.539786823443137e-05, 'POSITIVO': 0.9999459981918335},\n",
              " {'NEGATIVO': 4.6682853280799463e-05, 'POSITIVO': 0.9999545812606812},\n",
              " {'NEGATIVO': 4.539786823443137e-05, 'POSITIVO': 0.9999545812606812},\n",
              " {'NEGATIVO': 4.539786823443137e-05, 'POSITIVO': 0.9999545812606812},\n",
              " {'NEGATIVO': 9.795329970074818e-05, 'POSITIVO': 0.9999462366104126},\n",
              " {'NEGATIVO': 4.8846461140783504e-05, 'POSITIVO': 0.9999485015869141},\n",
              " {'NEGATIVO': 4.539786823443137e-05, 'POSITIVO': 0.9999545812606812},\n",
              " {'NEGATIVO': 4.539786823443137e-05, 'POSITIVO': 0.9999545812606812},\n",
              " {'NEGATIVO': 4.539786823443137e-05, 'POSITIVO': 0.9999024868011475},\n",
              " {'NEGATIVO': 0.0003881939628627151, 'POSITIVO': 0.9997548460960388},\n",
              " {'NEGATIVO': 4.539786823443137e-05, 'POSITIVO': 0.9999545812606812},\n",
              " {'NEGATIVO': 4.68192774860654e-05, 'POSITIVO': 0.9999545812606812},\n",
              " {'NEGATIVO': 4.986724161426537e-05, 'POSITIVO': 0.9999241828918457},\n",
              " {'NEGATIVO': 4.539786823443137e-05, 'POSITIVO': 0.9999384880065918},\n",
              " {'NEGATIVO': 0.0001390299730701372, 'POSITIVO': 0.9998886585235596},\n",
              " {'NEGATIVO': 4.539786823443137e-05, 'POSITIVO': 0.9998170733451843},\n",
              " {'NEGATIVO': 4.539786823443137e-05, 'POSITIVO': 0.9999409914016724},\n",
              " {'NEGATIVO': 4.539786823443137e-05, 'POSITIVO': 0.9999545812606812},\n",
              " {'NEGATIVO': 0.0005221516476012766, 'POSITIVO': 0.9998748302459717},\n",
              " {'NEGATIVO': 4.539786823443137e-05, 'POSITIVO': 0.9998788833618164},\n",
              " {'NEGATIVO': 4.539786823443137e-05, 'POSITIVO': 0.9999545812606812},\n",
              " {'NEGATIVO': 0.000123207617434673, 'POSITIVO': 0.9996984004974365},\n",
              " {'NEGATIVO': 4.539786823443137e-05, 'POSITIVO': 0.999943733215332},\n",
              " {'NEGATIVO': 4.539786823443137e-05, 'POSITIVO': 0.9999545812606812},\n",
              " {'NEGATIVO': 8.485885336995125e-05, 'POSITIVO': 0.9998974800109863},\n",
              " {'NEGATIVO': 8.446036372333765e-05, 'POSITIVO': 0.9998255372047424},\n",
              " {'NEGATIVO': 4.539786823443137e-05, 'POSITIVO': 0.9999545812606812},\n",
              " {'NEGATIVO': 4.539786823443137e-05, 'POSITIVO': 0.9999545812606812},\n",
              " {'NEGATIVO': 4.539786823443137e-05, 'POSITIVO': 0.9999489784240723},\n",
              " {'NEGATIVO': 4.539786823443137e-05, 'POSITIVO': 0.9999545812606812},\n",
              " {'NEGATIVO': 4.539786823443137e-05, 'POSITIVO': 0.9999545812606812},\n",
              " {'NEGATIVO': 0.00020660835434682667, 'POSITIVO': 0.9998981952667236},\n",
              " {'NEGATIVO': 4.539786823443137e-05, 'POSITIVO': 0.9999545812606812},\n",
              " {'NEGATIVO': 0.00020493223564699292, 'POSITIVO': 0.9999301433563232},\n",
              " {'NEGATIVO': 4.539786823443137e-05, 'POSITIVO': 0.9999545812606812},\n",
              " {'NEGATIVO': 4.539786823443137e-05, 'POSITIVO': 0.9998890161514282},\n",
              " {'NEGATIVO': 4.539786823443137e-05, 'POSITIVO': 0.9999545812606812},\n",
              " {'NEGATIVO': 4.539786823443137e-05, 'POSITIVO': 0.9999545812606812},\n",
              " {'NEGATIVO': 4.539786823443137e-05, 'POSITIVO': 0.9999545812606812},\n",
              " {'NEGATIVO': 4.943682870361954e-05, 'POSITIVO': 0.9999139308929443},\n",
              " {'NEGATIVO': 4.539786823443137e-05, 'POSITIVO': 0.9999240636825562},\n",
              " {'NEGATIVO': 4.539786823443137e-05, 'POSITIVO': 0.9999545812606812},\n",
              " {'NEGATIVO': 6.096343349781819e-05, 'POSITIVO': 0.9999545812606812},\n",
              " {'NEGATIVO': 0.001064281677827239, 'POSITIVO': 0.9994970560073853},\n",
              " {'NEGATIVO': 4.539786823443137e-05, 'POSITIVO': 0.9999527931213379},\n",
              " {'NEGATIVO': 4.539786823443137e-05, 'POSITIVO': 0.9999545812606812},\n",
              " {'NEGATIVO': 0.00021063204621896148, 'POSITIVO': 0.9998843669891357},\n",
              " {'NEGATIVO': 6.14954115008004e-05, 'POSITIVO': 0.9999419450759888},\n",
              " {'NEGATIVO': 4.539786823443137e-05, 'POSITIVO': 0.9999545812606812},\n",
              " {'NEGATIVO': 0.00047196802916005254, 'POSITIVO': 0.9998772144317627},\n",
              " {'NEGATIVO': 4.539786823443137e-05, 'POSITIVO': 0.9999545812606812},\n",
              " {'NEGATIVO': 0.0005939336842857301, 'POSITIVO': 0.999345600605011},\n",
              " {'NEGATIVO': 5.847783540957607e-05, 'POSITIVO': 0.9999545812606812},\n",
              " {'NEGATIVO': 5.725509254261851e-05, 'POSITIVO': 0.9999206066131592},\n",
              " {'NEGATIVO': 6.61859376123175e-05, 'POSITIVO': 0.9999545812606812},\n",
              " {'NEGATIVO': 4.539786823443137e-05, 'POSITIVO': 0.999932050704956},\n",
              " {'NEGATIVO': 4.539786823443137e-05, 'POSITIVO': 0.9999545812606812},\n",
              " {'NEGATIVO': 0.00011317391908960417, 'POSITIVO': 0.9999545812606812},\n",
              " {'NEGATIVO': 4.539786823443137e-05, 'POSITIVO': 0.9999545812606812},\n",
              " {'NEGATIVO': 4.539786823443137e-05, 'POSITIVO': 0.9999545812606812},\n",
              " {'NEGATIVO': 0.000326502718962729, 'POSITIVO': 0.9998422861099243},\n",
              " {'NEGATIVO': 4.848803655477241e-05, 'POSITIVO': 0.9999526739120483},\n",
              " {'NEGATIVO': 9.463256719755009e-05, 'POSITIVO': 0.999954104423523},\n",
              " {'NEGATIVO': 5.003458136343397e-05, 'POSITIVO': 0.9999456405639648},\n",
              " {'NEGATIVO': 4.539786823443137e-05, 'POSITIVO': 0.9999545812606812},\n",
              " {'NEGATIVO': 4.539786823443137e-05, 'POSITIVO': 0.9999545812606812},\n",
              " {'NEGATIVO': 4.539786823443137e-05, 'POSITIVO': 0.9999419450759888},\n",
              " {'NEGATIVO': 4.539786823443137e-05, 'POSITIVO': 0.9999545812606812},\n",
              " {'NEGATIVO': 4.766173515236005e-05, 'POSITIVO': 0.9999016523361206},\n",
              " {'NEGATIVO': 4.539786823443137e-05, 'POSITIVO': 0.9999545812606812},\n",
              " {'NEGATIVO': 4.539786823443137e-05, 'POSITIVO': 0.9999545812606812},\n",
              " {'NEGATIVO': 4.539786823443137e-05, 'POSITIVO': 0.9999545812606812},\n",
              " {'NEGATIVO': 4.539786823443137e-05, 'POSITIVO': 0.9999425411224365},\n",
              " {'NEGATIVO': 4.539786823443137e-05, 'POSITIVO': 0.9999545812606812},\n",
              " {'NEGATIVO': 4.539786823443137e-05, 'POSITIVO': 0.9999545812606812},\n",
              " {'NEGATIVO': 0.00010077760089188814, 'POSITIVO': 0.999914288520813},\n",
              " {'NEGATIVO': 4.539786823443137e-05, 'POSITIVO': 0.9999545812606812},\n",
              " {'NEGATIVO': 4.539786823443137e-05, 'POSITIVO': 0.9999545812606812},\n",
              " {'NEGATIVO': 4.539786823443137e-05, 'POSITIVO': 0.9999545812606812},\n",
              " {'NEGATIVO': 7.930938591016456e-05, 'POSITIVO': 0.9999202489852905},\n",
              " {'NEGATIVO': 4.539786823443137e-05, 'POSITIVO': 0.9999545812606812},\n",
              " {'NEGATIVO': 5.274147406453267e-05, 'POSITIVO': 0.9997557997703552},\n",
              " {'NEGATIVO': 4.539786823443137e-05, 'POSITIVO': 0.9999545812606812},\n",
              " {'NEGATIVO': 5.7478788221487775e-05, 'POSITIVO': 0.9998985528945923},\n",
              " {'NEGATIVO': 4.539786823443137e-05, 'POSITIVO': 0.9999545812606812},\n",
              " {'NEGATIVO': 6.82590325595811e-05, 'POSITIVO': 0.9999542236328125},\n",
              " {'NEGATIVO': 4.539786823443137e-05, 'POSITIVO': 0.9999545812606812},\n",
              " {'NEGATIVO': 4.539786823443137e-05, 'POSITIVO': 0.9999545812606812},\n",
              " {'NEGATIVO': 6.298678636085242e-05, 'POSITIVO': 0.9997333884239197},\n",
              " {'NEGATIVO': 4.539786823443137e-05, 'POSITIVO': 0.9999545812606812},\n",
              " {'NEGATIVO': 6.849866622360423e-05, 'POSITIVO': 0.9999454021453857},\n",
              " {'NEGATIVO': 4.539786823443137e-05, 'POSITIVO': 0.9999545812606812},\n",
              " {'NEGATIVO': 4.539786823443137e-05, 'POSITIVO': 0.9999545812606812},\n",
              " {'NEGATIVO': 0.0001311556698055938, 'POSITIVO': 0.99981290102005},\n",
              " {'NEGATIVO': 8.65530309965834e-05, 'POSITIVO': 0.9997602105140686},\n",
              " {'NEGATIVO': 0.00015270744916051626, 'POSITIVO': 0.9999085664749146},\n",
              " {'NEGATIVO': 5.229713497101329e-05, 'POSITIVO': 0.9998642206192017},\n",
              " {'NEGATIVO': 4.539786823443137e-05, 'POSITIVO': 0.9999545812606812},\n",
              " {'NEGATIVO': 0.00015956464631017298, 'POSITIVO': 0.9997430443763733},\n",
              " {'NEGATIVO': 0.0001223962608492002, 'POSITIVO': 0.9999545812606812},\n",
              " {'NEGATIVO': 0.0006574503495357931, 'POSITIVO': 0.9997100234031677},\n",
              " {'NEGATIVO': 4.539786823443137e-05, 'POSITIVO': 0.9999545812606812},\n",
              " {'NEGATIVO': 4.539786823443137e-05, 'POSITIVO': 0.9999545812606812},\n",
              " {'NEGATIVO': 4.539786823443137e-05, 'POSITIVO': 0.9999545812606812},\n",
              " {'NEGATIVO': 4.539786823443137e-05, 'POSITIVO': 0.9999545812606812},\n",
              " {'NEGATIVO': 4.539786823443137e-05, 'POSITIVO': 0.9999545812606812},\n",
              " {'NEGATIVO': 0.00019308390619698912, 'POSITIVO': 0.999884843826294},\n",
              " {'NEGATIVO': 8.018207881832495e-05, 'POSITIVO': 0.9999545812606812},\n",
              " {'NEGATIVO': 7.218457903945819e-05, 'POSITIVO': 0.9999508857727051},\n",
              " {'NEGATIVO': 4.539786823443137e-05, 'POSITIVO': 0.9998869895935059},\n",
              " {'NEGATIVO': 5.4435608035419136e-05, 'POSITIVO': 0.9999314546585083},\n",
              " {'NEGATIVO': 4.539786823443137e-05, 'POSITIVO': 0.9999545812606812},\n",
              " {'NEGATIVO': 4.539786823443137e-05, 'POSITIVO': 0.9999545812606812},\n",
              " {'NEGATIVO': 9.299061639467254e-05, 'POSITIVO': 0.9997716546058655},\n",
              " {'NEGATIVO': 0.00010859080794034526, 'POSITIVO': 0.9999545812606812},\n",
              " {'NEGATIVO': 4.539786823443137e-05, 'POSITIVO': 0.9999545812606812},\n",
              " {'NEGATIVO': 4.539786823443137e-05, 'POSITIVO': 0.9999545812606812},\n",
              " {'NEGATIVO': 4.539786823443137e-05, 'POSITIVO': 0.9999545812606812},\n",
              " {'NEGATIVO': 0.0017362827202305198, 'POSITIVO': 0.9981127977371216},\n",
              " {'NEGATIVO': 4.711560904979706e-05, 'POSITIVO': 0.999944806098938},\n",
              " {'NEGATIVO': 4.539786823443137e-05, 'POSITIVO': 0.9999545812606812},\n",
              " {'NEGATIVO': 4.539786823443137e-05, 'POSITIVO': 0.999943733215332},\n",
              " {'NEGATIVO': 4.539786823443137e-05, 'POSITIVO': 0.9999545812606812},\n",
              " {'NEGATIVO': 0.00045388631406240165, 'POSITIVO': 0.9996775388717651},\n",
              " {'NEGATIVO': 0.00019632581097539514, 'POSITIVO': 0.9997418522834778},\n",
              " {'NEGATIVO': 4.539786823443137e-05, 'POSITIVO': 0.9999545812606812},\n",
              " {'NEGATIVO': 4.539786823443137e-05, 'POSITIVO': 0.9999545812606812},\n",
              " {'NEGATIVO': 4.539786823443137e-05, 'POSITIVO': 0.9999545812606812},\n",
              " {'NEGATIVO': 4.539786823443137e-05, 'POSITIVO': 0.9999545812606812},\n",
              " {'NEGATIVO': 4.539786823443137e-05, 'POSITIVO': 0.9999545812606812},\n",
              " {'NEGATIVO': 4.577180516207591e-05, 'POSITIVO': 0.9999545812606812},\n",
              " {'NEGATIVO': 0.00019907641399186105, 'POSITIVO': 0.999902606010437},\n",
              " {'NEGATIVO': 0.0003435280523262918, 'POSITIVO': 0.9987584352493286},\n",
              " {'NEGATIVO': 4.539786823443137e-05, 'POSITIVO': 0.9999545812606812},\n",
              " {'NEGATIVO': 4.539786823443137e-05, 'POSITIVO': 0.9999545812606812},\n",
              " {'NEGATIVO': 0.00016896276792977005, 'POSITIVO': 0.9999545812606812},\n",
              " {'NEGATIVO': 4.539786823443137e-05, 'POSITIVO': 0.9999545812606812},\n",
              " {'NEGATIVO': 4.539786823443137e-05, 'POSITIVO': 0.9999545812606812},\n",
              " {'NEGATIVO': 4.539786823443137e-05, 'POSITIVO': 0.9999545812606812},\n",
              " {'NEGATIVO': 4.539786823443137e-05, 'POSITIVO': 0.9999545812606812},\n",
              " {'NEGATIVO': 0.00019710608466994017, 'POSITIVO': 0.9998379945755005},\n",
              " {'NEGATIVO': 4.539786823443137e-05, 'POSITIVO': 0.9999545812606812},\n",
              " {'NEGATIVO': 4.539786823443137e-05, 'POSITIVO': 0.9999545812606812},\n",
              " {'NEGATIVO': 8.930725016398355e-05, 'POSITIVO': 0.9999545812606812},\n",
              " {'NEGATIVO': 0.0002897365193348378, 'POSITIVO': 0.9999175071716309},\n",
              " {'NEGATIVO': 4.539786823443137e-05, 'POSITIVO': 0.9999545812606812},\n",
              " {'NEGATIVO': 4.539786823443137e-05, 'POSITIVO': 0.9999545812606812},\n",
              " {'NEGATIVO': 4.539786823443137e-05, 'POSITIVO': 0.9999222755432129},\n",
              " {'NEGATIVO': 4.539786823443137e-05, 'POSITIVO': 0.9999537467956543},\n",
              " {'NEGATIVO': 4.539786823443137e-05, 'POSITIVO': 0.9999545812606812},\n",
              " {'NEGATIVO': 4.539786823443137e-05, 'POSITIVO': 0.9999545812606812},\n",
              " {'NEGATIVO': 7.390866812784225e-05, 'POSITIVO': 0.999906063079834},\n",
              " {'NEGATIVO': 5.557010445045307e-05, 'POSITIVO': 0.9999545812606812},\n",
              " {'NEGATIVO': 4.539786823443137e-05, 'POSITIVO': 0.9999545812606812},\n",
              " {'NEGATIVO': 4.539786823443137e-05, 'POSITIVO': 0.999947190284729},\n",
              " {'NEGATIVO': 4.539786823443137e-05, 'POSITIVO': 0.9999545812606812},\n",
              " {'NEGATIVO': 4.539786823443137e-05, 'POSITIVO': 0.9999545812606812},\n",
              " {'NEGATIVO': 4.539786823443137e-05, 'POSITIVO': 0.9999135732650757},\n",
              " {'NEGATIVO': 0.0001499774953117594, 'POSITIVO': 0.9999545812606812},\n",
              " {'NEGATIVO': 4.539786823443137e-05, 'POSITIVO': 0.9999545812606812},\n",
              " {'NEGATIVO': 4.539786823443137e-05, 'POSITIVO': 0.9999545812606812},\n",
              " {'NEGATIVO': 4.539786823443137e-05, 'POSITIVO': 0.9999545812606812},\n",
              " {'NEGATIVO': 4.539786823443137e-05, 'POSITIVO': 0.9999545812606812},\n",
              " {'NEGATIVO': 0.0003454576653894037, 'POSITIVO': 0.999885082244873},\n",
              " {'NEGATIVO': 0.00011473090125946328, 'POSITIVO': 0.9999545812606812},\n",
              " {'NEGATIVO': 0.0001924158277688548, 'POSITIVO': 0.9999051094055176},\n",
              " {'NEGATIVO': 4.539786823443137e-05, 'POSITIVO': 0.9999545812606812},\n",
              " {'NEGATIVO': 9.155352017842233e-05, 'POSITIVO': 0.9997720122337341},\n",
              " {'NEGATIVO': 4.539786823443137e-05, 'POSITIVO': 0.999887228012085},\n",
              " {'NEGATIVO': 4.539786823443137e-05, 'POSITIVO': 0.9999545812606812},\n",
              " {'NEGATIVO': 4.539786823443137e-05, 'POSITIVO': 0.9999475479125977},\n",
              " {'NEGATIVO': 5.1475926738930866e-05, 'POSITIVO': 0.9998880624771118},\n",
              " {'NEGATIVO': 4.539786823443137e-05, 'POSITIVO': 0.999943733215332},\n",
              " {'NEGATIVO': 4.539786823443137e-05, 'POSITIVO': 0.9999545812606812},\n",
              " {'NEGATIVO': 6.96906354278326e-05, 'POSITIVO': 0.9999545812606812},\n",
              " {'NEGATIVO': 7.43432465242222e-05, 'POSITIVO': 0.9998775720596313},\n",
              " {'NEGATIVO': 4.539786823443137e-05, 'POSITIVO': 0.9999545812606812},\n",
              " {'NEGATIVO': 4.539786823443137e-05, 'POSITIVO': 0.9999545812606812},\n",
              " {'NEGATIVO': 4.539786823443137e-05, 'POSITIVO': 0.9998904466629028},\n",
              " {'NEGATIVO': 4.539786823443137e-05, 'POSITIVO': 0.9999545812606812},\n",
              " {'NEGATIVO': 4.539786823443137e-05, 'POSITIVO': 0.9999545812606812},\n",
              " {'NEGATIVO': 4.539786823443137e-05, 'POSITIVO': 0.9999516010284424},\n",
              " {'NEGATIVO': 4.539786823443137e-05, 'POSITIVO': 0.9999545812606812},\n",
              " {'NEGATIVO': 4.539786823443137e-05, 'POSITIVO': 0.9999545812606812},\n",
              " {'NEGATIVO': 4.539786823443137e-05, 'POSITIVO': 0.9999172687530518},\n",
              " {'NEGATIVO': 4.539786823443137e-05, 'POSITIVO': 0.9999545812606812},\n",
              " {'NEGATIVO': 4.539786823443137e-05, 'POSITIVO': 0.9999498128890991},\n",
              " {'NEGATIVO': 9.219420462613925e-05, 'POSITIVO': 0.9999189376831055},\n",
              " {'NEGATIVO': 4.539786823443137e-05, 'POSITIVO': 0.9999243021011353},\n",
              " {'NEGATIVO': 5.102657451061532e-05, 'POSITIVO': 0.9999545812606812},\n",
              " {'NEGATIVO': 4.539786823443137e-05, 'POSITIVO': 0.9999545812606812},\n",
              " {'NEGATIVO': 0.0001944998512044549, 'POSITIVO': 0.999125063419342},\n",
              " {'NEGATIVO': 4.539786823443137e-05, 'POSITIVO': 0.9999475479125977},\n",
              " {'NEGATIVO': 4.539786823443137e-05, 'POSITIVO': 0.9998879432678223},\n",
              " {'NEGATIVO': 6.207967817317694e-05, 'POSITIVO': 0.9999545812606812},\n",
              " {'NEGATIVO': 6.412503717001528e-05, 'POSITIVO': 0.9997307658195496},\n",
              " {'NEGATIVO': 6.176299211801961e-05, 'POSITIVO': 0.9998635053634644},\n",
              " ...]"
            ]
          },
          "metadata": {},
          "execution_count": 54
        }
      ]
    },
    {
      "cell_type": "code",
      "metadata": {
        "id": "YXTXMXAgEDMR"
      },
      "source": [
        "previsoes_final = []\n",
        "for previsao in previsoes:\n",
        "  if previsao['POSITIVO'] > previsao['NEGATIVO']:\n",
        "    previsoes_final.append(1)\n",
        "  else:\n",
        "    previsoes_final.append(0)\n",
        "\n",
        "previsoes_final = np.array(previsoes_final)"
      ],
      "execution_count": null,
      "outputs": []
    },
    {
      "cell_type": "code",
      "metadata": {
        "id": "ilep1MZKEVyg",
        "colab": {
          "base_uri": "https://localhost:8080/"
        },
        "outputId": "ae446317-b01b-4981-a311-fe404279f569"
      },
      "source": [
        "previsoes_final"
      ],
      "execution_count": null,
      "outputs": [
        {
          "output_type": "execute_result",
          "data": {
            "text/plain": [
              "array([1, 1, 1, ..., 0, 0, 0])"
            ]
          },
          "metadata": {},
          "execution_count": 56
        }
      ]
    },
    {
      "cell_type": "code",
      "metadata": {
        "id": "3bbnP269EaYs",
        "colab": {
          "base_uri": "https://localhost:8080/"
        },
        "outputId": "ec912c86-3234-48e9-fd90-79b64f53a959"
      },
      "source": [
        "respostas_reais = base_treinamento['sentiment'].values\n",
        "respostas_reais"
      ],
      "execution_count": null,
      "outputs": [
        {
          "output_type": "execute_result",
          "data": {
            "text/plain": [
              "array([1, 1, 1, ..., 0, 0, 0])"
            ]
          },
          "metadata": {},
          "execution_count": 57
        }
      ]
    },
    {
      "cell_type": "code",
      "metadata": {
        "id": "7dM1nOQtEo6p",
        "colab": {
          "base_uri": "https://localhost:8080/"
        },
        "outputId": "19ca82b3-8d72-4765-d919-84d368047665"
      },
      "source": [
        "from sklearn.metrics import confusion_matrix, accuracy_score\n",
        "accuracy_score(respostas_reais, previsoes_final)"
      ],
      "execution_count": null,
      "outputs": [
        {
          "output_type": "execute_result",
          "data": {
            "text/plain": [
              "0.99994"
            ]
          },
          "metadata": {},
          "execution_count": 58
        }
      ]
    },
    {
      "cell_type": "code",
      "metadata": {
        "id": "UuI8nXdAE-Nw",
        "colab": {
          "base_uri": "https://localhost:8080/"
        },
        "outputId": "5fffdcc8-7720-42a1-c8a7-0a5f33b632d8"
      },
      "source": [
        "cm = confusion_matrix(respostas_reais, previsoes_final)\n",
        "cm"
      ],
      "execution_count": null,
      "outputs": [
        {
          "output_type": "execute_result",
          "data": {
            "text/plain": [
              "array([[24997,     3],\n",
              "       [    0, 25000]])"
            ]
          },
          "metadata": {},
          "execution_count": 59
        }
      ]
    },
    {
      "cell_type": "code",
      "metadata": {
        "id": "ws7BgykmyWQG",
        "colab": {
          "base_uri": "https://localhost:8080/"
        },
        "outputId": "605fbb83-62dd-40cf-93f7-ff130d333537"
      },
      "source": [
        "sns.heatmap(cm, annot=True)"
      ],
      "execution_count": null,
      "outputs": [
        {
          "output_type": "execute_result",
          "data": {
            "text/plain": [
              "<matplotlib.axes._subplots.AxesSubplot at 0x7f82e8347190>"
            ]
          },
          "metadata": {},
          "execution_count": 60
        },
        {
          "output_type": "display_data",
          "data": {
            "image/png": "[encoded data removed]",
            "text/plain": [
              "<Figure size 432x288 with 2 Axes>"
            ]
          },
          "metadata": {
            "needs_background": "light"
          }
        }
      ]
    },
    {
      "cell_type": "markdown",
      "metadata": {
        "id": "HmLjfVrZAE2T"
      },
      "source": [
        "## Avaliação na base de teste"
      ]
    },
    {
      "cell_type": "code",
      "metadata": {
        "id": "AwmnAwRcF1sD"
      },
      "source": [
        "previsoes = []\n",
        "for texto in base_teste['tweet_text']:\n",
        "  previsao = modelo_carregado(texto)\n",
        "  previsoes.append(previsao.cats)"
      ],
      "execution_count": null,
      "outputs": []
    },
    {
      "cell_type": "code",
      "metadata": {
        "id": "Y7MpSvS4F8xv"
      },
      "source": [
        "previsoes_final = []\n",
        "for previsao in previsoes:\n",
        "  if previsao['POSITIVO'] > previsao['NEGATIVO']:\n",
        "    previsoes_final.append(1)\n",
        "  else:\n",
        "    previsoes_final.append(0)\n",
        "\n",
        "previsoes_final = np.array(previsoes_final)"
      ],
      "execution_count": null,
      "outputs": []
    },
    {
      "cell_type": "code",
      "metadata": {
        "id": "rgoCy1SXGEkw"
      },
      "source": [
        "respostas_reais = base_teste['sentiment'].values"
      ],
      "execution_count": null,
      "outputs": []
    },
    {
      "cell_type": "code",
      "metadata": {
        "id": "HbpqmtMlGJ0T",
        "colab": {
          "base_uri": "https://localhost:8080/"
        },
        "outputId": "c5fc1207-f7cb-466d-c0e5-023f9b0ec002"
      },
      "source": [
        "accuracy_score(respostas_reais, previsoes_final)"
      ],
      "execution_count": null,
      "outputs": [
        {
          "output_type": "execute_result",
          "data": {
            "text/plain": [
              "0.9972"
            ]
          },
          "metadata": {},
          "execution_count": 64
        }
      ]
    },
    {
      "cell_type": "code",
      "metadata": {
        "id": "noYdfAJ0GQAF",
        "colab": {
          "base_uri": "https://localhost:8080/"
        },
        "outputId": "5ee84abc-3126-4724-84bd-06360415b367"
      },
      "source": [
        "cm = confusion_matrix(respostas_reais, previsoes_final)\n",
        "cm"
      ],
      "execution_count": null,
      "outputs": [
        {
          "output_type": "execute_result",
          "data": {
            "text/plain": [
              "array([[2494,    6],\n",
              "       [   8, 2492]])"
            ]
          },
          "metadata": {},
          "execution_count": 65
        }
      ]
    },
    {
      "cell_type": "code",
      "metadata": {
        "id": "WCe0F3G8zQkW",
        "colab": {
          "base_uri": "https://localhost:8080/"
        },
        "outputId": "2830a611-9b7b-4e5e-9443-c9635f380cf2"
      },
      "source": [
        "sns.heatmap(cm, annot=True)"
      ],
      "execution_count": null,
      "outputs": [
        {
          "output_type": "execute_result",
          "data": {
            "text/plain": [
              "<matplotlib.axes._subplots.AxesSubplot at 0x7f82e623e090>"
            ]
          },
          "metadata": {},
          "execution_count": 66
        },
        {
          "output_type": "display_data",
          "data": {
            "image/png": "[encoded data removed]",
            "text/plain": [
              "<Figure size 432x288 with 2 Axes>"
            ]
          },
          "metadata": {
            "needs_background": "light"
          }
        }
      ]
    }
  ]
}